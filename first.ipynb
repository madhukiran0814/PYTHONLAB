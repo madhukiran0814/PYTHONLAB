{
  "nbformat": 4,
  "nbformat_minor": 0,
  "metadata": {
    "colab": {
      "name": "first.ipynb",
      "provenance": [],
      "authorship_tag": "ABX9TyMyvtDRQvZFknvIMVxV4Db0",
      "include_colab_link": true
    },
    "kernelspec": {
      "name": "python3",
      "display_name": "Python 3"
    },
    "language_info": {
      "name": "python"
    }
  },
  "cells": [
    {
      "cell_type": "markdown",
      "metadata": {
        "id": "view-in-github",
        "colab_type": "text"
      },
      "source": [
        "<a href=\"https://colab.research.google.com/github/madhukiran0814/PYTHONLAB/blob/main/first.ipynb\" target=\"_parent\"><img src=\"https://colab.research.google.com/assets/colab-badge.svg\" alt=\"Open In Colab\"/></a>"
      ]
    },
    {
      "cell_type": "markdown",
      "metadata": {
        "id": "fODl0jdu_wrw"
      },
      "source": [
        "R.Madhu kiran - 19A21B0554 -PythonLab\n"
      ]
    },
    {
      "cell_type": "markdown",
      "metadata": {
        "id": "nw58ZwH-A6pQ"
      },
      "source": [
        "## **Exercise-1:basics**"
      ]
    },
    {
      "cell_type": "markdown",
      "metadata": {
        "id": "uCCKlbWeBHRB"
      },
      "source": [
        "# a) Running instructions in Interactive interpreter and a Python "
      ]
    },
    {
      "cell_type": "code",
      "metadata": {
        "id": "eJS8ClMlAG6q"
      },
      "source": [
        "b=2"
      ],
      "execution_count": null,
      "outputs": []
    },
    {
      "cell_type": "code",
      "metadata": {
        "colab": {
          "base_uri": "https://localhost:8080/"
        },
        "id": "giy2TbokApqP",
        "outputId": "69099565-43e4-4ccc-aa03-e6a994a8cb6a"
      },
      "source": [
        "b"
      ],
      "execution_count": null,
      "outputs": [
        {
          "output_type": "execute_result",
          "data": {
            "text/plain": [
              "2"
            ]
          },
          "metadata": {
            "tags": []
          },
          "execution_count": 5
        }
      ]
    },
    {
      "cell_type": "code",
      "metadata": {
        "id": "vL3fpkhJAwyh"
      },
      "source": [
        "a=b"
      ],
      "execution_count": null,
      "outputs": []
    },
    {
      "cell_type": "code",
      "metadata": {
        "colab": {
          "base_uri": "https://localhost:8080/"
        },
        "id": "3dHzzRNfA0q3",
        "outputId": "c7c8820c-21cf-46b9-f965-ada78894dee9"
      },
      "source": [
        "a"
      ],
      "execution_count": null,
      "outputs": [
        {
          "output_type": "execute_result",
          "data": {
            "text/plain": [
              "2"
            ]
          },
          "metadata": {
            "tags": []
          },
          "execution_count": 7
        }
      ]
    },
    {
      "cell_type": "code",
      "metadata": {
        "colab": {
          "base_uri": "https://localhost:8080/"
        },
        "id": "1_qIdeWiBX-x",
        "outputId": "fe3fc5e9-88f6-411b-8a96-ad3586d5eccb"
      },
      "source": [
        "a+b"
      ],
      "execution_count": null,
      "outputs": [
        {
          "output_type": "execute_result",
          "data": {
            "text/plain": [
              "4"
            ]
          },
          "metadata": {
            "tags": []
          },
          "execution_count": 9
        }
      ]
    },
    {
      "cell_type": "code",
      "metadata": {
        "colab": {
          "base_uri": "https://localhost:8080/"
        },
        "id": "GtYeaLHQBaxg",
        "outputId": "2fc21d34-00b9-42d9-821b-6e07e07db11c"
      },
      "source": [
        "print(a+b)"
      ],
      "execution_count": null,
      "outputs": [
        {
          "output_type": "stream",
          "text": [
            "4\n"
          ],
          "name": "stdout"
        }
      ]
    },
    {
      "cell_type": "code",
      "metadata": {
        "id": "3zTV9rg9Beww"
      },
      "source": [
        "a=a+b"
      ],
      "execution_count": null,
      "outputs": []
    },
    {
      "cell_type": "code",
      "metadata": {
        "colab": {
          "base_uri": "https://localhost:8080/"
        },
        "id": "Clv1XQOZBi-g",
        "outputId": "5182c61c-a4d1-4ea5-e627-e9596879184c"
      },
      "source": [
        "a,b"
      ],
      "execution_count": null,
      "outputs": [
        {
          "output_type": "execute_result",
          "data": {
            "text/plain": [
              "(4, 2)"
            ]
          },
          "metadata": {
            "tags": []
          },
          "execution_count": 12
        }
      ]
    },
    {
      "cell_type": "code",
      "metadata": {
        "id": "aEAbGrR5Bkwo"
      },
      "source": [
        "a,b=b,a"
      ],
      "execution_count": null,
      "outputs": []
    },
    {
      "cell_type": "code",
      "metadata": {
        "colab": {
          "base_uri": "https://localhost:8080/"
        },
        "id": "uN6qKt0XBnd3",
        "outputId": "960bb496-d1a8-447e-86ff-9bb573de6be4"
      },
      "source": [
        "a,b"
      ],
      "execution_count": null,
      "outputs": [
        {
          "output_type": "execute_result",
          "data": {
            "text/plain": [
              "(2, 4)"
            ]
          },
          "metadata": {
            "tags": []
          },
          "execution_count": 14
        }
      ]
    },
    {
      "cell_type": "code",
      "metadata": {
        "id": "HYUJx7sxBpVP"
      },
      "source": [
        "c=\"hello\""
      ],
      "execution_count": null,
      "outputs": []
    },
    {
      "cell_type": "code",
      "metadata": {
        "colab": {
          "base_uri": "https://localhost:8080/",
          "height": 35
        },
        "id": "tAS8LEc3B08o",
        "outputId": "1dcbd833-a9b4-4b66-c57a-c69029d08dc6"
      },
      "source": [
        "c"
      ],
      "execution_count": null,
      "outputs": [
        {
          "output_type": "execute_result",
          "data": {
            "application/vnd.google.colaboratory.intrinsic+json": {
              "type": "string"
            },
            "text/plain": [
              "'hello'"
            ]
          },
          "metadata": {
            "tags": []
          },
          "execution_count": 18
        }
      ]
    },
    {
      "cell_type": "code",
      "metadata": {
        "colab": {
          "base_uri": "https://localhost:8080/",
          "height": 35
        },
        "id": "R2Y8RbMDB78Y",
        "outputId": "40e61d67-76ab-4d8d-8097-7ce72791845f"
      },
      "source": [
        "c+\"120\""
      ],
      "execution_count": null,
      "outputs": [
        {
          "output_type": "execute_result",
          "data": {
            "application/vnd.google.colaboratory.intrinsic+json": {
              "type": "string"
            },
            "text/plain": [
              "'hello120'"
            ]
          },
          "metadata": {
            "tags": []
          },
          "execution_count": 19
        }
      ]
    },
    {
      "cell_type": "code",
      "metadata": {
        "colab": {
          "base_uri": "https://localhost:8080/"
        },
        "id": "fUwVGFQAB-DQ",
        "outputId": "c1397c7d-bad7-4834-9ddc-eeb1e8b4a3ea"
      },
      "source": [
        "type(c)"
      ],
      "execution_count": null,
      "outputs": [
        {
          "output_type": "execute_result",
          "data": {
            "text/plain": [
              "str"
            ]
          },
          "metadata": {
            "tags": []
          },
          "execution_count": 20
        }
      ]
    },
    {
      "cell_type": "code",
      "metadata": {
        "id": "R_kK6RMKCMsg"
      },
      "source": [
        "a=type(c)"
      ],
      "execution_count": null,
      "outputs": []
    },
    {
      "cell_type": "code",
      "metadata": {
        "colab": {
          "base_uri": "https://localhost:8080/"
        },
        "id": "TDgxjvmECSRg",
        "outputId": "a24add04-5b6a-4de0-9210-7ab8ab8a8473"
      },
      "source": [
        "a"
      ],
      "execution_count": null,
      "outputs": [
        {
          "output_type": "execute_result",
          "data": {
            "text/plain": [
              "str"
            ]
          },
          "metadata": {
            "tags": []
          },
          "execution_count": 22
        }
      ]
    },
    {
      "cell_type": "code",
      "metadata": {
        "colab": {
          "base_uri": "https://localhost:8080/",
          "height": 35
        },
        "id": "NZy1asOqCVgA",
        "outputId": "279468ef-c0bc-4bf0-ba32-dc55d77cab08"
      },
      "source": [
        "\"c\"*2"
      ],
      "execution_count": null,
      "outputs": [
        {
          "output_type": "execute_result",
          "data": {
            "application/vnd.google.colaboratory.intrinsic+json": {
              "type": "string"
            },
            "text/plain": [
              "'cc'"
            ]
          },
          "metadata": {
            "tags": []
          },
          "execution_count": 24
        }
      ]
    },
    {
      "cell_type": "code",
      "metadata": {
        "id": "2zaNm7spCdeY"
      },
      "source": [
        "p,q,r=1,2,3"
      ],
      "execution_count": null,
      "outputs": []
    },
    {
      "cell_type": "code",
      "metadata": {
        "colab": {
          "base_uri": "https://localhost:8080/"
        },
        "id": "AK_wvdHMCk0Q",
        "outputId": "b010dac7-ccc8-4a8e-aeaa-f2526c7a27b6"
      },
      "source": [
        "p,q,r"
      ],
      "execution_count": null,
      "outputs": [
        {
          "output_type": "execute_result",
          "data": {
            "text/plain": [
              "(1, 2, 3)"
            ]
          },
          "metadata": {
            "tags": []
          },
          "execution_count": 26
        }
      ]
    },
    {
      "cell_type": "code",
      "metadata": {
        "colab": {
          "base_uri": "https://localhost:8080/"
        },
        "id": "wV6-teMBCmuR",
        "outputId": "5cddd038-86ff-4633-f488-d69340da5a1f"
      },
      "source": [
        "a=int(input(\"Enter a number\"))\n",
        "b=int(input(\"Enter a number\"))\n",
        "print(\"sum of a\",a,\" b\",b,\"is :\",a+b)\n",
        "\n",
        "\n",
        "print(\"sum of {} and {} is {} \".format(a,b,a+b))"
      ],
      "execution_count": null,
      "outputs": [
        {
          "output_type": "stream",
          "text": [
            "Enter a number5\n",
            "Enter a number55\n",
            "sum of a 5  b 55 is : 60\n",
            "sum of 5 and 55 is 60 \n"
          ],
          "name": "stdout"
        }
      ]
    },
    {
      "cell_type": "markdown",
      "metadata": {
        "id": "byZfll8PGA4V"
      },
      "source": [
        "\n",
        "## b) Write a program to purposefully raise Indentation Error and Correct it"
      ]
    },
    {
      "cell_type": "code",
      "metadata": {
        "colab": {
          "base_uri": "https://localhost:8080/",
          "height": 128
        },
        "id": "_MChzup5E8NK",
        "outputId": "598644a5-842e-4636-b82d-92e39ef2b62b"
      },
      "source": [
        "x=100;\n",
        "y=200;\n",
        "if x==y:\n",
        "print(\"equal\")\n",
        "else:\n",
        "  print(\"not equal\")"
      ],
      "execution_count": null,
      "outputs": [
        {
          "output_type": "error",
          "ename": "IndentationError",
          "evalue": "ignored",
          "traceback": [
            "\u001b[0;36m  File \u001b[0;32m\"<ipython-input-34-7e1447c3bcc3>\"\u001b[0;36m, line \u001b[0;32m4\u001b[0m\n\u001b[0;31m    print(\"equal\")\u001b[0m\n\u001b[0m        ^\u001b[0m\n\u001b[0;31mIndentationError\u001b[0m\u001b[0;31m:\u001b[0m expected an indented block\n"
          ]
        }
      ]
    },
    {
      "cell_type": "code",
      "metadata": {
        "colab": {
          "base_uri": "https://localhost:8080/"
        },
        "id": "QqHFiQ3rGWWk",
        "outputId": "c17f0ee1-1bf1-4c95-f48e-7e6b553644a9"
      },
      "source": [
        "x=100;\n",
        "y=200;\n",
        "if x==y:\n",
        "  print(\"equal\")\n",
        "else:\n",
        "  print(\"not equal\")"
      ],
      "execution_count": null,
      "outputs": [
        {
          "output_type": "stream",
          "text": [
            "not equal\n"
          ],
          "name": "stdout"
        }
      ]
    },
    {
      "cell_type": "code",
      "metadata": {
        "colab": {
          "base_uri": "https://localhost:8080/",
          "height": 128
        },
        "id": "GzkLVYnNGiOH",
        "outputId": "df330c60-5127-4c43-c4da-4c30c4016f7a"
      },
      "source": [
        "print(\"Hello Welcome\") \n",
        " a=100\n",
        " print(a)"
      ],
      "execution_count": null,
      "outputs": [
        {
          "output_type": "error",
          "ename": "IndentationError",
          "evalue": "ignored",
          "traceback": [
            "\u001b[0;36m  File \u001b[0;32m\"<ipython-input-43-0f0b3952388f>\"\u001b[0;36m, line \u001b[0;32m2\u001b[0m\n\u001b[0;31m    a=100\u001b[0m\n\u001b[0m    ^\u001b[0m\n\u001b[0;31mIndentationError\u001b[0m\u001b[0;31m:\u001b[0m unexpected indent\n"
          ]
        }
      ]
    },
    {
      "cell_type": "code",
      "metadata": {
        "colab": {
          "base_uri": "https://localhost:8080/"
        },
        "id": "zB8hc2F3G7Ef",
        "outputId": "a59c18ca-78a0-45c1-c339-0b382e5053a7"
      },
      "source": [
        "print(\"Hello World\")\n",
        "a=100\n",
        "print(a)"
      ],
      "execution_count": null,
      "outputs": [
        {
          "output_type": "stream",
          "text": [
            "Hello World\n",
            "100\n"
          ],
          "name": "stdout"
        }
      ]
    },
    {
      "cell_type": "markdown",
      "metadata": {
        "id": "joEayN14IAGV"
      },
      "source": [
        "# ***exercise-2:operations***"
      ]
    },
    {
      "cell_type": "markdown",
      "metadata": {
        "id": "77OOXbu1IaB5"
      },
      "source": [
        "\n",
        "## a) Write a program to compute distance between two points taking input from the user(Pythagorean Theorem)"
      ]
    },
    {
      "cell_type": "code",
      "metadata": {
        "colab": {
          "base_uri": "https://localhost:8080/"
        },
        "id": "PCPbBow0HE00",
        "outputId": "164d9cf7-f6f8-455b-bfe1-acd1e0b229f4"
      },
      "source": [
        "import math\n",
        "x1=int(input(\"Enter x1 value :\"))\n",
        "x2=int(input(\"Enter x2 value :\"))\n",
        "y1=int(input(\"Enter y1 value :\"))\n",
        "y2=int(input(\"Enter y2 value :\"))\n",
        "\n",
        "distance=math.sqrt((x2-x1)**2+(y2-y1)**2)\n",
        "print(\"Distance is :\",distance)"
      ],
      "execution_count": null,
      "outputs": [
        {
          "output_type": "stream",
          "text": [
            "Enter x1 value :5\n",
            "Enter x2 value :4\n",
            "Enter y1 value :5\n",
            "Enter y2 value :4\n",
            "Distance is : 1.4142135623730951\n"
          ],
          "name": "stdout"
        }
      ]
    },
    {
      "cell_type": "code",
      "metadata": {
        "id": "fwdpcAPJKi9u"
      },
      "source": [
        "import sys\n",
        "a=int(sys.argv[1])\n",
        "b=int(sys.argv[2])\n",
        "sum=a+b\n",
        "print(\"sum is\",sum)"
      ],
      "execution_count": null,
      "outputs": []
    },
    {
      "cell_type": "markdown",
      "metadata": {
        "id": "tamUIwIyMGgH"
      },
      "source": [
        "### **Exercise - 3 :Control Flow**"
      ]
    },
    {
      "cell_type": "markdown",
      "metadata": {
        "id": "ngXTh0ihMJ_y"
      },
      "source": [
        "\n",
        "### a) Write a Program for checking whether the given number is an even number or not"
      ]
    },
    {
      "cell_type": "code",
      "metadata": {
        "colab": {
          "base_uri": "https://localhost:8080/"
        },
        "id": "69sXvM1-MbY2",
        "outputId": "8ee5d585-330b-4e6f-a657-fe67198ee5af"
      },
      "source": [
        "x=int(input(\"Enter a number :\"))\n",
        "if x%2==0:\n",
        "  print(\"Number is even \")\n",
        "else :\n",
        "  print(\"Number is odd\")"
      ],
      "execution_count": null,
      "outputs": [
        {
          "output_type": "stream",
          "text": [
            "Enter a number :55\n",
            "Number is odd\n"
          ],
          "name": "stdout"
        }
      ]
    },
    {
      "cell_type": "markdown",
      "metadata": {
        "id": "Vjj_769OM63g"
      },
      "source": [
        "### b) Using a for loop, write a program that prints out the decimal equivalents of 1/2, 1/3, 1/4, . . .1/10"
      ]
    },
    {
      "cell_type": "code",
      "metadata": {
        "colab": {
          "base_uri": "https://localhost:8080/"
        },
        "id": "Em4QdToxMxbD",
        "outputId": "8503e364-5126-4364-e9d5-00514201a0cd"
      },
      "source": [
        "for i in range(1,11):\n",
        "  print(\"1/\",i,\"=\",1/i)"
      ],
      "execution_count": null,
      "outputs": [
        {
          "output_type": "stream",
          "text": [
            "1/ 1 = 1.0\n",
            "1/ 2 = 0.5\n",
            "1/ 3 = 0.3333333333333333\n",
            "1/ 4 = 0.25\n",
            "1/ 5 = 0.2\n",
            "1/ 6 = 0.16666666666666666\n",
            "1/ 7 = 0.14285714285714285\n",
            "1/ 8 = 0.125\n",
            "1/ 9 = 0.1111111111111111\n",
            "1/ 10 = 0.1\n"
          ],
          "name": "stdout"
        }
      ]
    },
    {
      "cell_type": "markdown",
      "metadata": {
        "id": "RAx2TVRMNfES"
      },
      "source": [
        "### c) Write a program using a for loop that loops over a sequence."
      ]
    },
    {
      "cell_type": "code",
      "metadata": {
        "colab": {
          "base_uri": "https://localhost:8080/"
        },
        "id": "dEaWlwQlNQfT",
        "outputId": "4c048653-2173-4715-8b4c-30135342ddf3"
      },
      "source": [
        "array=[\"one\",2,3.0,'4']\n",
        "for i in array:\n",
        "  print(i)"
      ],
      "execution_count": null,
      "outputs": [
        {
          "output_type": "stream",
          "text": [
            "one\n",
            "2\n",
            "3.0\n",
            "4\n"
          ],
          "name": "stdout"
        }
      ]
    },
    {
      "cell_type": "markdown",
      "metadata": {
        "id": "4I-6-gEOOMB-"
      },
      "source": [
        "### d) Write a program using a while loop that asks the user for a number, and prints a countdownfrom that number to zero."
      ]
    },
    {
      "cell_type": "code",
      "metadata": {
        "colab": {
          "base_uri": "https://localhost:8080/"
        },
        "id": "gRBlEqC_N60G",
        "outputId": "ab021265-5fee-4b43-8d0d-4ab0557b19d4"
      },
      "source": [
        "i=int(input(\"Enter a number :\"))\n",
        "while i!=0:\n",
        "  print(i)\n",
        "  i=i-1"
      ],
      "execution_count": null,
      "outputs": [
        {
          "output_type": "stream",
          "text": [
            "Enter a number :10\n",
            "10\n",
            "9\n",
            "8\n",
            "7\n",
            "6\n",
            "5\n",
            "4\n",
            "3\n",
            "2\n",
            "1\n"
          ],
          "name": "stdout"
        }
      ]
    },
    {
      "cell_type": "markdown",
      "metadata": {
        "id": "jEC5SneFPWmy"
      },
      "source": [
        "### **Exercise -4 : Control Flow - Continued**"
      ]
    },
    {
      "cell_type": "markdown",
      "metadata": {
        "id": "1SQKjGD_Pd4W"
      },
      "source": [
        "### a) Find the sum of all the primes below two million."
      ]
    },
    {
      "cell_type": "code",
      "metadata": {
        "colab": {
          "base_uri": "https://localhost:8080/"
        },
        "id": "Wkiljv-JO-sy",
        "outputId": "96672f88-1866-41cc-af0a-00a641f7e298"
      },
      "source": [
        "def is_prime(n):\n",
        "  f=0\n",
        "  for i in range(1,n+1):\n",
        "    if(n%i==0):\n",
        "      f=f+1\n",
        "  if f==2:\n",
        "    return True\n",
        "  else:\n",
        "    return False\n",
        "sum=0\n",
        "n=int(input(\"Enter upto:\"))\n",
        "for j in range(1,n+1):\n",
        "  if is_prime(j):\n",
        "    print(j)\n",
        "    sum=sum+j\n",
        "print(\"sum is :\",sum)\n",
        "\n",
        "\n",
        "\n"
      ],
      "execution_count": 11,
      "outputs": [
        {
          "output_type": "stream",
          "text": [
            "Enter upto:15\n",
            "2\n",
            "3\n",
            "5\n",
            "7\n",
            "11\n",
            "13\n",
            "sum is : 41\n"
          ],
          "name": "stdout"
        }
      ]
    },
    {
      "cell_type": "markdown",
      "metadata": {
        "id": "XuvfR6IMlQs8"
      },
      "source": [
        "### b) By considering the terms in the Fibonacci sequence whose values do not exceed four million,find the sum of the even-valued terms"
      ]
    },
    {
      "cell_type": "code",
      "metadata": {
        "colab": {
          "base_uri": "https://localhost:8080/"
        },
        "id": "R3-5w9lynRpA",
        "outputId": "c5dfe1e0-f133-4db7-dedf-77274fff8ca5"
      },
      "source": [
        "a=0;\n",
        "b=1;\n",
        "c=0\n",
        "n=int(input(\"Enter a number :\"))\n",
        "sum=0\n",
        "while c<=n:\n",
        "  c=a+b\n",
        "  a=b\n",
        "  b=c\n",
        "  print(c)\n",
        "  if c%2==0:\n",
        "    \n",
        "    sum=sum+c\n",
        "print(\"sum of even terms is :\",sum)\n"
      ],
      "execution_count": 33,
      "outputs": [
        {
          "output_type": "stream",
          "text": [
            "Enter a number :10\n",
            "1\n",
            "2\n",
            "3\n",
            "5\n",
            "8\n",
            "13\n",
            "sum of even terms is : 10\n"
          ],
          "name": "stdout"
        }
      ]
    },
    {
      "cell_type": "markdown",
      "metadata": {
        "id": "DJQJ_0N5pOy4"
      },
      "source": [
        "### **Exercise - 5 : DS**"
      ]
    },
    {
      "cell_type": "markdown",
      "metadata": {
        "id": "e7CG--VMpSZV"
      },
      "source": [
        "\n",
        "### a) Write a program to count the numbers of characters in the string and store them in adictionary data structure"
      ]
    },
    {
      "cell_type": "code",
      "metadata": {
        "id": "MR11DvBln6U_"
      },
      "source": [
        ""
      ],
      "execution_count": null,
      "outputs": []
    }
  ]
}