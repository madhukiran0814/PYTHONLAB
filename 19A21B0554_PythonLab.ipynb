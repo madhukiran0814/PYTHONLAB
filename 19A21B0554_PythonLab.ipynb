{
  "nbformat": 4,
  "nbformat_minor": 0,
  "metadata": {
    "colab": {
      "name": "19A21B0554-PythonLab.ipynb",
      "provenance": [],
      "collapsed_sections": [],
      "authorship_tag": "ABX9TyNA9KqRLkwPiRNk1ERd28Vl",
      "include_colab_link": true
    },
    "kernelspec": {
      "display_name": "Python 3",
      "name": "python3"
    },
    "language_info": {
      "name": "python"
    }
  },
  "cells": [
    {
      "cell_type": "markdown",
      "metadata": {
        "id": "view-in-github",
        "colab_type": "text"
      },
      "source": [
        "<a href=\"https://colab.research.google.com/github/madhukiran0814/PYTHONLAB/blob/main/19A21B0554_PythonLab.ipynb\" target=\"_parent\"><img src=\"https://colab.research.google.com/assets/colab-badge.svg\" alt=\"Open In Colab\"/></a>"
      ]
    },
    {
      "cell_type": "markdown",
      "metadata": {
        "id": "fODl0jdu_wrw"
      },
      "source": [
        "### *R.Madhu kiran - 19A21B0554 -PythonLab*\n"
      ]
    },
    {
      "cell_type": "markdown",
      "metadata": {
        "id": "nw58ZwH-A6pQ"
      },
      "source": [
        "## **Exercise-1:basics**"
      ]
    },
    {
      "cell_type": "markdown",
      "metadata": {
        "id": "uCCKlbWeBHRB"
      },
      "source": [
        "# a) Running instructions in Interactive interpreter and a Python "
      ]
    },
    {
      "cell_type": "markdown",
      "metadata": {
        "id": "jt6AM5_Ob3wl"
      },
      "source": [
        "**AIM :**Running instructions in Interactive interpreter and a Python Script"
      ]
    },
    {
      "cell_type": "markdown",
      "metadata": {
        "id": "Tv8olSx9ZHc_"
      },
      "source": [
        "**DESCRIPTION:**\n",
        "\n",
        "Python is a high-level, interpreted, interactive and object-oriented scripting language. Python is designed to be highly readable. It uses English keywords frequently where as other languages use punctuation, and it has fewer syntactical constructions than other languages.\n",
        "\n",
        "Python is Interpreted Python is Interactive\n",
        "\n",
        "Python is Object-Oriented\n",
        "\n",
        "Python is a Beginner's Language\n",
        "\n",
        "Python Programming Running Python Scripts\n",
        "\n",
        "Running Python in THREE ways:\n",
        "\n",
        "a) Running Python Interpreter\n",
        "\n",
        "b) Running Python Scripts in IDLE\n",
        "\n",
        "c) Running python scripts in Command Prompt\n",
        "\n",
        "a) Running Python Interpreter: Python comes with an interactive interpreter. When you type python in your shell or command prompt, the python interpreter becomes active with a >>> prompt and waits for your commands\n",
        "\n",
        "b) Running Python Scripts in IDLE: . Go to File menu click on New File (CTRL+N) and write the code and save first.py\n",
        "\n",
        "c) Running python scripts in Command Prompt: ** **bold text · Before going to run we have to check the PATH in environment variables."
      ]
    },
    {
      "cell_type": "code",
      "metadata": {
        "id": "eJS8ClMlAG6q"
      },
      "source": [
        "b=2"
      ],
      "execution_count": null,
      "outputs": []
    },
    {
      "cell_type": "code",
      "metadata": {
        "colab": {
          "base_uri": "https://localhost:8080/"
        },
        "id": "giy2TbokApqP",
        "outputId": "69099565-43e4-4ccc-aa03-e6a994a8cb6a"
      },
      "source": [
        "b"
      ],
      "execution_count": null,
      "outputs": [
        {
          "output_type": "execute_result",
          "data": {
            "text/plain": [
              "2"
            ]
          },
          "metadata": {
            "tags": []
          },
          "execution_count": 5
        }
      ]
    },
    {
      "cell_type": "code",
      "metadata": {
        "id": "vL3fpkhJAwyh"
      },
      "source": [
        "a=b"
      ],
      "execution_count": null,
      "outputs": []
    },
    {
      "cell_type": "code",
      "metadata": {
        "colab": {
          "base_uri": "https://localhost:8080/"
        },
        "id": "3dHzzRNfA0q3",
        "outputId": "c7c8820c-21cf-46b9-f965-ada78894dee9"
      },
      "source": [
        "a"
      ],
      "execution_count": null,
      "outputs": [
        {
          "output_type": "execute_result",
          "data": {
            "text/plain": [
              "2"
            ]
          },
          "metadata": {
            "tags": []
          },
          "execution_count": 7
        }
      ]
    },
    {
      "cell_type": "code",
      "metadata": {
        "colab": {
          "base_uri": "https://localhost:8080/"
        },
        "id": "1_qIdeWiBX-x",
        "outputId": "fe3fc5e9-88f6-411b-8a96-ad3586d5eccb"
      },
      "source": [
        "a+b"
      ],
      "execution_count": null,
      "outputs": [
        {
          "output_type": "execute_result",
          "data": {
            "text/plain": [
              "4"
            ]
          },
          "metadata": {
            "tags": []
          },
          "execution_count": 9
        }
      ]
    },
    {
      "cell_type": "code",
      "metadata": {
        "colab": {
          "base_uri": "https://localhost:8080/"
        },
        "id": "GtYeaLHQBaxg",
        "outputId": "2fc21d34-00b9-42d9-821b-6e07e07db11c"
      },
      "source": [
        "print(a+b)"
      ],
      "execution_count": null,
      "outputs": [
        {
          "output_type": "stream",
          "text": [
            "4\n"
          ],
          "name": "stdout"
        }
      ]
    },
    {
      "cell_type": "code",
      "metadata": {
        "id": "3zTV9rg9Beww"
      },
      "source": [
        "a=a+b"
      ],
      "execution_count": null,
      "outputs": []
    },
    {
      "cell_type": "code",
      "metadata": {
        "colab": {
          "base_uri": "https://localhost:8080/"
        },
        "id": "Clv1XQOZBi-g",
        "outputId": "5182c61c-a4d1-4ea5-e627-e9596879184c"
      },
      "source": [
        "a,b"
      ],
      "execution_count": null,
      "outputs": [
        {
          "output_type": "execute_result",
          "data": {
            "text/plain": [
              "(4, 2)"
            ]
          },
          "metadata": {
            "tags": []
          },
          "execution_count": 12
        }
      ]
    },
    {
      "cell_type": "code",
      "metadata": {
        "id": "aEAbGrR5Bkwo"
      },
      "source": [
        "a,b=b,a"
      ],
      "execution_count": null,
      "outputs": []
    },
    {
      "cell_type": "code",
      "metadata": {
        "colab": {
          "base_uri": "https://localhost:8080/"
        },
        "id": "uN6qKt0XBnd3",
        "outputId": "960bb496-d1a8-447e-86ff-9bb573de6be4"
      },
      "source": [
        "a,b"
      ],
      "execution_count": null,
      "outputs": [
        {
          "output_type": "execute_result",
          "data": {
            "text/plain": [
              "(2, 4)"
            ]
          },
          "metadata": {
            "tags": []
          },
          "execution_count": 14
        }
      ]
    },
    {
      "cell_type": "code",
      "metadata": {
        "id": "HYUJx7sxBpVP"
      },
      "source": [
        "c=\"hello\""
      ],
      "execution_count": null,
      "outputs": []
    },
    {
      "cell_type": "code",
      "metadata": {
        "colab": {
          "base_uri": "https://localhost:8080/",
          "height": 35
        },
        "id": "tAS8LEc3B08o",
        "outputId": "1dcbd833-a9b4-4b66-c57a-c69029d08dc6"
      },
      "source": [
        "c"
      ],
      "execution_count": null,
      "outputs": [
        {
          "output_type": "execute_result",
          "data": {
            "application/vnd.google.colaboratory.intrinsic+json": {
              "type": "string"
            },
            "text/plain": [
              "'hello'"
            ]
          },
          "metadata": {
            "tags": []
          },
          "execution_count": 18
        }
      ]
    },
    {
      "cell_type": "code",
      "metadata": {
        "colab": {
          "base_uri": "https://localhost:8080/",
          "height": 35
        },
        "id": "R2Y8RbMDB78Y",
        "outputId": "40e61d67-76ab-4d8d-8097-7ce72791845f"
      },
      "source": [
        "c+\"120\""
      ],
      "execution_count": null,
      "outputs": [
        {
          "output_type": "execute_result",
          "data": {
            "application/vnd.google.colaboratory.intrinsic+json": {
              "type": "string"
            },
            "text/plain": [
              "'hello120'"
            ]
          },
          "metadata": {
            "tags": []
          },
          "execution_count": 19
        }
      ]
    },
    {
      "cell_type": "code",
      "metadata": {
        "colab": {
          "base_uri": "https://localhost:8080/"
        },
        "id": "fUwVGFQAB-DQ",
        "outputId": "c1397c7d-bad7-4834-9ddc-eeb1e8b4a3ea"
      },
      "source": [
        "type(c)"
      ],
      "execution_count": null,
      "outputs": [
        {
          "output_type": "execute_result",
          "data": {
            "text/plain": [
              "str"
            ]
          },
          "metadata": {
            "tags": []
          },
          "execution_count": 20
        }
      ]
    },
    {
      "cell_type": "code",
      "metadata": {
        "id": "R_kK6RMKCMsg"
      },
      "source": [
        "a=type(c)"
      ],
      "execution_count": null,
      "outputs": []
    },
    {
      "cell_type": "code",
      "metadata": {
        "colab": {
          "base_uri": "https://localhost:8080/"
        },
        "id": "TDgxjvmECSRg",
        "outputId": "a24add04-5b6a-4de0-9210-7ab8ab8a8473"
      },
      "source": [
        "a"
      ],
      "execution_count": null,
      "outputs": [
        {
          "output_type": "execute_result",
          "data": {
            "text/plain": [
              "str"
            ]
          },
          "metadata": {
            "tags": []
          },
          "execution_count": 22
        }
      ]
    },
    {
      "cell_type": "code",
      "metadata": {
        "colab": {
          "base_uri": "https://localhost:8080/",
          "height": 35
        },
        "id": "NZy1asOqCVgA",
        "outputId": "279468ef-c0bc-4bf0-ba32-dc55d77cab08"
      },
      "source": [
        "\"c\"*2"
      ],
      "execution_count": null,
      "outputs": [
        {
          "output_type": "execute_result",
          "data": {
            "application/vnd.google.colaboratory.intrinsic+json": {
              "type": "string"
            },
            "text/plain": [
              "'cc'"
            ]
          },
          "metadata": {
            "tags": []
          },
          "execution_count": 24
        }
      ]
    },
    {
      "cell_type": "code",
      "metadata": {
        "id": "2zaNm7spCdeY"
      },
      "source": [
        "p,q,r=1,2,3"
      ],
      "execution_count": null,
      "outputs": []
    },
    {
      "cell_type": "code",
      "metadata": {
        "colab": {
          "base_uri": "https://localhost:8080/"
        },
        "id": "AK_wvdHMCk0Q",
        "outputId": "b010dac7-ccc8-4a8e-aeaa-f2526c7a27b6"
      },
      "source": [
        "p,q,r"
      ],
      "execution_count": null,
      "outputs": [
        {
          "output_type": "execute_result",
          "data": {
            "text/plain": [
              "(1, 2, 3)"
            ]
          },
          "metadata": {
            "tags": []
          },
          "execution_count": 26
        }
      ]
    },
    {
      "cell_type": "code",
      "metadata": {
        "colab": {
          "base_uri": "https://localhost:8080/"
        },
        "id": "wV6-teMBCmuR",
        "outputId": "5cddd038-86ff-4633-f488-d69340da5a1f"
      },
      "source": [
        "a=int(input(\"Enter a number\"))\n",
        "b=int(input(\"Enter a number\"))\n",
        "print(\"sum of a\",a,\" b\",b,\"is :\",a+b)\n",
        "\n",
        "\n",
        "print(\"sum of {} and {} is {} \".format(a,b,a+b))"
      ],
      "execution_count": null,
      "outputs": [
        {
          "output_type": "stream",
          "text": [
            "Enter a number5\n",
            "Enter a number55\n",
            "sum of a 5  b 55 is : 60\n",
            "sum of 5 and 55 is 60 \n"
          ],
          "name": "stdout"
        }
      ]
    },
    {
      "cell_type": "markdown",
      "metadata": {
        "id": "byZfll8PGA4V"
      },
      "source": [
        "\n",
        "## b) Write a program to purposefully raise Indentation Error and Correct it"
      ]
    },
    {
      "cell_type": "markdown",
      "metadata": {
        "id": "F6_uLgtqcJuX"
      },
      "source": [
        "**AIM**: Write a program to purposefully raise Indentation Error and Correct it"
      ]
    },
    {
      "cell_type": "markdown",
      "metadata": {
        "id": "1UN4uc_fZRwh"
      },
      "source": [
        "**DESCRIPTION:**\n",
        "\n",
        "Indentation Python does not support braces to indicate blocks of code for class and function definitions or flow control.\n",
        "Blocks of code are denoted by line indentation.\n",
        "All the continuous lines indented with same number of spaces would form a block. Python strictly follow indentation rules to indicate the blocks."
      ]
    },
    {
      "cell_type": "code",
      "metadata": {
        "colab": {
          "base_uri": "https://localhost:8080/",
          "height": 128
        },
        "id": "_MChzup5E8NK",
        "outputId": "598644a5-842e-4636-b82d-92e39ef2b62b"
      },
      "source": [
        "x=100;\n",
        "y=200;\n",
        "if x==y:\n",
        "print(\"equal\")\n",
        "else:\n",
        "  print(\"not equal\")"
      ],
      "execution_count": null,
      "outputs": [
        {
          "output_type": "error",
          "ename": "IndentationError",
          "evalue": "ignored",
          "traceback": [
            "\u001b[0;36m  File \u001b[0;32m\"<ipython-input-34-7e1447c3bcc3>\"\u001b[0;36m, line \u001b[0;32m4\u001b[0m\n\u001b[0;31m    print(\"equal\")\u001b[0m\n\u001b[0m        ^\u001b[0m\n\u001b[0;31mIndentationError\u001b[0m\u001b[0;31m:\u001b[0m expected an indented block\n"
          ]
        }
      ]
    },
    {
      "cell_type": "code",
      "metadata": {
        "colab": {
          "base_uri": "https://localhost:8080/"
        },
        "id": "QqHFiQ3rGWWk",
        "outputId": "c17f0ee1-1bf1-4c95-f48e-7e6b553644a9"
      },
      "source": [
        "x=100;\n",
        "y=200;\n",
        "if x==y:\n",
        "  print(\"equal\")\n",
        "else:\n",
        "  print(\"not equal\")"
      ],
      "execution_count": null,
      "outputs": [
        {
          "output_type": "stream",
          "text": [
            "not equal\n"
          ],
          "name": "stdout"
        }
      ]
    },
    {
      "cell_type": "code",
      "metadata": {
        "colab": {
          "base_uri": "https://localhost:8080/",
          "height": 128
        },
        "id": "GzkLVYnNGiOH",
        "outputId": "df330c60-5127-4c43-c4da-4c30c4016f7a"
      },
      "source": [
        "print(\"Hello Welcome\") \n",
        " a=100\n",
        " print(a)"
      ],
      "execution_count": null,
      "outputs": [
        {
          "output_type": "error",
          "ename": "IndentationError",
          "evalue": "ignored",
          "traceback": [
            "\u001b[0;36m  File \u001b[0;32m\"<ipython-input-43-0f0b3952388f>\"\u001b[0;36m, line \u001b[0;32m2\u001b[0m\n\u001b[0;31m    a=100\u001b[0m\n\u001b[0m    ^\u001b[0m\n\u001b[0;31mIndentationError\u001b[0m\u001b[0;31m:\u001b[0m unexpected indent\n"
          ]
        }
      ]
    },
    {
      "cell_type": "code",
      "metadata": {
        "colab": {
          "base_uri": "https://localhost:8080/"
        },
        "id": "zB8hc2F3G7Ef",
        "outputId": "a59c18ca-78a0-45c1-c339-0b382e5053a7"
      },
      "source": [
        "print(\"Hello World\")\n",
        "a=100\n",
        "print(a)"
      ],
      "execution_count": null,
      "outputs": [
        {
          "output_type": "stream",
          "text": [
            "Hello World\n",
            "100\n"
          ],
          "name": "stdout"
        }
      ]
    },
    {
      "cell_type": "markdown",
      "metadata": {
        "id": "joEayN14IAGV"
      },
      "source": [
        "# ***exercise-2:operations***"
      ]
    },
    {
      "cell_type": "markdown",
      "metadata": {
        "id": "77OOXbu1IaB5"
      },
      "source": [
        "## a) Write a program to compute distance between two points taking input from the user(Pythagorean Theorem)"
      ]
    },
    {
      "cell_type": "markdown",
      "metadata": {
        "id": "pQrAfqprcWIk"
      },
      "source": [
        "**AIM :** program to compute distance between two points taking input from the user"
      ]
    },
    {
      "cell_type": "markdown",
      "metadata": {
        "id": "HwW4Jm3abTue"
      },
      "source": [
        "**DESCRIPTION :**\n",
        "\n",
        "### Taking Input From the User:\n",
        " A function is defined as a block of organized, reusable code used to perform a single, related action. Python has many built-in functions; you can also create your own. \n",
        "\n",
        "Python has an input function which lets you ask a user for some text input. You call this function to tell the program to stop and wait for the user to key in the data.\n",
        "\n",
        "In Python 2, you have a built-in function raw_input(), whereas in Python 3, you have input(). The program will resume once the user presses the ENTER or RETURN key.\n",
        "\n",
        "### Input Function :\n",
        "\n",
        "input(prompt=None,/).\n",
        "\n",
        "Read a string from standard input. The trailing newline is stripped.\n",
        "\n",
        "The prompt string, if given, is printed to standard output without a trailing newline before reading input.\n",
        "\n",
        "If the user hits EOF (*nix: Ctrl-D, Windows: Ctrl Z+Return), raise EOFError."
      ]
    },
    {
      "cell_type": "code",
      "metadata": {
        "colab": {
          "base_uri": "https://localhost:8080/"
        },
        "id": "PCPbBow0HE00",
        "outputId": "164d9cf7-f6f8-455b-bfe1-acd1e0b229f4"
      },
      "source": [
        "import math\n",
        "x1=int(input(\"Enter x1 value :\"))\n",
        "x2=int(input(\"Enter x2 value :\"))\n",
        "y1=int(input(\"Enter y1 value :\"))\n",
        "y2=int(input(\"Enter y2 value :\"))\n",
        "\n",
        "distance=math.sqrt((x2-x1)**2+(y2-y1)**2)\n",
        "print(\"Distance is :\",distance)"
      ],
      "execution_count": null,
      "outputs": [
        {
          "output_type": "stream",
          "text": [
            "Enter x1 value :5\n",
            "Enter x2 value :4\n",
            "Enter y1 value :5\n",
            "Enter y2 value :4\n",
            "Distance is : 1.4142135623730951\n"
          ],
          "name": "stdout"
        }
      ]
    },
    {
      "cell_type": "code",
      "metadata": {
        "id": "fwdpcAPJKi9u"
      },
      "source": [
        "import sys\n",
        "a=int(sys.argv[1])\n",
        "b=int(sys.argv[2])\n",
        "sum=a+b\n",
        "print(\"sum is\",sum)"
      ],
      "execution_count": null,
      "outputs": []
    },
    {
      "cell_type": "markdown",
      "metadata": {
        "id": "tamUIwIyMGgH"
      },
      "source": [
        "### **Exercise - 3 :Control Flow**"
      ]
    },
    {
      "cell_type": "markdown",
      "metadata": {
        "id": "ngXTh0ihMJ_y"
      },
      "source": [
        "\n",
        "### a) Write a Program for checking whether the given number is an even number or not"
      ]
    },
    {
      "cell_type": "markdown",
      "metadata": {
        "id": "w-acyFi-coBa"
      },
      "source": [
        "**AIM :**Program for checking whether the given number is an even number or not"
      ]
    },
    {
      "cell_type": "markdown",
      "metadata": {
        "id": "9I0z1roGcoE3"
      },
      "source": [
        "**DESCRIPTION:**\n",
        "\n",
        "if..else Statement When there is an alternate operation in control flow, use an else statement alongside with if statement."
      ]
    },
    {
      "cell_type": "code",
      "metadata": {
        "colab": {
          "base_uri": "https://localhost:8080/"
        },
        "id": "69sXvM1-MbY2",
        "outputId": "8ee5d585-330b-4e6f-a657-fe67198ee5af"
      },
      "source": [
        "x=int(input(\"Enter a number :\"))\n",
        "if x%2==0:\n",
        "  print(\"Number is even \")\n",
        "else :\n",
        "  print(\"Number is odd\")"
      ],
      "execution_count": null,
      "outputs": [
        {
          "output_type": "stream",
          "text": [
            "Enter a number :55\n",
            "Number is odd\n"
          ],
          "name": "stdout"
        }
      ]
    },
    {
      "cell_type": "markdown",
      "metadata": {
        "id": "Vjj_769OM63g"
      },
      "source": [
        "### b) Using a for loop, write a program that prints out the decimal equivalents of 1/2, 1/3, 1/4, . . .1/10"
      ]
    },
    {
      "cell_type": "markdown",
      "metadata": {
        "id": "J7Mt4mM_dDf9"
      },
      "source": [
        "**AIM:**\n",
        "program that prints out the decimal equivalents of 1/2, 1/3, 1/4, . . .1/10"
      ]
    },
    {
      "cell_type": "markdown",
      "metadata": {
        "id": "p9R4XeYrdD6y"
      },
      "source": [
        "**DESCRIPTION**\n",
        "\n",
        "For Loop: For loops can iterate over a sequence of numbers using the \"range\" and \"xrange\"\n",
        "functions. The difference between range and xrange is that the range function returns a new list with numbers of that specified range, whereas xrange returns an iterator, which is more eficient.\n",
        "The general format is\n",
        "for x in range(start,stop,step): statements"
      ]
    },
    {
      "cell_type": "code",
      "metadata": {
        "colab": {
          "base_uri": "https://localhost:8080/"
        },
        "id": "Em4QdToxMxbD",
        "outputId": "8503e364-5126-4364-e9d5-00514201a0cd"
      },
      "source": [
        "for i in range(1,11):\n",
        "  print(\"1/\",i,\"=\",1/i)"
      ],
      "execution_count": null,
      "outputs": [
        {
          "output_type": "stream",
          "text": [
            "1/ 1 = 1.0\n",
            "1/ 2 = 0.5\n",
            "1/ 3 = 0.3333333333333333\n",
            "1/ 4 = 0.25\n",
            "1/ 5 = 0.2\n",
            "1/ 6 = 0.16666666666666666\n",
            "1/ 7 = 0.14285714285714285\n",
            "1/ 8 = 0.125\n",
            "1/ 9 = 0.1111111111111111\n",
            "1/ 10 = 0.1\n"
          ],
          "name": "stdout"
        }
      ]
    },
    {
      "cell_type": "markdown",
      "metadata": {
        "id": "RAx2TVRMNfES"
      },
      "source": [
        "### c) Write a program using a for loop that loops over a sequence."
      ]
    },
    {
      "cell_type": "markdown",
      "metadata": {
        "id": "GBYu_2LUdx0p"
      },
      "source": [
        "**AIM:**program using a for loop that loops over a sequence."
      ]
    },
    {
      "cell_type": "markdown",
      "metadata": {
        "id": "DzQ_RKZndx3l"
      },
      "source": [
        "**DESCRIPTION:**\n",
        "\n",
        "For Loop: For loops can iterate over a sequence of numbers using the \"range\" and \"xrange\"\n",
        "functions. The difference between range and xrange is that the range function returns a new list with numbers of that specified range, whereas xrange returns an iterator, which is more eficient.\n",
        "The general format is\n",
        "\n",
        "for x in range(start,stop,step): statements"
      ]
    },
    {
      "cell_type": "code",
      "metadata": {
        "colab": {
          "base_uri": "https://localhost:8080/"
        },
        "id": "dEaWlwQlNQfT",
        "outputId": "4c048653-2173-4715-8b4c-30135342ddf3"
      },
      "source": [
        "array=[\"one\",2,3.0,'4']\n",
        "for i in array:\n",
        "  print(i)"
      ],
      "execution_count": null,
      "outputs": [
        {
          "output_type": "stream",
          "text": [
            "one\n",
            "2\n",
            "3.0\n",
            "4\n"
          ],
          "name": "stdout"
        }
      ]
    },
    {
      "cell_type": "markdown",
      "metadata": {
        "id": "4I-6-gEOOMB-"
      },
      "source": [
        "### d) Write a program using a while loop that asks the user for a number, and prints a countdownfrom that number to zero."
      ]
    },
    {
      "cell_type": "markdown",
      "metadata": {
        "id": "rBO-vz9oeGzC"
      },
      "source": [
        "**AIM :**\n",
        "a program using a while loop that asks the user for a number, and prints a countdownfrom that number to zero."
      ]
    },
    {
      "cell_type": "markdown",
      "metadata": {
        "id": "hzLeKJFReG80"
      },
      "source": [
        "**DESCRIPTION:**\n",
        "\n",
        "While Loop is used to execute a block of statements repeatedly until a given condition is satisfied. And when the condition becomes false, the line immediately after the loop in the program is executed. While loop falls under the category of indefinite iteration\n",
        "\n",
        "The syntax for a while loop is: while [ condition]"
      ]
    },
    {
      "cell_type": "code",
      "metadata": {
        "colab": {
          "base_uri": "https://localhost:8080/"
        },
        "id": "gRBlEqC_N60G",
        "outputId": "ab021265-5fee-4b43-8d0d-4ab0557b19d4"
      },
      "source": [
        "i=int(input(\"Enter a number :\"))\n",
        "while i!=0:\n",
        "  print(i)\n",
        "  i=i-1"
      ],
      "execution_count": null,
      "outputs": [
        {
          "output_type": "stream",
          "text": [
            "Enter a number :10\n",
            "10\n",
            "9\n",
            "8\n",
            "7\n",
            "6\n",
            "5\n",
            "4\n",
            "3\n",
            "2\n",
            "1\n"
          ],
          "name": "stdout"
        }
      ]
    },
    {
      "cell_type": "markdown",
      "metadata": {
        "id": "jEC5SneFPWmy"
      },
      "source": [
        "### **Exercise -4 : Control Flow - Continued**"
      ]
    },
    {
      "cell_type": "markdown",
      "metadata": {
        "id": "1SQKjGD_Pd4W"
      },
      "source": [
        "### a) Find the sum of all the primes below two million."
      ]
    },
    {
      "cell_type": "markdown",
      "metadata": {
        "id": "8Uyu8xDdeZFs"
      },
      "source": [
        "**AIM:** sum of all the primes below two million."
      ]
    },
    {
      "cell_type": "markdown",
      "metadata": {
        "id": "9AsG1ZoEeZI_"
      },
      "source": [
        "**DESCRIPTION:**\n",
        "\n",
        "A Fibonacci sequence is the integer sequence of 0, 1, 1, 2, 3, 5, 8....\n",
        "The first two terms are 0 and 1. All other terms are obtained by adding the preceding two terms. This means to say the nth term is the sum of (n-1)th and (n-2)th term\n",
        "\n",
        "Here we store the number of terms in nterms. We initialize the first term to 0 and the second term 1\n",
        "\n",
        "If the number of terms is more than 2, we use a while loop to find the next term in the sequence by adding the preceding two terms. We then interchange the variables (update it) and continue on with the process."
      ]
    },
    {
      "cell_type": "code",
      "metadata": {
        "colab": {
          "base_uri": "https://localhost:8080/"
        },
        "id": "Wkiljv-JO-sy",
        "outputId": "96672f88-1866-41cc-af0a-00a641f7e298"
      },
      "source": [
        "def is_prime(n):\n",
        "  f=0\n",
        "  for i in range(1,n+1):\n",
        "    if(n%i==0):\n",
        "      f=f+1\n",
        "  if f==2:\n",
        "    return True\n",
        "  else:\n",
        "    return False\n",
        "sum=0\n",
        "n=int(input(\"Enter upto:\"))\n",
        "for j in range(1,n+1):\n",
        "  if is_prime(j):\n",
        "    print(j)\n",
        "    sum=sum+j\n",
        "print(\"sum is :\",sum)\n",
        "\n",
        "\n",
        "\n"
      ],
      "execution_count": null,
      "outputs": [
        {
          "output_type": "stream",
          "text": [
            "Enter upto:15\n",
            "2\n",
            "3\n",
            "5\n",
            "7\n",
            "11\n",
            "13\n",
            "sum is : 41\n"
          ],
          "name": "stdout"
        }
      ]
    },
    {
      "cell_type": "markdown",
      "metadata": {
        "id": "XuvfR6IMlQs8"
      },
      "source": [
        "### b) By considering the terms in the Fibonacci sequence whose values do not exceed four million,find the sum of the even-valued terms"
      ]
    },
    {
      "cell_type": "markdown",
      "metadata": {
        "id": "UT6ngT9Xe3TR"
      },
      "source": [
        "**AIM:**sum of the even-valued terms in the Fibonacci sequence whose values do not exceed four million"
      ]
    },
    {
      "cell_type": "markdown",
      "metadata": {
        "id": "N7wcEKoYe3WQ"
      },
      "source": [
        "A Fibonacci sequence is the integer sequence of 0, 1, 1, 2, 3, 5, 8....\n",
        "The first two terms are 0 and 1. All other terms are obtained by adding the preceding two terms. This means to say the nth term is the sum of (n-1)th and (n-2)th term\n",
        "\n",
        "Here we store the number of terms in nterms.We initialize the first term to 0 and the second term to 1\n",
        "\n",
        "If the number of terms is more than 2, we use a while loop to find the next term in the sequence by adding the preceding two terms. We then interchange the variables (update it) and continue on with the process."
      ]
    },
    {
      "cell_type": "code",
      "metadata": {
        "colab": {
          "base_uri": "https://localhost:8080/"
        },
        "id": "R3-5w9lynRpA",
        "outputId": "c5dfe1e0-f133-4db7-dedf-77274fff8ca5"
      },
      "source": [
        "a=0;\n",
        "b=1;\n",
        "c=0\n",
        "n=int(input(\"Enter a number :\"))\n",
        "sum=0\n",
        "while c<=n:\n",
        "  c=a+b\n",
        "  a=b\n",
        "  b=c\n",
        "  print(c)\n",
        "  if c%2==0:\n",
        "    \n",
        "    sum=sum+c\n",
        "print(\"sum of even terms is :\",sum)\n"
      ],
      "execution_count": null,
      "outputs": [
        {
          "output_type": "stream",
          "text": [
            "Enter a number :10\n",
            "1\n",
            "2\n",
            "3\n",
            "5\n",
            "8\n",
            "13\n",
            "sum of even terms is : 10\n"
          ],
          "name": "stdout"
        }
      ]
    },
    {
      "cell_type": "markdown",
      "metadata": {
        "id": "DJQJ_0N5pOy4"
      },
      "source": [
        "### **Exercise - 5 : DS**"
      ]
    },
    {
      "cell_type": "markdown",
      "metadata": {
        "id": "e7CG--VMpSZV"
      },
      "source": [
        "\n",
        "### a) Write a program to count the numbers of characters in the string and store them in adictionary data structure"
      ]
    },
    {
      "cell_type": "markdown",
      "metadata": {
        "id": "BOLN3vvWfkYs"
      },
      "source": [
        "**AIM:** a program to count the numbers of characters in the string and store them in adictionary data structure"
      ]
    },
    {
      "cell_type": "markdown",
      "metadata": {
        "id": "jM5Dkpsdfkgp"
      },
      "source": [
        "**DESCRIPTION:**\n",
        "\n",
        "Given a string, the task is to find the frequencies of all the characters in that string and return a dictionary with key as the character and its value as its frequency in the given string.\n",
        "\n",
        "Method #1 : Naive method\n",
        "\n",
        "Simply iterate through the string and form a key in dictionary of newly occurred element or if element is already occurred increase its value by 1\n",
        "\n",
        "Method #2 : Using collections.Counter()\n",
        "\n",
        "The most suggested method that could be used to find all occurrences is this method, this actually gets all element frequency and could also be used to print single element frequency if required."
      ]
    },
    {
      "cell_type": "code",
      "metadata": {
        "colab": {
          "base_uri": "https://localhost:8080/"
        },
        "id": "wX2OeTygPhih",
        "outputId": "c4642b1e-0356-4b74-ac6d-b97376c885da"
      },
      "source": [
        "\n",
        "name=input(\"enter name\")\n",
        "dic={}\n",
        "for i in name:\n",
        "  keys=dic.keys()\n",
        "  if i in keys:\n",
        "    dic[i]=dic[i]+1\n",
        "  else :\n",
        "    dic[i]=1\n",
        "print(dic)"
      ],
      "execution_count": null,
      "outputs": [
        {
          "output_type": "stream",
          "text": [
            "enter namemadhu\n",
            "{'m': 1, 'a': 1, 'd': 1, 'h': 1, 'u': 1}\n"
          ],
          "name": "stdout"
        }
      ]
    },
    {
      "cell_type": "markdown",
      "metadata": {
        "id": "JiARm7RRM7_n"
      },
      "source": [
        "### b) Write a program to use split and join methods in the string and trace a birthday with adictionary data structure."
      ]
    },
    {
      "cell_type": "markdown",
      "metadata": {
        "id": "MaanJFMBgNNI"
      },
      "source": [
        "**AIM:** program to use split and join methods in the string and trace a birthday with adictionary data structure."
      ]
    },
    {
      "cell_type": "markdown",
      "metadata": {
        "id": "gSvRhJnMgNP4"
      },
      "source": [
        "**DESCRIPTION:**\n",
        "\n",
        "Python program to Split a string based on a delimiter and join the string using another delimiter.\n",
        "\n",
        "Split a string can be quite useful sometimes, especially when you need only certain parts of strings. A simple yet effective example is splitting the First-name and Last-name of a person.\n",
        "\n",
        "Another application is CSV(Comma Separated Files). We use split to get data from CSV and join to write data to CSV.\n",
        "\n",
        "In Python, we can use the function split() to split a string and join() to join a string."
      ]
    },
    {
      "cell_type": "code",
      "metadata": {
        "colab": {
          "base_uri": "https://localhost:8080/"
        },
        "id": "M_gNQNZpN7WO",
        "outputId": "df79851a-9d5b-4672-952e-bfa4f71338a1"
      },
      "source": [
        "d={\"akhil\":\"05-05-15\",\"hari\":\"06-06-2012\"}\n",
        "n=input(\"Enter a name :\")\n",
        "l=n.split()\n",
        "for i in l:\n",
        "  if i in d.keys():\n",
        "    person=i\n",
        "print(\"Person is \",person,\"in list\")\n",
        "print(\"\".join([person,\"birthday is :\",d[person]]))"
      ],
      "execution_count": null,
      "outputs": [
        {
          "output_type": "stream",
          "text": [
            "Enter a name :hari\n",
            "Person is  hari in list\n",
            "haribirthday is :06-06-2012\n"
          ],
          "name": "stdout"
        }
      ]
    },
    {
      "cell_type": "markdown",
      "metadata": {
        "id": "viGgHvRkTvkD"
      },
      "source": [
        "\n",
        "### **Exercise - 6: DS - Continued**"
      ]
    },
    {
      "cell_type": "markdown",
      "metadata": {
        "id": "YFgSln9DT1eF"
      },
      "source": [
        "### a) Write a program combinelists that combines these lists into a dictionary"
      ]
    },
    {
      "cell_type": "markdown",
      "metadata": {
        "id": "rC_Lpkwmgnqk"
      },
      "source": [
        "**AIM:** a program combinelists that combines these lists into a dictionary"
      ]
    },
    {
      "cell_type": "markdown",
      "metadata": {
        "id": "o22sV9nJgntV"
      },
      "source": [
        "**DISCRIPTION :**\n",
        "\n",
        "For this, simply declare a dictionary, and then run nested loop for both the lists and assign key and value pairs to from list values to dictionary.\n",
        "Most pythonic and generic method to perform this very task is by using zip(). This function pairs the list element with other list element at corresponding index in form of key-value pairs"
      ]
    },
    {
      "cell_type": "code",
      "metadata": {
        "colab": {
          "base_uri": "https://localhost:8080/"
        },
        "id": "NaK-RVI8TU1n",
        "outputId": "7ed9ca30-c04c-41c2-ea0b-607102e9f92e"
      },
      "source": [
        "l1=[\"hello1\",\"hello2\",\"hello3\"]\n",
        "l2=[\"hello4\",\"hello5\",\"hello6\"]\n",
        "l3=l1+l2\n",
        "print(l3)\n",
        "d={}\n",
        "d=dict(zip(l1,l2))\n",
        "print(\"Dictinory is \",d)"
      ],
      "execution_count": null,
      "outputs": [
        {
          "output_type": "stream",
          "text": [
            "['hello1', 'hello2', 'hello3', 'hello4', 'hello5', 'hello6']\n",
            "Dictinory is  {'hello1': 'hello4', 'hello2': 'hello5', 'hello3': 'hello6'}\n"
          ],
          "name": "stdout"
        }
      ]
    },
    {
      "cell_type": "markdown",
      "metadata": {
        "id": "YvbzS5lMpw4E"
      },
      "source": [
        "\n",
        "### b) Write a program to count frequency of characters in a given file. Can you use characterfrequency to tell whether the given file is a Python program file, C program file or a text file?"
      ]
    },
    {
      "cell_type": "markdown",
      "metadata": {
        "id": "AxbKdjtahDwy"
      },
      "source": [
        "**AIM :** program to count frequency of characters in a given file and use characterfrequency to tell whether the given file is a Python program file, C program file or a text file?"
      ]
    },
    {
      "cell_type": "markdown",
      "metadata": {
        "id": "hjzl77ddhDzb"
      },
      "source": [
        "**DESCRIPTION:** \n",
        "\n",
        "approaches to count the number of times a letter appears in a text file in Python. Method 1: Using the in-built count() method.\n",
        "\n",
        "**Approach:**\n",
        "1. Read the file.\n",
        "2. Store the content of the file in a variable.\n",
        "3. Use the count() method with the argument as a letter whose frequency is required.\n",
        "4. Display the count of the letter."
      ]
    },
    {
      "cell_type": "code",
      "metadata": {
        "id": "InVWPWQDUOqO",
        "colab": {
          "base_uri": "https://localhost:8080/"
        },
        "outputId": "276967b2-6087-4e01-84d9-fb635b2df948"
      },
      "source": [
        "file1=open(\"new.txt\",\"w\")\n",
        "file1.write(\"hello world\")\n",
        "file1.close()\n",
        "fn=input(\"Enter a file name :\")\n",
        "f=open(fn,\"r\")\n",
        "if \".txt\" in fn :\n",
        "  print(\"text file\")\n",
        "if \".c\" in fn :\n",
        "  print(\"C file\")\n",
        "if \".py\" in fn :\n",
        "  print(\"pyton file\")\n",
        "count=dict()\n",
        "for line in f:\n",
        "  for ch in line:\n",
        "    if ch in count:\n",
        "      count[ch]=count[ch]+1\n",
        "    else :\n",
        "      count[ch]=1\n",
        "print(count)\n"
      ],
      "execution_count": null,
      "outputs": [
        {
          "output_type": "stream",
          "text": [
            "Enter a file name :new.txt\n",
            "text file\n",
            "{'h': 1, 'e': 1, 'l': 3, 'o': 2, ' ': 1, 'w': 1, 'r': 1, 'd': 1}\n"
          ],
          "name": "stdout"
        }
      ]
    },
    {
      "cell_type": "markdown",
      "metadata": {
        "id": "04cQCSsquhTK"
      },
      "source": [
        "\n",
        "### **Exercise - 7: Files**"
      ]
    },
    {
      "cell_type": "markdown",
      "metadata": {
        "id": "8czjFpX0u5pW"
      },
      "source": [
        "\n",
        "### a) Write a program to print each line of a file in reverse order."
      ]
    },
    {
      "cell_type": "markdown",
      "metadata": {
        "id": "pNe0p3jmhenh"
      },
      "source": [
        "**AIM :** a program to print each line of a file in reverse order."
      ]
    },
    {
      "cell_type": "markdown",
      "metadata": {
        "id": "iK7iy4hYheqG"
      },
      "source": [
        "**DESCRIPTION:**\n",
        "\n",
        "The file handling plays an important role when the data needs to be stored permanently into the file. A file is a named location on disk to store related information. We can access the stored information (non-volatile) after the program termination. In Python, files are treated in two modes as text or binary. The file may be in the text or binary format, and each line of a file is ended with the special character. Hence, a file operation can be done in the following order.\n",
        "\n",
        "□ Open a file\n",
        "\n",
        "□ Read or write - Performing operation\n",
        "\n",
        "□ Close the file"
      ]
    },
    {
      "cell_type": "code",
      "metadata": {
        "colab": {
          "base_uri": "https://localhost:8080/"
        },
        "id": "wt-Xjhdqrhol",
        "outputId": "5db75432-50d3-4c6a-b5af-459bf31ce10b"
      },
      "source": [
        "file2=open(\"demo1.txt\",\"w\")\n",
        "file2.write(\"Welcome to python \\n hello\")\n",
        "file2.close()\n",
        "f=open(\"demo1.txt\",\"r\")\n",
        "data=f.read()\n",
        "lines=data.split(\"\\n\")\n",
        "for l in lines:\n",
        "  i=len(l)-1\n",
        "  while(i>=0):\n",
        "    print(l[i],end=\"\")\n",
        "    i=i-1\n"
      ],
      "execution_count": null,
      "outputs": [
        {
          "output_type": "stream",
          "text": [
            " nohtyp ot emocleWolleh "
          ],
          "name": "stdout"
        }
      ]
    },
    {
      "cell_type": "markdown",
      "metadata": {
        "id": "2u7G9d6nxw2W"
      },
      "source": [
        "### b) Write a program to compute the number of characters, words and lines in a file."
      ]
    },
    {
      "cell_type": "markdown",
      "metadata": {
        "id": "BQuetPknh6C5"
      },
      "source": [
        "**AIM :** a program to compute the number of characters, words and lines in a file."
      ]
    },
    {
      "cell_type": "markdown",
      "metadata": {
        "id": "wEiMX83Rh6F0"
      },
      "source": [
        "**DESCRIPTION:**\n",
        "\n",
        "Given a text file fname, the task is to count the total number of characters, words, spaces and lines in the file.\n",
        "As we know, Python provides multiple in-built features and modules for handling files. Let’s\n",
        "discuss different ways to calculate total number of characters, words, spaces and lines in a file using Python.\n",
        "\n",
        "Method #1: Naive approach\n",
        "\n",
        "In this approach, the idea is to solve the task by developing our own logic. Without using any built-in function of Python, the total number of characters, words, spaces and lines of the file will be calculated.\n",
        "\n",
        "Method #2: Using some built-in functions and OS module functions\n",
        "\n",
        "In this approach, the idea is to use the os.linesep() method of OS module to separate the lines on the current platform. When the interpreter’s scanner encounter os.linesep it replaces it with\n",
        "\\n character. After that strip() and split() functions will be used to carry out the task."
      ]
    },
    {
      "cell_type": "code",
      "metadata": {
        "colab": {
          "base_uri": "https://localhost:8080/"
        },
        "id": "piuC8-YnvscR",
        "outputId": "cfe4ce6b-844d-416a-e9b7-1ad95edd0871"
      },
      "source": [
        "file3=open(\"demo2.txt\",\"w\")\n",
        "file3.write(\"hello python \\nwelcome python\")\n",
        "i=0\n",
        "file3.close()\n",
        "f=open(\"demo2.txt\",\"r\")\n",
        "data=f.read()\n",
        "print(data)\n",
        "ch=len(data)\n",
        "\"\"\"for x in range(0,len(data)):\n",
        "  if data[x]==\" \":\n",
        "    i=i+1\"\"\"\n",
        "lines=data.split(\"\\n\")\n",
        "words=data.split(\" \")\n",
        "print(\"lines :\",len(lines),\"words :\",len(words),\"chars :\",ch-i)"
      ],
      "execution_count": null,
      "outputs": [
        {
          "output_type": "stream",
          "text": [
            "hello python \n",
            "welcome python\n",
            "lines : 2 words : 4 chars : 28\n"
          ],
          "name": "stdout"
        }
      ]
    },
    {
      "cell_type": "markdown",
      "metadata": {
        "id": "EW2QqNqi1dxz"
      },
      "source": [
        "### **Exercise - 8: Functions**"
      ]
    },
    {
      "cell_type": "markdown",
      "metadata": {
        "id": "4hGMqLsI1gjv"
      },
      "source": [
        "\n",
        "### a) Write a function ball collide that takes two balls as parameters and computes if they are colliding. Your function should return a Boolean representing whether or not the balls arecolliding. Hint: Represent a ball on a plane as a tuple of (x, y, r), r being the radius If (distance between two balls centers) <= (sum of their radii) then (they are colliding)"
      ]
    },
    {
      "cell_type": "markdown",
      "metadata": {
        "id": "fntr4JsTiNih"
      },
      "source": [
        "**AIM :** a function ball collide that takes two balls as parameters and computes if they are colliding"
      ]
    },
    {
      "cell_type": "markdown",
      "metadata": {
        "id": "Sh3IGFAEiNlR"
      },
      "source": [
        "**DESCRIPTION:**\n",
        "\n",
        "Functions A function in python is a block of code that is defined for doing frequent operations in a particular task. The general format is  \n",
        "\n",
        "def Functionname(arguments):\n",
        "\n",
        "Statements\n",
        "\n",
        "Calling a Function:\n",
        "\n",
        "A function can be called by its name followed by arguments within parenthesis. function()"
      ]
    },
    {
      "cell_type": "code",
      "metadata": {
        "id": "o-ZHSbf8x6N_",
        "colab": {
          "base_uri": "https://localhost:8080/"
        },
        "outputId": "c4c74a2a-b570-49b4-fbfe-e2a65e76621e"
      },
      "source": [
        "import math as m\n",
        "def collide(tup1,tup2):\n",
        "  x1,y1,r1=tup1;\n",
        "  x2,y2,r2=tup2;\n",
        "  d=m.sqrt((x2-x1)**2+(y2-y1)**2)\n",
        "  if d>r1+r2:\n",
        "    return True\n",
        "  else :\n",
        "    return False\n",
        "b1=(-2,-4,3)\n",
        "b2=(-2,-4,2)\n",
        "if collide(b1,b2):\n",
        "  print(\"Not Colliding \")\n",
        "else:\n",
        "  print(\" colliding\")\n"
      ],
      "execution_count": null,
      "outputs": [
        {
          "output_type": "stream",
          "text": [
            " colliding\n"
          ],
          "name": "stdout"
        }
      ]
    },
    {
      "cell_type": "markdown",
      "metadata": {
        "id": "DxYdmvIXMS0k"
      },
      "source": [
        "\n",
        "### b) Find mean, median, mode for the given set of numbers in a list."
      ]
    },
    {
      "cell_type": "markdown",
      "metadata": {
        "id": "vlDKvjNvinAv"
      },
      "source": [
        "**AIM:** To Find mean, median, mode for the given set of numbers in a list."
      ]
    },
    {
      "cell_type": "markdown",
      "metadata": {
        "id": "viEFJ2jBinDm"
      },
      "source": [
        "**DESCRIPTION :** \n",
        "\n",
        "Mean : The mean is the average of all numbers and is sometimes called the arithmetic mean. This code calculates Mean or Average of a list containing numbers:\n",
        "\n",
        "Median : The median is the middle number in a group of numbers. This code calculates Median of a list containing numbers:\n",
        "\n",
        "Mode : The mode is the number that occurs most often within a set of numbers. This code calculates Mode of a list containing numbers:\n",
        "\n",
        "We will import Counter from collections library which is a built-in module in Python 2 and 3. This module will help us count duplicate elements in a list. We define a list of numbers and calculate the length of the list. We then call Counter (a dict subclass) which helps to count hashable objects, and we then convert it to dict object. We then initialize a list with a For Loop to compare all the dict values (Number of elements) to the max of all dict values (count of most occurring element) and it returns all the elements equal to max count. If the elements returned are equal to the number of total elements in a list then we print out ‘No mode’, else we print out the modes returned."
      ]
    },
    {
      "cell_type": "code",
      "metadata": {
        "colab": {
          "base_uri": "https://localhost:8080/"
        },
        "id": "4bMTjeyVLbng",
        "outputId": "5c97dafc-ce67-434d-b25a-712c5d08eaa1"
      },
      "source": [
        "l=[1,2,3,3,4,5,6]\n",
        "def mean(num_list):\n",
        "  return(sum(num_list))/len(num_list)\n",
        "\n",
        "print(mean(l))\n",
        "\n",
        "\n",
        "def median(num_list):\n",
        "  num_list.sort()\n",
        "  n=len(num_list)\n",
        "  if n%2==1:\n",
        "    return num_list[n//2]\n",
        "  else:\n",
        "    return ((num_list[n//2]+num_list[(n//2)-1])/2)\n",
        "\n",
        "print(median(l))\n",
        "\n",
        "def mode(num_list):\n",
        "  num_list.sort()\n",
        "  temp=[]\n",
        "  i=0\n",
        "  while i<len(num_list):\n",
        "    temp.append(num_list.count(num_list[i]))\n",
        "    i=i+1\n",
        "  dic=dict(zip(num_list,temp))\n",
        "  mode={k for (k,v) in dic.items() if v==max(temp)}\n",
        "  return mode\n",
        "\n",
        "print(\"mode is\",mode(l))"
      ],
      "execution_count": null,
      "outputs": [
        {
          "output_type": "stream",
          "text": [
            "3.4285714285714284\n",
            "3\n",
            "mode is {3}\n"
          ],
          "name": "stdout"
        }
      ]
    },
    {
      "cell_type": "markdown",
      "metadata": {
        "id": "yHWPzSVPevLX"
      },
      "source": [
        "### **Exercise - 9: Functions - Continued**"
      ]
    },
    {
      "cell_type": "markdown",
      "metadata": {
        "id": "ckZHaCYge2SR"
      },
      "source": [
        "### a) Write a function nearly equal to test whether two strings are nearly equal. Two strings a and bare nearly equal when a can be generated by a single mutation on b."
      ]
    },
    {
      "cell_type": "markdown",
      "metadata": {
        "id": "IKvaHct7jCSC"
      },
      "source": [
        "**AIM :** a function nearly equal to test whether two strings are nearly equal. Two strings a and bare nearly equal when a can be generated by a single mutation on b."
      ]
    },
    {
      "cell_type": "markdown",
      "metadata": {
        "id": "kksBpFDyjCUg"
      },
      "source": [
        "**DESCRIPTION:**\n",
        "\n",
        "strlen() function is used to check wether the two string are nearly equal or not by basis of the Length of those Strings\n",
        "len() function is an inbuilt function in Python programming language that returns the length of the string. \n",
        "\n",
        "len() is a built-in function in python.You can use the len() to get the length of the given string, array, list, tuple, dictionary, etc.\n",
        "\n",
        "Value: the given value you want the length of.\n",
        "Return value a return an integer value i.e. the length of the given string, or array, or list, or collections."
      ]
    },
    {
      "cell_type": "code",
      "metadata": {
        "id": "btSRLEi7Uoao",
        "colab": {
          "base_uri": "https://localhost:8080/"
        },
        "outputId": "7027f1e0-f64a-4fef-e170-50d0173581f3"
      },
      "source": [
        "def nearly_eq(str1,str2):\n",
        "  count=0\n",
        "  i=j=0\n",
        "  while(i<len(str1)and(j<len(str2))):\n",
        "    if len(str1)!=len(str2):\n",
        "      count+=1\n",
        "      if len(str1)>len(str2):\n",
        "        i+=1\n",
        "      elif len(str1)==len(str2):\n",
        "        pass\n",
        "      else:\n",
        "        i-=1\n",
        "    if count>1:\n",
        "       return False\n",
        "    i+=1\n",
        "    j+=1\n",
        "  if(count<2):\n",
        "    return True\n",
        "s1=input(\"enter string1:\")\n",
        "s2=input(\"enter string2:\")\n",
        "bin=nearly_eq(s1,s2)\n",
        "if(bin):\n",
        "  print(\"strings are nearly equal\")\n",
        "else:\n",
        "  print(\"strings are not equal\")"
      ],
      "execution_count": null,
      "outputs": [
        {
          "output_type": "stream",
          "text": [
            "enter string1:madhu kiran\n",
            "enter string2:madhu\n",
            "strings are not equal\n"
          ],
          "name": "stdout"
        }
      ]
    },
    {
      "cell_type": "markdown",
      "metadata": {
        "id": "jbnbowuzrRIT"
      },
      "source": [
        "\n",
        "### b) Write a function dup to find all duplicates in the list."
      ]
    },
    {
      "cell_type": "markdown",
      "metadata": {
        "id": "xzFEzx8ujXi7"
      },
      "source": [
        "**AIM :** a function dup to find all duplicates in the list."
      ]
    },
    {
      "cell_type": "markdown",
      "metadata": {
        "id": "AOubBbPOjXl-"
      },
      "source": [
        "**DESCRIPTION:**\n",
        "\n",
        "To check if a list contains any duplicate element follow the following steps,\n",
        "\n",
        "1. Add the contents of list in a set.As set contains only unique elements, so no duplicates will be added the the set.\n",
        "2. Compare the size of set and list.\n",
        "If size of list & set is equal then it means no duplicates in list.\n",
        "3. If size of list & set are different then it means yes, there are duplicates in list."
      ]
    },
    {
      "cell_type": "code",
      "metadata": {
        "colab": {
          "base_uri": "https://localhost:8080/"
        },
        "id": "YkYnWKjNq_jX",
        "outputId": "4f6c8c3d-ca80-413d-ccbc-041c7fcd8814"
      },
      "source": [
        "def dups(numlist):\n",
        "  temp=[]\n",
        "  for i in numlist:\n",
        "    cnt=numlist.count(i)\n",
        "    if(cnt>1 and (i not in temp)):\n",
        "      temp.append(i)\n",
        "  print(\"duplicates in the list:\",temp)\n",
        "lst=[1,2,3,1,4,1,6,3,5,3,2]\n",
        "print(\"given elemnets is:\",lst)\n",
        "dups(lst)\n"
      ],
      "execution_count": null,
      "outputs": [
        {
          "output_type": "stream",
          "name": "stdout",
          "text": [
            "given elemnets is: [1, 2, 3, 1, 4, 1, 6, 3, 5, 3, 2]\n",
            "duplicates in the list: [1, 2, 3]\n"
          ]
        }
      ]
    },
    {
      "cell_type": "markdown",
      "metadata": {
        "id": "e7GnxoD1XR-l"
      },
      "source": [
        "## c) Write a function unique to find all the unique elements of a list."
      ]
    },
    {
      "cell_type": "markdown",
      "metadata": {
        "id": "SY-JjZsqjr58"
      },
      "source": [
        "**AIM :** a function unique to find all the unique elements of a list."
      ]
    },
    {
      "cell_type": "markdown",
      "metadata": {
        "id": "bq6fJIfkjr8w"
      },
      "source": [
        "**DESCRIPTION:**\n",
        "\n",
        "To find the unique in the list .There is a Specific Method i.e., Method : Traversal of list\n",
        "\n",
        "Using traversal, we can traverse for every element in the list and check if the element is in the unique_list already if it is not over there, then we can append it in the unique_list.\n",
        "\n",
        "This is done using one for loop and other if statement which check if the value is in the unique list or not which is equivalent to another for loop."
      ]
    },
    {
      "cell_type": "code",
      "metadata": {
        "id": "Yv3pdUMQsGBt",
        "colab": {
          "base_uri": "https://localhost:8080/"
        },
        "outputId": "631b72a0-d4e3-4bf3-e253-81dc83a97af7"
      },
      "source": [
        "def unique(numlist):\n",
        "  temp=[]\n",
        "  for i in numlist:\n",
        "    cnt=numlist.count(i)\n",
        "    if(cnt==1):\n",
        "      temp.append(i)\n",
        "  print(\"unique  in the list:\",temp)\n",
        "lst=[1,2,3,1,4,1,6,3,5,3,2]\n",
        "print(\"given elemnets is:\",lst)\n",
        "unique(lst)"
      ],
      "execution_count": null,
      "outputs": [
        {
          "output_type": "stream",
          "name": "stdout",
          "text": [
            "given elemnets is: [1, 2, 3, 1, 4, 1, 6, 3, 5, 3, 2]\n",
            "unique  in the list: [4, 6, 5]\n"
          ]
        }
      ]
    },
    {
      "cell_type": "markdown",
      "metadata": {
        "id": "Sv7v1FECXbYZ"
      },
      "source": [
        "### **Exercise - 10 : Functions - Problem Solving**"
      ]
    },
    {
      "cell_type": "markdown",
      "metadata": {
        "id": "XkEgton_XjNw"
      },
      "source": [
        "\n",
        "## a) Write a function cumulative product to compute cumulative product of a list of numbers."
      ]
    },
    {
      "cell_type": "markdown",
      "metadata": {
        "id": "IHPSo5aej4tp"
      },
      "source": [
        "**AIM :** a function cumulative product to compute cumulative product of a list of numbers"
      ]
    },
    {
      "cell_type": "markdown",
      "metadata": {
        "id": "S1aXeWNzj4wp"
      },
      "source": [
        "**DESCRIPTION:**\n",
        "\n",
        "A cumulative product is a sequence of partial products of a given sequence. For example, the cumulative products of the sequence. , are , , .. Cumulative products can be implemented in the Wolfram Language as Rest[FoldList[Times, 1, list]]\n",
        "\n",
        "cumprod(A,1) works on successive elements in the columns of A and returns the cumulative products of each column. cumprod(A,2) works on successive elements in the rows of A and returns the cumulative products of each row.\n",
        "\n",
        "\n",
        "umprod() function is used when we want to compute the cumulative product of array elements over a given axis. Syntax : numpy.cumprod(arr, axis=None, dtype=None, out=None) Parameters : arr : [array_like] Array containing numbers whose cumulative product is desired."
      ]
    },
    {
      "cell_type": "code",
      "metadata": {
        "colab": {
          "base_uri": "https://localhost:8080/"
        },
        "id": "DjRZNy-1XlXn",
        "outputId": "a3d1321e-cd34-4dd1-b168-bd0c02893bec"
      },
      "source": [
        "def cum_prod(num_list):\n",
        "  prd=1\n",
        "  temp=[]\n",
        "  for i in num_list:\n",
        "    prd*=i\n",
        "    temp.append(prd)\n",
        "  return temp\n",
        "list=[1,3,2,4,2,5,6,3]\n",
        "print(\"given list is:\",list)\n",
        "print(\"cummulative product is:\",cum_prod(list))"
      ],
      "execution_count": null,
      "outputs": [
        {
          "output_type": "stream",
          "name": "stdout",
          "text": [
            "given list is: [1, 3, 2, 4, 2, 5, 6, 3]\n",
            "cummulative product is: [1, 3, 6, 24, 48, 240, 1440, 4320]\n"
          ]
        }
      ]
    },
    {
      "cell_type": "markdown",
      "metadata": {
        "id": "VRmKhACeXrhI"
      },
      "source": [
        "## b) Write a function reverse to reverse a list. Without using the reverse function"
      ]
    },
    {
      "cell_type": "markdown",
      "metadata": {
        "id": "Cnypl3PwkLqs"
      },
      "source": [
        "**AIM :** a function reverse to reverse a list. Without using the reverse function"
      ]
    },
    {
      "cell_type": "markdown",
      "metadata": {
        "id": "XFiUhIOBkLt1"
      },
      "source": [
        "**DESCRIPTION:**\n",
        "\n",
        "In this Python code snippet post, we are going to implement a list reverse function from the scratch without using any builtin functions.\n",
        "Let us see how… Iterative solution\n",
        "\n",
        "We can use a for loop to swap the first and last items, the second and the one before the last\n",
        "\n",
        "item and so on until the list is reversed in place. The number of iterations needed is half the list size. If the list has an odd number of items then the middle item will stay in its place."
      ]
    },
    {
      "cell_type": "code",
      "metadata": {
        "colab": {
          "base_uri": "https://localhost:8080/"
        },
        "id": "NwFFAbhqX8Vs",
        "outputId": "abccba00-751b-46a8-f578-2d9cb9f839ce"
      },
      "source": [
        "def reverse_list(num_list):\n",
        "  i=0\n",
        "  j=len(num_list)-1\n",
        "  while(i<=j):\n",
        "    temp=num_list[i]\n",
        "    num_list[i]=num_list[j]\n",
        "    num_list[j]=temp\n",
        "    j-=1\n",
        "    i+=1\n",
        "  return num_list\n",
        "list=[1,2,5,6,7,8]\n",
        "print(\"given list is:\",list)\n",
        "reverse_list(list)\n",
        "print(\"reverse of list is:\",list)"
      ],
      "execution_count": null,
      "outputs": [
        {
          "output_type": "stream",
          "name": "stdout",
          "text": [
            "given list is: [1, 2, 5, 6, 7, 8]\n",
            "reverse of list is: [8, 7, 6, 5, 2, 1]\n"
          ]
        }
      ]
    },
    {
      "cell_type": "markdown",
      "metadata": {
        "id": "90UBAS5FYBLw"
      },
      "source": [
        "\n",
        "## c) Write function to compute gcd, lcm of two numbers. Each function shouldn’t exceed one line"
      ]
    },
    {
      "cell_type": "markdown",
      "metadata": {
        "id": "TzoBGBpck1aa"
      },
      "source": [
        "**AIM :** function to compute gcd, lcm of two numbers. Each function shouldn’t exceed one line"
      ]
    },
    {
      "cell_type": "markdown",
      "metadata": {
        "id": "HzFvgz7Dk1dd"
      },
      "source": [
        "**DESCRIPTION :**\n",
        "\n",
        "Python provides you an anonymous function called lambda. It can take any number of arguments, but can only have one expression. It can be used to find LCM and GCD values without exceeding each from from one line.\n",
        "The general format is\n",
        "\n",
        "lambda arguments: expression\n",
        "\n",
        "The expression is executed during the function call and the result is returned.\n",
        "Lambda as a Function\n",
        "\n",
        "The power of using a lambda expression is implementing it using a function"
      ]
    },
    {
      "cell_type": "code",
      "metadata": {
        "colab": {
          "base_uri": "https://localhost:8080/"
        },
        "id": "wLNSyAYuYB7z",
        "outputId": "11c19e02-10b5-4fbc-ee85-f975cbf17ad8"
      },
      "source": [
        "gcd=lambda a,b:a if b==0 else gcd(a,a%b)\n",
        "lcm=lambda a,b:(a*b)/gcd(a,b)\n",
        "x=4\n",
        "y=24\n",
        "print(\"given number :\",x,y)\n",
        "print(\"gcd is:\",gcd(x,y))\n",
        "print(\"lcm is:\",lcm(x,y))"
      ],
      "execution_count": null,
      "outputs": [
        {
          "output_type": "stream",
          "name": "stdout",
          "text": [
            "given number : 4 24\n",
            "gcd is: 4\n",
            "lcm is: 24.0\n"
          ]
        }
      ]
    },
    {
      "cell_type": "markdown",
      "metadata": {
        "id": "GzBHmI9hYJD3"
      },
      "source": [
        "\n",
        "### **Exercise -11 : Multi-D Lists¶**"
      ]
    },
    {
      "cell_type": "markdown",
      "metadata": {
        "id": "YKuzrh_AYK3A"
      },
      "source": [
        "## a) Write a program that defines a matrix and prints"
      ]
    },
    {
      "cell_type": "markdown",
      "metadata": {
        "id": "ULgXKNajlQ3H"
      },
      "source": [
        "**AIM :** a program that defines a matrix and prints"
      ]
    },
    {
      "cell_type": "markdown",
      "metadata": {
        "id": "gyOO1n0HlQ6T"
      },
      "source": [
        "**DESCRIPTION:**\n",
        "\n",
        "Lists are a very widely use data structure in python. They contain a list of elements separated by comma. But sometimes lists can also contain lists within them. These are called nested lists or multidimensional lists. In this article we will see how to create and access elements in a\n",
        "multidimensional list.\n",
        "\n",
        "Methods on Multidimensional lists\n",
        "1. append(): Adds an element at the end of the list.\n",
        "2. extend(): Add the elements of a list (or any iterable), to the end of the current list.\n",
        "3. reverse(): Reverses the order of the list."
      ]
    },
    {
      "cell_type": "code",
      "metadata": {
        "colab": {
          "base_uri": "https://localhost:8080/"
        },
        "id": "wTBrFFwzYLBK",
        "outputId": "3cabbb19-ec4d-4707-c679-245d37f3d4c7"
      },
      "source": [
        "matA=[[]]\n",
        "rows=int(input(\"enter no of rows\"))\n",
        "colms=int(input(\"enter colms\"))\n",
        "matA=[[int(input(\"enter  [%d,%d] value :\"%(i,j)))for j in range(colms)]for i in range(rows)]\n",
        "print(\"matrix is\\n\")\n",
        "\n",
        "for i in range(rows):\n",
        "  for j in range(colms):\n",
        "    print(matA[i][j],end=\"\\t\")\n",
        "  print()"
      ],
      "execution_count": null,
      "outputs": [
        {
          "output_type": "stream",
          "name": "stdout",
          "text": [
            "enter no of rows2\n",
            "enter colms2\n",
            "enter  [0,0] value :1\n",
            "enter  [0,1] value :2\n",
            "enter  [1,0] value :3\n",
            "enter  [1,1] value :4\n",
            "matrix is\n",
            "\n",
            "1\t2\t\n",
            "3\t4\t\n"
          ]
        }
      ]
    },
    {
      "cell_type": "markdown",
      "metadata": {
        "id": "vrgqIsyCY1Ol"
      },
      "source": [
        "## b) Write a program to perform addition of two square matrices"
      ]
    },
    {
      "cell_type": "markdown",
      "metadata": {
        "id": "kBH1V42Uld3t"
      },
      "source": [
        "**AIM :**  a program to perform addition of two square matrices"
      ]
    },
    {
      "cell_type": "markdown",
      "metadata": {
        "id": "-hRwKBRQld6t"
      },
      "source": [
        "**DESCRIPTION:** \n",
        "\n",
        "We can perform matrix addition in following ways in Python.\n",
        "1. Using for loop:\n",
        "**Explanation :**- In this program we have used nested for loops to iterate through each row and each column. At each point we add the corresponding elements in the two matrices and store it in the result.\n",
        "2. Using nested list comprehension :\n",
        "In Python, we can implement a matrix as nested list (list inside a list). We can treat each element as a row of the matrix.\n",
        "\n",
        "**Explanation :-**\n",
        "The output of this program is the same as above. We have used nested list comprehension to\n",
        "iterate through each element in the matrix. List comprehension allows us to write concise codes and we must try to use them frequently in Python. They are very helpful.\n",
        "3. uising zip function\n",
        "**Explanation :**\n",
        "The zip function accepts iterator i of each element(list) of matrix, mapping them, adding them using sum() and storing them in the map form."
      ]
    },
    {
      "cell_type": "code",
      "metadata": {
        "colab": {
          "base_uri": "https://localhost:8080/"
        },
        "id": "20FDqrMMY5ml",
        "outputId": "626abc4e-c7ff-4e5d-9034-5b6b339196c1"
      },
      "source": [
        "def matRead(r,c):\n",
        "  return[[int(input(\"enter [%d,%d] value:\"%(i,j)))for j in range(c)]for i in range(r)]\n",
        "   \n",
        "def disp(mat,r,c):\n",
        "  for i in range(r):\n",
        "    for j in range(c):\n",
        "      print(mat[i][j],end='   ')\n",
        "    print()\n",
        "\n",
        "matA=[[]]\n",
        "matB=[[]]\n",
        "summat=[[]]\n",
        "rows=int(input(\"enter no of rows:\"))\n",
        "cols=int(input(\"enter no of columns:\"))\n",
        "if rows==cols:2\n",
        "  print(\"enter matrix A elements:\")\n",
        "  matA=matRead(rows,cols) \n",
        "  print(\"enter matrix B elements:\")\n",
        "  matB=matRead(rows,cols)\n",
        "  print(\"matrix A is:\")\n",
        "  disp(matA,rows,cols) \n",
        "  print(\"matrix B is:\")\n",
        "  disp(matB,rows,cols)\n",
        "\n",
        "  summat=[[matA[i][j]+matB[i][j]for j in range(cols)]for i in range(rows)]\n",
        "  print(\"sum of matrices:\")\n",
        "  disp(summat,rows,cols)\n",
        "else:\n",
        "  print(\"matrix addition is not possible\")"
      ],
      "execution_count": null,
      "outputs": [
        {
          "output_type": "stream",
          "name": "stdout",
          "text": [
            "enter no of rows:2\n",
            "enter no of columns:2\n",
            "enter matrix A elements:\n",
            "enter [0,0] value:1\n",
            "enter [0,1] value:2\n",
            "enter [1,0] value:3\n",
            "enter [1,1] value:4\n",
            "enter matrix B elements:\n",
            "enter [0,0] value:1\n",
            "enter [0,1] value:2\n",
            "enter [1,0] value:3\n",
            "enter [1,1] value:4\n",
            "matrix A is:\n",
            "1   2   \n",
            "3   4   \n",
            "matrix B is:\n",
            "1   2   \n",
            "3   4   \n",
            "sum of matrices:\n",
            "2   4   \n",
            "6   8   \n"
          ]
        }
      ]
    },
    {
      "cell_type": "markdown",
      "metadata": {
        "id": "K-cFo2W-Z3HJ"
      },
      "source": [
        "## c) Write a program to perform multiplication of two square matrices"
      ]
    },
    {
      "cell_type": "markdown",
      "metadata": {
        "id": "PauxL8qomB7-"
      },
      "source": [
        "**AIM :** a program to perform multiplication of two square matrices"
      ]
    },
    {
      "cell_type": "markdown",
      "metadata": {
        "id": "Lii36w6bmB-v"
      },
      "source": [
        "**DESCRIPTION:**\n",
        "\n",
        "In Python, we can implement a matrix as nested list (list inside a list). We can treat each element as a row of the matrix. \n",
        "\n",
        "For example X = [[1, 2], [4, 5], [3, 6]] would represent a 3x2 matrix.\n",
        "The first row can be selected as X[0]. And, the element in first row, first column can be selected as X[0][0].\n",
        "\n",
        "Multiplication of two matrices X and Y is defined only if the number of columns in X is equal to the number of rows Y.\n",
        "\n",
        "If X is a n x m matrix and Y is a m x l matrix then, XY is defined and has the dimension n x l (but YX is not defined). Here are a couple of ways to implement matrix multiplication in Python."
      ]
    },
    {
      "cell_type": "code",
      "metadata": {
        "colab": {
          "base_uri": "https://localhost:8080/"
        },
        "id": "T5FxUnkRZ7yF",
        "outputId": "079bf399-dc31-4f9d-f657-fe3b55c00997"
      },
      "source": [
        "def matRead(r,c):\n",
        "  return[[int(input(\"enter [%d,%d] value:\"%(i,j)))for j in range(c)]for i in range(r)]\n",
        "   \n",
        "def disp(mat,r,c):\n",
        "  for i in range(r):\n",
        "    for j in range(c):\n",
        "      print(mat[i][j],end='   ')\n",
        "    print()\n",
        "\n",
        "matA=[[]]\n",
        "matB=[[]]\n",
        "mulmat=[[]]\n",
        "rows=int(input(\"enter no of rows:\"))\n",
        "cols=int(input(\"enter no of columns:\"))\n",
        "if rows==cols:\n",
        "  print(\"enter matrix A elements:\")\n",
        "  matA=matRead(rows,cols) \n",
        "  print(\"enter matrix B elements:\")\n",
        "  matB=matRead(rows,cols)\n",
        "  print(\"matrix A is:\")\n",
        "  disp(matA,rows,cols) \n",
        "  print(\"matrix B is:\")\n",
        "  disp(matB,rows,cols)\n",
        "  mulmat=[[0 for j in range(cols)]for i in range(rows)]\n",
        "  for i in range(rows):\n",
        "    for j in range(cols):\n",
        "      for k in range(cols):\n",
        "        mulmat[i][j]=matA[i][k]*matB[k][j]\n",
        "  print(\"matrix multiplication is:\")\n",
        "\n",
        "\n",
        "  \n",
        "  \n",
        "  disp(mulmat,rows,cols)\n",
        "else:\n",
        "  print(\"matrix addition is not possible\")"
      ],
      "execution_count": null,
      "outputs": [
        {
          "output_type": "stream",
          "name": "stdout",
          "text": [
            "enter no of rows:2\n",
            "enter no of columns:2\n",
            "enter matrix A elements:\n",
            "enter [0,0] value:1\n",
            "enter [0,1] value:2\n",
            "enter [1,0] value:3\n",
            "enter [1,1] value:4\n",
            "enter matrix B elements:\n",
            "enter [0,0] value:1\n",
            "enter [0,1] value:2\n",
            "enter [1,0] value:3\n",
            "enter [1,1] value:4\n",
            "matrix A is:\n",
            "1   2   \n",
            "3   4   \n",
            "matrix B is:\n",
            "1   2   \n",
            "3   4   \n",
            "matrix multiplication is:\n",
            "6   8   \n",
            "12   16   \n"
          ]
        }
      ]
    },
    {
      "cell_type": "markdown",
      "metadata": {
        "id": "XwLDI24iaa4R"
      },
      "source": [
        "\n",
        "### **Exercise - 12 : Modules**"
      ]
    },
    {
      "cell_type": "markdown",
      "metadata": {
        "id": "79ORDpyUmfAP"
      },
      "source": [
        "## a) Install packages requests, flask and explore them. using (pip)"
      ]
    },
    {
      "cell_type": "markdown",
      "metadata": {
        "id": "Elmi5NFfnV_X"
      },
      "source": [
        "**AIM :** To  Install packages requests, flask and explore them. using (pip)"
      ]
    },
    {
      "cell_type": "markdown",
      "metadata": {
        "id": "syN6XpLdmfDK"
      },
      "source": [
        "**DISCRIPTION :**\n",
        "\n",
        "Installing the pip Python package manager on Windows If you are on Windows, and your\n",
        "installed Python the current version, you already have pip! If your Python installation is not the most recent, the easiest thing to do is to simply reinstall it. Download the Python Windows\n",
        "\n",
        "installer at https://www.python.org/downloads/.\n",
        "\n",
        "In Windows, the variable that controls which programs are accessible from the command line is path. To modify your path to include Python and pip, we have to add C:\\Python27 and\n",
        "\n",
        "C:\\Python27\\Tools. Edit the Windows path by opening the Windows menu, right-clicking on Computer and clicking on Properties. Under Advanced system settings, click Environment Variables. Scroll down until you find Path, double-click it, and add\n",
        ";\n",
        "\n",
        "C:\\Python27;C:\\Python27\\Tools to the end.\n",
        "\n",
        "**Installing packages:**\n",
        "Suppose you want to install a package called requests (which is used to make HTTP requests). You need to issue the following command.\n",
        "pip install requests\n",
        "\n",
        "**show installed packages**\n",
        "You can use the following command to get information about a installed package, i.e Package name, version, location, dependencies.\n",
        "pip show package_name\n",
        "\n",
        "**install flask**\n",
        "On Mac and Linux, because you are installing programs outside the user-owned folders, you might have to prepend sudo to the install commands. To install Flask, simply run this:\n",
        "\"\" pip install flask\n",
        "\n",
        "**show installed flask**\n",
        "You can use the following command to get information about a installed flask, i.e Package name, version, location, dependencies\n",
        "$ pip show flask"
      ]
    },
    {
      "cell_type": "markdown",
      "metadata": {
        "id": "Qd5tNx73agHL"
      },
      "source": [
        "\n",
        "\n",
        "\n",
        "## b) Write a script that imports requests and fetch content from the page. Eg. (Wiki)"
      ]
    },
    {
      "cell_type": "markdown",
      "metadata": {
        "id": "zcKRG1ucmcEn"
      },
      "source": [
        "**AIM :** a script that imports requests and fetch content from the page. Eg. (Wiki)"
      ]
    },
    {
      "cell_type": "markdown",
      "metadata": {
        "id": "Zi0GMCTamdHa"
      },
      "source": [
        "**DESCRIPTION:**\n",
        "The Hypertext Transfer Protocol (HTTP) is an application protocol for distributed, collaborative, hypermedia information systems. HTTP is the foundation of data communication for the World Wide Web. \n",
        "\n",
        "**Python requests**\n",
        "\n",
        "Requests is a simple and elegant Python HTTP library. It provides methods for accessing Web resources via HTTP.\n",
        "\n",
        "**Python requests reading a web page**\n",
        "\n",
        "The get() method issues a GET request; it fetches documents identified by the given URL."
      ]
    },
    {
      "cell_type": "code",
      "metadata": {
        "colab": {
          "base_uri": "https://localhost:8080/"
        },
        "id": "6cVkuawHakRW",
        "outputId": "e0b3e040-22f5-4eac-e723-927611013cb8"
      },
      "source": [
        "import requests\n",
        "r=requests.get('https://www.google.com')\n",
        "print(\"status coed:\",r.status_code)\n",
        "print(\"header content:\",r.headers['content-type'])\n",
        "print(r.text)"
      ],
      "execution_count": null,
      "outputs": [
        {
          "output_type": "stream",
          "name": "stdout",
          "text": [
            "status coed: 200\n",
            "header content: text/html; charset=ISO-8859-1\n",
            "<!doctype html><html itemscope=\"\" itemtype=\"http://schema.org/WebPage\" lang=\"en\"><head><meta content=\"Search the world's information, including webpages, images, videos and more. Google has many special features to help you find exactly what you're looking for.\" name=\"description\"><meta content=\"noodp\" name=\"robots\"><meta content=\"text/html; charset=UTF-8\" http-equiv=\"Content-Type\"><meta content=\"/logos/doodles/2021/doodle-champion-island-games-september-05-6753651837109292-l.png\" itemprop=\"image\"><meta content=\"Doodle Champion Island Games!\" property=\"twitter:title\"><meta content=\"Feline up for a challenge? Help Lucky claim victory in the Doodle Champion Island Games! #GoogleDoodle \" property=\"twitter:description\"><meta content=\"Feline up for a challenge? Help Lucky claim victory in the Doodle Champion Island Games! #GoogleDoodle \" property=\"og:description\"><meta content=\"summary_large_image\" property=\"twitter:card\"><meta content=\"@GoogleDoodles\" property=\"twitter:site\"><meta content=\"https://www.google.com/logos/doodles/2021/doodle-champion-island-games-september-05-6753651837109292-2xa.gif\" property=\"twitter:image\"><meta content=\"https://www.google.com/logos/doodles/2021/doodle-champion-island-games-september-05-6753651837109292-2xa.gif\" property=\"og:image\"><meta content=\"668\" property=\"og:image:width\"><meta content=\"392\" property=\"og:image:height\"><meta content=\"https://www.google.com/logos/doodles/2021/doodle-champion-island-games-september-05-6753651837109292-2xa.gif\" property=\"og:url\"><meta content=\"video.other\" property=\"og:type\"><title>Google</title><script nonce=\"Y7RGKwL1pl28Gsu1vPFWjA==\">(function(){window.google={kEI:'oVQ0YbCAJoiFwbkP-8mTiAM',kEXPI:'0,772215,1,530316,56877,954,5104,207,4804,2316,383,246,5,1354,4936,315,1122515,1197661,103,518,119,328866,51224,16111,17447,11240,17572,4859,1361,9290,3023,17586,4020,978,13228,3847,4192,6430,1142,17906,2774,919,5081,1593,1279,2212,530,149,1103,842,1981,214,4100,108,3406,606,2023,1733,43,521,14670,3227,2846,6,5599,6754,5097,14396,1371,553,908,2,941,15324,432,3,1590,1,5445,148,11323,2652,4,1528,2304,1236,5227,576,74,1983,2626,2015,6573,4928,3824,1012,2038,2658,4242,2942,171,32,13628,1590,715,638,37,7043,3772,5993,1435,652,1870,3302,2533,4094,18,3120,6,908,3,3541,1,5349,8914,447,1,1814,282,38,874,5992,14678,746,1,22,1281,1344,371,2,3057,6155,636,4,23,4,5387,4,89,594,442,342,255,55,4,434,2500,1557,743,5853,2050,3038,5375,1160,1266,3,17,5121,293,2380,1402,1,1315,3709,2,835,3,5473,360,923,3352,1213,2427,1,8,2444,4504,32,737,1933,190,1,2445,1596,981,2787,337,554,462,4908,1265,697,1,199,1661,49,594,664,3,792,3063,118,2209,895,196,306,177,48,93,22,406,36,675,1,189,321,393,390,3,670,419,546,163,1172,253,303,142,2,658,98,172,1209,465,432,472,59,52,256,71,4,416,783,245,149,84,141,1105,2,197,338,4,205,838,94,3,723,5579073,3904,226,220,72,79,54,74,4,14,5996572,2800696,882,444,1,2,80,1,1797,2,7,2553,1,748,141,795,563,1,4265,1,1,2,1331,4142,2609,155,17,13,72,139,4,2,20,2,169,13,19,46,5,39,96,548,29,2,2,1,2,1,2,2,7,4,1,2,2,2,2,2,2,353,513,186,1,1,158,3,2,2,2,2,2,4,2,3,3,269,291,53,25,15,19,7,8,31,19,16,17,4,21,23654332,299865,2773819,88207,1179325,338,3,2414,448,2,91,372,172,406,9,3235,125,1417,797,70,57,67',kBL:'94Ui'};google.sn='webhp';google.kHL='en';})();(function(){\n",
            "var f=this||self;var h,k=[];function l(a){for(var b;a&&(!a.getAttribute||!(b=a.getAttribute(\"eid\")));)a=a.parentNode;return b||h}function m(a){for(var b=null;a&&(!a.getAttribute||!(b=a.getAttribute(\"leid\")));)a=a.parentNode;return b}\n",
            "function n(a,b,c,d,g){var e=\"\";c||-1!==b.search(\"&ei=\")||(e=\"&ei=\"+l(d),-1===b.search(\"&lei=\")&&(d=m(d))&&(e+=\"&lei=\"+d));d=\"\";!c&&f._cshid&&-1===b.search(\"&cshid=\")&&\"slh\"!==a&&(d=\"&cshid=\"+f._cshid);c=c||\"/\"+(g||\"gen_204\")+\"?atyp=i&ct=\"+a+\"&cad=\"+b+e+\"&zx=\"+Date.now()+d;/^http:/i.test(c)&&\"https:\"===window.location.protocol&&(google.ml&&google.ml(Error(\"a\"),!1,{src:c,glmm:1}),c=\"\");return c};h=google.kEI;google.getEI=l;google.getLEI=m;google.ml=function(){return null};google.log=function(a,b,c,d,g){if(c=n(a,b,c,d,g)){a=new Image;var e=k.length;k[e]=a;a.onerror=a.onload=a.onabort=function(){delete k[e]};a.src=c}};google.logUrl=n;}).call(this);(function(){\n",
            "google.y={};google.sy=[];google.x=function(a,b){if(a)var c=a.id;else{do c=Math.random();while(google.y[c])}google.y[c]=[a,b];return!1};google.sx=function(a){google.sy.push(a)};google.lm=[];google.plm=function(a){google.lm.push.apply(google.lm,a)};google.lq=[];google.load=function(a,b,c){google.lq.push([[a],b,c])};google.loadAll=function(a,b){google.lq.push([a,b])};google.bx=!1;google.lx=function(){};}).call(this);google.f={};(function(){\n",
            "document.documentElement.addEventListener(\"submit\",function(b){var a;if(a=b.target){var c=a.getAttribute(\"data-submitfalse\");a=\"1\"==c||\"q\"==c&&!a.elements.q.value?!0:!1}else a=!1;a&&(b.preventDefault(),b.stopPropagation())},!0);document.documentElement.addEventListener(\"click\",function(b){var a;a:{for(a=b.target;a&&a!=document.documentElement;a=a.parentElement)if(\"A\"==a.tagName){a=\"1\"==a.getAttribute(\"data-nohref\");break a}a=!1}a&&b.preventDefault()},!0);}).call(this);</script><style>#gbar,#guser{font-size:13px;padding-top:1px !important;}#gbar{height:22px}#guser{padding-bottom:7px !important;text-align:right}.gbh,.gbd{border-top:1px solid #c9d7f1;font-size:1px}.gbh{height:0;position:absolute;top:24px;width:100%}@media all{.gb1{height:22px;margin-right:.5em;vertical-align:top}#gbar{float:left}}a.gb1,a.gb4{text-decoration:underline !important}a.gb1,a.gb4{color:#00c !important}.gbi .gb4{color:#dd8e27 !important}.gbf .gb4{color:#900 !important}\n",
            "</style><style>body,td,a,p,.h{font-family:arial,sans-serif}body{margin:0;overflow-y:scroll}#gog{padding:3px 8px 0}td{line-height:.8em}.gac_m td{line-height:17px}form{margin-bottom:20px}.h{color:#1558d6}em{font-weight:bold;font-style:normal}.lst{height:25px;width:496px}.gsfi,.lst{font:18px arial,sans-serif}.gsfs{font:17px arial,sans-serif}.ds{display:inline-box;display:inline-block;margin:3px 0 4px;margin-left:4px}input{font-family:inherit}body{background:#fff;color:#000}a{color:#4b11a8;text-decoration:none}a:hover,a:active{text-decoration:underline}.fl a{color:#1558d6}a:visited{color:#4b11a8}.sblc{padding-top:5px}.sblc a{display:block;margin:2px 0;margin-left:13px;font-size:11px}.lsbb{background:#f8f9fa;border:solid 1px;border-color:#dadce0 #70757a #70757a #dadce0;height:30px}.lsbb{display:block}#WqQANb a{display:inline-block;margin:0 12px}.lsb{background:url(/images/nav_logo229.png) 0 -261px repeat-x;border:none;color:#000;cursor:pointer;height:30px;margin:0;outline:0;font:15px arial,sans-serif;vertical-align:top}.lsb:active{background:#dadce0}.lst:focus{outline:none}</style><script nonce=\"Y7RGKwL1pl28Gsu1vPFWjA==\"></script></head><body bgcolor=\"#fff\"><script nonce=\"Y7RGKwL1pl28Gsu1vPFWjA==\">(function(){var src='/images/nav_logo229.png';var iesg=false;document.body.onload = function(){window.n && window.n();if (document.images){new Image().src=src;}\n",
            "if (!iesg){document.f&&document.f.q.focus();document.gbqf&&document.gbqf.q.focus();}\n",
            "}\n",
            "})();</script><div id=\"mngb\"><div id=gbar><nobr><b class=gb1>Search</b> <a class=gb1 href=\"https://www.google.com/imghp?hl=en&tab=wi\">Images</a> <a class=gb1 href=\"https://maps.google.com/maps?hl=en&tab=wl\">Maps</a> <a class=gb1 href=\"https://play.google.com/?hl=en&tab=w8\">Play</a> <a class=gb1 href=\"https://www.youtube.com/?gl=US&tab=w1\">YouTube</a> <a class=gb1 href=\"https://news.google.com/?tab=wn\">News</a> <a class=gb1 href=\"https://mail.google.com/mail/?tab=wm\">Gmail</a> <a class=gb1 href=\"https://drive.google.com/?tab=wo\">Drive</a> <a class=gb1 style=\"text-decoration:none\" href=\"https://www.google.com/intl/en/about/products?tab=wh\"><u>More</u> &raquo;</a></nobr></div><div id=guser width=100%><nobr><span id=gbn class=gbi></span><span id=gbf class=gbf></span><span id=gbe></span><a href=\"http://www.google.com/history/optout?hl=en\" class=gb4>Web History</a> | <a  href=\"/preferences?hl=en\" class=gb4>Settings</a> | <a target=_top id=gb_70 href=\"https://accounts.google.com/ServiceLogin?hl=en&passive=true&continue=https://www.google.com/&ec=GAZAAQ\" class=gb4>Sign in</a></nobr></div><div class=gbh style=left:0></div><div class=gbh style=right:0></div></div><center><br clear=\"all\" id=\"lgpd\"><div id=\"lga\"><a href=\"/search?ie=UTF-8&amp;q=Paralympics&amp;oi=ddle&amp;ct=192414335&amp;hl=en&amp;si=AHuW2sT-QI6yLdyEfUBJHlK3UbYl5IMFaEVy5cpr0uPqDA9_otVXb9ripiHnz-EX5hXZ_jIa8ESKopokBeQtHfj9KzxO6Dw9kGEpQWJxyyGVK2B-ksVRRB0%3D&amp;sa=X&amp;ved=0ahUKEwjw1PyCjOfyAhWIQjABHfvkBDEQPQgD\"><img alt=\"Doodle Champion Island Games!\" border=\"0\" height=\"196\" src=\"/logos/doodles/2021/doodle-champion-island-games-september-05-6753651837109292-l.png\" title=\"Doodle Champion Island Games!\" width=\"334\" id=\"hplogo\"><br></a><br></div><form action=\"/search\" name=\"f\"><table cellpadding=\"0\" cellspacing=\"0\"><tr valign=\"top\"><td width=\"25%\">&nbsp;</td><td align=\"center\" nowrap=\"\"><input name=\"ie\" value=\"ISO-8859-1\" type=\"hidden\"><input value=\"en\" name=\"hl\" type=\"hidden\"><input name=\"source\" type=\"hidden\" value=\"hp\"><input name=\"biw\" type=\"hidden\"><input name=\"bih\" type=\"hidden\"><div class=\"ds\" style=\"height:32px;margin:4px 0\"><input class=\"lst\" style=\"margin:0;padding:5px 8px 0 6px;vertical-align:top;color:#000\" autocomplete=\"off\" value=\"\" title=\"Google Search\" maxlength=\"2048\" name=\"q\" size=\"57\"></div><br style=\"line-height:0\"><span class=\"ds\"><span class=\"lsbb\"><input class=\"lsb\" value=\"Google Search\" name=\"btnG\" type=\"submit\"></span></span><span class=\"ds\"><span class=\"lsbb\"><input class=\"lsb\" id=\"tsuid1\" value=\"I'm Feeling Lucky\" name=\"btnI\" type=\"submit\"><script nonce=\"Y7RGKwL1pl28Gsu1vPFWjA==\">(function(){var id='tsuid1';document.getElementById(id).onclick = function(){if (this.form.q.value){this.checked = 1;if (this.form.iflsig)this.form.iflsig.disabled = false;}\n",
            "else top.location='/doodles/';};})();</script><input value=\"ALs-wAMAAAAAYTRiscyk71djNNaBsOaTUIY_pk8cKiQc\" name=\"iflsig\" type=\"hidden\"></span></span></td><td class=\"fl sblc\" align=\"left\" nowrap=\"\" width=\"25%\"><a href=\"/advanced_search?hl=en&amp;authuser=0\">Advanced search</a></td></tr></table><input id=\"gbv\" name=\"gbv\" type=\"hidden\" value=\"1\"><script nonce=\"Y7RGKwL1pl28Gsu1vPFWjA==\">(function(){\n",
            "var a,b=\"1\";if(document&&document.getElementById)if(\"undefined\"!=typeof XMLHttpRequest)b=\"2\";else if(\"undefined\"!=typeof ActiveXObject){var c,d,e=[\"MSXML2.XMLHTTP.6.0\",\"MSXML2.XMLHTTP.3.0\",\"MSXML2.XMLHTTP\",\"Microsoft.XMLHTTP\"];for(c=0;d=e[c++];)try{new ActiveXObject(d),b=\"2\"}catch(h){}}a=b;if(\"2\"==a&&-1==location.search.indexOf(\"&gbv=2\")){var f=google.gbvu,g=document.getElementById(\"gbv\");g&&(g.value=a);f&&window.setTimeout(function(){location.href=f},0)};}).call(this);</script></form><div id=\"gac_scont\"></div><div style=\"font-size:83%;min-height:3.5em\"><br></div><span id=\"footer\"><div style=\"font-size:10pt\"><div style=\"margin:19px auto;text-align:center\" id=\"WqQANb\"><a href=\"/intl/en/ads/\">Advertising Programs</a><a href=\"/services/\">Business Solutions</a><a href=\"/intl/en/about.html\">About Google</a></div></div><p style=\"font-size:8pt;color:#70757a\">&copy; 2021 - <a href=\"/intl/en/policies/privacy/\">Privacy</a> - <a href=\"/intl/en/policies/terms/\">Terms</a></p></span></center><script nonce=\"Y7RGKwL1pl28Gsu1vPFWjA==\">(function(){window.google.cdo={height:757,width:1440};(function(){\n",
            "var a=window.innerWidth,b=window.innerHeight;if(!a||!b){var c=window.document,d=\"CSS1Compat\"==c.compatMode?c.documentElement:c.body;a=d.clientWidth;b=d.clientHeight}a&&b&&(a!=google.cdo.width||b!=google.cdo.height)&&google.log(\"\",\"\",\"/client_204?&atyp=i&biw=\"+a+\"&bih=\"+b+\"&ei=\"+google.kEI);}).call(this);})();</script> <script nonce=\"Y7RGKwL1pl28Gsu1vPFWjA==\">(function(){google.xjs={ck:'',cs:'',excm:[]};})();</script>  <script nonce=\"Y7RGKwL1pl28Gsu1vPFWjA==\">(function(){var u='/xjs/_/js/k\\x3dxjs.hp.en_US.uJVE4aH5PNY.O/am\\x3dAPgEWA/d\\x3d1/ed\\x3d1/rs\\x3dACT90oHMCNW-abUb8NKgcji0KPjTPcrpeg/m\\x3dsb_he,d';\n",
            "var e=this||self,f=function(a){return a};var g;var l=function(a,b){this.g=b===h?a:\"\"};l.prototype.toString=function(){return this.g+\"\"};var h={};function m(){var a=u;google.lx=function(){n(a);google.lx=function(){}};google.bx||google.lx()}\n",
            "function n(a){google.timers&&google.timers.load&&google.tick&&google.tick(\"load\",\"xjsls\");var b=document;var c=\"SCRIPT\";\"application/xhtml+xml\"===b.contentType&&(c=c.toLowerCase());c=b.createElement(c);if(void 0===g){b=null;var k=e.trustedTypes;if(k&&k.createPolicy){try{b=k.createPolicy(\"goog#html\",{createHTML:f,createScript:f,createScriptURL:f})}catch(p){e.console&&e.console.error(p.message)}g=b}else g=b}a=(b=g)?b.createScriptURL(a):a;a=new l(a,h);c.src=a instanceof l&&a.constructor===l?a.g:\"type_error:TrustedResourceUrl\";var d;a=(c.ownerDocument&&c.ownerDocument.defaultView||window).document;(d=(b=null===(d=a.querySelector)||void 0===d?void 0:d.call(a,\"script[nonce]\"))?b.nonce||b.getAttribute(\"nonce\")||\"\":\"\")&&c.setAttribute(\"nonce\",d);document.body.appendChild(c);google.psa=!0};setTimeout(function(){m()},0);})();(function(){window.google.xjsu='/xjs/_/js/k\\x3dxjs.hp.en_US.uJVE4aH5PNY.O/am\\x3dAPgEWA/d\\x3d1/ed\\x3d1/rs\\x3dACT90oHMCNW-abUb8NKgcji0KPjTPcrpeg/m\\x3dsb_he,d';})();function _DumpException(e){throw e;}\n",
            "function _F_installCss(c){}\n",
            "(function(){google.jl={attn:false,blt:'none',chnk:0,dw:false,emtn:0,end:0,ine:false,lls:'default',pdt:0,rep:0,sif:true,snet:true,strt:0,ubm:false,uwp:true};})();(function(){var pmc='{\\x22d\\x22:{},\\x22sb_he\\x22:{\\x22agen\\x22:false,\\x22cgen\\x22:false,\\x22client\\x22:\\x22heirloom-hp\\x22,\\x22dh\\x22:true,\\x22dhqt\\x22:true,\\x22ds\\x22:\\x22\\x22,\\x22ffql\\x22:\\x22en\\x22,\\x22fl\\x22:true,\\x22host\\x22:\\x22google.com\\x22,\\x22isbh\\x22:28,\\x22jsonp\\x22:true,\\x22msgs\\x22:{\\x22cibl\\x22:\\x22Clear Search\\x22,\\x22dym\\x22:\\x22Did you mean:\\x22,\\x22lcky\\x22:\\x22I\\\\u0026#39;m Feeling Lucky\\x22,\\x22lml\\x22:\\x22Learn more\\x22,\\x22oskt\\x22:\\x22Input tools\\x22,\\x22psrc\\x22:\\x22This search was removed from your \\\\u003Ca href\\x3d\\\\\\x22/history\\\\\\x22\\\\u003EWeb History\\\\u003C/a\\\\u003E\\x22,\\x22psrl\\x22:\\x22Remove\\x22,\\x22sbit\\x22:\\x22Search by image\\x22,\\x22srch\\x22:\\x22Google Search\\x22},\\x22ovr\\x22:{},\\x22pq\\x22:\\x22\\x22,\\x22refpd\\x22:true,\\x22rfs\\x22:[],\\x22sbas\\x22:\\x220 3px 8px 0 rgba(0,0,0,0.2),0 0 0 1px rgba(0,0,0,0.08)\\x22,\\x22sbpl\\x22:16,\\x22sbpr\\x22:16,\\x22scd\\x22:10,\\x22stok\\x22:\\x22DaZBgaQoYQCpdNUtRBEhZx83_lQ\\x22,\\x22uhde\\x22:false}}';google.pmc=JSON.parse(pmc);})();</script>        </body></html>\n"
          ]
        }
      ]
    },
    {
      "cell_type": "markdown",
      "metadata": {
        "id": "sjnOS3dia0EG"
      },
      "source": [
        "\n",
        "## c) Write a simple script that serves a simple HTTPResponse and a simple HTML Page"
      ]
    },
    {
      "cell_type": "markdown",
      "metadata": {
        "id": "fI0KN3enny2n"
      },
      "source": [
        "**AIM :** a  simple script that serves a simple HTTPResponse and a simple HTML Page"
      ]
    },
    {
      "cell_type": "markdown",
      "metadata": {
        "id": "Fik7zFglny5s"
      },
      "source": [
        "**DESCRIPTION:**\n",
        "\n",
        "HTTP Protocol\n",
        "The most important part of a web server is HTTP protocol.So now we will see what exactly this is –\n",
        "\n",
        "It stands for Hyper Text Transfer Protocol.\n",
        "\n",
        "It is an application layer protocol that allows web based applications to communicate and exchange data.\n",
        "\n",
        "The HTTP is the messenger of web.\n",
        "\n",
        "The computer that communicate via the HTTP must speak the HTTP protocol. It is a TCP/IP based protocol.\n",
        "\n",
        "It is used to deliver contents, for eg. images, audios, videos, documents etc.\n",
        "Using HTTP is the most convenient way to quickly and reliably move data on the web.\n",
        "\n",
        "HTML stands for hypertext markup language. It is the standard markup language for web pages that define the structure of the content. These elements are the building blocks of any website"
      ]
    },
    {
      "cell_type": "code",
      "metadata": {
        "colab": {
          "base_uri": "https://localhost:8080/"
        },
        "id": "aar0m-b9a3ta",
        "outputId": "5940943f-b963-4b27-8626-38b85c997ca5"
      },
      "source": [
        "from flask import Flask,render_template\n",
        "app=Flask(__name__)\n",
        "print(app)\n",
        "@app.route(\"/\")\n",
        "def main():\n",
        "  return render_template('login.html')\n",
        "  if __name__==\"__main__\":\n",
        "    app.run(host=\"127.0.0.1\",port=2500)"
      ],
      "execution_count": null,
      "outputs": [
        {
          "output_type": "stream",
          "name": "stdout",
          "text": [
            "<Flask '__main__'>\n"
          ]
        }
      ]
    },
    {
      "cell_type": "markdown",
      "metadata": {
        "id": "lEPSmYKMa8TW"
      },
      "source": [
        "\n",
        "### **Exercise - 13: OOP**"
      ]
    },
    {
      "cell_type": "markdown",
      "metadata": {
        "id": "2PpRFp22bJh8"
      },
      "source": [
        "## a) Class variables and instance variable and illustration of the self-variable i) Robot ii) ATM Machine"
      ]
    },
    {
      "cell_type": "markdown",
      "metadata": {
        "id": "uijnl39AoC_g"
      },
      "source": [
        "**AIM :** To use Class variables and instance variable and illustration of the self-variable"
      ]
    },
    {
      "cell_type": "markdown",
      "metadata": {
        "id": "Kr1lEbUOoDCQ"
      },
      "source": [
        "**DESCRIPTION:**\n",
        "\n",
        "Variables are named storage location. In python variables are not defined by its type instead it will be automatically determined by the value assigned to it. To determine the type of a variable a function called type () is used.\n",
        "\n",
        "**class variableis** shared by all object instances of a class. .... They are not defined inside any\n",
        "methods of a class. Because a class variable is shared by instances of a class, the Python class owns the variable. As a result, all instances of the class will be able to access that variable\n",
        "\n",
        "**Instance variables** are owned by instances of the class. This means that for each object or\n",
        "instance of a class, the instance variables are different..... Instance variables, owned by objects\n",
        "of the class, allow for each object or instance to have different values assigned to those variables\n",
        "\n",
        "**self variable** is used to bind the instance of the class to the instance method. We have to explicitly declare it as the first method argument to access the instance variables and methods. This variable is used only with the instance methods."
      ]
    },
    {
      "cell_type": "code",
      "metadata": {
        "colab": {
          "base_uri": "https://localhost:8080/"
        },
        "id": "2MAmRJqIbrhY",
        "outputId": "0ee85945-b820-4150-b70e-4c705083dd08"
      },
      "source": [
        "### ROBOT ###\n",
        "class Robot:\n",
        "  what=\"machine\"\n",
        "  name=\"chitti\"\n",
        "  version=1.0\n",
        "  speed=\"1THz\"\n",
        "  memory=\"1ZB\"\n",
        " \n",
        "  def update(upd):\n",
        "    upd.version=2.0\n",
        "    upd.speed=\"2THz\"\n",
        "    memory=\"2ZB\"\n",
        " \n",
        "  def disp(self):\n",
        "    print(\"My self is a\",robj.what)\n",
        "    print(\"my name is a\",robj.name)\n",
        "    print(\"version:\",robj.version)\n",
        "    print(\"speed:\",robj.speed)\n",
        "    print(\"memory:\",robj.memory)\n",
        " \n",
        "robj=Robot()\n",
        "robj.disp()\n",
        "print(\"--------Update-----------\")\n",
        "robj.update()\n",
        "robj.disp()"
      ],
      "execution_count": null,
      "outputs": [
        {
          "output_type": "stream",
          "name": "stdout",
          "text": [
            "My self is a machine\n",
            "my name is a chitti\n",
            "version: 1.0\n",
            "speed: 1THz\n",
            "memory: 1ZB\n",
            "--------Update-----------\n",
            "My self is a machine\n",
            "my name is a chitti\n",
            "version: 2.0\n",
            "speed: 2THz\n",
            "memory: 1ZB\n"
          ]
        }
      ]
    },
    {
      "cell_type": "code",
      "metadata": {
        "colab": {
          "base_uri": "https://localhost:8080/"
        },
        "id": "hD6cs_Afcp9S",
        "outputId": "2af8da47-2752-4dd7-9254-f924bb3b61b7"
      },
      "source": [
        "### ATM\n",
        "class ATM:\n",
        "  balance=int()\n",
        "  def init(self):\n",
        "    self.balance=0\n",
        "  \n",
        "  def enquire(self):\n",
        "    print(\"balance is:\",self.balance)\n",
        " \n",
        "  def deposit(self):\n",
        "    amount=int(input(\"enter amount to depposit\"))\n",
        "    self.balance+=amount\n",
        "    self.enquire()\n",
        "  def withdraw(self):\n",
        "    if self.balance<amount:\n",
        "      print(\"ammount is insufficient\")\n",
        "    else:\n",
        "      self.balance-=amount\n",
        "      self.enquire()\n",
        "obj=ATM()\n",
        "while(True):\n",
        "  print(\"****MENU*****\")\n",
        "  print(\"1.deposit\")\n",
        "  print(\"2.withdraw\")\n",
        "  print(\"3.Balance\")\n",
        "  print(\"0.exit\")\n",
        "  ch=int(input(\"enter your choice\"))\n",
        "  if ch==0:\n",
        "    break\n",
        "  elif ch==1:\n",
        "    obj.deposit()\n",
        "  elif ch==2:\n",
        "    obj.withdraw()\n",
        "  elif ch==3:\n",
        "    obj.enquire()\n",
        "  else:\n",
        "    print(\"ivalid option\")"
      ],
      "execution_count": null,
      "outputs": [
        {
          "name": "stdout",
          "output_type": "stream",
          "text": [
            "****MENU*****\n",
            "1.deposit\n",
            "2.withdraw\n",
            "3.Balance\n",
            "0.exit\n",
            "enter your choice3\n",
            "balance is: 0\n",
            "****MENU*****\n",
            "1.deposit\n",
            "2.withdraw\n",
            "3.Balance\n",
            "0.exit\n",
            "enter your choice1\n",
            "enter amount to depposit500\n",
            "balance is: 500\n",
            "****MENU*****\n",
            "1.deposit\n",
            "2.withdraw\n",
            "3.Balance\n",
            "0.exit\n",
            "enter your choice0\n"
          ]
        }
      ]
    },
    {
      "cell_type": "markdown",
      "metadata": {
        "id": "FNLo6-oKbJpm"
      },
      "source": [
        "\n",
        "### **Exercise - 14 :GUI, Graphics**"
      ]
    },
    {
      "cell_type": "markdown",
      "metadata": {
        "id": "PA2JfJjtbJr-"
      },
      "source": [
        "\n",
        "## 1. Write a GUI for an Expression Calculator using tk"
      ]
    },
    {
      "cell_type": "markdown",
      "metadata": {
        "id": "jETp7DPhooo7"
      },
      "source": [
        "**AIM :** To Write a GUI for an Expression Calculator using tk"
      ]
    },
    {
      "cell_type": "markdown",
      "metadata": {
        "id": "2DJJQxIZoouW"
      },
      "source": [
        "**DESCRIPTION:**\n",
        "\n",
        "Tkinter is a Python package which comes with many functions and methods that can be used to create an application. In order to create a tkinter application, we generally create an instance of tkinter frame, i.e., Tk(). It helps to display the root window and manages all the other components of the tkinter application. We can initialize the tkinter instance by assigning the variable to it."
      ]
    },
    {
      "cell_type": "code",
      "metadata": {
        "id": "FFxZoyQSjDoa"
      },
      "source": [
        "from tkinter import *\n",
        "win=Tk()\n",
        "win.geometry(\"312x354\")\n",
        "win.resizable(0,0)\n",
        "win.title(\"My calculator\")\n",
        "def bt_click(item):\n",
        "    global expression\n",
        "    expression=expression+str(item)\n",
        "    input_text.set(expression)\n",
        "def bt_clear():\n",
        "    global expression\n",
        "    expression=\"\"\n",
        "    input_text.set(\"\")\n",
        "def bt_equal():\n",
        "    global expression\n",
        "    result=str(eval(expression))\n",
        "    input_text.set(result)\n",
        "    expression = \"\"    \n",
        "expression = \"\"\n",
        "\n",
        "input_text=StringVar()\n",
        "input_frame=Frame(win,width=312,height=50,bd=0,highlightbackground=\"black\",highlightcolor=\"black\",highlightthickness=2)\n",
        "input_frame.pack(side=TOP)\n",
        "input_field=Entry(input_frame,font=('arial',18,'bold'),textvariable=input_text,width=50,bg=\"#eee\",bd=0,justify=RIGHT)\n",
        "input_field.grid(row=0,column=0)\n",
        "input_field.pack(ipady=10)\n",
        "btns_frame=Frame(win,width=312,height=272.6,bg=\"grey\")\n",
        "btns_frame.pack()\n",
        "\n",
        "clear=Button(btns_frame,text=\"C\",fg=\"black\",width=32,height=3,bd=0,bg=\"#eee\",cursor=\"hand2\",command=lambda:bt_clear()).grid(row=0,column=0,columnspan=3,padx=1,pady=1)\n",
        "divide=Button(btns_frame,text=\"/\",fg=\"black\",width=10,height=3,bd=0,bg=\"#eee\",cursor=\"hand2\",command=lambda:bt_click(\"/\")).grid(row=0,column=3,padx=1,pady=1)\n",
        "seven=Button(btns_frame,text=\"7\",fg=\"black\",width=10,height=3,bd=0,bg=\"#fff\",cursor=\"hand2\",command=lambda:bt_click(7)).grid(row=1,column=0,padx=1,pady=1)\n",
        "eight=Button(btns_frame,text=\"8\",fg=\"black\",width=10,height=3,bd=0,bg=\"#fff\",cursor=\"hand2\",command=lambda:bt_click(8)).grid(row=1,column=1,padx=1,pady=1)\n",
        "nine=Button(btns_frame,text=\"9\",fg=\"black\",width=10,height=3,bd=0,bg=\"#fff\",cursor=\"hand2\",command=lambda:bt_click(9)).grid(row=1,column=2,padx=1,pady=1)\n",
        "multiply=Button(btns_frame,text=\"*\",fg=\"black\",width=10,height=3,bd=0,bg=\"#eee\",cursor=\"hand2\",command=lambda:bt_click(\"*\")).grid(row=1,column=3,padx=1,pady=1)\n",
        "four=Button(btns_frame,text=\"4\",fg=\"black\",width=10,height=3,bd=0,bg=\"#fff\",cursor=\"hand2\",command=lambda:bt_click(4)).grid(row=2,column=0,padx=1,pady=1)\n",
        "five=Button(btns_frame,text=\"5\",fg=\"black\",width=10,height=3,bd=0,bg=\"#fff\",cursor=\"hand2\",command=lambda:bt_click(5)).grid(row=2,column=1,padx=1,pady=1)\n",
        "six=Button(btns_frame,text=\"6\",fg=\"black\",width=10,height=3,bd=0,bg=\"#fff\",cursor=\"hand2\",command=lambda:bt_click(6)).grid(row=2,column=2,padx=1,pady=1)\n",
        "minus=Button(btns_frame,text=\"-\",fg=\"black\",width=10,height=3,bd=0,bg=\"#eee\",cursor=\"hand2\",command=lambda:bt_click(\"-\")).grid(row=2,column=3,padx=1,pady=1)\n",
        "one=Button(btns_frame,text=\"1\",fg=\"black\",width=10,height=3,bd=0,bg=\"#fff\",cursor=\"hand2\",command=lambda:bt_click(1)).grid(row=3,column=0,padx=1,pady=1)\n",
        "two=Button(btns_frame,text=\"2\",fg=\"black\",width=10,height=3,bd=0,bg=\"#fff\",cursor=\"hand2\",command=lambda:bt_click(2)).grid(row=3,column=1,padx=1,pady=1)\n",
        "three=Button(btns_frame,text=\"3\",fg=\"black\",width=10,height=3,bd=0,bg=\"#fff\",cursor=\"hand2\",command=lambda:bt_click(3)).grid(row=3,column=2,padx=1,pady=1)\n",
        "plus=Button(btns_frame,text=\"+\",fg=\"black\",width=10,height=3,bd=0,bg=\"#eee\",cursor=\"hand2\",command=lambda:bt_click(\"+\")).grid(row=3,column=3,padx=1,pady=1)\n",
        "zero=Button(btns_frame,text=\"0\",fg=\"black\",width=21,height=3,bd=0,bg=\"#fff\",cursor=\"hand2\",command=lambda:bt_click(0)).grid(row=4,column=0,columnspan=2,padx=1,pady=1)\n",
        "point=Button(btns_frame,text=\".\",fg=\"black\",width=10,height=3,bd=0,bg=\"#eee\",cursor=\"hand2\",command=lambda:bt_click(\".\")).grid(row=4,column=2,padx=1,pady=1)\n",
        "equals=Button(btns_frame,text=\"=\",fg=\"black\",width=10,height=3,bd=0,bg=\"#eee\",cursor=\"hand2\",command=lambda:bt_equal()).grid(row=4,column=3,padx=1,pady=1)"
      ],
      "execution_count": null,
      "outputs": []
    },
    {
      "cell_type": "markdown",
      "metadata": {
        "id": "SIKl9QWEjURg"
      },
      "source": [
        "![image.png](data:image/png;base64,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)"
      ]
    },
    {
      "cell_type": "markdown",
      "metadata": {
        "id": "3SIVdQ4IbJui"
      },
      "source": [
        "\n",
        "## 2. Write a program to implement the following figures using turtle"
      ]
    },
    {
      "cell_type": "markdown",
      "metadata": {
        "id": "MT-RIK-Eo7cu"
      },
      "source": [
        "**AIM :** program to implement the following figures using turtle"
      ]
    },
    {
      "cell_type": "markdown",
      "metadata": {
        "id": "6QaKXhIio7fH"
      },
      "source": [
        "**DESCRIPTION:**\n",
        "\n",
        "The turtle module is an extended reimplementation of the same-named module from the Python standard distribution up to version Python 2.5.\n",
        "It tries to keep the merits of the old turtle module and to be (nearly) 100% compatible with it. This means in the first place to enable the learning programmer to use all the commands, classes and methods interactively when using the module from within IDLE run with the -n switch.\n",
        "The turtle module provides turtle graphics primitives, in both object-oriented and procedure- oriented ways. Because it uses tkinter for the underlying graphics, it needs a version of Python"
      ]
    },
    {
      "cell_type": "code",
      "metadata": {
        "id": "pZHOqxqTbrvd"
      },
      "source": [
        "import turtle\n",
        "c=[\"red\",\"green\",\"blue\"]\n",
        "i=0\n",
        "turtle.pensize(3)\n",
        "for angle in range(0,360,30):\n",
        "   if i>2:\n",
        "        i=0\n",
        "   turtle.color(c[i])\n",
        "   turtle.seth(angle)\n",
        "   turtle.circle(100)\n",
        "   i+=1"
      ],
      "execution_count": null,
      "outputs": []
    },
    {
      "cell_type": "markdown",
      "metadata": {
        "id": "ckbviFDqjdtq"
      },
      "source": [
        "![image.png](data:image/png;base64,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)"
      ]
    },
    {
      "cell_type": "code",
      "metadata": {
        "id": "bOTNReJ1j1Xd"
      },
      "source": [
        "import turtle\n",
        "turtle.pensize(1)\n",
        "for i in range(36):\n",
        "    for j in range(4):\n",
        "        turtle.forward(100)\n",
        "        turtle.left(90)\n",
        "    turtle.right(10)"
      ],
      "execution_count": null,
      "outputs": []
    },
    {
      "cell_type": "markdown",
      "metadata": {
        "id": "zQ_E29psj1h1"
      },
      "source": [
        "![image.png](data:image/png;base64,iVBORw0KGgoAAAANSUhEUgAAAkMAAAH+CAYAAACfhQqtAAAgAElEQVR4AezdB7g1VXU38FejEQvFQhEFKxZULKgoIhZURJqIAqICFhBjjb3FLipRQ+w9qEmMIgjG3kFskUTQTwUREZFmRex1vuc3L/u+c+fOnKnn3nPuXet55jnnzJnZZc2e2f9Z67/WXvf73/8+s/3ud7/Lfvvb3+bbb37zm8z261//Ot8uu+yyLG2/+tWvsthCBzEGYgzEGIgxEGMgxsA8jYGEY3wmfJPwzroyCHJAOiF18tJLL81sv/zlL2MLHcQYiDEQYyDGQIyBGAMzPwZ+8YtfLGljwjMJ3yS8sy5ZgOxIBwE9Cvn5z3+ebz/72c8y209/+tPYQgcxBmIMxBiIMRBjIMbAzI+Bn/zkJ0vamPBMwjfwDuyzDjpKVh9/JtCjkEsuuSS7+OKLs4suuii78MIL8+2CCy7IYgsdxBiIMRBjIMZAjIEYA/M0BhKOgWlgGxiHkQfuWQcA+QH8+NPBOvfjH/84O//887Mf/ehH2XnnnZf98Ic/zLdzzz03iy10EGMgxkCMgRgDMQZiDMzTGEg4BqaBbeAceAc4WgcZ+QH4OEDHfvCDH2TnnHNO9v3vfz87++yzs+9973vZWWedlW9nnnlmFlvoIMZAjIEYAzEGYgzEGJjVMfDd7343S1tqY8IxMA1sA+PAO0DSusQTis/1JPHQQ+ghxkCMgRgDMQZiDKytMZCDoSwkNBAaCA2EBkIDoYHQwBrVQIChNXrho9uhgdBAaCA0EBoIDazXQIChGAmhgdBAaCA0EBoIDaxpDQQYWtOXPzofGggNhAZCA6GB0ECAoRgDoYHQQGggNBAaCA2saQ0EGFrTlz86HxoIDYQGQgOhgdDAuv/9xrdCC6GB0EBoIDQQGggNhAbWrAbCMrRmL310PDQQGggNhAZCA6EBGpgaGPr617+evfSlL80e+vBHZM9/4YuzSy/9VWg8NBAaCA2EBkIDoYHQwMxpYFQw9Oc//zlf+Oyd73xn9uSnPCl76kuOyZ5x9LHZoYc9MrMGWkhoIDQQGggNhAZCA6GBWdPAqGDIomfv/Y/3ZS9/y3HZU1/5juxJb/hcdvjRH88OPvjgfFXYWet8tCc0EBoIDYQGQgOhgdDAaGDIqq///fFPZ8866s3ZW79wSXbUiedmh735rGyPZ304e9SjHpVdfPHF2V//+tfQeGggNBAaCA2EBkIDoYGZ0sAoYOhvf/tbdvzxx2dPef6rsnd8+bLsXz91Ybb3c0/K7vaUj2YPeMZx2eGHH56dc8452R//+MeZ6nw0JjQQGggNhAZCA6GB0MAoYAjIefvb35Y9/Min50Bop4NemO3y1I9luz3l/dkDHv607Mgjj8zdZEDTSsrHjliX7XzM2SvZhGWrW1/XHfGxZatvWhW1uWZ5X3c+JlsbV3Zamo5yQwOhgZXWwLp167Iu20q3d0j9+nnaaac1FuEYx05bRgFDJ5xwQvbyN7w3e9UHTste+9Fzsq222zHb8THvye7x6H/NDjv88dmXvvSl7A9/+EPrvpx9zM5LB8QIk12bibV1IzscmE/WtYP8iGwakCWvcxQw9LHsiIq2LxeobHPN8r6OMD46XNI4NDQQGggNjK6BLpN+l2NHb+gIBSaQMwkQtTlmhKbkRQwCQzhAv/zlL7PnPOfZ2VNf8c7s5e//v+wBhz07u/nuT87u9rRPZfc94pjsuc99bva73/0u62IVysHQosnt7OyYnSHm9sBhaRlZ1mZiHUuxdeWMB1I21FDX16GWoQRKl2Cqs4/Jdl6yc0N7xvw2C9dszP5EWaGB0EBooE4DXQBOl2Pr6lvp/ZPAzqT/ptHuQWCIteeLX/xi9o/PfWn2rNedkD3pnz+QXWWTLbJdn/OlbLfnfTHb84hXZK985Ss7t7tqcs9MwOvWZW3n4KoyZmFinRsw9LEjsnXrds5W2qs4C9es8wCOE0IDoYHQQA8NdAE4XY7t0ZRlO6UK9FTtm3aDBoGhSy+9NHvBC16Q/cvxp2Vv/OxF2eEv/rds4623z+7x3K9kdz/0ldneBz46O+aYYzr3oQrIZNl6dw0wVAco1p93RHZEbkUq+F4vtzKliTU/bsH1s9TatPj/pdybynIWWbLqu1zd9vWWrzLQy9tR2Lm+f8dkZ+dARf92znae0NeyZWhxvyYBnfXtaesKW9quy3V6OYB1067firreUMfidhWP2WDNazqm3NdsQUeX152uT7lNaX/9JYt/QgOhgdDAsmigC8DpcuyyNH5AJUXwU/w+oMjOpw4CQ7/4xS9ycvQr/+PU7IAnHZVtu+NeORDa7WXfzXbe9x+yY173+uxXv+qeeXphci12J5/ELp/A84lu8aRZBEtOqyojByLriiTqy/kwBcCx/phi2Ze76JYcM7mcYtOL3weDIcCi0JaJfS0cl9dbnPgrdXh5S4u6Lja+5vsCUCnUt75dRyyyLC3u++V6XXQ9Lge6hXauvx6Tdb243Muv/SKr1tnZMUcgWG8A1KkrHzsmiNdJF/EZGphVDWx4oUovVpM/Z7UfTe3qAnC6HNtU7yz8n0CQfvm+3DIYDD32sY/NgKF9Hv2cbPNb3ju7z0u/ld3tka/PDnr0P2Yf/vCHe/VnKZApg5YNVoWFCkzuhUl0aRnVFqVFx11uNSjN6WbXbOfC5FqefLVhUTkLjVr6percLFvfn3K9eZmFnfnvCt5UVd2L6im1f32rquvM/5tw/MJDqazrinYt6f0iAHY5GCr0r6ruRf24vMByfxcfsxTwLLSjsl8L/8aX0EBoIDSwohroAnC6HLuinWpZ+dyDocc97nHZcZ/8WvbYp/7TejD0ov/N7vqAw7I3vOUdeW6hlnpYdNj6SX8x8i+7bKomxOIx5f9VYNIsHpNXWpygi98XtWjxBNtYzqJzF/9YPHGn/6qBSd6HAlio6pMSqvYvqifv12J9JlCzRB/rC1wE/lIr02e5vvLvdNz6osqRgcnqtr7PS+vvruulfU11FFuy/nt+LOtaAcwtPSr2hAZCA6GB5ddAF4DT5djl70m3GhMQ8ln83q2UYUcPsgxZb0x26f96/weyxx55ZLbZtrfLdn70W7JHHv747PTTT+/dskmT64ZCTZqJ91L8vv6IqjJMhEsm3yIAKn7fUBEYlYeXJ1zSWM6icxf/WDRxL/y1HGCoHiAsNGPhy/r+LtHV5f+XdVv+vf6w9WUsAh2L9LsyYCh1cQEUpYua/ojP0EBoIDSwQhroAnC6HLtC3WlVbRX4qdrXqrABBw0GQw9/+MOz/Q88KLvVDrfNNtroqtkOO9w2+8xnPpMhV/eV6sl1aWkLoMQkW5rUqspYOL5YVHGCzt0oFRFrJfdKYznF8kvf80m41NbkJiuDj/KxVX1SfNX+RefW9avUtuLPvMwa11e5vvLvvJyiXi8veHGZ68FQ+bpVuSTLellPjt4A7nr3tXRdi/2P76GB0EBoYLk10AXgdDl2ufvRtr5JoGfSf23L73LcIDAk8/TXvva17NBDD8223nrrbLvttstD6VmMhqxDVjm5VvXKhLvz+uixJfiiYjI2abaaWBeBgKWTdptyqppr36KJu3DQYqCQH7g+AqvQsVq91PS1CDTyesv9yknFhUYs+np5vxesbxv+LLej/Ds/sgzALv+9IVdUKr8IPvvpuqzT2r6efUx2RDFXQK63ZF3c0L/4FhoIDYQGVkIDXQBOl2NXoi9NdbYBO22Oaaqn7f+DwJBEir/+9a+zr371q9nDHvaw7N73vnd27rnnZn/+85/b1l95XOXkWn3k+mSMlfyPDZNtctWYJJvAkGry+hfCwZee07acqiaXJ+4NxxTae3nEWN6ONmDocgK2m6PY1yIYUs96kLCBO7REFxsas+FbDhg2nJPXUQJIdddrkR5do0WgbX1/dz7mY5cn1Ly8jkJ/U5uXtHNROdUAc1HdKWJtAZCl/gQQ2nCh41toIDSw0hpY/3xNz6fmz5Vu75D69RXYaZIEiJqOG/r/IDCUKv/973+fZ5ree++9065l+kwTaqxKtUwKH7GauHYjKjOKCg2EBkIDoYEBGhgFDP3lL3/J3vSmN2VPecpTBjSlx6n5m/4G7kiPEuKUFdNAgKEVU31UHBoIDYQGQgOLNDAKGFLiN7/5zezkk09eVPh0f8RkOl39Trv0uH7T1nCUHxoIDYQGQgPtNDAaGGpX3ThHLfBBSvyScUqPUpZHAwGGlkfPUUtoIDQQGggNNGlgLsFQU6fi/9BAaCA0EBoIDYQGQgNtNRBgqK2m4rjQQGggNBAaCA2EBlalBgIMrcrLGp0KDYQGQgOhgdBAaKCtBgIMtdVUHBcaCA2EBkIDoYHQwKrUQIChVXlZo1OhgdBAaCA0EBoIDbTVQIChtpqK40IDoYHQQGggNBAaWJUaCDC0Ki9rdCo0EBoIDYQGQgOhgbYaCDDUVlNxXGggNBAaCA2EBkIDq1IDAYZW5WWNToUGQgOhgdBAaCA00FYDORg65ZRTsjPPPDO20EGMgRgDMQZiDMQYiDGw5sZADoYAoUsvvTS20EGMgRgDMQZiDMQYiDGw5sZAgKEY9Gtu0AfwjxefGAMxBmIMxBgojoF1l156Rm4OSzsvvvji7Dvf+U5soYMYAzEGYgzEGIgxEGNgVY2Bs846K/vpT3+a/fKXv1xkCFj34U+8bBEYAoTe8pa3ZK9+9auzo48+OrbQQYyBGAMxBmIMxBiIMTD3Y+B1r3td9oEPfCA799xzs5///OeLwdCWW265BAwBQje4wQ2yzTbbLLbQQYyBGAMxBmIMxBiIMTD3Y+CAAw7Ifv3rX2cXXXTRUjB0hStcYQkYYhEChJ73vOdlJ510UmyhgxgDMQZiDMQYiDEQY2Cux8DXvva17C9/+UuGDrTEMjQJDAFCIaGB0EBoIDQQGggNhAZWgwYmgKHb1lqGAgythksffQgNhAZCA6GB0EBogAbqwdB9Xx9gKMZIaCA0EBoIDYQGQgOrXgO1YOiQfz8vwNCqv/zRwdBAaCA0EBoIDYQGasHQhy+5NMBQjI/QQGggNBAaCA2EBla9BmrBkGSLxeU45BlK0WTBGVr14yI6GBoIDYQGQgOhgTWjgQBDa+ZSR0dDA6GB0EBoIDQQGqjSQIChKq3EvtBAaCA0EBoIDYQG1owGAgytmUsdHQ0NhAZCA6GB0EBooEoDAYaqtBL7QgOhgdBAaCA0EBpYMxoIMLRmLnV0NDQQGggNhAZCA6GBKg0EGKrSSuwLDYQGQgOhgdBAaGDNaCDA0Jq51NHR0EBoIDQQGggNhAaqNBBgqEorsS80EBoIDYQGQgOhgTWjgQBDa+ZSR0dDA6GB0EBoIDQQGqjSQIChKq3EvtBAaCA0EBoIDYQG1owGAgytmUsdHQ0NhAZCA6GB0EBooEoDAYaqtBL7QgOhgdBAaCA0EBpYMxoIMLRmLnV0NDQQGggNhAZCA6GBKg0EGKrSSuwLDYQGQgOhgdBAaGDNaCDA0Jq51NHR0EBoIDQQGggNhAaqNBBgqEorsS80EBoIDYQGQgOhgTWjgQBDa+ZSR0dDA6GB0EBoIDQQGqjSQIChKq3EvtBAaCA0EBoIDYQG1owGAgytmUsdHQ0NhAZCA6GB0EBooEoDAYaqtBL7QgOhgdBAaCA0EBpYMxoIMLRmLnV0NDQQGggNhAZCA6GBKg0EGKrSSuwLDYQGQgOhgdBAaGDNaCDA0Jq51NHR0EBoIDQQGggNhAaqNBBgqEorsS80EBoIDYQGQgOhgTWjgQBDa+ZSR0dDA6GB0EBoIDQQGqjSQIChKq3EvtBAaCA0EBoIDYQG1owGAgytmUsdHQ0NhAZCA6GB0EBooEoDAYaqtBL7QgOhgdBAaCA0EBpYMxqoB0OXnJydeeaZ2aWXXppv3/nOd7Kjjz4622yzzbKTTjppzSgoOhoaCA2EBkIDoYHQwOrWQC0YOv+4xwUYWt3XPnoXGggNhAZCA6GB0ECWZbVg6OQX3TDAUAyR0EBoIDQQGggNhAZWvQYCDK36SxwdDA2EBkIDoYHQQGhgkgYCDE3STvwXGggNhAZCA6GB0MCq10AtGArO0Kq/9tHB0EBoIDQQGggNhAYmcYYuveTTwRmKIRIaCA2EBkIDoYHQwKrXQK1lSEh9hNav+usfHQwNhAZCA6GB0MCa10CAoTU/BEIBoYHQQGggNBAaWNsaCDC0tq9/9D40EBoIDYQGQgNrXgMBhtb8EAgFhAZCA6GB0EBoYG1rIMDQ2r7+0fvQQGggNBAaCA2seQ0EGFrzQyAUEBoIDYQGQgOhgbWtgQBDa/v6R+9DA6GB0EBoIDSw5jUQYGjND4FQQGggNBAaCA2EBta2BgIMre3rH70PDYQGQgOhgdDAmtdAgKE1PwRCAaGB0EBoIDQQGljbGggwtLavf/Q+NLCsGvjpT3+affnLX87++Mc/Lmu9P//5z7MvfelL2R/+8IdlrTcqCw2EBuZDAwGG5uM6RStDA3OvAQDogx/8YHbTm940O+ecc7I///nPy9In9Z544onZDW94w+yss85atnqXpXNRSWggNDCKBgIMjaLGKCQ0EBpo0sC//uu/Zoccckhuodlpp52yL3zhC02njPL/G9/4xuzggw/Ovva1r2V3u9vdsk9/+tOjlBuFhAZCA6tHAwGGVs+1jJ6EBmZWA6961auyF73oRdnJJ5+c/e53v8tOOOGE7ClPeUp2/PHHT7XNr3nNa7IXvvCF2ec///ns97//fW4heupTn5p94AMfmGq9UXhoIDQwXxoIMDRf1ytaGxqYKw38+te/zt7ylrdkz33uc7NPfvKTi9r+9re/PQdIAMtb3/rW7De/+c2i//v++MEPfpAp06bej3/844uKete73pUDJIAsJDQQGggN0ECAoRgHoYE1pgFg4dvf/vay9Pr888/Pttxyy+yjH/1oZX2AyT3ucY9sr732yj7ykY9kP/vZzyqPa7vzhz/8YQZkKdP2xS9+sfLUl770pdkee+xR+d/YO3GjuOh+8pOfjF10lBcaCA2MpIEAQyMpMooJDcyDBriKnv3sZ2cHHnhgbolhjfEQmIYo9+yzz86Jy5/4xCcmVnHBBRdkN7nJTbIPfehD2Z/+9KeJx9b9qW8vfvGLswc96EF1hyzs57bbe++9s9/+9rfZ3/72t4X9Y37RD/rVt1vd6lbZf/7nfy57FN2Y/YmyQgOrWQMBhlbz1Y2+hQZKGnjUox6VvfzlL89YZG5xi1vk26mnnlo6apyfn/nMZ3LC8le+8pWMu2ySsJ4ATg9/+MOz17/+9ZMOrf3vH/7hH7IXvOAFGWtUk7BA/cd//Ed217veNbvwwgubDu/1/9ve9rZcvzvuuGPOWXr0ox+dvfrVr+5VVpwUGggNTFcDAYamq98oPTQwUxq4733vm73iFa/IzjvvvOy9731vvj35yU/OQYhor7HkuOOOyxCVEaRZbNoKojOiNb5PW7n00kuzJz7xifk5p59+etvTcovNO9/5zuwxj3lM9vWvf731eZMOZAn6x3/8x1yf//RP/5Tr9/3vf3922WWXZQcccED2rGc9a9Lp8V9oIDSwQhqoBUP/+7//m5155pmZB43tO9/5Tnb00Udnm222WXbSSSetUHOj2tBAaKCPBtzDb3rTm7LnPOc5GYtNURCcTeDIxq997WvzDfemr3B1ieACNPoIl5q2sKw0karxn1hbnv70p2ff+ta3OlfHYsW1xlomKWNf+Z//+Z9cb9ryjGc8I9fnf//3fy8q7thjj80tV3IthYQGQgOzpYFaMOThGWBoti5WtCY00FcDkhxe61rXyj71qU/VFiHvz6677ppvgMyPfvSj2mOr/pDdmUuMpeXd73531SGt9wEme+65Z06qFo5fBmf/7//9vzxMH1n6gQ98YCaz9RB5/vOfn7Hk9AFUXhRf9rKX5XrTZhyhOnnlK1+Z7bbbbnV/x/7QQGhghTQQYGiFFB/VhgaWSwNuchP21ltvnX32s59tVe0+++yTW0sQjOUFaiIZq+N73/tetu2222ZNZOlWDciynMuDVH21q10td50BW9qhPUjS9rchS7etD6laVFvb/tKNDRkdkGoj3H+77757qzralBfHhAZCA+NoIMDQOHqMUkIDM6sB4OSe97xnxpXT5HZKncApet7znpfd8pa3zC0Zv/jFL9JflZ+yOu+yyy65ZaiJLF1ZQMVOpGoAC5DDIzryyCPz8HQh8yxP9ne1XlVUs7CLdQmpeuedd55o3XEC0jnd2FjRLrnkkoVyJn1B3MYhuvOd7zxq2yfVGf+FBkIDzRoIMNSsozgiNDDXGpBt+cY3vnFmsdIu8o1vfCN7z3vek3N3RKE94hGPqOULSmC4zTbbtAYFXdrh2DPOOCPn5IjI4hprEzHWtQ7HS9B4netcZ4lbLpWFZE4PsmfTjQ1w7CI4W7iX3//+97ucFseGBkIDU9RAgKEpKjeKDg2stAZYMJCDJRnk0ukjrEKsRAAAC82//Mu/5NYQ7iSC36MO/41lFSq3ExfpqKOOyp72tKflhGkcqGnId7/73TwKDhFaqD/BV9JnG2I3Pbz5zW/uXb3FYkXa/fM//3O+cGzvguLE0EBoYDQNBBgaTZVRUGhgtjTwzW9+MwcxbfksbVovwuvud797zq1hRTnllFNyvgyQMC2RLRvQeuYzn5lnqN5vv/1ya1WZVD1W/YJHHvzgB+eAR/+4wfTZNtbiskAjrpFFZEXEhYQGQgMrq4EAQyur/6h9jWvADcjCYvvrX/86qjbuc5/75DmFRi308sK4hjbffPNs3bp1eRj9H//4x1GrKepFtJhoraIAK8L36U0eoyaCd/Hcpu/KUua+++6b9w/heVoCEAF5YwquVRpTY+plzDZGWaGBWdNAgKFZuyLRnjWlAWt2bb/99vlm/aoxZbnA0BZbbJEnPRyz7ZIvJr3g5ZTX9UKcZi1yjHQAbQnMbdrILUh3G2+88VyCIfmM6EXm67A6tbnicUxoIBZqjTEQGlhRDVivaquttspXbZcJ+pBDDsk3ifu83fcRwEDkFY5Ln7w5TXWedtpp2RFHHJG94x3vyKO6RHbh2KS2d8kCXVUXMjZOjXJtdWRppGr/I1QffvjhmUSxQ0QyWX1A0n7rW9+6UD89WupjaC6jqrbJofSSl7xkkAUPzynp3qecSdyWV7/61TP/hYQGQgPNGgjLULOO4ojQwFQ0gI+CeMwFJIeONbkAIhuisEn4mGOOyYCPLiJK6ZrXvGYm3H1s+fKXv5wTmbmoimRpwCS13XIf2l3OwNymLQAJiw9uUlv51a9+lWd2RrBGtO4iACdOkPaqVx8AiWIqAYBChu4iqbpLHU3Hym9073vfu+mwJf/jbGm3RI5J9z5lAEf+RvRG0pY8NyQ0EBqYrIEAQ5P1E/+GBqamAYDnoQ99aGX5rCH3u9/98oVOASZRYWlD8K0T1guAgptnrPW2Ul2IzMjYlvSYJPp1t7vdLbceaUObVehxjuRBkr0aOOkj1v2yUKt2thGA55Of/GSe6Vp7WYPqhM7333//zNIlYxO35TZi0fnqV786cR23H//4xwtjwFh4/OMfn+v5CU94QmWz5ZSyGO+///u/V/4fO0MDoYENGggwtEEX8S00sKwamASGig0BPjbaaKOFzQSO4GtjUSqKhH6yNhctG8X/h3y///3vv4TIPKm8D3/4w3l+I/webUXsrRLEcdyWG9zgBtnHPvaxqkNa7wMc995771wvdeRh4Ex7WK6uf/3rd0p+CBA1gcHWjS0cKDP4pptuuhDO7y96SdfZJytPcRy41pMkwNAk7cR/oYHFGggwtFgf8Ss0sGwaaAuGLr744sxaXGmz+vmtbnWrfANQrIieZJbAkHZxBcrorL11uXk+97nP5WHrrB3FvqQ+dflEtH7ve9+bk6rprUqe9KQn5e152MMelruQ2liuUjnLCYZYitJ19vnsZz97YQwYC5MshNobYChdtfgMDTRrIMBQs47iiNDA6BrAq5EIEYG2q7AMiRiyARgIv4ceemi+IV4ff/zx2Zih7paQ4JKxor3cRV1EokcATVvxjLQTlyVN5MjSQKEs2X0J4+X2cCfhHCF5J1I1TlPSEe6P9vThVIlys8r90UcfXa520O+LLroodw8ivqd20lO6zj67uj1Z4vCHhO5zxYWEBkID9RoIMFSvm/gnNDA1DVgrzKQ8VHCEcGUshYH3gvxryQjbGOt2IWNbXNTEbC2wISKNAKsMMjJgpY0AUheydNv6WZjwm5Cq1QN8qtsGGA2RT33qU7nOtRt5e6ggyGsjwjxgeLOb3Sy7wx3ukBPqh5btfBYwOg8JDYQG6jUQYKheN/FPaGB0DbB+cH9Y30pY/Viy22675VFFuCfcUjbWBEtl2FhI6jg7dW2QWBGp2MrwyZJTd2zb/dZHEwUlkaGIN1ataYR/c30BGXIQ4QVZWw1Bu8yxatvu8nFyQiGp4x2xnHURukzXJS1l4nrd9773zdMIHHTQQRkL31giSg5gnkaahbHaGOWEBlZaAwGGVvoKRP1rSgPCnK9xjWtk3C1jCJKwCV7kWdnStMcee2RXucpV8u3mN795xhXjWFsTT8b/rEz4SWMJMMYtdqMb3SjD55FZWvt8pnYNzcLtgaYsVjH1KB8YAMCAImuaDa0j6QOwo1duwCagyW2Z+sjNma6LzzIh++EPf3gOhpquUWpHm0+WOMAwJDQQGqjWQIChar3E3tDAVDQwNhgy6bMqvO9971uSpVmEFo6PzUrpd7nLXbLb3OY2+Sap4SR57GMfm3Oauq7IPqnMN7zhDdlhhx2WW4KAh3PPPTdvGwtWalcfDlWxTqHvytpll13ydcT0HfDiNkPQ5p6kizHEw9P1ZN3i4qoTrrQHPOABC31k+UnXxSeQWhTXlFtPuWNJgKGxNBnlrFYNBBharVc2+jWTGhgbDOH0bLbZZo0TPDDALfdv//Zv+YYADJik7SMf+UiuL0JUGvMAACAASURBVBwkeWtMnkO5NcULoDwWGm68spj8U7twZrRJMsG2wu2E0+Q8HCRl/dd//VeGvF0U4emI2k9/+tNzknnxvyHfE6la6HsSC7Am3cqdhOie+viJT3wiHVb76fr0ScRYV2CAoTrNxP7QwHoNBBiKkRAaWCYNnHXWWTkZGYn3e9/73uBalYHcLOuwsrvIN77xjXw9sSc+8Yn5pwip173udTlgsYxDmwm7TX2yVFu2Q1g4V1WTsOxok+MlXxQePklYl1hlEISdh6TdJJbvAJokpxxLWHK4zOjQxvWVdCuaq+tSHqxXzqOPX/7yl4ObKX2B8oCyaeSgGtzAKCA0sMIaCDC0whcgql87GhDebMIsLmMxpPesHxIsjjFZvulNb8qjmHBY7njHO+ZWDEtvsGT1EdYe5wNAiMG+d5EvfvGLOckaKHNueX0y7bIfYNpzzz2XuAib6mKleeQjH5mXoRz8n67C1fd///d/eRmWVLnlLW+ZXelKV8puf/vbV1rAupbPirbJJpuMApzVzQUJ6A6NCuzajzg+NDAPGggwNA9XKdq47BpwYyC9pq0um3GXho0JhrSP28tyC2OAIeVxIW233XZ5dBSA8fd///fZgx/84AUd0IXjmgRIENbufCTmvivKX3jhhXlWauVwsaVr4RPp2v599923qTm1/wNayrAdd9xxrfuW2oHrQ1/Of97znpe7KrfccsvcSjcGSZv77drXvnYOXsYob0wwVL4/xmhf7YWKP0IDy6ABYxq/0IsR13va1vni7Svt8DbBj42fMKZ5eRn6GFWEBjprwOKZO+yww8LGAjBUxgRDOCBWaheW3gagNLVdnpsU5g7MIF/jDLG8FPXQJieQFd653ZzvuaG8PiKayvnKAYaK7WDZsZ+brK/gUSnDJvSee6tJEM9TOxDXubOcDxix+LEyCbmXi2ioKE8aBpa1ocuUaMuYYMhYTnrwGXPC0Ksd56+0BgIMrfQViPpnUgN4OCa7d73rXfnmN7dK1dYGIIj2wtmQHXpoyDSg9pKXvGS08Hwh+cALXklZLEqadODTQqhFHYiGSuKNCh8Kj+n0009Puwd/IlPf7na3y25729vm/CD5ieRVkl15LOGSogNtLwpiebG/XgiTPljmyi5P4fOsTPIE+RwqxsoHP/jBfOxwiw4Rb734W7KJA22ThPWLtavY9+J3/9GDsX+9610vd6tOKi/+Cw3MugYCDM36FYr2rYgGgJ9DDjlkoW6WGFFWVZt8PK9//euXbFYLT8CHReHggw9eKG/IF1FGANFQEfKNTAykyX3TRiy+WtTBK1/5yoV+IzLTm3WzxhDkaRMuMrU6kX+12UTsNxK0pIdjCbeZ5ITFa8kiVewv4nkbYVEDHE888cQ2hzce89CHPjSPgms8sOEAOsVtsn4bueCCCxb1N/WdlcyYLfa9+D0BPeDv1re+dYChBr3H37OvgQBDs3+NooXLrAGTOYDAUtBGkITl8Clv++yzT57r5itf+UpmMpMY0fe04cR0EaHhsijLXp0msy7nF49lxRF5BVjJptxXRHGxDFzrWtfKLBprvS/9sz5YX0GWVgaARmfI1FXCysG9lfQ5JEpKNJ5yuN923HHHPCmiZTEAsL7ynve8JwfU1hRz7YYIDpYItW9/+9udizn77LMXdISHdMMb3jB3O+ovd1d53Pp9j3vcI3eVNlUG7AP53KxDXJZN9cT/oYFpayDA0LQ1HOXPnQas8dUlz01dB3HuuHSucIUrZH/3d3+XXfnKV160cU+ZTMqbm7JKTGqbbrrpKJFK3uyRm7suJZHahVCe2v385z8/J1oDMVtvvXXeR2689L/PJgK6/3GLHMsaQ1fbbrtt1gQYcWmSXmW3dn4bjhLCb7F9VqNXDuK4MHhRetxTbctLeil/AofGgHxQQ0Ueo3vd6161xST9Ffvlu4zWSUfp84pXvGJmm1RebUUVf8ipJJVASGhgXjUQYGher1y0e2oaGAsMcSHg1LA0SCaIR1PcuGTwYMqb/VUyS2AIYVg2Z20HfFgFTLysavrIRVTsV511J/VTxBkekHOAIWWwgihzknCbJZ3itDgfJ6ZJcF2K7WNlUo7lOoAKxG2Ecsc87nGPayqu9v/lAkMSTIqsK/YpfWfdSjpKn0CfBVyNqTEkwNAYWowyVlIDAYZWUvtR90xqYCwwlDrH5VAm5vqPewq3pLzhA3H/lDdRWibxJmtJqrfuMxF8hdIDbF3Foq8AgoSA2m6CLYtjiv0CBlN/cFFEqRKcGvuPPPLIhfL6Ru6J7FIni1uqK5UFlKZ9PvGNiu1DFC8LUrVjXDtWj66JE5WHk2OxW9eOi3OIWGgVd63Yj/RdlmvLnRT7lL5XWaVYi2TtHksCDI2lyShnpTQQYGilNB/1zqwGxgJD8v8AL5Z/6LIeFo6JyTNtIqluetOb5pMXgqulHqq2NPFPUiwCNKsN4nQfEeqNNI3EXI6kmlSe9qb+iDjDMbHPml04LPgwCSBNKqfNf6xTJmcL4lpjTT0AZqrfJz20FVYiYIjrlOWoq7Da0Lks1U1RXMoWll91fe0TzQb4SHEi5D71CXdLtFhbwY3CQxorIi/AUFvNx3GzqoEAQ7N6ZaJdK6aBscCQHEAm5C984QuD+iJM2+KeODlcSTvttFPl9vKXvzzPSwOwFDfLdrAAnXbaaTmh993vfnev9uBAmUCRy/sKkrMIMMkEZePWF+6o1N6hCSQRt5XFPbX77rvn5VutXpoE1ioh430EUJPokZVHdu0+IurQlnJDsailfhc/Wd3qrjHwIz8ScrfQ/iEi+u/ud7/7kCIWzg0wtKCK+DKnGggwNKcXLpo9PQ3MEhhygwJDbcLyWVcsB1HeDjjggHxJBxFfIt9wYopbE7mZph2/xx57ZEcddVQvxeuHMlgiUvvSOmLAUdrHYlNsW1NliXidzhEBqCwRbimizVIZ9l33utfNuU2O7Zsx+SEPeUhuxdKfJlFHalf6pD8RfIjrAE3qd/Hz/e9//8SigSHh8SLB+vZDBQGGJqo5/lxjGggwtMYueHS3WQOzBIZkmTaBVnFayj3BT5EHp7xx1Zk8RbSJkuJ2K25NrhscJWRpoeJdXDHF9slRo04k59Q+5GfC6pL2HXrooQtt4wb6yU9+UixmyfdTTjll4Xjlc0cpC78mka+12T4ZmAERx+HX9BFEceAKx6lJ5Egq6tl30XYbb7xxbqmSOiD1u/jZZB0DgLjuuACruGhN7Ur/BxhKmojP0ECWZ/L3rIjlOGI0rHkNABMmOZPE0MSBcrgAAICIyKu+YvLGE+krKXuxaKm6DaGZq6q8yb7MtcQ1gyxdXiy1qU04TKlMpGb1c19NEnyZ1E5RUK5HKgPPCHBCxk778LHS8T61t07k+pHF2XEi1pQhSaSHXxfh3gJCcJ+Qqi1ym9pT/ATMim0rfuduE/U2hFQtdxVd9BVj3FjnljP2hwigCST2tRwOqTvODQ2MoYGwDI2hxShjVWjA5LDRRhtlp5566uD+yD5tEdUuJONipSZ9k6fJvu86V23J0rINmxCL2zbbbJOHah9xxBF5QkU5bkz6aZP08Xe/+12xyYu+i5RDtE5l9gGXdCD79A1ucINs3bp12W1uc5u8TORhv+94xzvmRONFFbf8IT+RtgGsQNYkYjSOUOp3+kSotgL8S1/60nyVeivVp76mz0nkZLrDv0KqBpz7iGgxZQxZF4xl7WpXu1qvZI7lNhtHuFkhoYF51ECAoXm8atHmqWhglsAQ0vMmm2wyKMGiBUNNtl0E0Zp1hbvqzne+c+2GnCz0HOip2lhFcJ36CldRKlf4eFVbhMc7hgWqLzEaoXvvvffOLXipvvLnscceW1l/sU2i6xDMu8qBBx44iJDO4saF2VcCDPXVXJy32jQQYGi1XdHoT28NjAWGkHpZhrbffvteliHnWx6CBaRq8dQ2HcQrwblhnWkr6rVa/RZbbNG4Vtl5552XbbnllnkWYxm2WWpsshr7jcisDeVNHXVSPJZVK2VJrlt/TB2OwcPhwkvnt60jHe9zv/32y9td7IvvyrfMSJPQs6VDlNVFRAmKzpvU5knlcdfJIt213lSmZJgiHo39vm1IZYVlKGkiPudRAwGG5vGqRZunooGxwJC3da4SJNc+k5SILxMwYrPIoa4CGEj0CJB1ITzLhcSaxFqQyM11dbPESGTIKiPvDSAEHCljl112ySO3uI7KW12iPxmogbd0vFBtZdu4y6oEF8v/1tsCCNK5XF9VghtEr+m44ifgie+DWJ2Aneuo/KqkheXy6Zm+6T1FsZWPqfqNkI1nwx3ZR+jtfe97X+6eakOyL9fBjSusX0ZqHLEhEmBoiPbi3JXWQIChlb4CUf/MaGAsMCQBnqUO+ois0Jbj8JmiobqUI2EjYi7CcxdS7PHHH59bKBCM2ywqClgANoAQMrIkjiZlXBirv/tdtaWkgc4rbsAjPk46R6RVW1GnnDvpXPymYtnpOzK2xIXpuPIn3QGSaT83n3ORjNsIEIT0Tf/KaitnnHHGQpZr4KariPZDyAYCAZuuIikkK6ZowSESYGiI9uLcldZAgKGVvgJR/8xoYBbAEMK0KKE+YiLEEbJwqgmurbAI4PiYUNsIV5qJz+QLYCAjtxGRU0BPsrzIW+R8G0Ky7NrARHmrs3hIIlk+1m+AK5Xr8053ulNep5B2VhjtbyMApfOBIhmb21jpfvOb3+T65zbrAkzwjUTtIXP3WS+MhUcSS7mHukqAoa4ai+NXowYCDK3Gqxp96qwBIdKicu5617tWrrXVtkDZhVl2RPl0FROi6Clk3K7iXNmNJV5sI4jDwIntkEMOySf7pvPwmBzPcrLXXntlypgkSNCpDp8AF2CStmLUnnxCwFH6z6eFRq2yjhdTLCd951radNNNF53jPOHyRRGVVyxX+1MZ8vs0ka9FeyEps3g5r02KgXQdHc/V1mYNOIAGdwmg65rlmnXswQ9+cG5d63ouS6DEnFyEuGB9RbJIhHBWMe0JCQ3MkwYCDM3T1Yq2LtIAwudYm4ihW93qVvlDfEiZu+66a76YZp8yTLhcPH3OlY+INaLtuRZrTRYaLqk254kgc45lKdocL7Q81eET4bnNeekYbifk6GIZ5e/WNkvHt/3U/lTO5ptvnie0bDoXWLaGmvMAnabj/c9K5/hrXvOaubWnzTmOAShYCNseXzyOVZGbtriv7XeLtwKSbY+vOg7A/fu///uM66/q/777Ft348SM0MAUNBBiaglKjyOlrwGrnd7jDHUbb5LKRY0iW4CHlisyxFlafMrhxLCOxHOfe6EY3WgAEFoFtU6dQf5M7snGb42984xsv1OE8y2G0OS8dI68Qy5Bz6zaWoXR828+Up0iZlsG49a1v3VjGDjvskE/yztlqq60aj9eWBORk/ga027YPeEJGb3t88ThLrogGLO5r+33IuakOrjpReDKep31DP+WT6pO2YPpPoahhNWkgwNBqupprqC8SzgEdeB2yPA/dLBNh8kLiHVLWdtttl7scupQhcR8gJptwl/Mca3FWSfNkkW5zLqLsgx70oFbHsrqIuGoqVyRSEazIzFw+B7ApHlP8zh1WPr7qN14R8IMTVPV/cR/XGlBRrKf4XZuLx/tetBg5Fr+pfEzxN2L1da5znZxXVNxf992kLpqt7v/ifi4vSTuL+9p+5/Ky7lnb49Nxd7nLXfJowvS7zycXMYApB1Sf88vncP0Ck1yNIaGBaWogwNA0tRtlT00DwJBJ1AKYY0hyk7WJpKqqDz9GmwAa4eVdBBeHVahrTiEh34jMiLe4SpNEqLw+cr/gvtQJkrDjgEwcH/yVsggH93/aTHzWyRJBd9WrXjUnVqf/0icSsmOqNhFebUS+IdalNqHr+mtirqrPPm1ObUuf++67bybzdjqH2zH9RydlAjWytMk6HdcUmm6ip9O6vElFHXBdGkvWN6tLLVA8vvgdEBTi31XUhXzP6tpXvvSlL+UWNGkXxhAJMAMMjaHJKKNJAwGGmjQU/8+kBmYNDMkpZHkGazR1ESHqVm+3OGyXcGwkXhM1a0Z5ki7Xj+gsdxE+U12EE4ChfkAJd4kVw+RIEIwRjf1vw2sqWllYUOy3bIh8P84FWrijfLcVydLl9rX93QUMNZVp/GgXtyiOiwVs/UYmT/3Ul9RPFimJINN/AGwSSROd+4hHPGLh/zpy+bvf/e4cNLYhVatLzibjo8v6aSLKcIdkEu8K7lm71NlXAgz11Vyct9IaCDC00lcg6u+lgdUChuTH4dJoAjRlJZmAEW3biJxF+DuTJlRRaCZ+JGFk4aIIbecOSsCg7pNVJeXJEU0HqI0pY4Kh1C5RbNtuu20mzxIBGuv6V9wv23RZgMF0DJ3XCcshoNgmmSMLF9ercdJFvvCFL+TgvMliWC4zwFBZI/F7rWggwNBaudKrrJ+zBIbk2cFBkTG6y8KsJh55bOQ3ciO2FW4cXKFJi4sqi8Vmxx13zLMbf+tb31riUpSUURSaY6w4Lm8P9wwXi31pw/fBAzHRc8k5rmrjGkluy3kFQ8BHVd/SPvqiB2TypJ/0KRorHSfs337XoCyAr2Uw8IccI7dQnRgXxodxYry0FXUYj8Zl2zxQygZmJd604GrT+KpqS1iGqrQS++ZBAwGG5uEqRRuXaGBMMOThzzLibb4LKEmNsoK76Bkcki6CE9IlwSIrhqzPlok4/fTTa6tynPBq7iyutPKq9yeccELOi1E34rbJ3aKjQNbBBx+8sI9lJ3Fm0mdbIqv8Oq961aty3g6AMYaMbRkCMmSLluyxbSJGuky6SJ+ipegQoT/xjVIknejAtA9QSsL1yNqjDCkHXvva16a/Kj9Zk17ykpfkOZcqD6jYaTwiYVsmpIsAarhf9NNVLEuCZyZEHzAaKsEZGqrBOL+tBgIMtdVUHDdTGhgTDIl+skp7X+kDhkzsrCcSALaRRJZmaZjk+vA2z8ojwgwgklW6vLFICK0vgiGTuX0sGmnrYlGo6oM8QwBCl/XRqspJ+8YGQ/onz9CQRIPaBtAkneEcIcPTpw0YMrZYkhxTvhZ+77///jlokeV6EnBMpGrHtSFVS/SIsC3fEStRWxkChtQB6LEmJs5Z23qrjgswVKWV2DcNDQQYmoZWo8ypa2BWwBAis2goodBdsu4iKbPwtBF1eNtmqUluOITn5JIpfopsuspVrpJH2iX3TbJSpAna52677ZaTpZGqTdQmbRFfY8paAUNFnQEz++yzTx7WLx8R15mFZIHCov5FSMlvlK4R3pgcVXRWvJ7pe+J7IVUj23chVYvyA4zbCrK8MHuE8Z/97GdtT1s4LsDQgiriyxxpIMDQHF2saOoGDcwKGDLJmPBk1u0iXcAQkHLQQQctqgOBWnK7qk1klMkzZfvl/itOxOk7kIQsbbV4a3Z17UNTf9ciGKITegSOhfZ/+tOfzq9R0nn6RKC2Blm6Rp/97Gfza1R1Pe2zCG4SgEtyw+K+9F/VZ1cwpAzrlUkU2Wfx1gBDVVch9s26BgIMzfoVivZVamDWwFBlIyt2isy6+93vni+o2cZ9hDjLwiA7sPDttCFQpzBvn9bekpTQd0RmNzays+OBozQJW38qnZcIz8LErYcGYI0paxEMASryFXF/sej5nfTt0zVyLViGuJJcHwRqhOd0nEi1Ypi+/cZBuvYSYeJ6AbNtSNX4UCyGhx9+eOvLy8oJDEkF0FUCDHXVWBw/CxoIMDQLVyHa0FkD8wqGLCvAHcJ1QhCNTXR1G/eVjNHcZMWNK4MUydLFfTJSJ9cMgm861wRdJQjkuCtjyloEQyxyQEpdaL1r5FogTOMrAUZyHRVBDWsSsnR5X7qG6TMtZls3dnDhLrroovySqo9LtK0EGGqrqThutWigFgxJ2OXBjahnk1ROGnzmXat7h4QGVlIDswCGcCpk7LUq+iRB/E3LDFh6A6dHJmj70hu7t/biZkkFyQCFRldljEYsdb5IKJMh/lGqI+1L5SH4NkmAoSYNtfu/CQylUrihZK9O16i8nAowVNxXlZPI9d5pp53yBJepnOKnKDYZyh1nPMlXlMaIz0mk6j/96U95lu6u5Gv9C8tQusrxOU8aCDA0T1cr2rqggbHAEBcRYCKyq6twd3njNgEKOa/b8H0snmmtLC6O4mYF9LKkjNF3vetdc8tR+X9cExFKrAqsP7JeC423tpqy995774lRSeXy/DZpPuYxj8nDqVOuoKrjuuxj/ZKXRwJA7qKhMmY0GYsJF5D2JevJ0Pal/EHcXKw7XYSFMI0L40RUGldbcm8CJVXLkOD0GF9SLYgeKwrrzn777bdQrvItYcPFZmFibtG6Mas82au1Q5h8FwGkHvKQh+RAvc4S2ba8iCZrq6k4bqgGasGQmyEsQ0PVG+dPSwNjgSGROTgbfcjDCQzJ43LFK16xdgMKEK2Fsv/1r39dtFXVixgrush6Z1X/iwRDqk0Tpbr9NmGm8rvqXT0f/OAHcxdPOQN117LS8cr80Y9+lFsuhobpK3NMMCT9gIVo6WssAYBk6mbFqbpuk+pxfLp2MosnInW6xn5XRfs5z5p2IgKrVnZPZaZPgE1OLCCKG65u3Fpa5tvf/nYvMKSf6rP4MY7UEAkwNER7cW4XDdSCITdCgKEuqoxjl1MDY4EhmXYnZQBOfWI1wdEobvLJWIICUdmbfd1mAuLykNCwSY455pg8a3EiQReP95ZtvSwTX5okWYZMhuq+8MILi4d3/g4MVS3H0bmgwgnavOWWW+ah4IXdvb6OCYa4K/fYY49e7ag7SUJGRPc+mZuLZQJTrueb3vSmhevseiPSc4mWJVmk9tprr0qXavF4iRiBIbmxEPjrxqyEiVIEXPva186vX3Hc+94mLQQw9IQnPKFYfefvAYY6qyxO6KmBWjD0ve99L8BQT6XGadPXwDTAEDDhTVZiw/Lm4W9ysklkh88jg7TfTavUc6XhgDS5Trypl4+zL7WFu0I0mLBq7g91W5Sz7B7pq32TOGBoAvMyNIasFTCE18VyI9HgGC5BuucWS2NOJNl97nOfPKt4Gg8+AVjCNSWjNe5X2ld1/bhAWR5TxvWqY+xznMzs6ufyEpGY2uITmCy2I32X9TxJgKGkificBw3UgiEPxrAMzcMlXJtt7AuGkEZlfU6bhzz3ld94MwiorEDlDU8nCaAgw/Mpp5ySdk38tNbXa17zmonH+JPVx8ST2uaTRWmHHXbILQR4R9poH9AkN83Ycu655+aunirSdp+61goY4qKUr2lsAXJEpslZhNeG35asgsZLymKexgxCtfHRJHJjWdqljbBWcicXxQtA+R7xW5mpLc7ByUq/feLodZGwDHXRVhw7RAO1YEiK+gBDQ1Qb505TA3VgCGkU300Ic9VmMhHKnDbcCOHrfgstFwkzSZCbZf9FWG5ap4vF5owzzshXl+eWqBLlpXZyPyBBawtXhlw0on6QpUVxpjZzbXRZtb6q3rp9AYbqNDN5/7TAECtTWrUe4dsYkJ9IRKI6AR+pGtLYQL4GdIwpY6/OaiiSzRgqgvy6HrI+AunKQ6qeJO691BYuQxyq9NunSMc03sufVUApwNAkbcd/Y2qgFgwx0QYYGlPVUdaYGqgDQ7g2omUAiaqNZcWgT5uILW++fiN9NglQYxkFPI0mkqz7Z9NNN81zCtUdy2WR2okkK32FtjgXNyiRo5FqU5uVFWCo6UpN/n9sztBygCHX3RhArAeQEvmZ5TGNDVZO48iYqiNV04yxzgXr3CZRr/XKEql60vGpjdoDxOPTpbb55DpL47386V4sS4Chskbi97Q0YHzi0YkOTimFfK7DnwgwNC21R7lDNGA1dIuKclWxprDSpM36XVxhHqJVWznrc1sCdWqvKJztt98+X64g7av7tKCqt3ah5UlkoDYBpfZy02277bY5YNJeYd4W5OQaM1lY98z+cp4ZUVqS7+EOAWZjCUuCHGMmMguCDpW14CaTHkEGb8/LMUXmaYkSP/KRjyxaI8xDm5XGuMAjQ+Q3powt48R+uaWAJVakNNbkHSoKMCQiso2ceuqp+UtGl5XsqzhDsmFrX9XGHZjamj7da8CdbNgnnnhim6bGMaGBXhqoBUMmjQBDvXQaJw3UgIn+8Y9/fP5W6c2yvHmr5wrg3mJ2BxjShvTZxsJzwQUXZDL0InyyJrWVtmCIKwt/QvvUhdSqH2mf9gqRR4zlhsANIccff3xObk39qcotk9qqr8AUS8HYsvvuu2eW/BgqFpYFqliyuBeHyFjRZPL3vPCFL8xBxpD2pHOtQ1aVLyr93/cTJ4x1RzBLnXBLGSvGmbFl3BFjDtgRyXfYYYflxxjr6V4CRgAq+wCqpkjEPmBI+92rRVJ1XT/sN+ekcZ8+jRugDuEb4EztL39KXhoSGhiigQBDQ7QX5/bWgIerzM1Vm4imRz/60bWbUPI6N1nbBn3rW9/KeRdCiNvKV7/61ZynIev0JG6R4xCxhUJ7qOujc/QJV4P1BTBAfjUxM8Xigzgu7WvTJhMf0KgMk9+YMhYYSm2S0+fFL35x+tnrcywwxJrmeowl0wBDADrSvetbtmZWtduYMraAAuPI+LIPgLDPmMTJSfdVOg4xW2Qk0DKJP+Q/BGmgaxI4K7fN8VXur/Jxdb+BNhZS/Lxjjz12of2pH+nTi03VsyTtY6UNCQ1M0kAtGLrkkkvCMjRJc/FfJw387Gc/y4nN3mRt3mJlw63a8GOarDsrAYa02QKaVYJYagLTN1YrRNZi31iUiAnKcfpoQnK85W3wMVh5gKIuwi2CXN0U3t+lTMcKlTZBIlSPIasRDHl4WqYISMA7G1Nwx0RidRUWKiT8HXfcceF+k5uIhaXoagWc0vjkSsOzYwk0HutAkTHOXQWUtJUxwdCkOkV4pv5UfbKS6VvaLIcSEhooaiDAUFEb8X1qGhBWe6UrXWlhw3eRy6RqMyibscfozAAAIABJREFUZNbAkDdPZGl9ZNZHZC32LYE7b+fACxeCPEWO9+YrXFoeonRcU//T/9MCQ66BCZPVYwxZjWAIwL/pTW+ah753vW5NOu0Lhlw3bik8m3S/If3LdSUUP4nj0vgUsZaiF51TR6qeZTCEuJ36U/WJL5X04fO0005LqojP0ECuAfcEK+wSAnVYhmKEjKkBrhzJApGbv/KVr7Qy/U+qfxbAkAfsXe5yl3zbd9998zXChA/jYNS9XePhIVUjhl73utfNQRACNXDUJ1mfCQrRlsUqWZ8m6a3Lf8DQgx70oC6n1B67WsEQIv9xxx1X2+8+f3Dh4ciwOvUR/B+JEVM+IoDNWmR1q9YDciwm97///XOLpeSNaVz7BKTILIOhJj0hbnvusGoBiu6ZkNBAUQMBhoraiO9T0wAwdIc73KExHL1tA5YbDOFvSHTIlYDHYfP2LiO0LZGgTThp8ij3xQPYGmXC+4VGAxrOtbZZIlCXz2n7W6SNzNg4EmNJgKHJmmQZGhMMyZGF2H3UUUdlXbhsVa3EIUtjU8Qll5vxavzVLUwLUHMFA1PpXJ/GvfEuM7n7wLgQ+dVGlstN1qYtjhEpGWCorbbW1nEBhtbW9V6x3govt9QFEDPGQqBDwBACqIc08mWdBScpSqQWHg/wwvWF5/OoRz0q34pJ4hzHMmMysUZVUZBZtde5JhUuQ5PSWFmeU13IsAcccED6OfhTZJslJt7//vc3Jttrqmy1WYZE+QH4uFVjWRkQ6Vlx5J4aUyTuZG3Cm8FvAnCMR6TqohiXjhPKXxTuW2Pe/eK+kY7C0iAI7U3C4slSKqKQ+6GrFAnUXc8tH88q60VEX8biwpXriN/zq4EAQ/N77eau5WO+lQ0BQx7MEiciM1cJHo6wY5vV1oW/IzgjpnorrhIuDcecfPLJ+d/AUSoDmZVLjFsNAPKmPtYEWmyLyU4UG/6SG3sMAYi4WIYCWKHQosmGTEJDo8lwSVwnk6FJfYjIBWURU+6XMUQKAuDEkh4f//jHxyhyURl4Q7JIi0DkDsNbQ/Q3RkVWcoERY2iXXXZZdG764X4RiSc4QGZpGdvTGPdZF9HINX7lK185PzaV1fZzTDA0tnW6bR/iuPnQQICh+bhOq6KV8wKGEEg9vG2SH+LyWGeJi6AOZJTBEN5FKoNZHqmVOwxXCFBC+BxbtE3uIdwsy3yMIWOBIUCEG28IB2koGPrJT36Su7XkfKq7jm11NjYY+vznP5+DK9aLscnY+qRMdQBBwM/BBx+cE/2NUcT/xE+aBIaU4zpyp7FwykqdxrhPFqAqCTBUpZXYN2saCDA0a1dkFbdnVsEQjo9cKGkDZDzAbSeccEJOPMUJqktMx9qDQM0V+LCHPSwvx2TB3XHVq141zzUk5Nk+YfTAFl1MQ7i0hOiPBYa4Nrj5uEUQUIcIMERPfWUoGBIUss022+TXtG8bnMdtKkM3K0uddbFr+dxJQEmT27Zruel4Y9HYNEZdA5axlN6CNVPmduOfq9VYv+c971lr9dJGWeC5jdN94hMnKd1DPpO7zX/AEutRVwnLUFeNxfF9NRBgqK/m4rzOGpglMGQRSXwPpFAEUZND2oqgx/IDAI234CphOeE6YzXCiTIhKAfR2iKaOAp4N+pgTWAVslSCvC8mwLHFRAXcSULHyjCGWOaBW2So+2a1gCEE5/vd735jqDYvAyfHeMDtwRsaW0RQSeZprCLqAzvGrH3Gq3Fr/Bq3xqnxatwav8BIlUiMijtUFGAn3UM+JXx0f0nPEGCoqKn4PosaCDA0i1dllbZppcEQCwe+EBIpdwFzv6UKTEZVgjskgzSOSV3WXURob8HpOACExQA/CE8I8OE+KJOlvXm/+tWvrqp28D7txuuo61fXCgIMLdbY2GCIlaVPgsXFrar/xSJknBYFfyaF8MtADbwbNwC78QqYWe6mLgmosQVwCxoA8KtEZKP7C3leLi1JPN1/XSyMYRmq0mzsm4YGAgxNQ6tRZqUGlhsMIXTK9pw2fBXZdq9//etPJFCnxpsIZNwV8lwUrhEWI+V6o1fmPvvss3CciQfYst9WRZa2iKXoMuuwjS3KxHHi7sOTGSosZRb0xHniauorq8EydN5552Uve9nLsiOOOKKvGhadpzzgSqTW2IInJOJRBmoWoLIgVRufxvhVrnKVhTxVlr5IYxfIN87POeec8ul5+L/zcJAmCTcZ3pyITOWyOKV70uckl26AoUmajf/G1ECAoTG1GWVN1MBygyFvuN5603bKKafka4p5Y50UTZY6UQeGkE2BHeVySVmnrJgnCBjCp7DfVkWWRkSVgZp1amxRn3qtL1Y1CXatL5XnDf8Vr3hF19MXjl8NYMgyKhIiun5jCKsNQD1WecU2/eY3v8nBB9DjQV8W+4wTlh0ZqFPSznS9/YcbZZxXZaWWC6ktGOImk/VZmVxo6Z70OWl5jwBD5asWv6elgQBD09JslLtEAx7OHqBy4XzoQx9a8n+XHVWh9QibeAxpAwTUl7bLLrtsgU/zjW98ozFqpwoM4c0IL0ZEtQZSOcGiEHIWnzq3WrGPwsy9eZtgp7FWkvWa8DZsY4iQbFaRvsJixf2CwNsn58wQAjXrBJ4PV2mfulOfhZMDQ0NFKL1Qd5miuSHHFtYdrlj3WZN1kAXJ/YDfU15j7ZBDDsnv1ypSdVsw5L7DuaM796ikj+me9OmlJd2zLJDFe2csMMQV6SWlD4l77GsT5c2mBgIMzeZ1WdWtkrfH2mRDpAiGEnnZpI/4mbaqBx+yKB5Dkwi/RjI1CXhrF3LsXPtwffAlPGBNIsSaNiw9xX1NdfifG0P7lVecBNqc2+YYUWwm3TFkKBjSBpmycVHqsiBPaucQMAQEbbHFFoPdkmOBIdYYUX9SIYwtn/vc53Jrk3tskguqXK9koQjUxnqStA+pGmnaGHcfWIKE+zTtKydwTOenT5ZTaSre9a53pV0LnxYZTvesz6c//el5HSIjxwJDOHxjuTYXGh5fVpUGAgytqss5H50ZCoY8eHEshEl7uHo4M+fLoNskbcGQt1W8GyZ8G7CiDqHH3uZxflIGanyKtK9PBBdg4GHtrRwXaUyxbILJRSTR0DBwIFDiRJNtX5lXMER3ADJdtl2Kok5HQARXLS5PE4ioK6NuP1cwojIeUh9BoDbW8cMSMTrtc6+xfLoPvHi4L/QDBw8xepJMAkPF80xIotzU4cXD8iQWPgbShrwsBBgqajm+V2kgwFCVVmLfVDXQFQx5u0XSTBtzN+vCRhttlJM/qyxAdR1oA4aAG9l58YJwi2zcDgSvQuJEbi3Zh7XJG3iRQF1Xd9N+AAsnZ2xStcn7xje+8SD3UGq7SZCbsK/MKxiyDtkNb3jDHBD17Xs6jyXE2BK9NZZwdQELJv2hPDFj3TqCXMLGN/B26qmn5vdbAuvAkvsC+dp9yH3quDppC4aK57OasZ4hX/tkNUrPAO0oBzYUzy1/DzBU1kj8LmsgwFBZI/F76hroCoa8dSJqps3aSkKDmd3xkEwEbaUNGMK1EAqM3MoiYEt1FMGQcGhtwqtADB0qJgyWh7FJ1QGGspwrNMRNNutgCAdJpBay9FAytrEu3xFOnPHNNVYGQyYO94Xs7ADRla50pSXh+8X7oQ8YUod63YvcZZaaSc8Aub+Si7pYT933AEN1mon9SQMBhpIm4nPZNNAEhrifECm5qWwy5Xoopo1bqcgZ6tLwSWCIpede97pXtskmm+SkzrJZHj/C+bJSA0yO41JI7rIu7ag7FhgSiTamWFfswx/+cJ5FWg6kIRKWoQ8OUV/ufuIC4h5L64ENKvDyk4Ehy7DguI0hABELEZ6YfFmW7xA0ID2F9fqSpONEGqb199J/xc8+YMj5Rc6QhKLpGYCQLRAjPSOaUhMEGCpejfhepYEAQ1VaiX1T1QDzt4RvxdW5EykZuAAIAI+0cSuUZUwwhAuS6sXb4VIqR9WoHyi7xS1ukb8p+5/pvhxNVm5n198e8hLg4X2MOVly/cm6jRA7RERl4aPgcpiAu8o8usksfOvaI7oPXS5DpOFuu+3WVW0Tj9cmHDf3UB/O2qTCWT2F1QsMwBcyhqpC4QUl7Lrrrvlx7iVbkQ81BhgqtlP4v+dHekZwDaZ6fRaJ6dYFdD9NI+N7sU3xfb41EGBovq/f3LYeeZR1Rfi6TVivB68NgTK5peo62AcM4UAgZQrvRg7Fe1A3a4d6hUx7aHvbLIMh58rbAyhZxoPrzkO3nFm6rr1d9svQ600WYbVP1FVVXcKrtVukEN7FEGEZ23bbbRtDtqvqkGuKuwPZ/cc//nHVIbX7+kaT4ZQBrcZYn7B619gK9VIhDBFrgCECA0RjifQJxiqdTuLs9K2PO9r9ga/DbYzrpK6yhREYYjVlTU33sX66v1iSTDTKsY+1p60ULUOTzmHVTfWmezk9W3C9ZIIPCQ1M0kCAoUnaif9G1QBLB+KjjYnbkhH4BrauE3QfMCSXCTCkfuAGJ0LdQBHBgZBQkSsA96Iou+yyS7bVVlvlEUAmx9vf/vZ5ErniMWN+l3vmzne+cya8mJtrLLEUCcvTEJL2EDCkH0AQXaaFPNv2rS8YAkC4cfrKUDDkIQsk0D3r0lhy/vnn5+CiTaqIIXW6F9wTODpeCAAiLwJFcV/hFgElSYAf9xfCfbrvLQhrweK20hYMlcvDk0vPFvwilkxtqMqkXT43fq9NDQQYWpvXfUV67WF6tatdLV/4FOFS9JSIEFuTJajc4L5gSCZcD0fRMkii6k6EU0AIQPv85z+/sC/VCwwxxXMR3O52t8stDF3bnMpq88kNADxKFFjM+9Lm3EnHAHxyD+GA9JUAQ900xwppYrY8CsvjWIJ7BIC4ptMU94d7AgjCI2IhKoMhAQRcVjh3Sexzf7GIuedsyNDLAYa0OT1bvLik+946gu6tkNBAWQMBhsoaid+jagCxEZCwsQbhxNhkIWZu7yt9wRDuh/o91MtgxpujMGEkzSTedHE8vB3LMcQVwNVTPjcdP/Yni1nKtzJW2cCQlcT7isgqVhpWgi6Lbqb65skyJHoQaMd/6Qs6pIbAL2PlG0OkdUCyF1VZtMSMUXZdGaLGACJJJ4EeHCKu7qJwpbG+liVloHbfsdAtBxgqtmHHHXfMJI1Uv2uQnkc+9SMkNEADAYZiHIyqAcRFZM60sabgNNi8GSfxIF0OMGQSS20R7eKBXSXM8YjbrDC4F5IUOi/tA4S4W+RTQSAeI5S+qh1V+zzExyRVA3vKk0BRaoI+YoHRzTfffFFkUdty5gkM0RPQ11dEGsqLhdxcjk7sU6YyAHqk4DGjGJvaAnSlerm/8PoAiXRvuX9OP/30fJ+FWOv4S4CllBjOo5cm3lhfN1mxP8BQ4gxZaBiYS88kxOrUB5/FF6FiGfF99WsgwNDqv8ZT7yFLgTdoG6uDPDlpqyOdThsM4QRpD8JmaovJuw4McX9xZXBN4Yh44CNSS+7ICsUiZL+HpbY7Xvlca8shImduetOb5q69MeqznMKNbnSjzLXrI84TXYSYbOXxLjIvYEgoOcAI0PeVT3/607nrdawEi7J/b7zxxssGhIx349x986hHPSoHL4lUbeFdbq+99947v8+Qqq01ZvHVujEBDEkB4J5EdJa5XflAT5WMDYbKdbB2peeDTy862oPPFu60srZW9+8AQ6v7+k6td4iIIllsctjIymxru1TBi170ohxg9CU0VrnJcDNSmxA1tQeoScKEPwkMARt4TQif3rxlg5bkTTg911gSExvOkfJNlE1vt+m8IZ8iciR5/PrXv97bmlOs3xILovlYzvpah5S3xx575GHLxbKbvs8LGEIa5qLsK4jvLKV3uctdBhHWU/0AqPvrTne60+DItlRm3ScgYJyLQDTO8YSKwm0sSgvwOemkk3JgjL8kz1ETGEpuMpOPe035rETuXS8XxZQSQ8CQcpS51157tXZRAr/as+eee+ZBHel5csEFFxS7H99XoQYCDK3CizrtLuHLABbI0Dbf8RhsiYzc1AZuJqZr5/bh31SBIW90qU1Im9pTdGc1gSFrIDnf2yKXgIf6LW95y9x6Umyj76m/XALemKctblScJlFYLBZDRXny57B8VeVxalt+gKF6TXGNSVqIyDuGlYFrB6F+rPLqW57ldXAvSSFhrBcBivPc56xU69aty3l27kfuJ5y7tmBIOcpVPv6Te08i0+LyOkPAEF6gMuXG6vJc0h4vCSxw6XkCFIasbg0EGFrd13fU3n3oQx/KM0NLruaN16KQti5p8YsNku+HhaUINIr/T/peBkPcNXz+qU0In0lYn0S5CKGvesMzydzsZjfL3UaAgXOV5UHPdWbyqRNlszZZy6w8YdSd03e/dniwiyIaI9Ow9iJAc12UUwm0bWMfMASgmmyEmjct8FlsR5/QermjuHMAya4yxDKEU8MqWecu6toWllR9Gau8SfUDI+4XyUhxbOqES8w9YnMd3VvcXtYSc19/9KMfXXIqnhNrqjxaRcExcu8C+gItUtqFIWDotNNOy9vms6tIKIqrl54nuISy4ttYi0JWnwYCDK2+azq1HnnQWSneg2HSQ7JtA4aCIRwgoIWJHbmZ66dKTCDeVj28q0SYMNeDJG3eIL3hCse1bEjaV3Ve2sfC4gHPStTX7ZfKavOJ72OC17YxhLWh7yrnALIcLhJEdhWuCJN8W+kDhrhLAZMuwm1oPCFP9yXUPuQhD8n5c13qrToWYNUOxH3WzmmLOvD+APwmPhnww53MWmkMCTpI+wQr1I0JViCuwyrxYuSlRYZ697WoObwkVp6uMgQMlesS1SmYgvUYkA9ZfRoIMLT6runUesRqgjTrYdUnk2+5YX3BkLdFkWhyAsmXwyqDqFonVWAIv0h0G4uIBzlrSxLEaUAoRaCk/ZM+TQLSCJhEgKNpC0K1h7PlLYquwD71IpnjSvSdbE1cfVayn1UwhOtzgxvcIJ/cu+rTtXBN8GeKS0J0Lcfxso+zuBxxxBG5RbBPGV3O8bIAdAGCbcXLA/AkM7sgA0IHFo11j7q/BB4UZRIYSsfJUO6+5mYEQLSr61IoY4Ih/Ckvg0jWY5HhU1/jczY0EGBoNq7D3LRCxIiHU5FQ3LfxXcCQN2QgA8HSG6M3Txmk23ABymBIskUPaCG+EsFtueWW+QNdHhl1mNjxj/qIhyUrkXayEvVxAbatF6maO2MMUjUXjBwyfSTA0AateUkADNoGEmw4c/E3Vhk5cVgsZSOfluDHGKs2UZKCBvqI8QMAih6VWHKfffbJNt100/yFRU4x91XK09QGDKU2ePHhhhP56EVDO+siVNM56XNMMPSOd7wjT7ba5nmT6o/P+dJAgKH5ul4r3tqVAkN4DB6uV7/61XOy5Zvf/ObeYMjbKnKoZHg77bRTbur3oPagtQYVYmjfTMFAG3eZdnK1DYnUarrYHsy4MFtvvXVO+m46ftL/AYY2aGeIZWgsMMQVLb8RsDJNQM0aZKzaWKH6WhndP9zLIh4JfhvLDm4QHpDs1WnJna5giJtMO1nItBNvp40EGGqjpTgmaSDAUNJEfLbSwJhgiBuAK8Gq2JNcS8iUSJWivLhyuKTKBOpJjS9ahpCl8Yw8KE0yIsw8xOUlkpXZytZF8vWkcuv+YxHSThyK+9znPr0J5nXlF/cz2ZtohkSEKU9SPQCTnlnOuog3dS5F+gMw28osuslYIrhmhIt3XROOhQ6A4SazMO4QYV1MwGJIOZPOZb1iyTRWbUN5gO5LLxra7R5AzLc4bspejUfFmtkHDOEMIV9rJ/e2Z8akpJOu30EHHZQfjww9VMIyNFSDs39+gKHZv0Yz1UIAxmKTMjL3WYqh3BnuNm43IKss3o5ZWbhhPGSLb8h9wJCHIz5EkcMADHE1mcRS0sVyO/r+ZiV4/etfn7vgxgiHr2oH7tMb3/jGPNIIkBsioofkjukKAtRpvTLk+i4T6iyCIaD4Ote5Ti/X1Kc+9ansWte61mASPRctgjyi/LQE708dYy0RktrJgsOSI6Gi+wkYIu5d/XIvA0t1BOpUTvqsiiYrPoM8H6r0BJyz/o4h7ouqZ9AYZUcZs6OBAEOzcy3mpiUebEJncX6GShkMsXR4UNuQtSV7q6qnLRjyhooHYWFYROkUcQZEICFLACcjLp7HM5/5zN7usUl6kPIfAbRvZNKkstN/osEAPeHAfQUgTeHudcsp1JXdBwyJRBJN1hYodokm467UprrJsq4ffcGQcGtWR66cLoCw2A6uWRYNxPji0jXFY4Z+51qlR2t1ecEYWywXIgKMtRLgkbQy3XPqkr0aD0qCU31ssiRWgSHlyNskdYHnAxev54V0EymwY0wwJMeQ4IiQ1a2BAEOr+/pOpXfAkBwsCI3e0oZIAkPe7rjKWFJkfLZxb9VJGzB08cUX5yHjskgDPMXwXPwF+z2QcRuK0WR1dQ7ZL2JLdM00SdWS/Hloq8ON3Udkh7ayN6DYFFpdLF80n4UvhR13cUsIy0e2bSNdwJBrf/3rXz8T+t9W9Nd40H8un7ZCZ8LfhyTfxA1yL8gKXpWfp21bJh2nDuuHcd3KGj8tSdFkADqLCn0WBWgRrceCxKU4yS1bB4aK5XG1e15IkMql7jkiOnIMyxDyugSsxUz2xbrj++rRQICh1XMtl7UnHqzIkfg3QySBIVFd17jGNfI3a5OpbdKE3gYMsQoAPMz13hiL5SUwpN4rX/nKUwdDCKbcBNMkVZuETDTCmlm++og3bqRvSxiw3LQVFgccDm62oiWg6fxZAkN4OtbZ0v8uGaOBaeHlk5JzNumBdUyEpHE5rYgllsktttgifymYVh36mcCQe89WBkMsYCl7tQzPkyI324Ah5XleXHbZZTkH0HNEvWOAIdwkHKcUCdd0HeP/+dVAgKH5vXYr3nKWDuG4QySBIWZtE8IkUmSxniYwxMVmcsNtAg7KUTIJDAnblXTxzDPPLBY/le/cJ0jV973vfXMC6Nh8DY1G3GUNwYFCEu8rzmft6CI/+tGP8sm2i2VjlsAQVybydFdBHAeG+gpr1GGHHZa7UYcAqrr6uWlN6ng83KheZKYpgCQyuezk7q8yGFI3viHLkPuY5UUG+SppA4aK53meeI4I8x8DDN35znfO8wsV64jvq1MDAYZW53Vdll4NAUNIiR5YJhHuHZ/Il22lDgzhuuBD4AlZJkQW3DIYwo0BktTLkiGabLkER4J7Ud0IrNPgbbAKeZvFpehLqnZ9AJVjjz22tWq8mUtMhyeCTNxGZgUM6ae2AKttBahI2aEt29BHEll6aF6iqrq9AHDPAkPG29AkkFV1TNonmkwCU/eie7LIQwOG8Pi47QQ04LtV3YddwZD2cLnLOq5ezxibZWz6SIChPlqbz3MCDM3ndZuJVssSC8QUo7MmNYyrylswV47zZI82cXqTRKo0kbaVKjCEK8PChFSJyEnKYIi1hHsPn8RyFgjUbdvftm1tj0P6RJbFhemb12hSXbghJoS+4trghnWVBzzgAa2zGM8KGNLPrrwQHCPJAKuimdrq7MADD8yJ+22Pb3scKySg5YVlmsT9Se1xLxpD+DusQICZe5QUwZDfOGesubhqRVJ1HzCExO4ely7CM8bmPvDcQZBvI9rgWaVNk7LbtykrjpkPDQQYmo/rNLOtlJvG0hVNgiQpxwgis0VRPfSKMhQMefgLMcf5SHyItA//BdjgxsHvYLrHKdhuu+3y6B2uuaFE8GJfunxH+ESa9YY8tvuC64XlovhG3qVtUigglptUPCjaykqDIZwfkyj3TNuJrCsYcq0AawkA+4BpQQj0ivDOnTummMhZuGRoT+BjzPKbyvJyg3jsvuL+knLBPWcDStyXrLYIz3SX8nq5B9K+RKoeAoaK7WQp8tzhuuMSF204SQRbAHDqD1kbGggwtDau89R62RYMyW4rp48HH3dK2RIyFAwhSwsLL2Z8Zh4v7mMpsWCrh/L222+f59ORY2jjjTfO3ySnpqQJBdODSQB5tq+rpa54EzYLnMR6fQRpFK+JrrpElq00GELglirBZJyAcVP/u4Ih7sdtt902X8G8bR3FNpjsLQfDOjg2OVdEJl4aUjHQtdzCPSezu/sKH09C0ASGNtpoozzdgYkHaHNcIlCnfULy0yLEY4Eh4Mdzhyt+k002WRRZWqWfAENVWlnd+wIMre7rO/XeNYEhJmuWD8BkEqF3CBhKZOlyFmsJ3/AWkgBj6aF861vfOp+EPPRktpYjRjttyNXLKUizgBBLzti8DpYBFjO5X0wGXYWFQRh0l0SMUiLgQwmrbpJi9uomwNU2tB6B23pz559/flP1edSdrNtctCw1bQXgsnRLl3NS2Ui+iNryILGSjCn4QbhiLC/LLfrj/tltt91yEO2+4q7G10n3nU+uaQJEsl5xeSdJ5GvrD7IqjQWGUvkAonZxnWlrXcRkgKGksbXzGWBo7VzrqfSUVYPpG/dFvhWCD+C3zX8eOE3h1n3A0Oabb56/ZcpnUvXwT2CImwhh2nFpRXqWKoM/iTW+tNNmMtH2sisvHTutT1YYIELd+BVNpvy27WAhUR4Sq+9dxGT2qle9Kj+3S8Qdt8QDH/jAVlVJNHi9612v0Z03DTAk+o6FpwtxmlUIFwZJPblzWnU0y/KQcuey3vRNf1CuS6LSdL8BQyb75RKABjlb/cau+weIKYJnOZuMIdZPHCkcIkEEVWAotZv7DKka/4+7CjhpK4kzNOl4gQvaqo6kO250AoCxqPp/pdznk9oe/01HAwGGpqPXNVWqMNorXOEKOdhAOgSAWCJsbd+cu4Ah9SFIynLr4Xr22WdX6hsYElIs6603QRYSIeMsMJMEqVfbgQdWhiJomnTeGP9xm6ibe4/7QPLAMYQFQpkidmRL7iImNhMM6xnQ2EZWKxgSmm4CBay7CiKzc4XwjyUpUWm637pEZA5tg3FhvBob6vdd3itVAAAgAElEQVSCUSfcwdyC7lu6Y811Lqtj0TJUPB/fS9Z4y/V4pgB9baQNGErlALZJd6yDnl9I5/KBLed9n9oTnyungQBDK6f7VVMzcML87Q0bKdlE2FVwNky2TW4Db2/yknCDMLFP4msAQ/gB1sDyMOYmY01iJWoj8vUw+QMALCRjvcm3qZv7yANZpFIxuqbNuZOOGUKq5tppO5FbV05eG2C4aVJZKcsQfpmxa1w0WS6TTvfff//ccph+t/nE23E9ZagekyzNasHiwnqynAKgux9cNwlNfW8S96lABvcjNxlLriU5BDLUgSFlstKkZwtrWtPz4bzzzsue+MQn9n4GeX5JTBlgqOmKrr7/Awytvmu67D1KliG8FwTpPu4dE5OHJAAzSSzy6KHIytMGDJkoEqnapGcyapvYDoDSNw9HD/Euof+T+tDmPxMojg8AUpV/pU0ZVccMIVV3AUNIwXLnWCahaQJbKTAkF5LQ+O985zsTQXVRj33AEBBtrArtHpMsDVxx8YwdhVjsb9V31h33g+AD93tbkrb70P3oPjfxSLWBu9cEhrjJWOTU60WoTvCNdt111wyPse8zSH88XwIM1Wl59e4PMLR6r+3Ue4YrAJx4wDE3c0UJFe8rFkTkyqkSJnIRMnz9uEkeoJPAEFAll1CZQI2r0EU8wGW01T88Av1V5piT2qT24ErgmOCCjCX6IWtyV8EPY/XDDWkjLGuuQZOrb6XAkFQPLIWsCU1ikuROAcLbumtSmSx7N7nJTUZbIR74YXUzlutcxKnusT4FFRj7NlY/98OkgIi6et07ZQK1cHpW4SopEqi5BPF4PCeqBBiSdZpbvK/om8hU7jJWYf01PkNWvwYCDK3+azxqD7mpcGls+A8sLbgtHkRWsh/yIKoDQx6ISM3qSjlz6sBQIktvvfXWOYFXkjXuBABAzh2RPH3FBKAN+AtJB2OHw1e1DRgDhsYiVZ988sl5ebgbXa0KEhPut99+Vc1csq8tGDKh6xv3JStNnbQhUOOZaCPQ0hQ91wUMiXSTrVxm7i7ChfTMZz4zHzNdCOh1dQBiqbxJuqo7v+t+QQTGOkBu7Nva8saq6nI/IlCzvrAoyfyNL3i7290uB3flc4pgyH8AuXFLBylgI50zBhhKzyDWTC97+gv80wGg1NYKltoUn/OjgQBD83OtVrSllrDwYGSCPuigg/INOEjiQQRwmNS4lvpIehClc7kx1IkXYaI0WJNUgSH8FGDMG/x1rnOd/IFrnwea1P9jkUs9hL2Z0wMOjei5aYu2S9DHMkYn5TQCXeu3ujw3i3wuXSJmhP4Le7bqeZN1zDjAUTLhJRBb1046FW0E8NRJGzBkopXnqEmQyLkfkWWLkU9V59EPPdGXybmtACusN65bk3WsqUzh6a47EEGnTfpsKq/pf/casAgEGOdtrYFN5fpfFB5ujuhJLkR6xR9y/6d9qZwyGLIfINQmGa7pJD1vhoIhvDHPsPIL3Tve8Y68Pm46FiN1LpdFLukhPqevgQBD09fx3NfAGsS07YHVZBXoEslRVkwCQyZZDzzEZ3WyCpWlCgxZekPECq6P7MMmDvtSjpOxwFCxLaxN+uzhaGvLRyqW0fa7rL64DHTCOtUFxFTVIQ+P7OEmoC4kbflkkOWFpTeJOpDdmxZvXW4wxNImG3EbEeYtpxASdFtxbYwNoHmIsES47tzHrrsM6tMU4MQ4Bha5iVj3xhZgyD2Z1iYDhkSXAej2FdNkVIEh7aGXfffdN9eJxI6eUUPBUFNEK3Arg77rwErUxIUbW29R3nQ1EGBouvqd+9INEEsOeAuTU0XSskkyBhg644wzsmtd61oZd446qwDGrIAhRE0hxZtuumm+TQNwJX2bAHBX6ISlrMiHSsd0+UzlifKpWzW8qrwAQ1VaWbzPMiasDIm8v/jf9r+4+rifuaJd96HlNdUsSMBYBmBZg71YjC1jgCFt8iyiEy5RCRSnDYY8C9Vnw0lM3Kex9RPlrYwGAgytjN5nvlZuEG+GlrAQBSNxWhsZAoZwKqyHhYiN+2Hir5MyGOLy4L7xdumhyDLkLQ45U8SQt3sPsWkIK4AlB2xcGPTWJw9Nl7Z5e2f5YiloAqhN5XoTly36RS96UdOh+f8sQgCRdeCa3EasfHhVxkVadqGqkuW0DHH52IoWiKo22Wfss8oA5m0ilIAX18SE35VoXW4D8jzrlfQKQ91s5bKLv10j1hnjFoAzjiVunBbwYi00duUmsyo8fh/LkPuda9z9z0VH6ixDxfYbO3IWab9Pv/tIk2WoWKZnlRcIddqWg79VrD++j6+BAEPj63RuS2QpYP5FTjRZ4OqI3uhiDgY68Db6hIObYIVvtwlrLYIhE4860wPUBQCGknvsNre5TWa9pOUQnAJ6Qy6nR9u0FsvEG+IuYyUCjoZIIlUrr80kaOIyoSErmzybBI/HNaqT5QRDXL1tlgoB3iTglCKgjSBLuxZ0OJQsjTRPt6Ksurgw27QzHSNcPY1R4N24LfIA03HT+MSzS/enT2CIeAaxtIpa9DxoA4achzekHG5JL0RdxNhz3bg12wDkVLZlZ+jMhmBOl23HSiojPmdHAwGGZudarFhLTKSIsYiB3uBldUYa7CtcakJcu4g3Qm+l3s7agiHZa4EPXKNy0rwEhliF5GKZlJyxSzvbHmuioUcbsDZ0cqyrl8WAuwwwGUqqFiklYqqJUFxsC8tFm7D/eQRDEoGa5NqKMcy9OxT8IkvTKUA9LQFGTP7Gp4V826zjNmZbAMeHPOQheRb5IhhKdXiGeB5oY5vlOBIYkn6jaxCHCFNZrrkF+wrgSpcAkWeprWmtvb51xXnT0UCAoenodW5KZfVhDZIH5WY3u9ko5t4uYCiRpU2qXBJvf/vbW4MhK9Bbnbz4NscCZDICqDxkh/JqxriQottEtHGbyGnj7Xds4Zrxdj+kDlY9iSm5Z9qG3HOvmLSbyNyOYxmqOw6os1q5MVBnCWmKJlO2OtRVJR52yMgmf+7YOknHsTIIr24jiMesAvg9yLxdBS/OtbOJPmNdGlu4+VIdoujagNix21AsL61N5j6Vq6zs3jIW5KlqC4a43eQ+AkxkoW4L8MYAQ6lfXig8S23G67Rc86m++BxPAwGGxtPlXJaEBIgM6GFuMyCGShcwJG9IIksDRl3AkOy1rBjFNsuBIpGeqJRZAUM4PU972tPyt2DRW23cUF2vgTq8SVuvDRB0LbsKsqzkeqxpbd0l+sLl1BTl5DiuV3yQKklkbtaYOiDQBIaUrY46/eI6WT7CW/sk/o83eq7VpuOK/fBCgYhu8usDdrkpXTsb91xV0ECxvj7fkftTHVxR06ijS7uKYMiyHLg3RfE8MA67giFAPpGqi+XVfR8TDHkZS89SCRvf9ra31VUb+2dMAwGGZuyCLHdzhNCyWjQtg9GlXd7w5MNBvq5btwgXwv/eCLkXElm6DRjCR9p+++0rM1CLRLvyla+c53cRejsLliG6s1o8UrgwdlYwfUeMHVO4O9WhXBNznwSTQIKJmeWAC7KNAENNKReUA6i4JpNEu+uI3E1gSNnqqBNW0G222SbnotQdYz+AzQXbdiV71ig66LKyerF+Y4I1yLWzjU2WZjE03twLqY46C12xXdP+nsAQN7bw+J122mlJlThDLD7+K3ICywdykyXLkP+KzyB9r8uML+VD+RlULrvrb5ZpC0LLTdXHSti1vjh+HA0EGBpHj3NdireoqgfRkE4xV7PMVKXsl4jOBMK3LyGf6K8kbcAQsqWyy8txeCB64PP/s1Sooym/Tap3uT6txyQKRd+Rc9sCji7t82YKbHIXiArqIyZo7ZsUAZbKFS3G5WLSnRTZNg9gCGhlYdMX3ycJC4TrqO8Iz32EK4ie8fXGFlYKbj5uTO1U1ywJC5o8YMjSuD6SbsopVoxcBYbc6zbPhjopgyHHAXz6bTP2qsAtyw3XZh9rXl1b0gsZ7lfI/GggwND8XKuptRRXRHZV/u4+7pWqhlWBIVwQVgskbdagKhGZxCphMgYcysJsbrLibiqDoWKCRQ9P3JEhpMhy3WP/9uZoHSRcE1uXqL02bTEJ2vo+lAE1C2MClFwWk0TkD6vLpD64pk9+8pNzLkWdm2paliETI2slHpAJtk4sFyF7OW7RJGG9EcYtlUKfDORckiwdrr92jSlAnPEEYLkHlmPJmD7t9xLkOWDB1wR4qpIusviw7ojaqrJ2ssTIGo2QXUde97+IMZaxoowNhiTmBNoOOOCARjBdbEd8X3kNBBha+WswEy2oyv46pGG4J8jNgBYXmPwrIr4QC4WkThLuBjyB4qTlLdfSGqKSTB7F0HplcW1IGIdw6eHp4WpSE2nmAZm25I6bVP9y/iefEz3ZAArtnAQouraNC9SEzVzf5+3X9ROZh6Q+iVTt2rIumqwmHXfiiSdm17ve9WqJ1NMCQwDdFltsMdFt4UUAT0gkZJnMW9S744aSpVkP7na3u9W6b4r1tfnu2rrGxo9rbjzhRyFMz5LgbaV7kQsdyNl4443z+xVvyDIdAFJaV84zIHGGvARxp5WvjSWCvBw1CXB4v/vdL9cJcO+ZIQpTvqw+90ZVfcUs+FX/x77Z1UCAodm9NsvasrHBkIHFEiR7NbImd9guu+ySW3v8N0mqwBAAhRjN7eNBVgZDeAcsSkLacYaAIZOCN79rXvOaC9usERqBPHqy4RJpqyR/YwmSLPcIUrU6ukoiVZtcJ+UTchz+maUK6qx+6p5lMCTCDO8I2Jk0OXJzmkCbjqvTNU4WTpLgAdd/DEEal5bC+EHWd621r+leG6PuLmUI2Ej3o5cVpG6cHfcrEAqgiGhM1rIiGAKypalATC5KWzDkueH5IGADuGeVO/LIIxf4isUy+34PMNRXcyt/XoChlb8GM9ECUTCsAB5MXAVjiQecLNDASttkaGUwpD3apX0pVLUMhjxk8YWSvx7J2psy/oHJOW1M5fgJgJMJfJaEa1E7tV0bbcW0AX3byqXDPWkCVybrRxfhMjJxNY0Lri/cGS5XLqQqmVUwhLSNu9KGBI1PxMLQVXCL6B9ZGqgfI5rLdVUmi6nravw0cZ26tnvo8bIza6MNkEz3IpcVCxAQLRSeZRGp2gr2Kc9ZEQxph3B5PDb6T4lG24Ih56tPvdIrsCJ7DowlrEyy4HObFnmQY5Uf5UxXAwGGpqvfuSq9/CAa0nimbGbtrbbaKo80appIi3UVwZCFIpEfvXEV39aLYAgBHFnahiOBQF3Hk/EgFrotmZv2pY3bY1bE5KCNNlFKLAlDhZUAqVqZCLt1YKWqHq5FAE1bPve5z1UdsmifiRlXqUq4RoAJRNmqJJEmd8CEJbEsddFkJjhlAhtV/Bg8M21H3K9zkwrpRzhvEhYL+usCKIEeVko6of+xyNLK0RZlsmpVceya+jON/00qUg2ke4tetdFW5yJ3D1uWwzkve9nL8nvevV8GQ9p74YUX5mUpFyewCxhK/TW+gC+8Q+NiDPCSXshSHfE5XxoIMDRf12uqrTUYWHAQFdu8Idc1BieAO+rBD35wvonmqCI+1p2fwJCHp4cjLlBZimBIsj7m8yKBug4MpXJYjQ466KCFNuq3iTht6a0zHb9Sn4CBSV67AMoxrFmAEGI0Am8XN41JCuBs0i2g6bi6RWsBZSC5LtxZn1mxylIHhpCj8ZBYnaoECAHQqoTrBJ+IPiZF9tETfTmuS1QW/pdy8bbq9FHVrrp9ODdpjHLzIOHPgojmSu1KqQLS/d8mizcwxFWWCNSsZ/h+VWBIf4GXZzzjGfmzSkBGG85QUU9cvqzE2sg6pO193MipTC8JnlX6ETKfGggwNJ/Xbaqt9pBAVCyGuLatkM/fm1ZxMuM28cBqKxInIlojVFYBIeUAQ9xvQIuJjukcGJKV2pISXcGcsFvJBtMmJBlhO2110U9t+zTkOFYP7UK4RUzXpuQu7FuuiR0xGm+li7uGXrgYgEkPjzrhcnrgAx9Y+Te3nQU6WTZYrMoyJhhSFzBUl28KuNh2220rw65Tu+iHnuiri4XTNRKhye0j8/gQ0U7XHck+jVHk+5USFrZ0b/jEvUntksm+6/IzLG4sQwkMpWcQ61AiUFf1FZBBwN5nn32q/q7dBzyxKJH0vHFtE3G79sTSH0CyCLL0DCr9HT/nSAMBhuboYi1XU+WK4f/m4+8qfObyABUn665giLtOFmD5PyaBIQ/Ja1/72nmWWmAFGJKMkaVAGV2EhUCdadMPZaetLd+pS51tj0Uc1S4AD9DTJoBziHiIm+CBzjaur1SXtgAx3AvaVCeTwBB3p7fw/fffP3cflcsYEwwBbtpSN8m1AUP0Q0/4aF0sadySXgq4ryYBx3L/q36b9F13k24ao8bsSgnLb7o3fAonT+3q01/3r4jEBIbSM2jTTTdtBEOsbsXnTRudFMFQet7c8573zJ8hbc5PxwBSW2655cIzKO2Pz/nTQICh+btmy9JiIMTbe1thtgaCrHKP81IUv+33fxvfvHBgq9d7EE4CQyKcWDjSgxAY2mGHHUZxJXmz9XBOG8sC0iYX4koJIIL/ok34Etpz6KGHTkx0OKmtLB4mehNtFx4L1w+Lh8irujxOLHZcBpbIqHM/7LnnnpXZpscEQ6xTwFCVaLs+6EtdOgN6YdWkpy4WNK5NPKWqpKNVbanahzzvGttwtlx37qiVEkDQWNEelpt0b/jsY0Uu96Mc0cr6CPQ3WYYQofF12ohxqf0syeW1y9TP9Ybk3Va8UABwfXJNta0jjlseDQQYWh49z10trBA4Ivz9TQ86HBCEWMfXRT9JesbS0wSGTFAmeq4hD7lJYKiYdPGkk07KTK5jgaHyBWPG1yZcGH1N26mnnlo+dFl+m5y1Bz9HW4bkkzHhI+IqB9irW9ur2DFuEpYPQENbqoSLwzXkqqqSlQZDgLR0DXUuLNyqLmRpE20aF1xzfbN/0xUiODDlGtvKLxhV+pzGPoEFqU8+3ePaIxBhbAFGBD8Igkigr44zlOoGzhChtUv7yjmI0nHpE3dRHrJUftqfPkWsuseBsGLARvq/+AnopmdV0zOyeF58n00NBBiazesyE61qehB5sHirZjLn8kCcrpM2YAgAMxkjM3sQsUxVgSGAi5WpCIa8GSJgTgsMpX4JHdfXtAEjdJA2nKnlFC5BriBWGG3o684z8euTDM0IwnUAptw3uZFYQarE+LEsirK1syx0xwpUJmSPYRlKxGgZr6usXiLZuIJZ/OqumQizNuRf/WJJROJP46Lcp3Lfq34jx5uMXUc6BcSWWwC6NJZ9uhdTnwQcsNZMS4xd97CtGFoPILEs4+aUBRjCV/IyoJ2eRThMddIEhpyHXC3XF1I1HdQ914pBHHX1xf750UCAofm5VsveUiZgrih5OcprTnkTAkBwWIpk6bpGiqjBQfKgquJdCJdF2mZ+T1IHhgAhD8wyGLrGNa6Ru9e68oVSfX0+WQDoIG0sVB7aNm+pTZawPnVWncMdpQ34E6n+PqRvrgMJGlkEkvuxqr60T310UOdmAoLwM4SiV5GlTfhl8quw7Ic+9KFLSNpV0WRcVyY4dRStFcAcqxTrVFm0VZu1vUoAcXoAMoXENwneEWAH+PURenbN8E+Q5F1H1pflEGMkjRefQEcayz6r1vOaVru85EhGKQiiCIYSQKpamyyBIW1yr8lgDuRW8dnwxowRRO+6EP/UN9fCs48OuCjLgFn5XtS8DJhEQ+ZfAwGG5v8aTq0HQIWJQxZpbqIkJgtZYD0MPCSqJrl0bPr00JUvh1uiypUGKHmIFUFXVzBkAm3TltSmMT65lOggbbhOEhTaRB+1cTmN0Q4Tqja4Tqn+PvmJXFsEWFwboKRJuMu4c1iUqiSVx8pioi1LFRjCjQLGbn3rWy+yKFWBIZPbLW5xixxIFEH2JDCkrdpcl3NI/0WAAfDa0iSsS1w0bcBjVVnGvWtmkgbsXMflGje4Lmm8+BSun8ayz+UkaXveAM+uex8wRLfufy9LsnCXRRqCXXfdNQNem16Y/J/08IQnPCFfU69YHm4RLtlyP2+KbYjv42ogwNC4+lx1pRkgLAXprUx2WxN+FQGxqfNVJmpmeeV5UJVN8FVgiPWIK81DO1mGuEKER9eFTze1a8z/uYa4OmzcM95Ud99993yTb2naYjJJ9XtrVjc+RVfBh8AHYkFpEteQi4hlpG5yEAWFi1GWKjDkGGHjQq2LXIwqMCRXkZxFZa7IJDC033775WCo3Ba/cUkAQS6SJlchMAVYATNdsz4D/SxTrg/eiWvGPdMGfFW1u+0+LyVcQGlM4uek8eKzKhFm27LHOA4IAUStq4a3437iJuMGBnDKUZRFy1Cqn1UH8C6Tqtu46lMZxU98LSkl5D1KViCAi+5CVo8GAgytnms5lZ4wPfONywKNP5FInVUckKYGlMEQsrTyuBi4ycpiTTP1MtX737G4FMop+uslXWRKnwUwVOwDU7qHsv7ZgAE6tE3iNRTLGPKdZUO9AI12dImGUi8CsHO5ipomaWAA6DKxV+WYkYgP8ClaGNWBKKwOQLEY/j4EDKlfO7SnCFJYWwBp9eF+lUV/AUAWsSYrDwDoOqqjK4DAb0nnuj4iBKctiP5p7GlzGpNeamZJEhhyP5eTLkqO6R4CjDyXAHC/q3I/4R96VuhzAsp9wRD9oAyk8pSp3rqkobOkz2hLew0EGGqvqzV9pLdJDyiLQfYVRETuElYmYADZUYQZV0qdeCDKRsu1JoQ1EYTnAQyV+2Ti138bFyOQZxOa3GS2L5fV5bfMxywYLFXqKwKEpnK4UXBnACvnVgGdVAa3AkDKUlIFEABboexlwbOSQboIiIeAIZOm3C/l0Gku32222SZPXFhug36a4AClSWL80YOJWFqDOq5UVRmsHM41mdNpnxeKqnKr9rkW6kob8GPccSWX9VJ1/krtmwSGtEmiRM8gzwzPDs+QOmHd9MzyWQzO6MvjS88gZbqGIatLAwGGVtf1nEpvTFLMwlZ7HgKGUuOQXT2cTSjCq5vA0IEHHpi7EBAaE98IGJKBGsBCYpSFdtYsQ6m/VZ/6hCxq22WXXTKLWVoQ1WYiG1uEj3Mrqg85Vz3emCfpPrXBcVwXzvV2jHMxSRKpunyc9bMsuGsyTu4G5SwHGGIV83Zv/HIHJdEO/QNOqjhN6Th6chxQSQ9tydLcUum60otzkd3HFhM8l2Kqi07VlbYmkDd2e/qWl8CQRI5c4vpRzDMkMpGLz8sUbtEkMIQkrf94ZXTeJQt+VfsTGOKWlVaiiqRddV7smw8NBBiaj+u0Yq00QJClvZFxl4wFhkR+sfrUJeRLHXbMRhttlJO4vUknCwowxFKEkC3ajf9+nsAQbg2wYOMuFLWiL7ahD+2ku+Kn6+jhrT5kX/XsuOOOjfpXRvFc7icWkUnCxcTdBDgUhZtKVJn0B0WLynKAIWPk5je/eWaCLJKC6SSRpSeRlo1TlghpB+iwyY2W+p2CBuibS6rLuamMNp/ajrCfxpAXBHWlrRiY0Ka8lTomgSFgg4Xxmte85iIwBFzKa6Wf7v9JYEhZ+n+Pe9wjf4YMva8SGAKmn/jEJy4hVa+UzqLecTQQYGgcPa66UvjDEZs9VBNZGsHZas/24Uz0FZYhDxNExyYBhpilTVgJCDkHGLLfxsWBLDlPYKjYbxOZyRr3wWYioPu0IfOOKdxk6sHjQRZWT9tV2K06z6LHkjIJEABDyi4LECR3C5cNtxFJ++SJqdqXXKNlAjUrgRwzJkeTJAFWyvu4+OzDzUnH5QdnWT5ZNq1Nxs2iL/TVRKpO5bJ80iuCb7quY7vFLGScxoj0FvqZ6kp6TO2Zl88EhkSTcSW7v4uWIf3w8pDu/UlgKPVZzicE/iFgCAAy5lPGe6Rqls6k/yq3cKo/PudDAwGG5uM6LWsrLQaJ7Mol4qFefIh7EInuQGLuKsz4SNBM9sqvygFTLhMYYsHAMyq6dIpgiPtBor6VXLiy3O4hv4FEuk8bXdGbZQLKk/mQev4/e3ceq99V1Y9fUAodKJROUCgtQkehUvjRFspQyhDmyQIFKSgOaBh/IA4QtV8ELPwMgjiAGoaAicioiRHUIJNo0BAJRkNEARMHiFETRCX+cX95nXzXdX929zlnn+G593nuZ6/k3PPcM+zpnLP3e6/1XmvTTunQ5SMPg2mN4A25R5mAo5IgKOPg0CbmWgnmpnzVesfudKc77QE8Id4XHmXxXHMw5Jkzs6YiTwNfKt63/Jjzyh6k/L7BTD1wnbTTEPiL/JjjXKsc2ghgW1OYh5TZFnnIBzH8KJhtfOO+de+jSVcJDHkvPFPvRg0YAqq8K7YgX099JsBZPiELUrX2B/4DtE9Nu12/HS3QwNB2PIetKAXegdmzGBpvectbimWiEeKarHMQpK1WXOse9/KmMVM3ax4TYOhhD3tYV66U+AgMWbsMIReXibbiqAptnHZjdqKdAFZtgOlawstLiIJIOzVjlfLAa2Iu0+59pGraCRwhICvVqIjjkxOtNwWGDFABGtJ6KLOyq0MfR8u9Bl33jwltm7ajYaNBQFpfQ2hKcF7iuTBXexdsCPlHVThNiLtk8dRcM8RkiRiOQ1gDhkym9GfaUbrasi8ERKk9mceAeos3GzBLIlgsTd2cSWIpvXbs4FuggaGDb/OtzFHAOrNO/KAxk4nZ25gnR1pJgx/7v9l5ABq8FaatVOuU3uO3c0iUwE4+KwOGIs4Q13qzMyRhZO/II09v1/8HKMVfYdax0Yipc2x9QQRr680EEGkzzUm3DyhEmgBatL0Zez5YeB7eFSAu16yka5N51synPN7iuqmaIfwQwCXlNDFvmbWnok7KnHOaXEPzFu2JJE3j0ie+A2V0PVK6tsOH8v8SUb4oA2L9Ax7wgP3ngnh/VEUfFPVWTxMhgDoHQ2Emo10EaPUvJYn0BHQNDd3nP//5jip54UoAACAASURBVFTNgzPXWJbScEw5gKgxoa0zyTvKfdBYG+zy+QaGdvnprVh2MxpmCoTPMVPMVDBkfSPeaGmnJaYM9TWtj/RKwmtEkDVxX8bAEG+ys846q5tJWuPpKIqP1YBPa2MTqFKdYwM4lwhicaQNREh3jIdlhm0QcK1nlIMnz9YxfCCB61JJwVBc99SnPrWbhbtuKhgCbpi00ll/CQwBkcqcXhflohmN9sQ/GiNVA3CuB+61nbrmgDDSrt3jtkQZaEcEgoznUipzbbrbfp0+KOrNaWIIDDHVC1LpGprsknzuc5/r0hM/KmJs0bRpy4c+9KEd/7F0X36sFgzp08Qyos06qn1Q3jZH6f8Gho7S05xZF2RpAwTyZY12geZFEDcgp2YAft7znlckL1Jx0xrkYIgZzUAp6KKZYm6vNxu8173udYxmCNii2WDucS++QWnjuXRUxAxUnWMzwKd1jjAEc+pr9i1dzzfSRCQuCe6Nay2hgRhdMt8Z0PFAUpOT9BzD5QgRsTv+nwqGmEyBIQI0MFd5V4LXVDoW+drTSpnZR3umpr30OloubcJURYvq+j5TYXpf329auGhje2thRRmYdoYAWV+a23oc7y2ta/pbHxT1fuQjH7kPhqwyb822CIng/QreIk0PExYNci7eL5yj0nsLxDI5jgnTMe3g2FpmkY6wEdEH0eo12Z0WaGBod57VqiUFQAwUTAgGJGanqQJEGbiGOhXnXFOK1toHhgRIoxoPj5gcDAE+OrnUTKYuxKwP6RvXo7SpqzqXNlqo1GNtansc9vVmymmdAQP1HDN7DpUbsTjSlF4pcnPcD0gjD7vObDyXEqna80gXagVIvC/MGrVgiLnDgAhoRfkAmXShVpwebaEuJeCC16QsYyRy5XOddGi65mpqaF8BA2WK9KKda7ws87bdlv9NXkrfVhzzbKOe+T7tg5ilQjMUnmOxJFAKhtRbHwPc5DIEhvQp2v1DH/pQflv3v4mG99g7VQJTxZv+78Hog+L7w1Fqsv0t0MDQ9j+j1UuIgOgDZQJhRugjS9dk3NcRGSR4i+nUYkaXp2fWKz6Q62JQETROp2jWHTP6PjAUq2ojYptR1ggAps6lzcyU27fylDYaq10SnbF6mt2m9Yl2nVoXA4NNWjgXabyeNC2DnOtK3jUGH9GmgysGXAiz4B0J86wBk6t4TrROvcmk7TrcH2lJMwY2QEi6Au1FGUSlZoLJ179TB3WhWQheSVoXvw1u0X7aMl9SJL++73+DeKRDu0Rz5fkgyO+SMGdFPfL90PelrrVLj9BIIiUDuWNgyLujn/H8ox8Jhw159n23+i4mNsA95xnmE7I5z0f55U+Drt65BnxOmu2ezbVAA0Oba9utTNksWuchMqtYGUvFwPDwhz+8iyocdvKIm2NmPqZe1rFSeYdpxezPwrBezJAUDBmYDFyCsUUnKc7QGkJ7cPe7373TKCh7vtEEUIPnW8qFWqMca6dBK5fWBdk3rUOAkJp8mQykxUOHiUI6JdOqaM7AiBl2+iwBD8+XW3LkCxSnxwIMRXkAI8dSMESbZGZPUjCkLMx1+EvyJnGMJpG2KUT+6qAuJTDNVV39AORoP6CqVnBI0nZG7I50Lr300i5adG1aB30dcABUpuWP3zhNUY98X1puZW7ZI86Q79zyKtziTeRyzZD0mWGZ00KLY4LnuY4JXhjeIpCMcE30X8ALQvwSU3PkDfgK/MhBJfKIc22/PS3QwND2PIsDKcnb3va2Pd4VOro1TEKIiYLe8ewI4CNII4KiPAIg9VVuKhgKTgVS9dpgKMiVyl3aXvrSl3adso453ZjttlkM+ml9kH3T8odpqaYOwLS0gJmLL764S8ezyMV1tDNACdJ3CE2M94RXnECTJD0GGC0BQ8x0yNryDBDGHJUfk68BTx3UpaTlojnVTrSU0X6l66Ju+Z7ZNW1n30Wkk5Yvv28b/vfOPPjBDz6m/FEX2p+oR75fc2IQYIjJPCVLrwmG9F80Q5xHAvjQEAIvwPRY/1XzrOTxyU9+sgOQMemrua9dc7At0MDQwbb3oeZmUKC6XSsGSlQmZmWAjQGA6hnBukZSMIT3Q6Ws40jV1mZtPKcQo29/+9t3M0SmtLXB0Fh5ESJpBvINGBA2oG8LkDiW/kGdx5lJ64DgHmVnKixpevKy6eCBGekwxzFX5WKgpKUBRKQffBwDbQxuZuYkjTPEjEcLwLXd4DqkGTK4XHfddV0+8mOek1cIk53yeUdDlNU1yNLqoC6pqL92YKpRv9oBjGkl2tEeoT1t59BUpXkd5m9mpbS86W9tTuublj9+e1YHISkY0rYWi46QEjR56XsqHIPy0b5xBKnVDKmHdKTnmUujpJ1eWl9aQuVCC4ggokvTbPev2wINDK3bnludGk8qs24zuzVFJ28QMuhIv0SW7svPvTFgUWvr8Epi1mYtIgDIQHkYYKhULseAHfXv27RL37b2Uht9ZRw6biaclj3KKsxCjdAMeu5xX8pJMtBERGZmrQA/0g3SsmMGC2DdNdJLV60fAkPeNVpJA7R03C9dmilmTeUKMjfzRxxT37QsyqO+UQfn+6JS522CoO4+eaftCPAdpjDJmJxEnfJ9Xt607EypqUbvMOpRAkO+/771EU2g9CE8EtVtaj8Xka/j3nRCtrT+AdS1cS24Xppnu39aCzQwNK29dv5qMx+Aw2CTzqyWVkzHwU2eyYjZYaro4ASsC6+w/P4AQ1T3ZnHbBIbysub/v+IVr+giZeNT5JuotmbofVsetydPe+3/cbJoZJQTSE3L5Vyf4G1F3TxD94U3YNwDfCBLp+RrwOUFL3hBd4zGKFzr54Ah+RvwDTwAyjOe8Yx9AnUcw2NKOWYAA9Oc8hqopKH+Q0AA2EvbBak68o66HtQeOTgtS/ob1+nZz372/nOJ5xN7XLxtlhwMea/wvobAEFM2PiRt51QBhq011jchm5peXM/DTpgQ5tZagB33tv3BtUADQwfX1luTE9MUdbMZ8ze+8Y3F5WJXR64Uvfrkk0+e1BG516xeJ6fz65MAQ+EdtEtgqK9Ojhu8eEL1bc5rn9K2Jj+jVMabbrrpmHIZXKMcSMt93jG8pNQH8IjrAR0CCOERCYiXHwOiRR6mzQFmvBOO4bg5lhOoAUnkVCDa+wH8AENMc+4NsxStk2OuCwK1Y8rGjR2IV171LQmeUNTDXuiG9HlN0YSW0h86ZpIByKX5p795W6VlSX9fcMEFixZUHirXQZzLwZA8eYD1gaEoE4I3QDsE3uPadC9dZngu/VPvTdNJf/NuY7JD0l6Df5Sm3X6v2wINDK3bnjuRWgAQWhYk16ViwEJABK50QlNmZUxMFly81a1udVyCIYAAsOjbmIiYgUrbklW4a545wJCWS0DFKAdzRN/CoDx+3EfrE9eHyQiwAIRyArVj97znPTvQAvg87WlP68yPgmve+ta3LoKhU045ZU/EaoAG0PEu0+7gEBnMdG6E+S0/huelbJdcckkHpJSXaa0k3uuohz1NX9ouAepK9y495hnc//73Pyb/tCz4eWlZ0t9A1BpOEkvrMPf+JWDopJNO2hO4cYoAQwCxfHnIxvszJY38Ws4KvlMa3jXNbnk+7f/lLdDA0PI23MkUdJJmzzQsSyQlHiIxAjdmq0wHNRIEaoPTj/7oj3bRd0v3lTRDlirAg4rYIqX7dv0YTRjNQ2l74xvf2JHKEcvTTcyVvoF9SXswe0U5aG4QoyPfV7/61TdL2mAc15ttA0cEeEBcZlKNY7QdsWo9MAQERtBF2h7HDFaAkVk2k4lFYOUPANCI0KIBQ4jAIcjS7k95GsrqmLIxkZUI1DzJom6I1lEP+1LQxshv7h4YjPzSvTg1zItp/unvoxzlWMwxQJY3GQI1GdIMARv6Hf0P02uNa700mRqZZ3naypPDhthPjgm3sUSUY2xJmyXpt3vXa4EGhtZry51KiYmD+hZZUOc6RwCRIBum99d6cogJ4n4DnYHPgFmy1wNMcZ29gQ2IA+Z2eeabttmc3zQi2q60aae+jbfeUgF8xRJK807zy931g9zsGiRmYA0QSu+Rlv8jTfwPa87hDzkW3oP24QzAFBT3RFqRThxHyMbzSc87lgpwF+fjvihHXzDG9P6a30x1aR7578gv3VsJfdPm0JqyH9Y16UKt0d9E+4QZNMoGDAFA1gfTt7hOG4dpNK7L9zEhSwEzgI0z5/70eH7v0P8I2coApDfZ/hZoYGj7n9FGS8jbhLv9Jz7xiep8dDoGOyr6Es9HUEcupDqvWIG8lDhvj3RtMmlJU9qpSjkNunjllVfue5Md72Co1KaO6cjxZwQmLG20JZ5NaaOxmRMYDik5zYuGRvo0LxGbByByzfXXX99xgpw32KTHnv/853cDCLd2Zg4LdnJRV58UDL3yla/sjol9g2fERGYWLj3ehlEW77d80mNBoGZKizYQyDPuGSNQ97U70nWkV9rTWkQe+V59mty8BVIwZKJESwecxNpkcQftsDbX7+h/CEDknYlAjHFtuqcJohHyPFIvyLjmZS97WWc6o5muFY4p+G3KO3eiWZtXu269FmhgaL223NmUqIQNPGZaYyS/4BshSxvc+mSsIwKSDFBWpk+JuKUYHw0M9bXyvOMIwHhapc3MWmRys+nSVmt+Y6qQPrK0KM+RFi0HsAbIOm/m7BzeGd4PQrRjAA7TCLCTgqD8N5MZ06z0aJqAMDyiyA+Ikg+A4z1juotzwhpEGzD31ojyx/353hI3kV5pT8PVZFoL1IKhiHWWAh+mR89BcM0+R5F8QlYq3Y//+I93IGzIwzDukw+vNA4qaVnifNtvbws0MLS9z+bASuYDNoMXWn9skUgzJPwMZoa+DkbBx8AQfhDOSO463sDQ5h87Ui7gW9o8N6Ri/J3ShqdUI5EHkIMsHWkJbBedjvxpcpwDZoAaxGlgiNnKWmL4IjkASv/HIUK8lg+NEy4QkBP5AUjyAWK8a8BenMN5ijaoJUGb7cf9+R6/J9Ir7WvzqGnf4+WaJWDIxM1zMHET/bskNWDIxA1XCal6zCzvveWYki7vUcq3Hdu+Foh+SV/hmcf2LVTIiIJxAFHPbI/rIXVkk6PVAqFmNlgBRiUxe6aGpgL2XgyJ82bCyIMir+ZC3W2B1VxyMMR0Jiq12RbTWTOT5S227v8ALjODZ1fagA3k5nyjbSoJAMCdPtJi/krvvfDCCzuwwxzGhR4xGhhiLqOxvMMd7jAIhqxWTptEkyRt9wLZkR/TWeRHY8ScFuciTENebmYO73ncl+7f9KY37d8f6cQ+zG95eu3/+S1QAkP6Km2ub/FukZJmKHIFgPEYc6GZZpaPviU/n/4fsYKY0/pI1QATsxozf6rtTtNpv7e3BRoY2t5nc+Al8wH7oA0oJVs3YDIW4yMvNDKj9HReIaVjcQ6Z0fU2HkZI1byjQoAh3jYCxzXOULTKwe2ZHOL5TNkHH8MEK73PGlCppkdsomuuuWYPSIrrAjCl1/ntXtcAy4jWNEPWxEOqjnvTvclcBBo1AKbnan8fZe+tg3uL6nMChizAKlwHfqFJFNFX+Z9mBxCK50cTlEupvykdy+/L/889WtPzjSydtsZu/m5gaDef20ZLDXwAIakwQ1ixnIfPVNGRibVBW0Sr1KctinRxRZhHLOPAnIYEG2Lmdf7553cDaAND0SqHv6cVSTUo+W+z8NCgpHsAJgc58T+tEO3QFVdcUbwmzGJxvT3gJO8gXyMmp/nFb9yivIzxP5f9tYLuHf6T2e0SAEPxfH3v3iNCS/ySl7yks1bQBNIQDgmNY2iBXOd6E78pYtV5kzAcxi996UvH3HrVVVf1Rs8/5sL2z9a2QANDW/toDq9gAI9lE4LPYw8c8TqbIzohZg8qbbO8dNHMUnoBhnSCJW81nZ9zDQyVWm87jwEYOccm/j/ttNP2B7wY+ObuRaWmHcB9835EHvm+L9r0drbe8VuqFAzRvuTC1O5dGQND7qMNEsQT8R3xvo9HlOeR/y+OFXOpyV3wkoBvS2402d0WaGBod5/dxkrOJk8b46P3gvjQgZIxnlBfgdxnZnbmmWd2HVcDQ30tdXSPD3lhGUTmgp/8PuYyHkRI1cwaucdX/I/g3WT7W2BtMCTSvfdDRHQL984Rk0OhGEwaeV6ee+653URvbnpzytDuWb8FGhhav02PRIrUwNTB1MLicCAQLhGzsrvf/e4d+R7YGhLgiTkD92NIM3Tqqad2UWLzmC3t/3J8oW1tlz4zWA50pvzPywwhe1vr3MpV944+6EEP2gfKfZohi6vigI2JmEIi3ddop8fS4rYv6CiHE0EVLUHTZLdboIGh3X5+Gyt9kBK5PiMnRjj8uRkCQ0wV0jI7H5KI/sqFfwgMiUHzkz/5k517tnK2bTfbYIg3NAUApddaMJjJrL0Tu/lOxHMTyiCeax8YYiJDpB4Tzhn4i2uAod/93d/t+jLl1KdZqLrJbrdAA0O7/fw2UnqzHmRpgwmvDfwhsyDB8+ZIrFf2wAc+sJnJ5jTgEbhH1OB0Ta30N0AbA97SPW0ib0MLs3K5T/NJf29ifbEj8Ji2rgprm8lud7vbdeZ/ptm52u5PfepTnWOHmFtI1bR8lgeieWqyuy3QwNDuPruNlbzkTRak6r6VyocKE95kQBHt0FBEWOkEgfr000/vuEspV0n+VNMGzUagHmr1gz0nnhCNXt8GnKSrrcdvK8/3ASBLLuCZMXmVrnFvTr72nipDvGviokVe6d4SH31lTVe8P9hWbLnlLZCCId6lERrBdfoCzhTM5WMEavfxRGM65Yk2x5tMwEXvjOCLOVm6eZPlT273/m9gaPee2cZLXAJDKal6agECDMVSHjqTIU+OAENm8rRS3OlDrCTNBNLAULTIduwF1mTW7NssUipuVL7RPpaAjmPMoEwbBrDSNe595zvfecw5BGplAHyEZzBjz/P0v/XZ+srK46iZPbbjvUrBEGBraQxCY20pHwDHYrZjYIgnLI/WCJkwBwzxULTMBq/YnCzdwNB2vC9LStHA0JLWO2L3ehnE7mASYyrLBX9natBFM3UmN3GKQkRoFT+Ih1kuol+LQ/TBD36wIyWWgi4CV0BS0wzlrbf5/9/1rnd1pHrE+nTjXYNI2rdZE4wY3NL7LrroomPADI0NDpH3zFIa1hYDbEpgyL0RqZoW8RWveMWeoI0iDkc5vCeR37Of/ez9cBGiCMc1+Z55TSiAuC/df/rTn958I7cc9lvA+0JDiPgMFJeCLqbOHl/84hf3740fU/uguC/fDwVdtNA1wMXlvslutkADQ7v53FYvtdmyQHSWWzAbLwneh/OvetWrulgupWvimFgvkV7Jlb52OQ5BGpEUEbDNBttyHNHCm9nTAALDnl1p8yy8A/kGuJSEeYJ5I9JCNk3vtY4ToEOjQ9PjvE0+EVm6BITimCCL8Z6l90Z+eXnjuH3fQsOWJFHmtJzxWx5pGulvQLHJui0ADNHw0RbHqvUcMLS7ZxKLoepjEKPj/7QUfctx8Fj1fiBfM50Nifwjzz6tIU229Cz9oa9qslst0MDQbj2vjZQW8Y/7vAi8f/u3fzuYhxk1gqrIwBYj7JOxhVqtI2WwQ0ZMOyIeI5dffnkX3yjSbqvWR0uss0ce5g1T2iw0+ZSnPKUjmYozlW/O14j3RPrMYxZEjXQAafwicV6cN3g4Z90wC6zigAAczB8W2OzjCwUYspgrPpJ8aImkR4MZ+dE+ysdgCejRDsU5gDzaABekRl796lfv3x/pxJ7GMtIr7UtLRdTkeTxfUwJDJmW0RemkrQSGcA09h+c85zl71lUsSc1CrcxjP/dzP7dnnTsD5pDQbN9www1dpP2xECJD6bRzB98CDQwdfJtvVY5m7lS7j370o6vLZdaD92PQSQmNkcB//ud/dqva43yUzG1xXd4RSUuaosOmnU4DQ9FidXtt97WvfW2Paaq0/cRP/ETHx/F88g2XQoDEqfLf//3fx+TFQ0za9773vbuySO/rX/96dw1ys5XsnQd8lDGOATWOWb3eu8NEhisSPLEAQY4hUHsPDVZ4PoCa2TvwFfVmcpNPekxZCSJ/1J+WKO7Rdun7V9sWzL+RXmmPJxd55PsWp6bcyrVgiBneu/LRj350T/9DxiZkrqHNsxYeoIrTmItvgamV1rJWBGLERwOMaBmb7EYLNDC0G89pY6VETsb3CGJhbUauN4sPQmN637vf/e5ukKJO/uY3v5meOuZ3DoYM0tI0UKTSwFDaGuO/afqAjbvc5S7F7bWvfW1HEPZ88o2GZI6KH4E6zY8GSNoGmQAWZteuofkzeDlPk5Mes/o8MGR1eZ6HTCQ8d/A+AgjZ02Q6ZrV73DFmDPwiphOAKsoC5MgnPaashIYq6v+sZz1r/57LLrusOz7e0sdekaYX6aZ7GoooV74H/prcvAVqwZB+hqYaOA7zZw0YQoSmpRRFOuU1Rkk4bJgsTgGr4SgiGGTudRbptv32tUADQ9v3TA6kRB58kKVLnUBNIRAKrfGUenu5j82cnX5MDNq8fZ70pCft/c3f/E23/hleQC5x3ZOf/OQ9ZjSxPdx3PBOomSm1W2mjpkcCRkIvbbGCfN7OU/6nPWFyivwB6jSvPI4PcATkuObDH/7wHu0Mj644ZgADZphPHWOSAHgs1orb4VgKhn77t3+7O+Y9w1dCnLaEjOuYy6IsyhVan/xYWl+DbpynYUKgjrpJcw1h3ok88r1FQyO/0h5B93iUFAwBvPob3q5I77kZirnd+4Bf6B1znXbOr8vbkbmN2c3zCUEXYC6O/iaOT9mLim2ymC40PeX+du3BtkADQwfb3luTm5gZwARQsUSCVG1go1VAIjR41K4IHR0RvgUtgc6rJLknh3JTi8sL+fuoCjU+IJFv2oopqrS94Q1v2DcVrNkuQEdajjTvEoEaIIrraWz+6I/+qCuOdcGU0TFmDeIZ0gQhzHum+GuIstaRAkwcY/JiGnvxi1/cmcNwivDXvHfMEgZIZjIcnhBASFul5fPbMWVDlE7jWLmPaYMWK+qnnFEPe+a1tcXgG/mV9uqfliF+M8UcVaHZ0S8EgVo99St9Hq3AkPPaSiDEmgmZNGkvPWPvjjyDLO050OwtEaCed2yT7W+BBoa2/xmtXkIzJcRCGgQxM5YKTQPOkZgv9jqwWqERMniJDIsv1CclMBSagj/5kz/pu23rj+uIkTv7Nqtya9N8QzbetCBBp+VCOI5y0ArlICLKg8zqPuTluD5m3cyryo7DUzrmHTCYMZe6DjkaSdoxQAlgApwMdve4xz06beL73ve+7jr5uU45ARZmKwL85MeY4ZTN7J8WTXnVtyQGyKiHvUEybZda8nUp7dpjNCJpGeK3cAJpWdLfpXg4tfltw3XeBd94LRiKMv/gD/5gZ/bC9ZkiQBbwwpvSfo65OM9PHZhzP/nJT66SXp5++3+9FmhgaL223ImUkAv/4A/+oJtxI56uJWZl97nPfToXaV5iU0VHJB5R32riAYbwPdSBZmhXwBC+ARBQ2pi7DPZ9m070IEWHYFVuZX3lK195TLmGNCLMXlE/QEd9cGRSwc9ggsLJcS1xDBhxDFcMRwOgYRqjFaIdoiUqgSHaHZpIGkIASTwgM3wckEsuuaQjZQdZ2rGLL764I2XHMfmLYozDpLzqq1zqrx36BIckfV44cu4bM8f0pbfkuME2LUv6+7zzztv70z/90/3nEs8n9gjt2yw5GNI3vP71r+/VDKkLwrNJ3pQJWbTBIx/5yL0TTzyxc+GPY2vsAe+rr766e0dLJO018mhpLG+BBoaWt+FOpRDaG2TDNT/MAEOiwc7xRgKG8EMEYyxJgCFeOrxydgkMcRsXuba0Pfe5z+3WSLJOUmkL7UapTTZxjFmA+VRZuZGnZRoqC45G1A+4cR9eUSpMUrg9gEuADeYyXKE4tgYYApbx4JhJQvMZx3jLKWuI2T/ApbxMveqg/srTJ7we03ahJXMfc95BC4CQliX9TdNlPcB4LvkewNxmycGQvkEfMWQmYzZlSp0Dhmj4EOlLvMUl7QTwMxF/+7d/ezEO0pK0273rtUADQ+u15danhJyK0McFeE0R9RW5mdeXDquWL6QMKVFReP2+jijAEG2QGDTbBIa0p/r3bdrjAx/4QHELU9Gaz2NqWgbFKLvBwExWefvMRnn6eDmIylHH1Bsw1pKTvnxSkyawFccAaMDQO/rXf/3XszRD0pYeUEP7Q4uoXMEXSo8pD95NKjhO6qD+2iEta3pd/hvJ133ey2hH+6ElZ/I0NvG/zp0WOJ5Lvn/Na15zTHnTsvPqG4ojtony5mnmYEjf4PsfAkMAsKj1tMy5Y0eefv7/y1/+8o6gTfvEtLWGmSzyAKBx2pjwUBSabF8LNDC0fc9kYyV6//vf3xFH13b3jIBnyNA+eOYLwKhGgkANFPAQci8PDpqmEEDIwGWpBkTZwwJDyKoG2nxDvFS2vs1yAdskzF1pHZiWouyIwzWxUXTutDrS8cwAolyAC+cj7SBL02ZYXkG+cYwmJgjUvHC0aZhNh8xk8pC+fIC3PgI1gBOirO6RvzqoSyrqH1G4pRtgKr2m9NukIOpqr13cH9tf/dVflW47tGN//Md/fEx507L77ZuLsqf7odhha1amBIaY4nG2AOmUq4V7p4zO6Y9qPVqVVzrScy9gWwr8urReTJNCWsijFmQvzbPdP60FGhia1l47fzUuhlXfmQr6+DlTKmn2yPQmpgYyNDHzYTowM88HmjztFAw5V+qI0jhDPIkMkukCn2t1LjgUAI9ylzZxkNQz38wkt1l09ml9DHRpHTyDWkGWl5a4PTQJ0imBBdchNNOwpFwagwLCM+KygYfEMVwjx2h3AKCQITDkGvULbzJAB1kayAqzXolA7T6DpjqoS6rNinyBAfVjcon2K10X1+d75sK0nblYRzo4TDWgM0/zoP4XoXEFJwAAIABJREFUt0e90/LHbwAy6pHvcZTWkgBD3N69SzQ92tDEaSwCdS0YYhYO6kBoQtUJ7wgZvc9JYEodAX28Mo4iAjI22c4WaGBoO5/LRkvFOwbpFDkXr2MJkZIJqLRiNM7GmWee2ZnkYlDKK+V4RO2l/SE6DetVGXS4/5MUDPmfpxF1+bd927d1eTAF4ITUiLqqc2mzCKdgeMpd2sQv2SXRkasn9/y0PnMXk5QekrG0RJZmAiuJ68yAAeJcaA4Bl5jV5wRq1wcYYqaQB84VwJl6kwFZNC/ySsGQ+70PyNKf//znO3OZYwA6cnFu+pG+ugBMylISwCraD9jqu650b3qMmSfSwR8BQj2fuemlaR/kb55WUY98bzHV0rcVx/r6grz8JmpMpqeddtq+o4SJEsnBkDRxcjzfiJkG4DzkIQ/pyhL9SJ6HvgDgEvE+N4lxr+fFFoA9v7fmf5MA9dZv6NPW5GjW5N+umdYCDQxNa68jcTXuBK6OOC08TmgK5kofGDKzFCxR51gyociP6cJ5ZqSIVK2DMpjd7W532+/Y+sAQjyH14Gas86sRphF1Lm06TxoN5S5tY1qumvwP8hpkZfXk1ZXWZ249gBumCGkF4blUH5pHWhUDQS45GKJlUE4zdJ0RCTAEEF9xxRUdUAF6UjAkbdeJ4ZKDIcAYuAbSg0DdB4bkqS40AUxjJZFetJ82oJmcI8oc6fDkvP/97989H+aTXRIAMuqR73n3lb6tOEYLVyO4h/heTOfhNdoHhkygeIIpS9qP0PLK11IvJRGWQIBOJrZc1gBDtI7yp6mUR2r6z/Nr/x9+CzQwdPjP4FBK4MOkqscj4gH2Yz/2Y5PLYVblvuB9lBJwzjUlUnW+HEfcn3dEfWAoIlBfddVVnRrd/TpEmgRmmNJm4FHn0gaExYAcZdmlPcJuWmfcKvVcYrpggow0mSpwdPqESzpwEiTo/Drg1wDH/BAaAtodMYNCkHqBHFq6CLrItEtSMOR/1/EekpY0pR3cIECKli+CeAJMQDmNUqk91BPfCIgbEve6RpsAmUx8c4SWgKna8wEwo43tDzqcwpzy990DKJW+rTgm7EZa1/R32geJHo0ITTMzBob6JmQ04O61zyXI0vqaktDqIJyL85V6H5auzY9FH0QjpN6l/PN72v+H3wINDB3+Mzj0EujgaYeAohpOBCDFm4uWxUx/THAPeFHk0geGDILMMQYJpoQcDJktGgRTMGRANZC6x4yvbzPIHhVByFXn2ACLtN4IvXMFqJCugT/SDE5FniZTp2uRUD23EmDCn1E+JruQOJZ6XYVrvWtqwVCkF3GG/E/DKFCh8iNkE+YoWh3HSh6VTC3Me9GepXpIx73RJurs+qEJQZf5wB/li/TsgbIoA0L7nFAVA9kd6il8sbSu6W99UNSbVi/A0C1ucYvO0xDHi6RmMho/7QX45zIEhqRfmqDlaZjwSZ/Gq0aQy6MPEuagye60QANDu/OsNlpS7swIkgYrZoMhYV/n1QHM1AiOihlhCkQQCZklqKn71Mdm+rgiyNJ4HantHxhLwRCTGdd8Kun0upry7co1CLe0eWaqNmRSdY4NuFgigHCkDbxKF3AYEgMOUOzanCztvuBzeC7MGakAtLQ7hOkWGHFdAKapYEhaAFdKCLfOF4CTisFNmUszdgNutCdNGLNpnzA3Mpu53kCu7Xjq1fLX+tKlvYwyII8LVBnPBRA4qqIPinrjlQUYSiNQq7s2AJA8H/1K39pfnp30gO1YVsMzYzr13GoBjnLQVI2JyYlYWke5Dxprg10+38DQLj+9lcsORFxzzTWdW6qZdUlcwzSAEJjO6EvXpsdwetyDNyENHQYV9JjoiKxMrlwpyAGGrMzO/CG2iI7xqAqNBhOUQR6X6owzzui2vphMc9pBHsxIkfaYpgMgprHAizAAlAR/Azfmoosu6nhgcU3cy3ssPPEA8HCtj+umgiH3ATrp2mS4QMBQzpNSZmVXh5w8G/kzg9Fc5PfG+XQP8Gu7u9/97h1fCbhbQxCJ8abiuQCQ3gXbWnmsUc610wA+cM8AlxwMMW1pDw4UNRMy/QPvMsCcFg7pOxw2asoNcNFup16R+X3OmbxNXQIkT6f9f3gt0MDQ4bX9VuZsAOKtxdxREmpgAzJy4hTXfNe6x70IjVPA0NOe9rTOZJKWBxg64YQTOoLirW996yMNhmgKzj///C6kP3CBcG4rEZTTNprym/nIbDnSHtNueE9oB2mjkJtLYiATIM/glaYHwDrOFBcDzKbAEOBOu2VgTUWZlV0d1KUk7mUG0y5jIj1t591GjGa+WUMANW0TzwUHyrtgYy4+qgIM3fa2t+0Acg6GwgHknve85yQwxGOQw8bf/d3f7ROta9oPD4oZDsg2YJYEsBY7C0htspst0MDQbj63jZaa+QDfwswdGVnnEZLa6+NY7d7Ah1BIIyT91JzRlwbNkI5fjJG0IwKGgliJ6ySy9lHRDiHQavvYcBBwLZhK1nTPNdjTfsgHYKiN14RjRuNCkwTYlATQERMKKMg1GAZ3oR1SM8WmwJCyqVuqLYryBqlaXUqkatfhDSGE15KlacPEqXnJS17StWuYASPPpXsA2LtgEyU53hFLgfSBuqV5HuT9vnHfOo0hU61vPAdD4pkhXt/+9revAkNMl8jZPNSYmedIzluUhnSj/ZGll3D05pSp3bNuCzQwtG57HpnUDA6CDNrMjsXvMMP3m+lgSceLvIjLwQNoTIAhHWKJMxRgyCCOe8STaReFqYbZhgbIZvCOtrf/xCc+sWq1cHPkg6zqWcrDsRpBHlY+YHYoPg7TlGecCx5H5BsE5fQY3ggx4MV1cSz3JjOwyQdnJLSUBijHmK1Kx3KTF3BhzS4gvU+UTzspT5S579o4DihqV1yieK5Rj7hm6R7gTN8T32bklfOzluZ1UPczhfvWgY8IupiDIROy+PZrzGRve9vbOlNjyYmjtl64ZLTl2lffZ2LCJBvtn8evqk23Xbc9LdDA0PY8i60sCTU9QMKrhT28b12gKYUHhhCezQABmT4CtTTljUxp5mvGHSYZmiFqdGpvK78jmu4SGNK5MiPZEGR5UYmVYtPhri3MVHhA8jNAy4f5JwcHpXyDBO1eQGNM20Hjh6CcX2fmbICzMOu//uu/7mfF3OMZp/Fe0lXr48IcDDlOuxSr1sd1tFEW9A3SrONctIEzGhUasRDvk3eLVjEiqMe5dK+daJBcpx1K5Ov0+vhtAhHPFWibcm+kUbP3fK3tFnn5La/YakFcTV6bvCbAEK0X7dCVV155jGYoIkb77k899dRBzZBnpv6emzALS8CQOuMZ4SkB2rRMfVy5TbZPS3tzLdDA0Oba9kilPLZIYk1ldXTs74IbWh+tz7U+TQsYwh+IjijMGcBQ6k1mprjtYIi5SP1tAkWefvrp3YYg20dYT9ti7m+mG+0n6rE83/jGN1Yn5V48mHvc4x7dvYIk9gngDOQwYQDPuQBI3N9zOQgwJE8g6Nxzz+3ix+RlYAYz8x8Dh67ThkI5DJGv8/T9D6C4F/B1r853U2LdsXi/7E08vHebzndpfQIM+Z59+0BsqhniDm9C5l0b82gFWKVjD1xJLyZTc8oZfZA0S678c9Js92xPCzQwtD3PYqtLsgYYQv41IFMxM2Ecb2DIoI9AbkOExcWyme3q3DclNCUPeMAD9pDf5TdlQPCsBLU0ELg3CM+lstLs0PqlxOj0um0GQ4ASbhawMySu0w4iKV9++eU3W96j5l4mOUB+k3FoaPOUMzZhLLx3l1566aAGbKj8B3FuU2AIsRn3CxAd0kQP1bGBoaHW2f1zDQzt/jPcaA0M0lxLeRu9973v7dbZyUnVtQVgPhEfJIKn6agBouuuu65IPkSKRo42swvyNRdXA/QuaIaQgsXeUT+b2ak2tK3pCdbX/jgN8hWnCT+LlmeK4L0gApdI0Hk6ZvDMbrgqJVI1vg2zGY1FKjy6uCQzdxnAQ5aYyeQvVhHziHKF0MypC2I3wJYLTo8Bk4Zx7PmIyaR9gKda4nnkB1DxbOLh5vlEXKU4v4k93pP3jkmWhireSSbTbZIhMEQrhAiNFwbQ4IwxV5XWDOS5ylFDncMk6zrapDlgSJ4mhECwNPVNTTu0TW/O8rI0MLS8DY90Cl4QM+BYF4gWQ0cQpOoplc/BkHuREZEQpYdfkQrzEY5JKjqgGOTDTOaYTm4bzGTAAABnAwC0VWylATit2xq/DeiRv4FO3gbtqQKk5BGj+9IQuwWpWr595j7eXJ5bLvJIl+OI80vAkDTy5TgiXXtu0H0gQJRt7yPeVl/E7UhLEMyIaF1LQI97AT+cGM9HG2g7JsgYuOO6tfcAMa5LvJNMg/G+2M/1tlqrnAGGmJFpT4FZK9QDzDSLsbxK5AfwCNORCm6hdw2wTWUuGAqyNK5QaHCFHwEqmxydFmhg6Og8y9VrEgREBNPU88vMiv0dL8QMLHg8QwWgJTEDRnwsDTK8wQwOIlOHlMCQc7FqfYAhx9wv2uwYITvSXmuvLtogNoBMHW06yzS+zlp5ltKhPVMGA0Dkn4PL0n35MeXlMWaQob0YE3mUyNJxn0FfejR6JQ1ICQxZfJcW4Prrr+94LpFWiUDt3UOMto5Uqs0ZAkM0VMrc1z5Bqgayh0jVUS5AELiqCRUR96R7wNMzY8KhefAcaXIOQj7/+c/vvy/KACTFu2yfkto3XR7tDsgIXMmbjABDODq2mJCl5cjBkPeBJrvEi6MVpKlVrzFuGDO+tQpdax2znCyNDE/Te9D9TVr39nvdFmhgaN32PFKp6YhS8mJeOeaG0047rYssbUbrZeqTmlkZkqdBMzqqPjCkszvppJP2CdTyBIZ0mJdddtmqsXjy+phZq2tsyqwNYsvNQPn9a/9vpsqEKDKxMszVjgFB6oQsjdfFLFAjZvC4NiURE8kSBRdccEE3qOTX0CIBQ7zLUgFWeAfmUgJDrmEW442WrpMHGIlQDmiUACkgD0Rpu5jt5/khgnOprxEB95Q53oupJkl5eO9pOD1H5p8IDVCT/1rXAKHxLtszR0edtNXQN760DIBMAJ8cDPEcK0W8DzCkXMjhD3rQgzrv0r6ylLTT+bXMqZ/61Ke6KNfRBvk1/k9N9aXz7dhutUADQ7v1vA60tGNgyIBjFh+zOQTpPqkBQ0iOXJfNkL2YfWDIdeLc5JqhgwBD1PTAQmy0WdogtpT30tcWax5HwhWXhcu4MuCjzBH1UCfRkxFFSwCilO4QGDKr9gxprZiUcuElCPjkHKM1wJD3R9vQBJQ84Azs+DMI330xs6aAIenhksR7kWpS83r3/Q+UiVfjOXq/aWQPWmhn4l22NzmJOgmHsUmNVR8YMiEDhEvgMMAQEE+jFM4Zfe1WA4YAaCEKaAW1QUzO8jQbGMpbZLf/b2Bot5/fxkovPoeOUAevox8SM0fqfR0T1XJJasCQ+4JUbQmOO9zhDjfjDEXaeUfE5MF8tinNkPg6iOO0Uuoa2yYHh6hrac/kpDxIuDhBc0GQtGl2mHrUqYYs7R6AFJhhLqD9KQngKL4Lk1VJ0oVa0/NrgKFIj/bHsysJwGKdqj6vLlo+7YLPViPqGe8F0vocrlbkIy6QiYFnbKOpOAwxIYo6AY+eufIIZLi2AEOAD2CuHyBjEzJ9DrAmhlBKlu4r2xgYYoqjldOPjRGtLZHien3VYfUDffVsx6e3QAND09vsuLgDcdmsvlZ0HAiGiItmZ6mkBMSxDsZ9Zuq4CxbuzAnUkS4w5HxEhHVcB70WGEIkNTuPDdGUJ4sB4bAE6GSOUSbmJeVB4K3V4uTlpgXwzNRtbGHW9F48Ke3uGfUF8xM1G8hCIu8jVR82GFJ2dRgiS2sXfCDtpL1qBZHeM1ryvghS6RnbgDLP/SBI+H11RG7GnVEenKv4Nuxxj5YKMCSoIc0kMcF5wQteMGiqB4ZoRoHyGsFdVH7vZeQT91lMWr1oWWtFZH5lnupRWJt+u+7gWqCBoYNr653JCYnZ7AwPZ6owSdCemNGF0DBNif5KHQ6MXHzxxYNg6JRTTtl72MMetqcT4+UGDJklAl9TBi7lRBQ1G4zNIPnwhz98f1ujs4/2mLo361QuM3QAQrmo8pcITZJOH8+FGatWDNCIxc985jMH25g2hlamJDgZwJL3osQDWVMzZHCz5QNflIupd2w5DqEgtFMevTrS6NsDLjQpCORzAWukbfD23JHy4x3NzYtx7UHsaf3S78N3H+XCN+sDwH1l8/0i/wcYij5IgMUh3iIwxKye9jd9eaTHmUfxo0j0N0yqvBinCDMax43og6bc267drhZoYGi7nsehl0bHALjwlJgroks/8IEP7MxrTGzMV8jWtWJGqAO03AZTQYlvkprJBAV0HTAUBMxPf/rTg9l58ZUtNoRNCz/GFh3lYCIHcNKgQm2vXMi1ffyFKUXBa+IphnOFdFor1iKjRTJoDInrgKE+zovZeb5Qa5remmBIurQqpYVanWPus/o5Dc4Q30s70ToCOEPXpfXwm8v9eeed1wW8XGORXSAy3lED8FKQlZd37v++8SgX0yMtT3xbNcAIwPbtBhgCIksRqNPy6au41Z944okd9ys9N/b7mmuu6foMZbQwMpN8n3fhWFrOA4a0U6W+qub+ds3ht0ADQ4f/DLamBF4GsyzAInVTnlpAA3aQqpEadRJT0gswxF0aiKKlyWUpGGLqQQhVPptOldYjtqmapbx8a/0PeIj/oly4LX2eT1Pyo/XDNZKeZ14rPNWYvsY0ErQXAEjfddsEhtT/y1/+chcwMnefTtslrhNkUTTnWgFWmFJMDvCxlor04h0FGJj4tkFoGqNczI80tvFtCfA4JlPBkO9AfCraJO8kTc8UoYkSu0gZaXaQpWks54p3WoBSE5cmu9kCvnG8PxMf/X9s3+Ll9lLHASRJnSj0b1mBJkevBSLgWbi1LqkhfovZNrOVjqpmdenIL8AQ1TcTDl6MTiYduFMwRD0vUJ5rvKO0Sn2aIdqjpz/96ftxdJTRZia7LYIsq4w2nf0aq537noEUaQIqU0IA0J6Ivos3k8aB6msvWhh5lITJCaCg1SjFsPGsaYZoQHLpc62nqdEnGYyYEnNRZmVnUrE+V0l4jtF6jYlno27MVrXCzV6EbdpW7W/wXkO848jd0tSmfV5xa+Q1JQ1Ahak6vi28P2W09QWnBIasf0fzRjPtPfDtlwjUQJe03vKWt3TeXrS4U8GQ/gIQuvbaa7vFXGu4jGNtgFYwN7TFWNrt/OZboBcM/e6P3aKBoc23/9bkYGDSAekkPvOZz6xWrvve976dmyqzidXlayQFQ65XHuVSvhhAUzDkmuiIrL91q1vdqvuf5wiXW/fFhj8CNNECAH/bJAYC5TRYKqNNx79UTGpolxBHpdk3IPXlQ3NyxhlndNq+vmscZ7agVQQq+iIZiwUkJlCf1ohmEhgqSR8YimstAuv5loRW5qyzzupdSwx3CeGZR9KY0MZwvZ4qSNXaX/sAZ0w0S0X073hXlMv7M4UMvzT/mvu9P1FGQDK+RRo2IJ1Xn6jgVqjPJ2Q5GML9AkS9y7QxZAoYMvM3YRI/CvEaQF5L8Kj0c2gCa2hw1ypXS6euBRoYqmunI39V7smxtMJBSsQbMYiZGSPdGiTHeC85GFIWoMAAZNCi4s7BkMGFOzMNFN4B/sELX/jCLsYMlX1sOqxtEp2zNrHR3ChnrSt3TT20G4DC3OaZTBXmTeZKIGUIJMd1iMZDZNZtBUPahSu8wRHAGOIF4VvRlLluDmfH+017hpDt+a8hykE75P0xcfA+Ab3bxmEBROJbFPFaWz7qUY/qvlcOE2JT6SciTlMKhlgnACj8pFRqwRDw5BnLn5mcZ6agqfJYQzOkTGt6tKZ1bL833wINDG2+jbc+B2p8Hi+nn356p0lZo8BU3ABJ6qmEO8HMygTSF6HXcSYchMb03iiTjozpyACfBl10PiVQyxuxMu84I51t2Btwgbvb3e523VYyDS0pJyIzvpVBco4oH1MHgnGfeSnSBZjOPffcwXhH0qN5Mej1gYBNaYYMsky2TI5DRGZcN1ow2owh4TF1/vnndy7lQ+n1pYF+QDNBWzQEvPruHzru2/BOCT1BOzqnfEPpr3WOFujqq6/eO+GEE7q+IiVQRx4BhnwbvA+ZQnMxMRJ5WpumpvT0OmCRue7BD37wMcDH5IljwlqaHM+Thsv30leWtFzt9/a0QAND2/MsDq0kPmAu27QIS0iEaQVKYEjaiIqiFvete8VlHKHRzK00SNAK6RCZPMbAELMHNfy2CrMGDYM2sc3RMgzVzSryTAp9Jqmhe52zZAUgJbjcWMdeA4asF0VDNZTepsAQDQm+kgjbgFGf1IIh6dHwGMzdM1UMvgAXbSCz0ZrC/OZ9Eg6C19S2cjxpY0TcRrAGhPrAkOOANpBXcsQAgmiSLPvSFwJDrCiaYvmlsjYYovX2fl100UWLvNPSMrbfB9MCDQwdTDtvdS7Ii2Yza0oJDEX6olvTWFiI0z5VUYvoevnllw8OvrQ9OsgcDIlaa2BBoMZNYC7YFhf5qDvOE08udWcO6yN6x/Vz9rQuPI2GokOPpQuoCaDJ7XhMAFgmSoNuCcDG/fg8eD1DsikwJE/A2KAKuPWJ54PcjQg7ZO5zP3DPBIwY3Qfu+/KJ47SgOGJrkaojXXuaF1wpcb+8b31crPSeg/xt8MEl8s0ChQjU3qWUS+UZBFAqLdQa5QV0b3GLWxyjTdYfqLcNZ65k5l0bDClP8BY38W1Hfdt+/RZoYGj9Nt2pFM1qDXq1EVxrKsccZjC12jNNTkne//73d+cBFjyC0F7UgCGDGZ5BDobkEx2RyLUPeMADtsa7A6lVPXXKBgBtg3OypkgvzWPOEgFm2WbgSL61i7WadSPAjskugCF14D0nNpB3tEaCfF3yZKu5H7cHodezs63hPZjmC6h539I8arwC0zQ28RtY8w1b3iMI1Hk+wBCQQ8s5BE5zMJT2QereFyEaVzLvg/IyTP0foEbw1gfSHjbZjRboBUP3+/bmTbYbj3BZKXW+OgsDnwG7JkDaWI5cXnmR1YgBGw+IqQ7BsQYMSRdPgGsslXRKyBYRFjETZ8KMchtcXfE2dLjceJmd1jaHaQ+dLgAjj6VkaSZTg0uNGHSAnD4vrkjDdcyWgFNJaFm4rXOr7vM6HPMmk7Y85FUSGgcu2bgj3pM+AQif8YxnjF6X3g9w0Mbhtsx5vp6fZ2fDiWPmWltMFCIPDgdzwPKaZQow5DvlYZjz+/QHtNY0vWOgIgVDwCQTL45Rjfg+b3nLWxY1RzX3p9cAQvpS2w033LC3bQ4baVnb72NboBcMQeMtztCxjXVU/wNATj311L3TTjutM9sAF0PmjrF2mAKGIq2ICGsgGDOTuQcY0kkqt5l1TsjGDdHJ8mZDJD5oQVrVjjZecLQtmxDcE15ieFi8Y5YI7yakYJqRWhlatT5Ng/cUDWSfGPgQfgGePhkDQ+6Th7yGhBaiD5Sl901Ztd59gDni/xDQStPv+w3A0x5u0hOM1xzTpvfT+7MWgbivTvlxA4/gdsj5vtMcCAGUvpmTTz55EhiiHRVAdUrE+zXAkD5GW0Zfql8a0mTl7dH+P/wW6AVDP39DA0OH/3gOpgRmwmaJZlTIy4iIYzP9oZLNAUOIjTowxOhaMMQrSZm5c9MspRJgSKdE03HQHjX4M9rRxqyX8iDSci79LYo0b5iaFbvH8mpg6NgWOiwwxGTMnEqzsCmRBzd17+e97nWvjWiihsouXhCO0K1vfesiGKJJ1R94J2s1Q0CVdeaY/Kc4TqwBhpj6tCVQpy+1LZlQDrVdO7eZFugFQy3o4mYafJtTRWTGIaLyZ+9mKqBZ4f1TK2ZGSNH5yvU191N1m7HWgqHgDJmR6zyBsJAAQzpInX2uOYrr1t7TTGg3pFXtaJvSMU8pD4Im0wzCb5+rem16Aj4iAgNxNR6FXIeZtHiI/eVf/uVoNruoGUIe9zwBkxoBMDwLz2RpRHMxdQzqiMXBp6spw5RraP69n+9617u67857q/wHITg8vs3YQjNkQNJ/3HTTTZ2plnalFgyxZvCenBqoVLR877+10ESzrxUaaW1mY87Tlkufe23e7br1W6CBofXb9EikaKA1oNsMBiI514gBstZWn6enI+IFpjM0ax0aBPKgi7QvEeWayh8YwkVCtGZ+0bluarkCZFTltQFl2kxwt00KcwAPJM9mDkclLRutEq5N7UBo1ssDiClnjOzLBIOjg7wLtPbJQZrJcJLUl9ZhTHA/lJ3JhhlkTJi2TCR4Ci6NG4U3hM/n3R1r57FyDZ2nNcUd9N7SCHuPgdyx2FJDaQ6doxXi5o6ngxjNVAYM4dvI2/cfJqYaMIQj5juIvgo3ao7c7373697Vmnujr5KnbSwuVU2a7ZrDbYEGhg63/bc+d8BCLBzLV5gJlQIhppVYAobMzORlsEX0ZPqSpxlsLjkYcj6N/goM4R+lgRinrMeV59f3vwELGRXnyTa3I+5LPz0O9NBWaBNk6SEOTnpf329qfKRlmowp4A3wZI4oxXzJ8+JNePbZZ48uUnqQYEgZAUl8pxqh5RSQdIqGNMjifWTumnxdA1zRznqXPXdAYpMCGHuPrcLOO26pxrFUVsCSRkikeO1D+wUMlaLgD4EhfZE2AaBMwGi2OW689a1vLWU7emwMDHEuEZxWnkDq2vGhRgvYLthoCzQwtNHmPTqJc1W/7W1v262+bbZvy3k4Om7kRatBz5EAQ3GvTlmeAFZOgi6BIer+K664Yo/a294A4hgSps53LTAEIOoYtQHTEgC3aeF5Qzt3zjnndG2ylCwtPRotoIb2o1aY0AySl1xyySjRWh6CZ4r8LLbUkBw0GKIJseq55zhGHra0hXbSXupUK294wxs6MndNHmNpIlX7FnD61khvLD/A2zfFFsiGAAAgAElEQVRkMuE9X5PMDQwxfXHYECQRGPIN0XY6lmqhS2DIoIXnKHSGNgmy9FIw9JCHPKTTAOZcH/9rA6Y95ZMnOkCTo9UCDQwdree5sdqYIRrYrDF24YUXdpsAaSE6oic96Ukdz2HubDIHQ8jB8tR5CtbnZQ0pgSFmDIOugfo2t7lNB4Yc44Vk8da1wBBt0GWXXda1gUF1yJwX5V261+46a5oBbQLwLRHaDksYmF1PGegM8MIDCGiXPo9SWZgSaOgMaDmYza8/aDDEkwnH46qrrtpf/DcvU/yvfbTTAx/4wFFQF/fYywNwtKK6d3mJMCF57kx7OHVTtFRz8vU9M/2Y3PjeBS5cS3zPliKhAQaugSHL9Ai4GccirxIYApZEeBZ1WpsEJ28pGPKMACta11Ro+bQBIIrLJc9NOUSk+bbfB9sCvWDo5x/evMkO9lHsRm54BEwqNrZ9iyrqPHREvJrmqqjVPgdD0SIIkSJJMxdE/JUSGHK9TgoZkmeHQQipOo5Z2X5MQxF5lvaC66kvTZXf2mCTXI4og3zwEn7nd37nZtq4uGbKfipZOk3bs64JsOgeMVbucpe7jJpaePMYEGkhgKI+qXGtp2mgNfMuASNDYjA988wzq4CK917YgRqeUZonoIyjRPPRF/gvvX7st4mGd4+jwUFEOJaH9w+A8e7blnChfI94db5Dg48+hOaQWa70beZgiJbOswVk8+e7FAxp++iDgE3xutQXB0wbeF/k0eRotkAvGGpxho7mA1+zVma9Vn3WoQlyZr+kw4+OqFRG5Gd2ekRJPIM+MBT38sQx+0yDLlKrOz5FDILIpOqHXKq+tEG5iXBKmlOu1cbyZe5bSzwn60FNFRGZzZLf/va3V91aC4Z4sAm6R/sxJDVgyP2WoMBT6ot+HnlMAUO0Q0jRtpolSiIPe1o8AUJTTWp6fupv2hTfAd4TDstBCHDg3bfJ1/cAkEwV36NJCWFy5BFK49IX7TsFQ8ASBwvfY0nWAEPALkcM7Rv1XUujXCpzO7Y9LdALhu73/9yrBV3cnue01SWJ6K/s6DpnauSpQjtA+wFoDAm1PcKkcPfhWt93PZ4Tkqzy6SiBIXymEiG7lIZZODDCK42JCrn0oARnA7nZOmY0OWsJgjftzpw4UjzzgIEaMXjSAgBdYya9wwJDCLveD/nXBpr8ru/6rk6zUdMGcQ2+SbhfLw3IGGnax/p7S0naaZo1v2lKfA80J7REYyZQafr+mBq1NzDEfI2rBiSa2PQJMMTrTN8iSCRHjj6RB42Za+b2Qfovk66a8B595WjHd7MFesHQJ9/y2AaGdvOZHnipgQ0E5ZNOOmnvlFNO6VTNSJ5TiJ5jnhxppXSKgrWJH8QE5iUuCTCEKyRtAzJCtv8BjCEBRJSd2ca9/j8oMeuXN16EkABrzfyRhA1a4v0MDSilehpk3Cu45RhYjfvNrnHIauSwwJCy8YhDju7TTOTlZ6pl5pnzTnAjB+Ln3JuXI/6n6RThPL63KQTvSGPuHpgUcdv3L3/vbp/QpOLZ+W651Xuv9RWATh8Yco/rom/pW6Ylz3OKR6s8ou1wwpRJGRsYylv16P/fC4a++jv/bwNDR//5r1LD0AwZUHBouJqLDm2rCcinEFPAEI2N4Go6LUTKvpkxMCSKMLKwWCbMNmazY2DILF7ZaaEQhYGBgxLuuvJ+6EMf2q3HNIXcPFRGEb6vvPLKvd/8zd+cHD+GiRIRmlmkNvbMUQVDOE20Y8IRTBXtSKsy9v5NSRdvhsYyvjemxIMSoA5oB8bkz3zWJwGG1B8JnyefvsF9fWCIRtSCuTzPpkRxnwKGaH7TttN/qUcDQ31P8uge7wdDX/1qA0NH97mvVjOERjFCEAyD0IjkLEaQDQ/IbPrXf/3XB/OcAoYkpAM1o0cmpXYvBfQDhnAUaI8M5K4DnhA2zdDTWTR1v3LauOQr+0EQVNNGMcjqiOVNW2IAWUPM4BF4cX2mer595jOf2b93jNOTlvWogiF1NIjjrYhtUxNrKW0X7vkmC8w54QWVnp/z2+QgvjcmHr8PSmgceTrK0wTF90MDBnyH8BAzweAxxnuPZs0EJThDJTD0q7/6q911TIE1EagjL/saMGRtOmXFn4u2C6DPYUOgUBOnqdGs03K037vVAg0M7dbz2rrS8vLitdUnZoFi8RgchzrpOWAoOEMGJp2mDjaVAENxDGeIyt1GU0Stb/bJbASEKKeNNugghQkPADNICOi2piD7Alm2OVom2j6z81pOjbKbxSNaMzOOCcBpEL3xxhtHIzyvTaBWNiYS744y4GjVCjKvQIxz3hXgIIj4tfy12nIh2uODrUXWrs3Xdd61+IZoOH1XeEGecXx39jmBOgVDwJU6ACvIzCmBurYsQ2AIANUnmQwpa187ffazn+1AmPybHB8t0MDQ8fGcN1bLMTAUGXMLf/rTn94FVhNcLdcyLAFD8uBO/ZKXvKQjaYZZKz9GgyVooQ75bne72x6tltnfgx/84G4wjLIe5J5mAXjgWqwDXlOYMOaSpZUDCdrztQilIHe1gpcEYNQI0MRkUiO1YIhHozK4Pmb7Y+kzp2qrWqExQyj/0Ic+NAkoRvpAmNg91rSaA6gindLeAE87A9zNAcClNKcco9FkCvRd0VTRsgQYEq/Hd4lADfg/7WlP249Ojmgex2ibyFpgCADV7zATK9cYCG1gaMoTPxrXNjB0NJ7jodSCZkVnLnhfjQgYiKAoIrT7kHKDTLoUDMnfjFI6zGIRVZh2Il2o1Ywc1whxUzl0vmuZo2raIL3G4rHKTMNlcFxbACwuwnPFmlxAwlQ5bDCkvExHYhzhidXIVDAkTUALqF7iZWiCYI23tYWWRgwlfLrUHLx2PkPp6R8QvE888cQODNl73wnAGstx+N83yFR9u9vd7pglbZaAoXAa0M8w1/ver7766ioOoHY79dRTO23XYbXfUNu2c+u3QAND67fpcZMi05eIrbUzW2HtRXC1uU+kaK7KOq01wBDtxe/93u91JrBYwykHQwZJJE5BGXV4PJ6igz7oB8eUgDuClxDgbc0yNDB0/IIhGiHfgHfgIEnV6fsLTDNF4esBPrRooWHMwZBraAgRmNPlMJaAIdwufYyNKV2/M6WvUhYelGuGtkjbp/3erhZoYGi7nsdOlcZAzuNqjujkgBAaIqYq+ymxQfAMgjOU5k8rhMyNL4RUnYMh14r1wvzDlGD2jNB6UMI8yBNJnfGUpgbwqyknXgTehAGg1psvTxdQsxAs00Kt0JQwRTKDMNHVyCbMZPKdqhlST/WtDR0gD5oPmifaRuaXOeL5MykC6GsLjQbzNFNVvG9r5zGUHucFDgu+Rd+kbzMkBUNBljaRyWUOGOIwQCPqXdTH2JjJ5oj12Zj5mhz9Fmhg6Og/443VcAkYikIJtshkJXYQYmPJKyyuTfd9YCiuCVI1XkZqJovzlm1gLsNlsLxETr6O69bcm2kabM2W1XdtsrSyApTyMEBPAZd5PUUFRiqeIjyIzjrrrH0OSM292wKGlBXJHA9oqggsyStpriAZu9+EIAUMc9PL7wMGvG/yQNQPr8/8urX+N6jIE5DwfQnLkAsw5LsH1JCl+0yNU8EQDRMwjotkBful0sDQ0hbcnfsbGNqdZ7VVJUUw1MEKy79EAgxZOgP3SJq4AzaEyj4ZA0Pu0ykibHKl/+hHP3qMt1KAIdolpGqLj25SaKMMRNY6Cp7U2vkxARhQ8VCG2m4oXyYKA5W1woQtqBVaIeYYYML9tbJNYEh91Vv5aX1qxWCOfO2dmiu+g0c84hGdpmmqu35tnszC1157bRdgci23/lLeuHAmIL49EaZzMEQ7Kjq5JZ+sZ2j5lD6pAUPSiz7Du68fucc97rEKGKJhFfF+rmapr17t+Pa1QAND2/dMtr5E+C06MertpRJgiHcOEQtHJGsbEwLug841lxow5B4DnBXszVABoiBDivdy2mmndRFuIxZSylXI81vyv3RpatYMtpeXx+DNXZg5ZK7oDHjZIB5bcX6K8Ig799xzJ8XOUWZgiLdajdR6k0nLYI8Xxj17CkGeqeaMM87oVmyvKVNcY1JgqQlAN7wZ41ztnoeVkA9CUEwpc236rkMmFlDwne98Z/G7mpJW6Vp9A+3Wd3zHd3SAB4FaANEQ37JJCq0QgvKYOXUIDPmu9A/MWPoLBOnwyAS21tAMKbf+YU6Qzahz2+9GCzQwtBvPaatKuUkwpCMFVGwIlZdeemmnRs8boBYMSQ9x0zIcVh2PWEcGYoRKJjJLCggIJ78pGoG8TH3/4ybh4AytyN53b+1xGg28k7HFSYfSY6K05hTOxVTvtjlgCN9MfKE0QN9Q+aaAIaDXbJ7Gb8rivHPBkDhMiLa0IHOfge9KwFLmZ9qITYg8EPYFjFziadhXNqRthGUmaBpXJuGUtEyDdsc73rHj+/n+xiYgfWBIPThf6B84Y0SfEek1MNT3hNrxvhZoYKivZdrxYgsw99xwww2dOWYN1XGuGUoztao4zY5OWyfqZQ2pBUOuN/s84YQTumB0PFxSjZZAjOpDHW42G51p5LNkT30v8jOCto5/E0IDYmBbQpaOctGiAIxTAizGvXPA0GMf+9gODEUaY/spYCjS4i3I67FW5oIh6QOTgPXSxViZfDZFqo52EIMoIp7HsTX2VnjnOQaYi+eDPE18u769m266qQOoIlHXSAkMpX2Q/gF4z2VNMBSE7LwPyvNs/+92CzQwtNvP78BLz5xFxQ3ELBUcC2RfM7uvfOUrvcnhcCBaGvBtVl6fA4Z01AZ8nRqCp5cfGAJWdLo/8iM/0qnwgZglwjNJOc3uBYI029+UmOXTagkguUS0DcI0jyqmlCkiwrDBj8lrikZpG8EQ0BpcuKlLMTAxxr1LJwq+C/yeTYpFUJlW47tC8F8iOEk0oLRBviHeZMCQ3/LwDQMWv/iLv9gty1GTVwqGvOPSkYfvakgD532OPmMNfpTlhPAaw8xeU/Z2zW61QANDu/W8Dr20a4IhGhrcIyrvMTG4MOFYWRrI4BlTcq0vpROaIR0koXGiYjcY4GgAYzyvqPMNQExpFtWcI/JSNuXcJFla2WhwrGEmlsyf//mfzynu/j2WAtEmcwSBmLlxqmwjGFIH7WoJktqV7NN689RC2LcA6BLhFcXEZyKwKcK98gEw3lUbc+JcrZbvE4Bj+sSZwt0RfFMwS27111xzzf46X1PBkMmXEBmApnLSttaIbwJXcOm3Ia8GhmpafLevaWBot5/fgZberAigQFSMoIZLCjAFDKX5AC/MXjxWeE0ZLIZmbDkYkhaOAY2KqLjU+qk3mSi1AFeJuJ2WI/1tAFAOYGoKRyVNY8pvBFuDDNNeBLKbcn96LZ4UMGQxzTnSwND/tpp15vBY8IeWkqCBdaEKxIrSUW9a8M4Ajqm8Odcj7r/whS/sihjeZL5R3xcglEoNGJKG74nJEKDBQeJcMUXWBEPveMc7usCw+puayduUcrZrt6MFGhjajuewE6UQWA7JGJBYg1szFwxRuwtYyEvMwAMQmEn3SQkM6cDVw0Bj9eocDCF5Agi1YkZtwVrxUmrXw6pNu3SdRTDNkM3Ilw6UCLv4I7VE5rw8DQz9b4t4Fp4J7yNxs5YIc+Wf/dmf7T3sYQ8bdD9fkkd6L4I/7Q4OXa0ALU984hO7iUUOhrxTvq+UQC3dGjCE5+W7pmWjGWLeBjSnyJpgSN7WSzMBY6ZvcvRaoIGho/dMN1YjLqxW6gYcLOK5VOaCIfniDN31rnftZovchJEzf+3Xfq1YpBIYSi980Yte1MVDAX7M5pFoH/nIR3YdsWNjGiLaMuYBqnyRjzctCOUItlOiQw+VSV3nRkDmUo5nNCeA5LaayQBlJjLhEPqCAQ61p3PCBTCXLhXvoyjX+C8HsSwEzhQOHTA35v0I9JlI0LAC1Pg96THfQ0mGwJABCbj2jvuu8dC+9Vu/dd9lvpRe37E1wZBv7XGPe1wXG6lE2O4rQzu+Oy3QwNDuPKtDL6m4P4CDzQxSp2mbuxTBUjCUcoZwNBCjo0z/9E//tN9e+D/U/4iXOBK5mHUKeEcbRONC88QURz1vdjrE2aDGRzy2jYGmPN+p/zOH8ZJBel1KmJa3uDaegfRqI3/nZRZbh5ZuiiBZ42AAC4BnrczxJgOQDai4VVMF3wXIniOAwE/91E9VLxQ7lgczjfTm8JjG0s7P03J6/5mKh0jVJgG+ERsTlm8LsRl4wZcrgQbxqwB531kqJizx7XJkiMCdKYE6vb7m9xIwJPClIKlRJlqu6Pu+/OUv12TfrtmxFmhgaMce2DYUl82cpwhujU3UV666tlrNCE8dZgTpzLHBl7zJRLKNMjGbKY+ZagjPsT4+j8FG4DZxYnBxrCQuaJ9VyS2XADiECPSms5Y+IEEzsmkJsjSTiU5+qUTEaCDQgDNX5oAhGgfAk9lhiswBQ9I3+CLzTpUlYEhePBZpUYGCNczK3mkxqzZNqlb24AH5XrznwEoqJgyAOROWII5AgwkSMxKuUH593Ot7f/7zn9/9i2eHeyh9wMu3yx0//WaXgCHefdJ8z3ves5dOjqIspb1+SXlMrpC1oz/ZREymUv7t2OG1QC8Y+s3PfqmLRms2aqM+9bJTic6ZZR1eFVvOm24BbvYIjjYdpI40tr5ovMxKVOtzpQSG0rR0qsqDFBplEdtkCAzRAhm0ED658MrDkgHSQWb1sdjMgH0Hjvell5Zljd9MJJYYWEqWjrIw/wB6c/lNnitNGNPB1IFiV8CQ9a1ohpYQoWlCRDqf6qYfzynfi6J+29vedtG6c3maQ//7frznPDl9R547ZwXfh0Cmzvn+gRzaV9qiMTDk25cWTpQo0dKgdSnJEjAU6clDv1QS33P0D/YWd1Uea5I51+T4aQHP22SeR2jgHvtvOfHGZzYwdPy8B4tqyowkZpCNep27emxIyiXZNBii6lce/IQoC81PH3ihGQow5F6qestSWFuJJobbuZm+VcAtYmoAkP5cMFFqk6Fj2waGaAasAaVNpq6ltStgSOwrJkABOefKroMhsXy858xzwmAAdQCi78OzN1kA0n1n3okaMCQwpW/ysssu67SD0u8LZbFpMMREHv2DvaVClEc9+yZyc9+Fdt92t8AAGHpqA0Pb/ey2snQC8AEWsQm6xlRgw3mIDmbTYCgaR8DDKItOuw8M6fwscmqGS02vE3ZfHGMGwEliFrO8x5Arf+S91h4nC4FWlOc1eElMAAYzA5zZ8BwBFM4888wuZtPU+3cFDKkXLhjwO1cABPwo77t3aqkw99BYSi94NUvTrLlf4EI8KJoTUaSDQxPflu8H8KPhAZL6PL98X0y97hM9uu+6KNPaYAjfJ/ojew4SUQd7prUmx2cL9IKhX31DA0PH5yuxbq2ZVrnc2gzAwIiNLX6TZrJSLXCGrrvuui5/vKBcDc4NmLs+zkCIwUxEXfXg7mtWLCjjQYEhAAiInBpjJcpf2iMua4e5QnOG74Us26f5G0p7l8DQRz7ykQ4AI5qnvLGh+uXnDPg0jLgrawgAiwcFqHFqOAjxHZgQ8LADhOSfhw7wXfvGcgHg4ru/8sor9zlD+XWl/9cCQ9dff31XBtyk6I/sh0JylMrTjh3dFugFQ3//B69rmqGj+9wPpWZBaNRhnn322V3MImp125RlHBR+jDNUqqB88WTskWO5y8pbR0/EQ8EXApTiWKSDTMkEyMNEtGUcormDY6Q5tMddQrxFmFWetQR4oeEC6uYKgCaswVTzWOS3S2BImT/84Q93ISXmhpMQqI+rvdAUa3oiAcmALRC/SfEteAfx8Dx7pPmc40MDa8KQmhQd830BHL45myCSQaCuKfNcMIT7EX3LRRdd1IFR+X/P93zPvna6Jv92zfHTAr1g6P97Q+MMHT+vwcHXlJqfJwqypY3KnwnIVkNYnQOGdOZmqLQ6BhBEVHmb8ab50lohiKYCJIXLsKBrt7vd7brYOrl2Kb1n7m/edRwWxHSaE7+nlG8Qnpl8DFpLZAkYUjeg4txzz51sYpvrTUaDgujtvQoz7ZT6LwVDkRd3c2bWNbWKOC7MTt7fOXWLsvXtldW34NsB/gU5FbEdWToVIIOmJd4z5UG+9n3hlhHt71gOpNJ08t+1YCjNV96/8iu/st+34DX1Eajz/Nr/x28L9IKhE29sZrLj97XYfM2BIaRkLrg2UWy55drMosfc7eeAIbwGan5B3WheECXlzXwnXyucM0GUwBDTkCUHeJE96lGP6kjVTE14D2uLtdPC5X2qxqyvLIiwtFtm6XM1OpH2EjDEG8rAyrxDYzJF5oIhfBfPiUdUrYt1Wq61wBCeFWBWu7ZWWoa+30IuML8xP83VXPWl7TgNIr4aojEHA2ZkZrKc8BxgiKt8fMdI1b4v3x1Q5Xt3LL93KP9aMGRyE/na0+JG3wLANTA01MrtnBboBUMP/+X3NjNZe0c20gI33nhjNyhQY4cY6PBibExROtfYAJ9c5oAhaZi9SjcV5ij5IkubuVLl55oh1+PIULXHdUx9OW8iTXfOb2RpMY6Qm2s0ZLV5AHO8eOYGV4x8DIrAI9f8ObFzkM/vfOc7zwIlc8GQsotB5bnOWXKEWU/wRgDe8hhLBPmYJmdNAfCQtH/4h394dVL1s5/97L1LLrmk0+bgTXl2iMa5+KbiuviOmclCvMu8x/qiUsd1+b4PDNEECaYZfYTvOvK158gRwgMUUdrxJq0F+lqgFwyZTeF4hL99izPU14Tt+NQWsIYXNXaf0GLo3Hii2XBcAKTYzPjWBENRDtwIgOdOd7pTRzDmHZMKIGCmLHqu8p1zzjkd92gpwEjzADTmLpiappP+NigBbcwTQxGF03v6fnsWc1aoj/R2EQwpuxAK559/fqchibrM2XtXgF3AYq2YUcpBg4gbsxa/jCZHWuLtiPROO8TEzJkgjSxtAKFtpJkCdvLI0tFGa4AhwU+jD7Cn5Y0+Ysz0+7znPe8YPlOUq+1bC0QLNDAULdH2B9YCY2AoL4iZncjQsVkPCyjhKs/cMsWUVNIM5fkhgQJEiKJmmLYw6TC3ULuLQk1ToEw6ZOaBMdNenk/+P3KzGSxi7JrCld6Cl4KJLZUGht63tAm7pVSYW5mP1hKxvkSCZ4ZaStL2rnMuAHq933hJPCyZyIKsTRvlu3Cdd4u3XB8QUsc5YAgJmsYLt5A2ykQl+gAa2ilu8A0MrfWmHd10BsBQi0B9dB/74dZsKhjKSwvQIDMjRoqCq6PW2XqZx6QGDEkD50AnLH2bTl8eFo/ESTCrD8KqGbSAbf/2b/+2f2ysHOl56Uib+WRts5s2wSm58MILF4Mh2gJgaIlb/i5rhoBv5sGa9yx9vvlvvKkzzjijiyK9FEDnaVtxnvbGs5ojyuNdP/XUU/fDJjhmDT4OB5wHvKucDuLb8B2OmaDcU2smU3bX875D1rb2mX3JXF5bxwaGalvq+L1uAAz9aTOTHb/vxUZrvhQM4XBYD8wA/9nPfrYzVeloxQEakylg6PGPf3zX+RsAAAB54GUgOKuDKNQECLLg6P3ud79Z64aZyVsqBF9oKbk5rz/uE8Iu89jSQVzdRWReonnYVTCk7bSh1dwBgSVCk8l78uEPf3jntr8krfxeJG28JMEN54iAid51zgXBCRNXC/lZJHbaUt8Bc67vAocKSFwLDGlnDhTy4LFmomFSAtAv0Ww2MDTnbTi+7ukHQ596SwNDx9e7cGC1XQqGFDTlDCHW+t8aWQjQseEY5FILhvAipMfzjKuuRUXlYaARJwWhlto++EIAERNaeizPu/S/fET1xSHJYxuVrp96TBwag8sawouOJ9ES2VUwFHUGCpgyl4r3hWkJAF5bmLKYtphxp7xT3mnve7qAbhwDqgFBXB3fATCHixbH0sVVS/UZ0gwhVcc3Kz3cJHlwsOgjUJfyGDrWwNBQ67RzWqAXDP3qz7c4Q+0VWbcFaD14YiE+Lo2cq7NE7EzNATpoQCU2WgwcitjwHPBn8I2s9eXlHxImMe7E+BghOmczVoOCwSw3axmEROcNkBT3lfbMe6997Ws7LVfMwkvXzT1mQWX8I7yLNWQpGNJ2wKT2nxOwcok3GYCAQG5Q51k3V9YCQ94p3lCef+r5NLdc+X3ACS6b9/MLX/hCfvqY/31DSNCeCyeBVHiTibElcjPTcQqugBWLmtIiDYnvzjfIfOcb5QAR36Q902t8syYrHChC1gJD6ieftaKAR/na/ui0QC8YanGGjs5D3paaMCvhFyx1T1afEhjK64lozfwUGwCkM2ZOw/EZW5erBIbkEZGqpWtwl6aV7IP/ASwJbui4rTTwI0vT2tSY9vJ6jf0PWGljA9kacZC0ExMJN+Yxc8hQ2QAz8aTmyhIwJE8esoI9ipM0Vzwz2hPetWuIARoIWSu9tExjpGogxfspsKfI7PGuIFDHuwtQec/TyNKRRy0YAvZwfpjgpAtYxTdp77n2yVpgSPpvfetbu8Vmg+vXl2c7fny2QD8YetUPNTPZ8flObKzWBw2G8oqIhKtTxkGg8fmP//iPTrMUICa/XueNLG1w6OtAAR8AD7gKUjXNVxC85Ycwm+dhtg2sbUJ4KZ122mndwplrpI8jhPCLF7VEjgIYUn/anEc+8pFLmuKYe1/3utftXXvttcccW/Of7/7u775ZxGgdPy2m9xRB2R43yHuKQO299V6bEJTEdbS7J5988r6HWX6da2idXBd5SJf2p1YaGKptqXbd0hboBUN//DctztDSxm33H9sChw2GcBxocJixuAkjaTK1UaGXxAKbgvXhOCFqlwQYeuxjH9uRqsVkUUcRdg2YZttmxVyeY9YdaTQwFC1Rv98GzZDSHgUwRBsldhBNn2+Btsz7DhDhmAEhzMB9YMg3w2SIRN1n4gV+fV8I1kAQTzzfHweIWmlgqLal2nVLW6AXDLWgi0ubtkXHZd0AACAASURBVN2ft8Bhg6EojwFAJF0h+vFpmCoQN2NLI+fimpx44om9HCcEaKYy5gQkaOBIOtagwiv6gR/4gY63wbTiPNMEwjQuxxjXIso7Zf+Zz3ym418wCUxZ9mAoj6YZOrZ11gZDODRi9HiH9LtrCzMY/pz3lMnTu+i3Ywj/3kt5e2+dozHy3np/028hLRePOrF+UvnDP/zD/W9IWtrJ9wV4ccMHnKZKA0NTW6xdP7cFGhia23LtvsktsE1gKOUMIVUDKLHhNCB624AW5E7H+jpzHTYQhAzK5Vg6ETwRwdQ53CDHDDQGnjHvm8mN+39vQBA1ozfLX0OQjZGOmTbwnJbIUTGTWatMFGm8tRIfbE4b8Xy0+G8f+JiTZnqP9L2b3lHvI6DChZ7WJo55b72nJbJ0nhYgJb34Tuwdi2/IPojh9g0MpS3Yfm9jCzQwtI1P5YiWaVvBUN7c4vIwedkQfnl9UfcbRPo8kRBg8SfwLQh+TaQhWJ0ZuAHD6ukC2OEhrS3W3aLtEjl4rfStkXbeeeftWRB0ifBoAoYMoHNlqZkMQBQ7irt46rE0pzwf+chH9k4//fSOTD/n/vwehHcL2HJrXxJPJ083/qeRZNqyWK+I7jwD73jHO3bvqHw5BRBg3TUlwQGixWIWftrTntaFBYh33B6IKkkDQ6VWace2rQUaGNq2J3JEy4OArMPHHeCZtFRqvMn68hDaH1/Ikhp9xOi4lzbklFNO6cikiNci/PpobOm9AvKJ2vuxj33smOPSeehDH9oRVBFZgSYaAKTq9P7Ib8meac4gtZYY/LhaW25hKRh6zGMe04UQWFK2pWAo8gYWmYOWiNAJZ555ZrekxlrPEQGfpobX45riOdJwPuQhD+k0WZwHEKaB+1RcBwwBR6mon/edwwGHAsRqWx9oyu/ldYaXBEhNlTXNZEAw/h9S91rPbGp92vXb2wINDG3vszlSJTOo0rJYwwsIWSpLwJCZtxm4jhGhc0iQQ5nHLr/88o5wSrtz73vfu9tSUnVcB4wgoabC9KHeFqc1I8czuv76629Gqk7vmfN7bTCEM4L7ARCm8ZzmlO2ogSGaN15SokjnC/rOaR/3bAoMMc8y6zGhWlBVBHXvY05kxp1zXW7CFQXaOy/Cuu+Gds1iwvl1pXoLKolo7TtL43WVri0dWxMMWWxX0E91WWryLZW1HdvtFmhgaLef386Ufu0YH0vAkEZDXsbnMWutEVoJ2gRxZswwbWbWTGo255BTzarNwkvC5R3AiIVgDUzuNQj1eeSU0ikd46ZviZJS1O3S9TXHEF+f8pSn1Fw6es1RA0MqbHDlMchLag0R6RxgAWqXpsksGe8mDhmOnPeVVlT065LQejLnAu9xb7zb3ndEa9wxkdmDD1RKJz3mfbe46lxZEwwpw5qm+rl1avdtZws0MLSdz+XIlQoYEvDO4ou2pTOzgwZDHoiBwoARAoBYr8vmHCIqMwdiKs+aklhpm9ntCU94QsdDEn/lrLPO6swT+Uy9dH9+DIFXW3CTxmNZUxoYGm7NtcFQ5MYDC79KBPE5QgsD+Hi3bBYA5vmVm78ibVo/GhzgXLyj9L32bnMwIAA7ExtAVSvbAoaYr/U7tGRMfGsEfq1tg3bdbrRAA0O78Zx2vpTimFCzx0Z7wg28tHFnH7PpbwMYSh/Kl770pT1BHdXv7LPP7sxhad0QWAk3dYMS0wMtk+vxMHA4mNHiujTtod+0Tbe//e17wdfQvUPnaBZou5hN1pCjqBli1mL6BfSXErLzNn79618/KxAjgj9gjrQf3xrTLlf6NIq06+L9ROin4cINcw9tUEm2GQzhM0V9SnvgMNrDfhMRv0tt1o7tTgs0MLQ7z+pIldSMEyG5tN3nPvfZs7AjQmdpA5QOAwzpUGmGlGlIrMFk9mlWHvUTRybq4l6kajNwdQE8kKpdyyNnDAhG3q5j0rjDHe6wqnlM+pYTec1rXhNZLd4fRTAUjUITCNiuKd4DGp2xdy3N07XPfOYzu/dIUE/iGOK+dzL+d+xZz3rW/rsZ76mI60OC68fc1heIsXTvmpoh77uylzYAKL610h5gbdJaYKgFGhgaap12bmMtwA0cAbm0ITne97737UjLiMv5Rm1/GGCIGcssGyF0iOPjOkDi/PPP7zhJ6ogHoh5PetKTOgI58qkB1IZrhKTtujhW0/DMYpaF4Pq/lit95NvAULTE+H4TYEjwxXCF/8pXvjJaCEDFu0W76D3yfiEs85xjHvJO4svEt+SY63xHPL04OAy59CNcc5+f6vq/JhjCiYvy53v1VJ++bak35OgDaBfsfAs0MLTzj/DoVQAXA28CYbO0IRwzNdGI8HYSLTe2G2+8cXQ1ei0m5oyBgLZnCunYshqXXnrpqEccjc0v/MIv7D3vec/rND8WqFSXOKa8zGPIrcxRAa4ionXUh8t+n+B5uL+PENt3X83xtcCQdqaVoOkwGC+RtVzrucV7T0RRXkM2AYaUy3spXMOQ15a6eFe8Z94tZlNC22hhXSZUWkjXeA7xPXk/ecF5/9/2treNBukEuIEmJuxaEendt1rLfRLrKN772DND0rICOyYYUf58/8EPfrC2WO261gLFFmhgqNgs7eA2t4AZMzOAoHd4ED/0Qz+0v+FLmPWaIZe2fAkMxNIpg2ItGNJ+gAyyNPJmyD//8z/vvfjFL94vL9dsBGpRnpUX+ZXKn+vyCSec0PE/HM/dt4ErXj2A1ByX5ShPvqdhMoghZC9dmFXauDQ4VNZ4WyprgSHlEC350Y9+9NIidfczwSA8K9+agmwvkrN3A3gJYUIWi8h7QUt5zjnndO+Udwtx33HAR0wv6+LF98Esm4qYQnhuNTIHDH3v935vF209Td/SIMpX2piSo6yx580IDAGcytCktcCmWqCBoU21bEt3oy3QZyYzi77qqqu6GELiCOUbDQVPktgEXxQV2f9mvfgIQ2JQF2eFS/7Xv/71oUv3glQNvBmoSmJphygj0iugpCwI5yJaX3jhhV2kYOawKDPAgthsoFtblNkK9cq1hhwPYEg7AaaPeMQj1miyY9LgLXjBBRd0JjPvkHdAlPO73vWuHeGZhyaTcrwbNHrAp3cK0PE8S0IL87rXva6XLJ3ew2RHC2ni0BeBPa73TURZfCfibsX/9lzz433P9895znMimf392q71+wm3H60FshZoYChrkPbvbrRAHxgaK73O2EwzNuTR+M1tmJYFUTPf0nSFBTjppJO6ZTXS432/Rf416x0T5owoS+xjTSnljLI61sDQWGsOn19TMySnTYIhgBigBuS9F/EuOEbbE+9KnAuy9FALIFDTotYIzdTVV199s0vzb8T/JglRnihn/G9P6zhFGhia0lrt2iUt0MDQktZr9x5aC8wFQ4jblgOJLTRD/rdmE62SmXa+IZCGbBIMGaCibPa8g8z0DSy0AExujuFPjM3So7xT9k0zNKW1/vfaTYEhHTSNJbMRcr215wJkcId3LH1fRDg/CDDETJd/I/6nCYryhGYo/rfHB5wiDQxNaa127ZIWaGBoSeu1ew+tBeaCobzAKWcoSNU4IPlmgMFPsj31qU/t+Bg6e/8ry5AAWVYDRwofEpwT14n2G8J7J8qCICskAY6IAHnyRlBdY3kT+SE4v+AFL+g85taKm3O8mMmAZZobYHYtzyWcs3jnEOUB95e97GX774P3AneM8Ej07gBlcSzeoXTvOvwm1w1FkcZL+umf/ukuf98IQB5lscdVi/cy3fMEDSlxhuJc7b6BodqWatctbYEGhpa2YLv/UFpgE2BoqCKC4PHYSTerfltqIGbsZu2l7R//8R+72TqNzphwcZaembflGVL52te+1g22wFBoBywWiggr31R7ld5X+1vewgGsNZjL93gBQ+rKs4uH41KNHRK058nTK56zPTBUMrf+wz/8Q+c08KIXvWgPeBgSwQkvueSSPTGFLJxael8dQ3DGX2OiE1sofe/9xiEakwaGxlqond+mFmhgaJueRitLdQusBYZ02IBOH9F0qEAIqiJpW/iyZDKIY7gdAt8xYaQmA78RWXNBXubp1Bc/yGAUpjPrq1l4EvkaH0qaPOZ82FNEHBruyo973ONWc9Xn8s8LDhdqDU+gNb3JaOkQdnnv5aBzSrul1wqLIOSD50fLOEWQ4uPdQJb3fAGRAENMYkBvLkjV3i8ryItungpnACa2SNfe4rLSwplCoI53NN8HWfrZz352B4rSdMd+4w4xJXsf5bFEmmZoSeu1e6e0QANDU1qrXbs1LbAWGFIhM+qSJ8tYZQMMjV2HQB2DWr7nQl8SXnFizPTFQEKgllbEGRKtONJ2bOpgbM0mbtpritgvd7nLXXo96abmtSYYkjcQS7NWE9SwtqwCF1rWItbzqr3Pc47nZy+0QXoM4CkJAnVEm87P0wJdfPHFx6Sb5lFDoJ4DhoBLMbTEL1oqDQwtbcF2f20LNDBU21Ltuq1qgW0AQ+LAiCyNqzEkrgv3YqYonmhMEY4xR+Quxv5nmrBeGe2A2Ea5MD+5XywgoOzd7373fh6O0VBEuso4Jg0MjbVQ3flaMEQTJGJ0PCOaw3hH7F/72td22sQ4VooObSFdpHpawUgn3dPu4JxJA+dN1OZIz54zQZ/gFiFDW3x46LrS/Q0MlVqlHdv2FmhgaNufUCtfsQW2AQwpGF4HN+VaiVXrBZ8jgun18TYcv+iiizoPt5yzESvUi0PDXVmspIgNFMdCK0BTEff3LVDZwFDtExy+bgwMeUaehejQNH80NcxitF4hCPQAdnqMWS+eYezvcY977Ana2ff++EYiOjlzLoBcK0JMCDUxZR2ySLuBoWiJtt+lFmhgaJeeVivrfgvsKhiyKj2PLURYBNYxYQZBnGX6iiUK7F/1qlcdszQB4MPMhfeD3GpmbwB0bWpCA95iKQMkbdcxF/EwoqVaU45HMxnTFGCJKyOSeHCxos09IwBIdHFBMz0f2kIk6LjGquqCJ8b/9rR78fyZdC3se+2111aZ4z760Y92HCHcuFppYKi2pdp1R6UFGhg6Kk/yOKvHtoAhYMWSCQijY9Gr00eE5+HeGhH0jjYAGdYHSxy7z33uc7MNORZPRzwirvI2A3PKFfHbmlU0Ep/4xCc6zROAttQLKq/L8QiG/ud//qd7TjQ2tD/Ml8Asonv6DJi2rNkVz4h2h1mUNqb0XEPrx7wmsCGCfRzL2z3/nwkOCK4VUaSRwZHpmdmmStMMTW2xdv02tEADQ9vwFFoZJrfAtoAhnjPclC3eSitQK1PAkDxocSzL8O///u9dFo6Vtve85z3doJtG/fU7HYj9pqEAfiy94X/XNAJ17dPrv46ZjBYv2hsoyo/FufwZ0fYgzpeea+TIvMq8xtxaK1PBEI8zvDbge440MDSn1do9h90CDQwd9hNo+c9qgW0BQwoPDIndMgUMCagnnpCgiTViQLUuGt4H8mufuI5GhuYB+ZWpJt+YWU477bROY2ExzxicHWOiiW3q0gl5mY4XzRATVrQZknKqBQJc4hhSdP4s/B/rddESMVv2ifcMsHHdf/3Xf/Vdtn+cqcsCp7/0S780iQQNDJ144okNDO23ZPtxPLRAA0PHw1M+gnVcEwyJgWOg+j//5//sibw7VeaAIXmIJtznWl8qA62QeiNLB4G6dB0CNbdm11nGAeckFSYQ/KBXv/rV3WKwwBDPpjh2yimndADpiiuuuNkq4vhFNSLqNpCgbQzKa8jarvVc6t/85jd3YKQ2YKVoy7GieuwR1LUhQKwNbUxdjuFyxbEvfvGL+82gTURxlga+lvYaEgRqpOqx69I0wrWeqW6KLAFDtI2ipIuJNEV71Ve+5lrf1zLt+Not0MDQ2i3a0juQFlgTDCnwO97xjo6vUTPjzito+QOzewMlgnStMGkBDGLSTAFhuEYI1H0xiCJ/JO3v//7v7xZ1lVeudRBpWpRh1wCCvJhokwzQjsV2/fXX793mNrfpBvcnP/nJ3XWuzTemvAA+Bm4Aa01ZGwwpm6jeVoB///vf3xVVyIK8Xun/AXLufOc777dPtBNwG9eKA+V4X8RoHKHnP//53TXvfe97e5vJe+H9iPek98LshKjn3kdcMOC3VgTsRLwHaJC6pwo+E3J4jXNATdoNDNW0UrtmjRZoYGiNVmxpHHgLbBMYUnku6yeffPLexz/+8UltISaQyNTWiUJcrRUEamtEIW77iIdEFGhkaTN+BNySWPeMOQfHBan6s5/97H6wRAOrKNLO25C0w7Rmf6c73ak7zmtN/d3L8wkvym8bbdVSWRMMAa3KBVBaVgXA9L+YTlFPJPOoJ3MicnOcAxZCRBF3Lw1MnNfmJREx+jd+4zc6cyfgNSSelffC++E9qZWvfvWrHcdMnKGpkdVpdESznisNDM1tuXbfYbdAA0OH/QRa/rNa4KiAIWRZ5gTk2Yg9VNMg7uNCj1QdsWT67nMtEw2ydN8g7RrecAb2s846a++Wt7xlZzqMNJ2LjRYlQII9LZVzzE6AhXuDHOy3rda8FvmV9muCISbCKJs6KK//eWlFPWnBop6nn356RziPc9orxMK97gU4S+fjOnuefQCn68aESzxA9oUvfKEjVY9dH+dpdgDRmjzintg3MBQt0fbHWws0MHS8PfEjUt9tA0PMQ9Z+wgHqWzqhr+kNdgjPBr8pEqRqy30g4g4JExnireUVhgLpxXXMEzgtzD25WOrD+diYxPCLrJF2q1vdquOLxLnYczN3TWljXqqRKWBI23ANL+XnmDJH2WJP2wOUxj24VnGuRG7G4WIKZI5y3RhHRvwhUaOR58cE10owT+/UVNMt05x3YqpYpd7z7gvMWZNe0wzVtFK7ZhtboIGhbXwqrUyjLQAMma2Lv2MQW7oJYGfFceadJWkxGTFPTEkDgAIinvCEJ0y6Tx7PfOYzO++lxz/+8VX3ikF01VVXVV2LH4McPFYXi3yGBsX+MY95zM3uwctJr0l/n3/++Te7vpSndLl8A3Sl8+kxHnPMlmk+6W9lTq/3GwhKrxH4ML8m/d8iv0AsjVB6vO83l3tmtL7z6fH73//+e3hJ6bHa396/c845Z/K9ln4RE6k2n9J1tGm0ZJbyKJ2feky4B/GXmCGbtBbYZAs0MLTJ1m1pb6wF8F++7/u+b7WNyzrXchqMJekyE1155ZWz0gCkDMhz8jf4ce+uvRf4i4EfJ6XmPkDKPeedd17V9cxBkYc9cFWTT1wDJAI/aRr5b2tzxfW1e+WPdBDDRYIeu5dLe3jZfed3fufo9dKzTph8uNozpY3lEecBUAudxv9T9gCXde2m3BPXWt4DLyr+n7OnjQOGgKI595fuQURfczHdjXVKLeGdboEGhnb68bXCr9UCXJYf+9jHduamKfGC8vyf+9zndryQL3/5y/mp0f91+j/7sz+7N+deZOrXvOY11YRZ3CFmLRviL2LvmIi07Xp1RNwWbXlImP0iD3sea1zYY0tJ1bymBPmLc/a///u/360qj7CdphO/AU+L1Kb3+J1H0la39BrljzQQw8c8ABGZgW/gzn3I5mOCuIyX5HpAe4wsLT2dMRMVbSfuzhTBD3IvT8DayOaRvnuZ7jzfKUt2xP2x553IMw4ot+Zek9YCu9QCDQzt0tNqZd1YCyDEcgc2+8d7mCs+KEsf3HDDDZOTcK/YQLQQU8W93K+5wdeI+gIzNpqhm266afQ2ebgegRpA4ZY+JGke7hNPh1dWbIJIhnDjpnmKc7GnWfnQhz60X9Yoc6SH+BzXxp7JMBWgJM7ZK3+aTnpt6beYTkjlSOjuqyEm0zYJqhn5pITrUh6O4SBZmBfnrCaPNB2eiKKgA7ZT7/3GN77RaaJwyabem5ZBWAaeaOpcU9/03va7tcBht4D+zcQJ39C3GNu3cM9ECIwDZh1mDbwbrKnTpLXAUWsBmglmE0EYlwgwNAfQyBMYmhKIMS3n3//933cB/p7ylKf0utCn18dvWgFkaYN3jSBQc/XmSs8kKMBjjdCO6EPCRGXgd78N74YmSEycfOvzlrMIan6t/5Un0rUP8x4zKA2g8tcIcOl+/CNE5jxOUykN2i4mInGEPI9aEVUc6dlaYP/yL/9Se9v+dcCQ9uS2P1WAIUBKWIElQmOGr9SktcAutkADQ7v41FqZN9IC2wCGaKVEw+bZM9WLSKPQXjCxCLZX47UUDSlwJBMdUFQT78g1QIelHpSVicXSIkxKjvm/tAEYzufbm970pr0XvehF+/eI2lwrAAhPrciPR1Sevv8N1oJMxnX53iSP+S+Oaw/38WKrEe0t+KYYUGm06bF7gcCXv/zle6JMm3xOFeuZed6eu99TpYGhqS3Wrj+KLdDA0FF8qq1Os1pgLTAkErNBnzlmSmTpKDTthgGZa7eAh1OFVtfgKN7M5z73uerbaT94+3AVp3UZErwqWghefUiztD288QAB5F9kadycfOvj29DW0KjF9TRk0rb1aVjwgJynhcGViXv7+DZAEzf+uC7dI1WrhzKE5kqEaOnXrA6vnbm0A0Nj5sO0XcWWEqdpLlcnjRg9xn1K843fzAKiZqurAI9LpGmGlrReu/ewW6CBocN+Ai3/rWmBtcCQCuFuWJeqRstSagAzfIt8ji25Ubo3jiH80m5MEdwd5hpxbv7iL/6id1Mu/BCeVaUNWXpq9OO0nB/72Mf207VUSqksN954Y3cNzzgAcI7gt6AA8GIq1cMx8X5K+afHkNcRn6cKblEpllNtOsjSAizOFdHGeezRiC2VBoaWtmC7/zBboIGhw2z9lvdWtUADQ3sd8ZU2SyRmsY/6Nu7ftFauLW2CGooRM1cQeSPdJz7xicVyMM/FNXMJu7Q46vK+971vP61IM/aiZ/e1QxwPsvTU+jYwNLXF2vWtBTbTAg0MbaZdW6o72ALbBIbwhUSV5pVGyzRHaDzweEQ9HhJcHYEY000kZqYnmiUu7ExFeEWxCYIHLPQJ0xYzX6Q5x0OPqzbTFeIz09XVV1/dEYzPPPPM7n/E6Je+9KV9RRg8/va3v70rG+0ZsMODpE/weKLescdx0kYf+MAHunXbxHmKusYe36hPaAyBxV/+5V+eHUMH4ATClmh1mmao7wm148dbCzQwdLw98Vbf3hYwICLuIrNOWSeslKAlNoJDsiTmChPQXD6JcuGBIGTjEPVt1st685vffLMNh0jMHhwcxGPgaoq4N9LFoZI/PtKQaP8o50te8pIu70gDkRlXCZCJY0ICxPX2vLH6BLkbQdx1tErSQFp2fIpwtWfawrXBQ+JZF+VJ90yFadnS3wAoTtccwnOUlddh7VImcU+6945713GuhsBgek/fb2ZV4IyGrUlrgV1sgQaGdvGptTJvtAVoIBCBlwrvInGL8F/mCqCCYFuTBvdsHl75Bkxdd911XSRkS0xYRiLdaMSGhKs3YjBwN4WQnaZp4JcnYnSULwIR0iLFMYN7lA2Zuc+tPtJWnrjeHsiRFhJ7BM/E7XEMEKPtch1y+xwRSBLIqQlsKI5SWja/RaUWaVyATVqhqHe6t1jukNDIKT9AZrHeuQLkClq5hojc7h1p0lpgV1uggaFdfXKt3BtrgW0CQypp9i6Y4je/+c0uSjMAUNqYw6wtlW8ABuBh4OMBNsXbKW1knmY/8zM/MytCdqQDTFxyySVdEERB+tSDpifK/PGPfzwunbWn5ZAWcjfNh/R5SllDDNF4jseVgugogVtEayayOWJJCURr69/RRllrLeqd7oG20vN1jLbNvdYRm7ogcF7mBobyFmn/H88t0MDQ8fz0W92LLbCtYEjsGnyZE044obgxGQFM+RYRgR2nGZprdpMODpJ1tuYKYjQvs7PPPrsDROpi5fco85IIyMqkQ5MW8CdKtvQt9CnKNo3KXKI1M9IFF1yw91u/9VtdHnPqb1Fd5kLtSJQn6p3uXdf3jB/xiEc0MDSn8ds9rQVGWqCBoZEG+v/bO7tQzaY/jg+RGKYwmvJSIhRTrhgkL8UVxvsUFzOlTKgZ3JALpFwoN3JBbrhTRMjLDUnmjBzMi5lhzNBINNQkMiUp7X+fVev893lm72e/rnOe/ZzPqj3Pc57n2Wuv/VlrzvM96/ddv+XbS49AX2Lo77//zmZnZ8PSbMI2dQtJ+Ni1PB6Yc1euXJmxzQQzK/iAig6WxVeVuqbqsnqY3WDmAgFTFcLK14HROd4PwgTfDfdArh8M0mvXrm2VeTl/jficeglHISgQiPxMvqB4fR6rvEuxLh7J+0S2bcJebbw1zOQQpsQPVWfDUXxERf3La2SJZjNfMqUjzuI94S2rU3e8L9ISIMyqQqTx81WPhsmqCPn+pBNQDE16D9m+BSfQlxiKDSdvD36b0cJKJHwWowfhLnK2jB7UgZEZc3aXks9yHX01TeojVIMHCIMzbS9KSoiROX9frEqL94M/hqzHFIQGr+frY3VXm8LqNa7JCqt4LdpKYfPb+BqPiIF8+/AVjRYM0nwG0UDdmKWbFrY0os/ouy5Geq5Lbid8Qvn7iM8J3SE48/cUn+MlGy3kTqL/+iqKob5IWs9iEVAMLRZ5rzuxBPoSQyzJZlk8e0bh+cEbkz9Y2cSXyOhRthUFX6Ys5+6SiDFCZ3dxwkht9sGijmiqpu0IC2asEFYYerlHjMz5+8LvMq6QgRrREOujjtdee21ONJWdSzgsMsUbxfkIq6rCHmX59j377LOhHmbl2IMMPpi9+Uwds3TZ9T788MMw89Vke46yumjjtddeW/g2bUYE5u8pPseEHxnFR2aU2A+urfAcbQTXQnxZJDBUAoqhofac7U5GgNw++GriaqeqCxEuYsf70YMZk0suuSRsT0GYi02O2aoiHuwS3qQQBuFLDMHR1gQdr8eXPqEVQi9ts2RTF/6fjRs3hjAShmWEJPeHkbltYZUVdVx11VUZhuqype9knSZsFHkiyNoWZkmohw12yb3Dii8MxmxX0bbQgMMXrQAAFRBJREFUR5icYVK2pUjdujmf2TXCik0LIikyuuiii8KqwrPOOiu8RvhudNzyM+GzOnvj4cEirIdJnRQOFgkMlYBiaKg9Z7uTEcDYyixF3S8evvCOO+64Iw6+gPCY8Fc7eWXINszzePCfr0nhi4dzMdEWhd2a1IVRmXAbX/rMXrQteH0wKB999NEhkzMCkjY2vbf89TmXOghtsWdYWe6gp59+OniNIs8u5mv6nHq4Fl6jo446KmSdJndO28JMDoZ16m1r3I7XRqAzU0U7mxYM25ER45FtYpgh4jUEbNHYRbjXSeZIHexDR+gzGsObts/PS2ASCCiGJqEXbMPEEUAMrV+/fq5d5Ke54oorCg+S6eHDGT3I0hxFAX4OVgn1UZjRIfTRtfBFRpZrQhzMsNQpGI/zHDAmx/vGYEzohdmmPgorrPC7kJOHayIGCM+xPQc/E4prmghyXLvYA41cQPF+eCSVQP5+EQ91CqvuOOoIijr1kWCR++9aCGWS2oAkiRR8UPn7jc/Ja3XrrbfOu/c8B2bNKIyh1atXB3EVXvAfCQyUgGJooB1ns9MSQAzxFzQzOhyID0yqRQcro6oKoRdyzDCbwRdIl4Lx+oknnujtC+itt94KwgJhM1owFkcGPOIPyjNg9iYWwm2YjgnLFJmq4+eaPuLvYa80PE7k+SGRJbl6MF/3VchEjbh6++2351WJGMvf72OPPTbHg/sc9VxhDCcpIyEjhEXXQqgKQcbY2bJlS6fq8C0xrvFAYeweV5jlwe+Wv/f8cxKBMh4Ij5166qm9jcVxbfI9CaQkoBhKSde6B0uAL4INGzbMHV1XcAGChIeYqbt4dCJQzMUkYyQTMTMoXQv5c5h5YDsFxBqhM2ZKCPXkOSBMqgohPEQT52NEJsVAm4KwoF3UQ335dvCFzusfffRRm6rDOb/88kuog3rivVdVxnYbsR3MWOGN4vxt27ZlpDZAVLF7PTNuXQsJIhGozEqyJ1rXgv9q+fLlvcym4TmLHHjsKtS63pvnS6ArAcVQV4KeL4GaBPoUQ1wSI/W5557bKN9PWVMxChP6OOOMM7KZmZkQ0sNsy0xCm8KSb84n6zUzJE0FIKZpvmDJJE09o5ueMiPB6ywRZ5ajqZcGczOClzo42vimMM4TFuR80iEwK8ZqP2bF2izDH+XMqsEVK1Z02r8sX2efYihfr88lMA0EFEPT0IvewyAITLIYwih87LHHBuMwhlr8P4RomoqM2BGEWTifPD+sXGoaNuP6Z599dlitRj2j5lxmw3j9nXfeCSbrOgknY9t4ZGXWjTfeGOqgHn4RNi3R0M751BeN1/Bru/dZvg2KoTwNn0sgLQHFUFq+1i6BOQLMRuDPIVcM5uqu5dChQ0EMkB2ZHeablLgMnmXfHPhSmBEiTBZnN5rUV/ZZRAshI7w+rDiqKoT+aA8hKM6rCgGSn4hd4/EUcR6zM1UF3w/iry9zM9dDDJFGAYYchLYiWzJuE5JrUhDOGPgJjyG2uhZmEZlFo762YcuubfB8CUwyAcXQJPeObZs6AoR0MADXXZVUBQBTLMugq7wzGH0RAYS9OAjrPPfcc3NHzFJMeIcVY5iD8YX0VTAmY1AuEiu7d++eaxfGY9pVx5sU24a3CK8O5+Et4v5IaDm6XQihOtrANfpa8UYbEHkY2jG2x8LMVuRLEkgSQkb2bFBbVchzxarBvgptIG+TRQISKCagGCrm4qsSSEKgbzFE4kFmIfjiRVTkC2KGxI4cGH3Jm8RsAwdG4HGFL2NWRfUl2rgWoSNEQTRVEwaibRiuY7t27NgxrlmV7yG6qIuZJbbQoH7qZGYGwcQqtKazaGUXxWjOPWG+xtBeVljOzmfiPSKKYr/wiPk6X1h5yGotZpv6Koqhvkhaz7QSUAxNa896XxNJgIzNbCLKKqnRZdldGkyojE1Jmdkh/MNBkscLL7wwHBh92R6kScFQTd4dMgzzi6KPggDCFI2pmpmK0047LSzP7qPufB2wJRx50kknBbGIWZrrskKrj4LAYWn/NddcEzadbVInoarYLzwyY0d/IZQJC7J1C+HCvgpCEHFL4kaLBCRQTEAxVMzFVyWQhACmWzwb1113XZjN6esiUQzh+Tn++OPDgZeGa3HgO2maBRnzNKKNdAB9CTd+4WCqJrM0masJZ1X5gtow4l6555tuuik75phjwmMbBmXXJizJyru9e/c2Fopkyo79wiM5rOizVatWZYQ9+xZDJNUk6WfX/FZlLHxdAtNAQDE0Db3oPQyOADMKXTYAjTfMX/2Yh/ENkZTwgQceCHtrEWoZ9czEc5o8IoLw77CtRNckh4SpWGp/ww03hA1CaSMeHvxJfReM1bfddlvwP3GdeG2uz89dCtmbmTHry9zMFia0ibDmLbfcEmbLzjzzzOAx6tLOeC77rT388MPxRx8lIIECAqViiDwhTNsytc5B2numWvmly3JWiwQk0J4AvhlMt3hGmhZy7rCxKAdeFDw3hLQ4yFTMyjBMxX0VQm94jgjnNDVVI8iY/aGtmJtpIybq2D4EBYZmRFEfuXm4Z35XMROC2Iy7xROejIwwj9OeNpvJYpamrXmzdB+cCUUiWEhyGduJZyj2M49Nf+8y4wZbsp6TY8giAQmUEygVQ/ynVwyVg/MdCXQlgJmYPaeqCgZb9g6LBwZc/B8c1BGFBfVg5CURIzMjfReWiPPFWrew0zrCh2X1tJW0AkWFNAMYnpm9YZakS/n6668zzMIkZWRT0qKC2Zz2ID4IA+L/qVtuv/32IArrfr7u5/BSkdLg+++/nzsFH1HsZx4RlXEM8IjAG1e4L7aUwS9lkYAExhMoFUP85aoYGg/PdyXQhcA4McRf9fz/Y5aDMBKba8ZjXLgKnxDGYZbKN/mSr3MfrMRi1qlKsCCCaDfbVBAOrOM3IgM2hmpCUORPalNoFyvg2A6jTiE0tWbNmhCior3kgSor/KJEqBAeQ2z1WeCDiCVP0U8//VRaNX+gxjHAI6vlaHd+f7j8yYqhPA2fS2A8gVIxRMZYxdB4eL4rgS4ExokhwjsYak844YQQnmb2Jx78py0rvMeMwumnn559/PHHZR9r9ToGXHZiZ5XauMJu57SbWRQMwnWM29FYjmemyexTvh3r1q0Loce6RmFYIdzOP//80F7CeGWFWSYECKKlbVbusroRV3iyqlhx3TgGeCSJIpw5t6gohoqo+JoEigmUiiH2BVIMFUPzVQn0QYBVVSTgu/vuu8OXHOEvZkc4EBT4c/B6VM3EjLYFIXXyySe32m9rtK7RnwnN4LW544475hm0mWWJbSc0RrsRZU3Lnj17greoiakaoRLN0mWzJGXtQGAw00Z7ye3DPbACjZmqWGZnZzNChHh22s5axbqKHllN1ibBIivZaDczcJE9j4wpciuxwpA8SOSiskhAAuMJlIohEpMphsbD810JdCXw6quvBuGCxwXDLLMEHK+88krrJecseHjhhRdCeK0qM3Wb9hMuwujLzBa+Gw5MybHtBw4caFPt3DmYqjGCx7oRSEWF2Ws+QztoTzRLF322zmuIHu4B4zXG9Hh9jOMvvvhibwbvfFsw0GOkx5bQtiCWI3seCRXeeeedYYd6BJNFAhKoJlAqhmISMFeTVUP0ExJoS4BtIQh3cOD/6LOQy6jPLMb5tuFtIWHismXLsosvvjisgMq/3/U5purIhS94jNH5QmZswlp8BiHZp2H8r7/+Csva2WCW+ysLQ+Xb0/Y5IcdHHnmk7emF533wwQeBC8b1phvYFlboixJYAgRKxRB//TkztARGgLc4tQQw+zLD0nST0HFAMBkz20AY/dJLLw2rlQgv9XmN0evff//9QfgwA8Lu9fxuYnVV1ZYio/XU/ZlfiswykayQ1VgkQeSeORBKfRQSLxImRbAwq2WRgAQWl0CpGOIvP8XQ4naOV5dAFwJkXMZ7w+xJX4XZmOXLlwfTMb8jMOmy5BvBkKpwH1wXQzbbaZx33nnBC5MiczX3wOquaJbm/t59991wz9w3e5/1UZhxX716dcbu9Knuo492WocElgqBUjHE9KpiaKkMA+9zWgng3yFJI2KlbVJDzMRr167Nrr766mAy/uSTT4LpOK6qwlSNpwafSp/hqnyfYIxmKTnZqxEndZbr58+v+xzfEBm982Zp7ol75mCWCg74lNoW8kYReiPv0rjl/G3r9zwJSKA5gVIxxAoExVBzoJ4hgUkjQGLBc845pzQJYVl733///ZDJmU1DCeWQ6bosxxEZmfHYpFq5hFkakzbtwNxcZqouu5e6r5OnaeXKlaW5e9iaBA5kdibLNceon6nqWpjayeTf1fBddR3fl4AE6hMoFUP8xaIYqg/ST0pgUgkgYMjwzBLsuru2k6OIVU4s+9+8eXOlV4Ykj/fcc09YBdeXaZe8O4gsQkmEyRBCbO+BYRpTNa8zW9NXQWCRnZqkjVVL6Hft2hXYwAdxxFL2OoWFKWx1RH/kl+/XOdfPSEAC6QiUiiGmoRVD6cBbswQWkgBm3VNOOWXs3mKYg/k/z0FYreneXQityy+/PIiUrmGsw4cPZ6y0o74LLrjgCLM04SpeZxNSZlgwVncpCDiyayNSmhbEIrNWcMPcHcOHRfU888wzIf9P0Xu+JgEJLB6BUjFEIjPF0OJ1jFeWQJ8E6oghzMEnnnhiOPDlNDX2kkUaw/HNN9+c8aXfpbA8nD3WEDoIo9G2YKrmdXw3fK7rbBQzPGTXZjaqaaEtpDCAHaHCcXuGKYaa0vXzElgYAqViCNOgYmhhOsGrSCA1Ab6wZ2ZmQiiL8FK+4MFhDzFmW8jfw1G2yWn+vLLnhJAIsbHKrE0h4eTGjRvDzNCoCBqtjxkohBtZo7m/poWwG9t4kKSyS7JIVtbBDRFH9nB4vvTSS/OaQ6gPwbVz5855r/uDBCSw+ARKxRC/JBRDi99BtkACfRK4/vrrwywGpl9WRHGQi4isy5iD+yoIE/YYIwdRk9w87FyPaCjb4b6ofcxGITwQGhit6xbyBmEOZzuM/fv31z1t7OcQndwDPLkP+CIKEW2IrkcffXTs+b4pAQksDgHF0OJw96oSWBQCCB8ECqbfu+66KxzM5KQomKpJ/MhMT1UYi/AUAuihhx7K3njjjVbNQYA8+eSTtUzV0SzNDFRXf1NZY1meD+P169cHgYQwYvsViwQkMHkEFEOT1ye2SAJJCSAaNm3alPQasXKyRq9atSpjmX5RQYjs27cvhMTWrFkTQk1Fn6v7Wtz4ljo58BUVFczS5BNaiEJ+J7ZGIYRmkYAEJpNAqRgiQ6phssnsNFslgS4E/vnnn1ZG4TbXrBJD5OtZsWJFyGjNSqyuq8K4N2aYqJPjvffeK2z2QoohjOWIsnGrzAob6YsSkMCCEVAMLRhqLySBpUcAcYJ/6N57783YoT1f2CoEXw05jbZu3XrEirH8Z5s8Z7aJOjnuu+++7OWXX553+uOPPx4M3k2TJc6rxB8kIIGpIqAYmqru9GYkMJkE3nzzzeDnwT/ErPNTTz0VDNbkEkpZSBeA4MLUzOwMM0IYu9lo1iIBCUggElAMRRI+SkACSQmwLQgGaQTRhg0bsu3btye9XqwcIfbggw+GDNwYur/44ov4lo8SkIAEAgHFkANBAhJYMALsy3XllVdWbnfRd4PYtuOyyy7LDh482HfV1icBCUwBAcXQFHSityCBoRDAREzeIUzFC1kwZrOq67///lvIy3otCUhgIAQUQwPpKJspAQlIQAISkEAaAoqhNFytVQISkIAEJCCBgRBQDA2ko2ymBCQgAQlIQAJpCCiG0nC1VglIQAISkIAEBkJAMTSQjrKZEpCABCQgAQmkIaAYSsPVWiUgAQlIQAISGAgBxdBAOspmSkACEpCABCSQhoBiKA1Xa5WABCQgAQlIYCAEFEMD6SibKQEJSEACEpBAGgKKoTRcrVUCEpCABCQggYEQUAwNpKNspgQkIAEJSEACaQgohtJwtVYJSEACEpCABAZCQDE0kI6ymRKQgAQkIAEJpCGgGErD1VolIAEJSEACEhgIAcXQQDrKZkpAAhKQgAQkkIaAYigNV2uVgAQkIAEJSGAgBBRDA+komykBCUhAAhKQQBoCiqE0XK1VAhKQgAQkIIGBEFAMDaSjbKYEJCABCUhAAmkIKIbScLVWCUhAAhKQgAQGQkAxNJCOspkSkIAEJCABCaQhoBhKw9VaJSABCUhAAhIYCAHF0EA6ymZKQAISkIAEJJCGgGIoDVdrlYAEJCABCUhgIAQUQwPpKJspAQlIQAISkEAaAoqhNFytVQISkIAEJCCBgRBQDA2ko2ymBCQgAQlIQAJpCCiG0nC1VglIQAISkIAEBkJAMTSQjrKZEpCABCQgAQmkIaAYSsPVWiUgAQlIQAISGAgBxdBAOspmSkACEpCABCSQhoBiKA1Xa5WABCQgAQlIYCAEFEMD6SibKQEJSEACEpBAGgKKoTRcrVUCEpCABCQggYEQUAwNpKNspgQkIAEJSEACaQgohtJwtVYJSEACEpCABAZCQDE0kI6ymRKQgAQkIAEJpCGgGErD1VolIAEJSEACEhgIAcXQQDrKZkpAAhKQgAQkkIaAYigNV2uVgAQkIAEJSGAgBBRDA+komykBCUhAAhKQQBoCiqE0XK1VAhKQgAQkIIGBEGgkhp5//vls3bp12ezs7EBuz2ZKQAISkIAEJCCB8QRqi6F9+/Zlr7/+enb48OGMkzxk4BhwDDgGHAOOAcfANIyBf//9N/vtt9+y33//Pfvzzz/njmX88N133829cOjQoezHH3/Mfv3113ACJ3nIwDHgGHAMOAYcA46BaRgDBw8erBZDf/zxR/gQqslDBo4Bx4BjwDHgGHAMTNsYQOuMnRnKv+nz/0+hyUIWjgHHgGPAMeAYmM4xcESYzI6ezo62X+1Xx4BjwDHgGHAMFI+BIIY+/fTT4BvCO+QhA8eAY8Ax4BhwDDgGltIYWHbgwIGMFWTffvtttnv37mznzp3Z9u3bs6+++ir78ssvw/L6zz//PPvss8+yrVu3ZjMzM9mWLVs8ZOAYcAw4BhwDjgHHwCDGANoFDYOWQdOQOgiNs23btqB7lv38889h9dgPP/yQ7d+/P9u7d2/2zTffZHv27Ml27doVPrRjx45wAidFkUQlHjJwDDgGHAOOAceAY2DSxwDaBQ3DgaZh4geNg95B9/wPMHJk9bFUYI0AAAAASUVORK5CYII=)"
      ]
    },
    {
      "cell_type": "markdown",
      "metadata": {
        "id": "q-19k1a0bJwn"
      },
      "source": [
        "### **Exercise - 15 - Testing¶**"
      ]
    },
    {
      "cell_type": "markdown",
      "metadata": {
        "id": "hy4YMnydbbq0"
      },
      "source": [
        "\n",
        "## a) Write a test-case to check the function even numbers which return True on passing a list of all even numbers"
      ]
    },
    {
      "cell_type": "markdown",
      "metadata": {
        "id": "NxyVWRAmpKXv"
      },
      "source": [
        "**AIM :** To Write a test-case to check the function even numbers which return True on passing a list of all even numbers"
      ]
    },
    {
      "cell_type": "markdown",
      "metadata": {
        "id": "ctzbpRT8pKaG"
      },
      "source": [
        "**DESCRIPTION:**\n",
        "\n",
        "TestCase is used to create test cases by subclassing it. The last block of the code at the bottom allows us to run all the tests just by running the file. Basic terms used in the code : assertEqual()\n",
        "– This statement is used to check if the result obtained is equal to the expected result\n",
        "\n",
        "**test case:**\n",
        "\n",
        "A test case is a set of conditions which is used to determine whether a system under test works correctly."
      ]
    },
    {
      "cell_type": "code",
      "metadata": {
        "colab": {
          "base_uri": "https://localhost:8080/"
        },
        "id": "2UfMkIqfbqQy",
        "outputId": "adcb4a18-f5c8-4d84-b376-3e8a6b1d22ff"
      },
      "source": [
        "def evnNo(num):\n",
        "    stat=True\n",
        "\n",
        "    for i in num:\n",
        "        if i%2 ==1:\n",
        "            stat=False\n",
        "            break\n",
        "    return stat\n",
        "        \n",
        "numbers=[]\n",
        "for i in range(0,2):\n",
        "    numbers.append(int(input(\"Enter a value\")))\n",
        "print(evnNo(numbers))\n"
      ],
      "execution_count": null,
      "outputs": [
        {
          "output_type": "stream",
          "name": "stdout",
          "text": [
            "Enter a value4\n",
            "Enter a value2\n",
            "True\n"
          ]
        }
      ]
    },
    {
      "cell_type": "markdown",
      "metadata": {
        "id": "D6HFhaJMbd6x"
      },
      "source": [
        "\n",
        "## b) Write a test-case to check the function reverse string which returns the reversed string"
      ]
    },
    {
      "cell_type": "markdown",
      "metadata": {
        "id": "YxS65ud7paLY"
      },
      "source": [
        "**AIM :** a test-case to check the function reverse string which returns the reversed string"
      ]
    },
    {
      "cell_type": "markdown",
      "metadata": {
        "id": "CEVnIsDNpaOD"
      },
      "source": [
        "**DESCRIPTION:**\n",
        "\n",
        "Python string library does’nt support the in-built “reverse()” as done by other python containers like list, hence knowing other methods to reverse string can prove to be useful. This articlem discusses several ways to achieve it.\n",
        "\n",
        "The reversed() returns the reversed iterator of the given string and then its elements are joined empty string separated using join(). And reversed order string is formed."
      ]
    },
    {
      "cell_type": "code",
      "metadata": {
        "colab": {
          "base_uri": "https://localhost:8080/"
        },
        "id": "4RE2Cshxbr4L",
        "outputId": "3cf278e8-1e73-41d2-9e7f-513cd3d7a3a8"
      },
      "source": [
        "def rev_str(st):\n",
        "  temp=\"\"\n",
        "  for i in range(len(st)-1,-1,-1):\n",
        "     temp+=st[i]\n",
        "  return temp\n",
        "st=\"Swarnandra \"\n",
        "print(\"given string is\",st)\n",
        "print(\"reverse string is:\",rev_str(st))"
      ],
      "execution_count": null,
      "outputs": [
        {
          "output_type": "stream",
          "name": "stdout",
          "text": [
            "given string is Swarnandra \n",
            "reverse string is:  ardnanrawS\n"
          ]
        }
      ]
    },
    {
      "cell_type": "markdown",
      "metadata": {
        "id": "YIycdzThkFNG"
      },
      "source": [
        "### **Exercise-16**"
      ]
    },
    {
      "cell_type": "markdown",
      "metadata": {
        "id": "uW1fMwaVkLIT"
      },
      "source": [
        "## a) Build any one classical data structure."
      ]
    },
    {
      "cell_type": "markdown",
      "metadata": {
        "id": "Ozp1Gm6apuxO"
      },
      "source": [
        "**AIM :** To Build any one classical data structure."
      ]
    },
    {
      "cell_type": "markdown",
      "metadata": {
        "id": "ZLnyJkUKpuz8"
      },
      "source": [
        "**DESCRIPTION:**\n",
        "\n",
        "**What is a Data Structure?**\n",
        "\n",
        "Organizing, managing and storing data is important as it enables easier access and eficient\n",
        "modifications. Data Structures allows you to organize your data in such a way that enables you to store collections of data, relate them and perform operations on them accordingly.\n",
        "\n",
        "**Stack** Stacks are linear Data Structures which are based on the principle of Last-In-First-Out\n",
        "(LIFO) where data which is entered last will be the first to get accessed. It is built using the array structure and has operations namely, pushing (adding) elements, popping (deleting) elements and accessing elements only from one point in the stack called as the TOP. This TOP is the pointer to the current position of the stack. Stacks are prominently used in applications such as Recursive Programming, reversing words, undo mechanisms in word editors and so forth."
      ]
    },
    {
      "cell_type": "code",
      "metadata": {
        "colab": {
          "base_uri": "https://localhost:8080/",
          "height": 397
        },
        "id": "6MwMbaVakIT5",
        "outputId": "6ae3055c-ee77-47d3-c977-6aa939bf036a"
      },
      "source": [
        "import sys\n",
        "a=[]\n",
        "while True:\n",
        "  print(\"1.PUSH 2.POP 3.DISPLAY 4.EXIT\")\n",
        "  ch=int(input(\"Enter your choice:\"))\n",
        "  if ch==1:\n",
        "    ele=int(input(\"Enter element:\"))\n",
        "    a.append(ele)\n",
        "    print(\"Element is inserted\")\n",
        "  elif ch==2:\n",
        "    if len(a)==0:\n",
        "      print(\"Stack is empty\")\n",
        "    else:\n",
        "      print(\"poped element is \",a[len(a)-1])\n",
        "      a.remove(a[len(a)-1])\n",
        "  elif ch==3:\n",
        "    if len(a)==0:\n",
        "      print(\"Stack is empty\")\n",
        "    else:\n",
        "      print(\"Element in stack is \")\n",
        "      for i in a:\n",
        "        print(i)\n",
        "  elif ch==4:\n",
        "    sys.exit()\n",
        "  else:\n",
        "    print(\"Invalid choice\")"
      ],
      "execution_count": null,
      "outputs": [
        {
          "name": "stdout",
          "output_type": "stream",
          "text": [
            "1.PUSH 2.POP 3.DISPLAY 4.EXIT\n",
            "Enter your choice:1\n",
            "Enter element:55\n",
            "Element is inserted\n",
            "1.PUSH 2.POP 3.DISPLAY 4.EXIT\n",
            "Enter your choice:1\n",
            "Enter element:22\n",
            "Element is inserted\n",
            "1.PUSH 2.POP 3.DISPLAY 4.EXIT\n",
            "Enter your choice:3\n",
            "Element in stack is \n",
            "55\n",
            "22\n",
            "1.PUSH 2.POP 3.DISPLAY 4.EXIT\n",
            "Enter your choice:4\n"
          ]
        },
        {
          "output_type": "error",
          "ename": "SystemExit",
          "evalue": "ignored",
          "traceback": [
            "An exception has occurred, use %tb to see the full traceback.\n",
            "\u001b[0;31mSystemExit\u001b[0m\n"
          ]
        },
        {
          "output_type": "stream",
          "name": "stderr",
          "text": [
            "/usr/local/lib/python3.7/dist-packages/IPython/core/interactiveshell.py:2890: UserWarning: To exit: use 'exit', 'quit', or Ctrl-D.\n",
            "  warn(\"To exit: use 'exit', 'quit', or Ctrl-D.\", stacklevel=1)\n"
          ]
        }
      ]
    },
    {
      "cell_type": "markdown",
      "metadata": {
        "id": "OxZL8P0Qkabu"
      },
      "source": [
        "## b) Write a program to solve knapsack problem."
      ]
    },
    {
      "cell_type": "markdown",
      "metadata": {
        "id": "KHkC5wBWp-Tr"
      },
      "source": [
        "**AIM :**  a program to solve knapsack problem."
      ]
    },
    {
      "cell_type": "markdown",
      "metadata": {
        "id": "rax9pfGLp-Wn"
      },
      "source": [
        "**DESCRIPTION:**\n",
        "\n",
        "Python Program for 0-1 Knapsack Problem\n",
        "\n",
        "Problem statement − We are given weights and values of n items, we need to put these items in a bag of capacity W up to the maximum capacity w. We need to carry a maximum number of\n",
        "items and return its value. Brute-force approach.\n",
        "dynamic approach"
      ]
    },
    {
      "cell_type": "code",
      "metadata": {
        "colab": {
          "base_uri": "https://localhost:8080/"
        },
        "id": "Hh36TlNCkd96",
        "outputId": "a851312d-8e77-4cf5-9476-1fa22dc71980"
      },
      "source": [
        "def knapsack(W,wt,val,n):\n",
        "  k=[[0 for x in range(W+1)]for x in range(n+1)]\n",
        "  for i in range(n+1):\n",
        "    for w in range(W+1):\n",
        "      if i==0 or w==0:\n",
        "        k[i][w]=0\n",
        "      elif wt[i-1]<=w:\n",
        "        k[i][w]=max(val[i-1]+k[i-1][w-wt[i-1]],k[i-1][w])\n",
        "      else:\n",
        "        k[i][w]=k[i-1][w]\n",
        "  return k[n][w]\n",
        "val=[5,3,4]\n",
        "wt=[3,2,1]\n",
        "W=5\n",
        "n=len(val)\n",
        "print(\"Maximum value knapsack of capacity W:\",knapsack(W,wt,val,n))"
      ],
      "execution_count": null,
      "outputs": [
        {
          "output_type": "stream",
          "name": "stdout",
          "text": [
            "Maximum value knapsack of capacity W: 9\n"
          ]
        }
      ]
    },
    {
      "cell_type": "markdown",
      "metadata": {
        "id": "g4P4jYNYkgXT"
      },
      "source": [
        "### **Exercise-17**"
      ]
    },
    {
      "cell_type": "markdown",
      "metadata": {
        "id": "pOlqetuAqTtK"
      },
      "source": [
        "AIM : 1. Data analysis or manipulation using the following packages\n",
        "a) Numpy \n",
        "b) Pandas \n",
        "a) Scipy \n",
        "b) matplotlib"
      ]
    },
    {
      "cell_type": "markdown",
      "metadata": {
        "id": "7lZ9Z_g0qUMV"
      },
      "source": [
        "**DESCRIPTION:**\n",
        "\n",
        "Learn how to analyze data using Python..... It includes following parts: Data Analysis libraries:\n",
        "will learn to use Pandas, Numpy and Scipy libraries to work with a sample dataset. We will\n",
        "introduce you to pandas, an open-source library, and we will use it to load, manipulate, analyze, and visualize cool datasets.\n",
        "\n",
        "**SciPy** is a free and open-source Python library used for scientific computing and technical computing. It is a collection of mathematical algorithms and convenience functions built on the NumPy extension of Python\n",
        "\n",
        "**NumPy** is the fundamental package for scientific computing in Python. .... NumPy arrays\n",
        "facilitate advanced mathematical and other types of operations on large numbers of data.\n",
        "\n",
        "**Matplotlib** is a plotting library for the Python programming language and its numerical\n",
        "mathematics extension NumPy. It provides an object-oriented API for embedding plots into applications using general-purpose GUI toolkits like Tkinter, wxPython, Qt, or GTK\n",
        "\n",
        "**Pandas** is an open source Python package that is most widely used for data science/data analysis and machine learning tasks. It is built on top of another package named Numpy, which provides support for multi-dimensional arrays.\n",
        "\n",
        "**Scikit-learn** is probably the most useful library for machine learning in Python. The sklearn\n",
        "library contains a lot of eficient tools for machine learning and statistical modeling including classification, regression, clustering and dimensionality reduction.\n",
        "\n",
        "**Seaborn** is a library in Python predominantly used for making statistical graphics. Seaborn is a data visualization library built on top of matplotlib and closely integrated with pandas data structures in Python"
      ]
    },
    {
      "cell_type": "markdown",
      "metadata": {
        "id": "GuFQJkm_kkPO"
      },
      "source": [
        "## a) Numpy"
      ]
    },
    {
      "cell_type": "code",
      "metadata": {
        "colab": {
          "base_uri": "https://localhost:8080/"
        },
        "id": "VHLltiVkk0QA",
        "outputId": "40aa56a3-6619-438b-a305-c8383fcc2af0"
      },
      "source": [
        "import numpy as np\n",
        "x=np.array(5) #0-dimension array\n",
        "print(x.dtype)\n",
        "print(x.ndim)\n",
        "print(x.shape)\n",
        "print(x)"
      ],
      "execution_count": null,
      "outputs": [
        {
          "output_type": "stream",
          "name": "stdout",
          "text": [
            "int64\n",
            "0\n",
            "()\n",
            "5\n"
          ]
        }
      ]
    },
    {
      "cell_type": "code",
      "metadata": {
        "colab": {
          "base_uri": "https://localhost:8080/"
        },
        "id": "y4qoWgANk0Te",
        "outputId": "dfc1dec2-760c-4b45-a552-3df9b9aedc3e"
      },
      "source": [
        "data=np.array([2,6,3,7,8]) #1-dimension array\n",
        "print(type(data))\n",
        "print(data)\n",
        "print(data[4])"
      ],
      "execution_count": null,
      "outputs": [
        {
          "output_type": "stream",
          "name": "stdout",
          "text": [
            "<class 'numpy.ndarray'>\n",
            "[2 6 3 7 8]\n",
            "8\n"
          ]
        }
      ]
    },
    {
      "cell_type": "code",
      "metadata": {
        "colab": {
          "base_uri": "https://localhost:8080/"
        },
        "id": "2VReHPGik0dJ",
        "outputId": "bed3d410-4b42-4d36-983f-83230388f6cd"
      },
      "source": [
        "m=np.array([[1,2,3],[4,5,6],[7,8,9]]) #2-dimension array\n",
        "print(m.ndim)\n",
        "print(m.shape)\n",
        "print(m)\n",
        "print(m[2,0:3])"
      ],
      "execution_count": null,
      "outputs": [
        {
          "output_type": "stream",
          "name": "stdout",
          "text": [
            "2\n",
            "(3, 3)\n",
            "[[1 2 3]\n",
            " [4 5 6]\n",
            " [7 8 9]]\n",
            "[7 8 9]\n"
          ]
        }
      ]
    },
    {
      "cell_type": "code",
      "metadata": {
        "colab": {
          "base_uri": "https://localhost:8080/"
        },
        "id": "STDR7K8ok0ft",
        "outputId": "b0d0b43f-d511-4693-e51d-d23587d7aa21"
      },
      "source": [
        "data=np.array([2,6,3,9],ndmin=5) #n-dimension array\n",
        "print(type(data))\n",
        "print(data)"
      ],
      "execution_count": null,
      "outputs": [
        {
          "output_type": "stream",
          "name": "stdout",
          "text": [
            "<class 'numpy.ndarray'>\n",
            "[[[[[2 6 3 9]]]]]\n"
          ]
        }
      ]
    },
    {
      "cell_type": "code",
      "metadata": {
        "colab": {
          "base_uri": "https://localhost:8080/"
        },
        "id": "m4pFpY_ck0jR",
        "outputId": "09861d5d-caeb-4717-dbcb-8ae3fca8848e"
      },
      "source": [
        "arr=np.array([23,12,43,56,76,15])\n",
        "x=arr.copy()\n",
        "arr[0]=5\n",
        "print(x)\n",
        "print(arr)"
      ],
      "execution_count": null,
      "outputs": [
        {
          "output_type": "stream",
          "name": "stdout",
          "text": [
            "[23 12 43 56 76 15]\n",
            "[ 5 12 43 56 76 15]\n"
          ]
        }
      ]
    },
    {
      "cell_type": "code",
      "metadata": {
        "colab": {
          "base_uri": "https://localhost:8080/"
        },
        "id": "3OQhIUqplAS-",
        "outputId": "d591bbc0-e053-48f4-c49a-94968b1fdb91"
      },
      "source": [
        "arr=np.array([23,12,43,56,76,15])\n",
        "x=arr.view()\n",
        "arr[0]=5\n",
        "print(x)\n",
        "print(arr)"
      ],
      "execution_count": null,
      "outputs": [
        {
          "output_type": "stream",
          "name": "stdout",
          "text": [
            "[ 5 12 43 56 76 15]\n",
            "[ 5 12 43 56 76 15]\n"
          ]
        }
      ]
    },
    {
      "cell_type": "code",
      "metadata": {
        "colab": {
          "base_uri": "https://localhost:8080/"
        },
        "id": "SDPGf80HlAWs",
        "outputId": "a80df831-66e8-4408-bb84-781c06eac613"
      },
      "source": [
        "arr1=np.array([[23,12,43],[56,76,15]])\n",
        "arr2=np.array([[33,42,12],[68,2,54]])\n",
        "arr=np.concatenate((arr1,arr2),axis=0)\n",
        "print(arr)\n",
        "arr=np.concatenate((arr1,arr2),axis=1)\n",
        "print(arr)\n",
        "print(np.array_split(arr,4))"
      ],
      "execution_count": null,
      "outputs": [
        {
          "output_type": "stream",
          "name": "stdout",
          "text": [
            "[[23 12 43]\n",
            " [56 76 15]\n",
            " [33 42 12]\n",
            " [68  2 54]]\n",
            "[[23 12 43 33 42 12]\n",
            " [56 76 15 68  2 54]]\n",
            "[array([[23, 12, 43, 33, 42, 12]]), array([[56, 76, 15, 68,  2, 54]]), array([], shape=(0, 6), dtype=int64), array([], shape=(0, 6), dtype=int64)]\n"
          ]
        }
      ]
    },
    {
      "cell_type": "code",
      "metadata": {
        "colab": {
          "base_uri": "https://localhost:8080/"
        },
        "id": "TKvcNobIlAZC",
        "outputId": "f5e017d1-4627-4151-8da4-0c0172589a46"
      },
      "source": [
        "from numpy import random\n",
        "x=random.randint(100,size=5)\n",
        "print(x)"
      ],
      "execution_count": null,
      "outputs": [
        {
          "output_type": "stream",
          "name": "stdout",
          "text": [
            "[89 56 61 52 70]\n"
          ]
        }
      ]
    },
    {
      "cell_type": "code",
      "metadata": {
        "colab": {
          "base_uri": "https://localhost:8080/"
        },
        "id": "-eCAWWxElIAk",
        "outputId": "fe9b1d89-054a-44bf-d471-4001338c4668"
      },
      "source": [
        "y=random.rand(3,2)\n",
        "print(y)"
      ],
      "execution_count": null,
      "outputs": [
        {
          "output_type": "stream",
          "name": "stdout",
          "text": [
            "[[0.25677213 0.91265559]\n",
            " [0.44126884 0.36507137]\n",
            " [0.57908198 0.36305306]]\n"
          ]
        }
      ]
    },
    {
      "cell_type": "code",
      "metadata": {
        "colab": {
          "base_uri": "https://localhost:8080/"
        },
        "id": "q5NYlC_MlJ_Y",
        "outputId": "9f0c6eec-67da-4b30-ccbc-a5de7380ef79"
      },
      "source": [
        "z=random.choice([2,5,1,7,8,3])\n",
        "print(z)"
      ],
      "execution_count": null,
      "outputs": [
        {
          "output_type": "stream",
          "name": "stdout",
          "text": [
            "1\n"
          ]
        }
      ]
    },
    {
      "cell_type": "markdown",
      "metadata": {
        "id": "GCmwhyuIles0"
      },
      "source": [
        "### **b) Pandas**"
      ]
    },
    {
      "cell_type": "code",
      "metadata": {
        "colab": {
          "base_uri": "https://localhost:8080/"
        },
        "id": "OX-9cGKllic9",
        "outputId": "3e42139d-8cf9-4def-c389-77716bd8fe1d"
      },
      "source": [
        "import pandas as pd\n",
        "data=pd.Series([1,2,3,4,5],index=['A','B','C','D','E'])\n",
        "print(data)"
      ],
      "execution_count": null,
      "outputs": [
        {
          "output_type": "stream",
          "name": "stdout",
          "text": [
            "A    1\n",
            "B    2\n",
            "C    3\n",
            "D    4\n",
            "E    5\n",
            "dtype: int64\n"
          ]
        }
      ]
    },
    {
      "cell_type": "code",
      "metadata": {
        "colab": {
          "base_uri": "https://localhost:8080/"
        },
        "id": "uDFRlJrGljcQ",
        "outputId": "248d4cf8-a34c-4e1c-d198-3874c914ccef"
      },
      "source": [
        "data={'Gen':['M','F','M'],'EiD':[101,102,103],'Age':[26,30,24],'Name':[\"karthik\",\"siva\",\"kiran\"]}\n",
        "d=pd.DataFrame(data,columns=['EiD','Name','Gen','Age'])\n",
        "print(d)"
      ],
      "execution_count": null,
      "outputs": [
        {
          "output_type": "stream",
          "name": "stdout",
          "text": [
            "   EiD     Name Gen  Age\n",
            "0  101  karthik   M   26\n",
            "1  102     siva   F   30\n",
            "2  103    kiran   M   24\n"
          ]
        }
      ]
    },
    {
      "cell_type": "markdown",
      "metadata": {
        "id": "_-HB2DS5loSX"
      },
      "source": [
        "### **a)Scipy**"
      ]
    },
    {
      "cell_type": "code",
      "metadata": {
        "colab": {
          "base_uri": "https://localhost:8080/"
        },
        "id": "Y-MXDI8zlqtY",
        "outputId": "f38c2916-8ed1-4189-bd0d-b4740647a723"
      },
      "source": [
        "from scipy import constants\n",
        "print(constants.pi)\n",
        "print(constants.deci)\n",
        "print(constants.kilo)\n",
        "print(constants.milli)"
      ],
      "execution_count": null,
      "outputs": [
        {
          "output_type": "stream",
          "name": "stdout",
          "text": [
            "3.141592653589793\n",
            "0.1\n",
            "1000.0\n",
            "0.001\n"
          ]
        }
      ]
    },
    {
      "cell_type": "code",
      "metadata": {
        "colab": {
          "base_uri": "https://localhost:8080/"
        },
        "id": "73B59pXrluez",
        "outputId": "a88d4459-7e27-4ac4-8ede-31b3bb87236d"
      },
      "source": [
        "from scipy import linalg\n",
        "import numpy as np\n",
        "x=np.array([[2,4,1],[7,5,3],[4,2,1]])\n",
        "y=np.array([2,1,7])\n",
        "z=linalg.solve(x,y)\n",
        "print(z)"
      ],
      "execution_count": null,
      "outputs": [
        {
          "output_type": "stream",
          "name": "stdout",
          "text": [
            "[  3.75   1.25 -10.5 ]\n"
          ]
        }
      ]
    },
    {
      "cell_type": "code",
      "metadata": {
        "colab": {
          "base_uri": "https://localhost:8080/"
        },
        "id": "xXmOaPp6luhZ",
        "outputId": "a8eac6a4-9f66-4f42-a3e4-b8ad8a03a543"
      },
      "source": [
        "from scipy import linalg\n",
        "import numpy as np\n",
        "A=np.array([[2,4,1],[7,5,3],[2,9,6]])\n",
        "x=linalg.det(A)\n",
        "print(x)"
      ],
      "execution_count": null,
      "outputs": [
        {
          "output_type": "stream",
          "name": "stdout",
          "text": [
            "-85.0\n"
          ]
        }
      ]
    },
    {
      "cell_type": "code",
      "metadata": {
        "colab": {
          "base_uri": "https://localhost:8080/"
        },
        "id": "K8DyNDJblukQ",
        "outputId": "b655717c-dfc3-4471-c6dd-5f001961871d"
      },
      "source": [
        "from scipy import linalg\n",
        "import numpy as np\n",
        "A=np.array([[2,4,1],[7,5,3],[2,9,6]])\n",
        "x,y=linalg.eig(A)\n",
        "print(\"Eigean values:\",x)\n",
        "print(\"Eigean vector:\",y)"
      ],
      "execution_count": null,
      "outputs": [
        {
          "output_type": "stream",
          "name": "stdout",
          "text": [
            "Eigean values: [12.8756074 +0.j -2.50792017+0.j  2.63231277+0.j]\n",
            "Eigean vector: [[ 0.27329417  0.45632869 -0.29839612]\n",
            " [ 0.5448779  -0.66271731 -0.27561521]\n",
            " [ 0.79272843  0.59377596  0.91378116]]\n"
          ]
        }
      ]
    },
    {
      "cell_type": "markdown",
      "metadata": {
        "id": "GNF4x2qumCJ3"
      },
      "source": [
        "### **b)Matplotlib**"
      ]
    },
    {
      "cell_type": "code",
      "metadata": {
        "id": "L2EcqEYJlumq"
      },
      "source": [
        "import matplotlib.pyplot as mtp\n",
        "import numpy as np\n",
        "x=np.array([3,5,7,9,11])\n",
        "y=np.array([43,97,23,36,97])\n",
        "mtp.plot(x,y)\n",
        "mtp.show()"
      ],
      "execution_count": null,
      "outputs": []
    },
    {
      "cell_type": "markdown",
      "metadata": {
        "id": "Y69j_MqvmG6b"
      },
      "source": [
        "![image.png](data:image/png;base64,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)"
      ]
    },
    {
      "cell_type": "code",
      "metadata": {
        "id": "dFe05sZ8luoe"
      },
      "source": [
        "x=np.array([2,5,7,10,13])\n",
        "y=np.array([45,97,13,56,77])\n",
        "mtp.bar(x,y)\n",
        "mtp.show()"
      ],
      "execution_count": null,
      "outputs": []
    },
    {
      "cell_type": "markdown",
      "metadata": {
        "id": "dlCGS7dYmLpl"
      },
      "source": [
        "![image.png](data:image/png;base64,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)"
      ]
    },
    {
      "cell_type": "code",
      "metadata": {
        "id": "rBgv39ASmOwj"
      },
      "source": [
        "x=np.array([35,20,15,27,3])\n",
        "mylabel=['paddy','cotton','chilli','major','lemon']\n",
        "mtp.pie(x,labels=mylabel)\n",
        "mtp.show()"
      ],
      "execution_count": null,
      "outputs": []
    },
    {
      "cell_type": "markdown",
      "metadata": {
        "id": "ZIyVGNZ2mN4k"
      },
      "source": [
        "![image.png](data:image/png;base64,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)"
      ]
    },
    {
      "cell_type": "markdown",
      "metadata": {
        "id": "7Tk34NUNmUDw"
      },
      "source": [
        "### **                                                           THE END**"
      ]
    }
  ]
}