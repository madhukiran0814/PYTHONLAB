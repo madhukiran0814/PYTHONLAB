{
  "nbformat": 4,
  "nbformat_minor": 0,
  "metadata": {
    "colab": {
      "name": "19A21B0554-PythonLab.ipynb",
      "provenance": [],
      "collapsed_sections": [
        "tamUIwIyMGgH",
        "ngXTh0ihMJ_y",
        "Vjj_769OM63g",
        "RAx2TVRMNfES",
        "4I-6-gEOOMB-",
        "jEC5SneFPWmy",
        "1SQKjGD_Pd4W",
        "XuvfR6IMlQs8",
        "DJQJ_0N5pOy4",
        "e7CG--VMpSZV",
        "JiARm7RRM7_n",
        "viGgHvRkTvkD",
        "YFgSln9DT1eF",
        "YvbzS5lMpw4E",
        "04cQCSsquhTK",
        "8czjFpX0u5pW",
        "EW2QqNqi1dxz"
      ],
      "authorship_tag": "ABX9TyMYcEFWfChaSsPQFyT6QUwA",
      "include_colab_link": true
    },
    "kernelspec": {
      "display_name": "Python 3",
      "name": "python3"
    },
    "language_info": {
      "name": "python"
    }
  },
  "cells": [
    {
      "cell_type": "markdown",
      "metadata": {
        "id": "view-in-github",
        "colab_type": "text"
      },
      "source": [
        "<a href=\"https://colab.research.google.com/github/madhukiran0814/PYTHONLAB/blob/main/19A21B0554_PythonLab.ipynb\" target=\"_parent\"><img src=\"https://colab.research.google.com/assets/colab-badge.svg\" alt=\"Open In Colab\"/></a>"
      ]
    },
    {
      "cell_type": "markdown",
      "metadata": {
        "id": "fODl0jdu_wrw"
      },
      "source": [
        "### *R.Madhu kiran - 19A21B0554 -PythonLab*\n"
      ]
    },
    {
      "cell_type": "markdown",
      "metadata": {
        "id": "nw58ZwH-A6pQ"
      },
      "source": [
        "## **Exercise-1:basics**"
      ]
    },
    {
      "cell_type": "markdown",
      "metadata": {
        "id": "uCCKlbWeBHRB"
      },
      "source": [
        "# a) Running instructions in Interactive interpreter and a Python "
      ]
    },
    {
      "cell_type": "code",
      "metadata": {
        "id": "eJS8ClMlAG6q"
      },
      "source": [
        "b=2"
      ],
      "execution_count": null,
      "outputs": []
    },
    {
      "cell_type": "code",
      "metadata": {
        "colab": {
          "base_uri": "https://localhost:8080/"
        },
        "id": "giy2TbokApqP",
        "outputId": "69099565-43e4-4ccc-aa03-e6a994a8cb6a"
      },
      "source": [
        "b"
      ],
      "execution_count": null,
      "outputs": [
        {
          "output_type": "execute_result",
          "data": {
            "text/plain": [
              "2"
            ]
          },
          "metadata": {
            "tags": []
          },
          "execution_count": 5
        }
      ]
    },
    {
      "cell_type": "code",
      "metadata": {
        "id": "vL3fpkhJAwyh"
      },
      "source": [
        "a=b"
      ],
      "execution_count": null,
      "outputs": []
    },
    {
      "cell_type": "code",
      "metadata": {
        "colab": {
          "base_uri": "https://localhost:8080/"
        },
        "id": "3dHzzRNfA0q3",
        "outputId": "c7c8820c-21cf-46b9-f965-ada78894dee9"
      },
      "source": [
        "a"
      ],
      "execution_count": null,
      "outputs": [
        {
          "output_type": "execute_result",
          "data": {
            "text/plain": [
              "2"
            ]
          },
          "metadata": {
            "tags": []
          },
          "execution_count": 7
        }
      ]
    },
    {
      "cell_type": "code",
      "metadata": {
        "colab": {
          "base_uri": "https://localhost:8080/"
        },
        "id": "1_qIdeWiBX-x",
        "outputId": "fe3fc5e9-88f6-411b-8a96-ad3586d5eccb"
      },
      "source": [
        "a+b"
      ],
      "execution_count": null,
      "outputs": [
        {
          "output_type": "execute_result",
          "data": {
            "text/plain": [
              "4"
            ]
          },
          "metadata": {
            "tags": []
          },
          "execution_count": 9
        }
      ]
    },
    {
      "cell_type": "code",
      "metadata": {
        "colab": {
          "base_uri": "https://localhost:8080/"
        },
        "id": "GtYeaLHQBaxg",
        "outputId": "2fc21d34-00b9-42d9-821b-6e07e07db11c"
      },
      "source": [
        "print(a+b)"
      ],
      "execution_count": null,
      "outputs": [
        {
          "output_type": "stream",
          "text": [
            "4\n"
          ],
          "name": "stdout"
        }
      ]
    },
    {
      "cell_type": "code",
      "metadata": {
        "id": "3zTV9rg9Beww"
      },
      "source": [
        "a=a+b"
      ],
      "execution_count": null,
      "outputs": []
    },
    {
      "cell_type": "code",
      "metadata": {
        "colab": {
          "base_uri": "https://localhost:8080/"
        },
        "id": "Clv1XQOZBi-g",
        "outputId": "5182c61c-a4d1-4ea5-e627-e9596879184c"
      },
      "source": [
        "a,b"
      ],
      "execution_count": null,
      "outputs": [
        {
          "output_type": "execute_result",
          "data": {
            "text/plain": [
              "(4, 2)"
            ]
          },
          "metadata": {
            "tags": []
          },
          "execution_count": 12
        }
      ]
    },
    {
      "cell_type": "code",
      "metadata": {
        "id": "aEAbGrR5Bkwo"
      },
      "source": [
        "a,b=b,a"
      ],
      "execution_count": null,
      "outputs": []
    },
    {
      "cell_type": "code",
      "metadata": {
        "colab": {
          "base_uri": "https://localhost:8080/"
        },
        "id": "uN6qKt0XBnd3",
        "outputId": "960bb496-d1a8-447e-86ff-9bb573de6be4"
      },
      "source": [
        "a,b"
      ],
      "execution_count": null,
      "outputs": [
        {
          "output_type": "execute_result",
          "data": {
            "text/plain": [
              "(2, 4)"
            ]
          },
          "metadata": {
            "tags": []
          },
          "execution_count": 14
        }
      ]
    },
    {
      "cell_type": "code",
      "metadata": {
        "id": "HYUJx7sxBpVP"
      },
      "source": [
        "c=\"hello\""
      ],
      "execution_count": null,
      "outputs": []
    },
    {
      "cell_type": "code",
      "metadata": {
        "colab": {
          "base_uri": "https://localhost:8080/",
          "height": 35
        },
        "id": "tAS8LEc3B08o",
        "outputId": "1dcbd833-a9b4-4b66-c57a-c69029d08dc6"
      },
      "source": [
        "c"
      ],
      "execution_count": null,
      "outputs": [
        {
          "output_type": "execute_result",
          "data": {
            "application/vnd.google.colaboratory.intrinsic+json": {
              "type": "string"
            },
            "text/plain": [
              "'hello'"
            ]
          },
          "metadata": {
            "tags": []
          },
          "execution_count": 18
        }
      ]
    },
    {
      "cell_type": "code",
      "metadata": {
        "colab": {
          "base_uri": "https://localhost:8080/",
          "height": 35
        },
        "id": "R2Y8RbMDB78Y",
        "outputId": "40e61d67-76ab-4d8d-8097-7ce72791845f"
      },
      "source": [
        "c+\"120\""
      ],
      "execution_count": null,
      "outputs": [
        {
          "output_type": "execute_result",
          "data": {
            "application/vnd.google.colaboratory.intrinsic+json": {
              "type": "string"
            },
            "text/plain": [
              "'hello120'"
            ]
          },
          "metadata": {
            "tags": []
          },
          "execution_count": 19
        }
      ]
    },
    {
      "cell_type": "code",
      "metadata": {
        "colab": {
          "base_uri": "https://localhost:8080/"
        },
        "id": "fUwVGFQAB-DQ",
        "outputId": "c1397c7d-bad7-4834-9ddc-eeb1e8b4a3ea"
      },
      "source": [
        "type(c)"
      ],
      "execution_count": null,
      "outputs": [
        {
          "output_type": "execute_result",
          "data": {
            "text/plain": [
              "str"
            ]
          },
          "metadata": {
            "tags": []
          },
          "execution_count": 20
        }
      ]
    },
    {
      "cell_type": "code",
      "metadata": {
        "id": "R_kK6RMKCMsg"
      },
      "source": [
        "a=type(c)"
      ],
      "execution_count": null,
      "outputs": []
    },
    {
      "cell_type": "code",
      "metadata": {
        "colab": {
          "base_uri": "https://localhost:8080/"
        },
        "id": "TDgxjvmECSRg",
        "outputId": "a24add04-5b6a-4de0-9210-7ab8ab8a8473"
      },
      "source": [
        "a"
      ],
      "execution_count": null,
      "outputs": [
        {
          "output_type": "execute_result",
          "data": {
            "text/plain": [
              "str"
            ]
          },
          "metadata": {
            "tags": []
          },
          "execution_count": 22
        }
      ]
    },
    {
      "cell_type": "code",
      "metadata": {
        "colab": {
          "base_uri": "https://localhost:8080/",
          "height": 35
        },
        "id": "NZy1asOqCVgA",
        "outputId": "279468ef-c0bc-4bf0-ba32-dc55d77cab08"
      },
      "source": [
        "\"c\"*2"
      ],
      "execution_count": null,
      "outputs": [
        {
          "output_type": "execute_result",
          "data": {
            "application/vnd.google.colaboratory.intrinsic+json": {
              "type": "string"
            },
            "text/plain": [
              "'cc'"
            ]
          },
          "metadata": {
            "tags": []
          },
          "execution_count": 24
        }
      ]
    },
    {
      "cell_type": "code",
      "metadata": {
        "id": "2zaNm7spCdeY"
      },
      "source": [
        "p,q,r=1,2,3"
      ],
      "execution_count": null,
      "outputs": []
    },
    {
      "cell_type": "code",
      "metadata": {
        "colab": {
          "base_uri": "https://localhost:8080/"
        },
        "id": "AK_wvdHMCk0Q",
        "outputId": "b010dac7-ccc8-4a8e-aeaa-f2526c7a27b6"
      },
      "source": [
        "p,q,r"
      ],
      "execution_count": null,
      "outputs": [
        {
          "output_type": "execute_result",
          "data": {
            "text/plain": [
              "(1, 2, 3)"
            ]
          },
          "metadata": {
            "tags": []
          },
          "execution_count": 26
        }
      ]
    },
    {
      "cell_type": "code",
      "metadata": {
        "colab": {
          "base_uri": "https://localhost:8080/"
        },
        "id": "wV6-teMBCmuR",
        "outputId": "5cddd038-86ff-4633-f488-d69340da5a1f"
      },
      "source": [
        "a=int(input(\"Enter a number\"))\n",
        "b=int(input(\"Enter a number\"))\n",
        "print(\"sum of a\",a,\" b\",b,\"is :\",a+b)\n",
        "\n",
        "\n",
        "print(\"sum of {} and {} is {} \".format(a,b,a+b))"
      ],
      "execution_count": null,
      "outputs": [
        {
          "output_type": "stream",
          "text": [
            "Enter a number5\n",
            "Enter a number55\n",
            "sum of a 5  b 55 is : 60\n",
            "sum of 5 and 55 is 60 \n"
          ],
          "name": "stdout"
        }
      ]
    },
    {
      "cell_type": "markdown",
      "metadata": {
        "id": "byZfll8PGA4V"
      },
      "source": [
        "\n",
        "## b) Write a program to purposefully raise Indentation Error and Correct it"
      ]
    },
    {
      "cell_type": "code",
      "metadata": {
        "colab": {
          "base_uri": "https://localhost:8080/",
          "height": 128
        },
        "id": "_MChzup5E8NK",
        "outputId": "598644a5-842e-4636-b82d-92e39ef2b62b"
      },
      "source": [
        "x=100;\n",
        "y=200;\n",
        "if x==y:\n",
        "print(\"equal\")\n",
        "else:\n",
        "  print(\"not equal\")"
      ],
      "execution_count": null,
      "outputs": [
        {
          "output_type": "error",
          "ename": "IndentationError",
          "evalue": "ignored",
          "traceback": [
            "\u001b[0;36m  File \u001b[0;32m\"<ipython-input-34-7e1447c3bcc3>\"\u001b[0;36m, line \u001b[0;32m4\u001b[0m\n\u001b[0;31m    print(\"equal\")\u001b[0m\n\u001b[0m        ^\u001b[0m\n\u001b[0;31mIndentationError\u001b[0m\u001b[0;31m:\u001b[0m expected an indented block\n"
          ]
        }
      ]
    },
    {
      "cell_type": "code",
      "metadata": {
        "colab": {
          "base_uri": "https://localhost:8080/"
        },
        "id": "QqHFiQ3rGWWk",
        "outputId": "c17f0ee1-1bf1-4c95-f48e-7e6b553644a9"
      },
      "source": [
        "x=100;\n",
        "y=200;\n",
        "if x==y:\n",
        "  print(\"equal\")\n",
        "else:\n",
        "  print(\"not equal\")"
      ],
      "execution_count": null,
      "outputs": [
        {
          "output_type": "stream",
          "text": [
            "not equal\n"
          ],
          "name": "stdout"
        }
      ]
    },
    {
      "cell_type": "code",
      "metadata": {
        "colab": {
          "base_uri": "https://localhost:8080/",
          "height": 128
        },
        "id": "GzkLVYnNGiOH",
        "outputId": "df330c60-5127-4c43-c4da-4c30c4016f7a"
      },
      "source": [
        "print(\"Hello Welcome\") \n",
        " a=100\n",
        " print(a)"
      ],
      "execution_count": null,
      "outputs": [
        {
          "output_type": "error",
          "ename": "IndentationError",
          "evalue": "ignored",
          "traceback": [
            "\u001b[0;36m  File \u001b[0;32m\"<ipython-input-43-0f0b3952388f>\"\u001b[0;36m, line \u001b[0;32m2\u001b[0m\n\u001b[0;31m    a=100\u001b[0m\n\u001b[0m    ^\u001b[0m\n\u001b[0;31mIndentationError\u001b[0m\u001b[0;31m:\u001b[0m unexpected indent\n"
          ]
        }
      ]
    },
    {
      "cell_type": "code",
      "metadata": {
        "colab": {
          "base_uri": "https://localhost:8080/"
        },
        "id": "zB8hc2F3G7Ef",
        "outputId": "a59c18ca-78a0-45c1-c339-0b382e5053a7"
      },
      "source": [
        "print(\"Hello World\")\n",
        "a=100\n",
        "print(a)"
      ],
      "execution_count": null,
      "outputs": [
        {
          "output_type": "stream",
          "text": [
            "Hello World\n",
            "100\n"
          ],
          "name": "stdout"
        }
      ]
    },
    {
      "cell_type": "markdown",
      "metadata": {
        "id": "joEayN14IAGV"
      },
      "source": [
        "# ***exercise-2:operations***"
      ]
    },
    {
      "cell_type": "markdown",
      "metadata": {
        "id": "77OOXbu1IaB5"
      },
      "source": [
        "\n",
        "## a) Write a program to compute distance between two points taking input from the user(Pythagorean Theorem)"
      ]
    },
    {
      "cell_type": "code",
      "metadata": {
        "colab": {
          "base_uri": "https://localhost:8080/"
        },
        "id": "PCPbBow0HE00",
        "outputId": "164d9cf7-f6f8-455b-bfe1-acd1e0b229f4"
      },
      "source": [
        "import math\n",
        "x1=int(input(\"Enter x1 value :\"))\n",
        "x2=int(input(\"Enter x2 value :\"))\n",
        "y1=int(input(\"Enter y1 value :\"))\n",
        "y2=int(input(\"Enter y2 value :\"))\n",
        "\n",
        "distance=math.sqrt((x2-x1)**2+(y2-y1)**2)\n",
        "print(\"Distance is :\",distance)"
      ],
      "execution_count": null,
      "outputs": [
        {
          "output_type": "stream",
          "text": [
            "Enter x1 value :5\n",
            "Enter x2 value :4\n",
            "Enter y1 value :5\n",
            "Enter y2 value :4\n",
            "Distance is : 1.4142135623730951\n"
          ],
          "name": "stdout"
        }
      ]
    },
    {
      "cell_type": "code",
      "metadata": {
        "id": "fwdpcAPJKi9u"
      },
      "source": [
        "import sys\n",
        "a=int(sys.argv[1])\n",
        "b=int(sys.argv[2])\n",
        "sum=a+b\n",
        "print(\"sum is\",sum)"
      ],
      "execution_count": null,
      "outputs": []
    },
    {
      "cell_type": "markdown",
      "metadata": {
        "id": "tamUIwIyMGgH"
      },
      "source": [
        "### **Exercise - 3 :Control Flow**"
      ]
    },
    {
      "cell_type": "markdown",
      "metadata": {
        "id": "ngXTh0ihMJ_y"
      },
      "source": [
        "\n",
        "### a) Write a Program for checking whether the given number is an even number or not"
      ]
    },
    {
      "cell_type": "code",
      "metadata": {
        "colab": {
          "base_uri": "https://localhost:8080/"
        },
        "id": "69sXvM1-MbY2",
        "outputId": "8ee5d585-330b-4e6f-a657-fe67198ee5af"
      },
      "source": [
        "x=int(input(\"Enter a number :\"))\n",
        "if x%2==0:\n",
        "  print(\"Number is even \")\n",
        "else :\n",
        "  print(\"Number is odd\")"
      ],
      "execution_count": null,
      "outputs": [
        {
          "output_type": "stream",
          "text": [
            "Enter a number :55\n",
            "Number is odd\n"
          ],
          "name": "stdout"
        }
      ]
    },
    {
      "cell_type": "markdown",
      "metadata": {
        "id": "Vjj_769OM63g"
      },
      "source": [
        "### b) Using a for loop, write a program that prints out the decimal equivalents of 1/2, 1/3, 1/4, . . .1/10"
      ]
    },
    {
      "cell_type": "code",
      "metadata": {
        "colab": {
          "base_uri": "https://localhost:8080/"
        },
        "id": "Em4QdToxMxbD",
        "outputId": "8503e364-5126-4364-e9d5-00514201a0cd"
      },
      "source": [
        "for i in range(1,11):\n",
        "  print(\"1/\",i,\"=\",1/i)"
      ],
      "execution_count": null,
      "outputs": [
        {
          "output_type": "stream",
          "text": [
            "1/ 1 = 1.0\n",
            "1/ 2 = 0.5\n",
            "1/ 3 = 0.3333333333333333\n",
            "1/ 4 = 0.25\n",
            "1/ 5 = 0.2\n",
            "1/ 6 = 0.16666666666666666\n",
            "1/ 7 = 0.14285714285714285\n",
            "1/ 8 = 0.125\n",
            "1/ 9 = 0.1111111111111111\n",
            "1/ 10 = 0.1\n"
          ],
          "name": "stdout"
        }
      ]
    },
    {
      "cell_type": "markdown",
      "metadata": {
        "id": "RAx2TVRMNfES"
      },
      "source": [
        "### c) Write a program using a for loop that loops over a sequence."
      ]
    },
    {
      "cell_type": "code",
      "metadata": {
        "colab": {
          "base_uri": "https://localhost:8080/"
        },
        "id": "dEaWlwQlNQfT",
        "outputId": "4c048653-2173-4715-8b4c-30135342ddf3"
      },
      "source": [
        "array=[\"one\",2,3.0,'4']\n",
        "for i in array:\n",
        "  print(i)"
      ],
      "execution_count": null,
      "outputs": [
        {
          "output_type": "stream",
          "text": [
            "one\n",
            "2\n",
            "3.0\n",
            "4\n"
          ],
          "name": "stdout"
        }
      ]
    },
    {
      "cell_type": "markdown",
      "metadata": {
        "id": "4I-6-gEOOMB-"
      },
      "source": [
        "### d) Write a program using a while loop that asks the user for a number, and prints a countdownfrom that number to zero."
      ]
    },
    {
      "cell_type": "code",
      "metadata": {
        "colab": {
          "base_uri": "https://localhost:8080/"
        },
        "id": "gRBlEqC_N60G",
        "outputId": "ab021265-5fee-4b43-8d0d-4ab0557b19d4"
      },
      "source": [
        "i=int(input(\"Enter a number :\"))\n",
        "while i!=0:\n",
        "  print(i)\n",
        "  i=i-1"
      ],
      "execution_count": null,
      "outputs": [
        {
          "output_type": "stream",
          "text": [
            "Enter a number :10\n",
            "10\n",
            "9\n",
            "8\n",
            "7\n",
            "6\n",
            "5\n",
            "4\n",
            "3\n",
            "2\n",
            "1\n"
          ],
          "name": "stdout"
        }
      ]
    },
    {
      "cell_type": "markdown",
      "metadata": {
        "id": "jEC5SneFPWmy"
      },
      "source": [
        "### **Exercise -4 : Control Flow - Continued**"
      ]
    },
    {
      "cell_type": "markdown",
      "metadata": {
        "id": "1SQKjGD_Pd4W"
      },
      "source": [
        "### a) Find the sum of all the primes below two million."
      ]
    },
    {
      "cell_type": "code",
      "metadata": {
        "colab": {
          "base_uri": "https://localhost:8080/"
        },
        "id": "Wkiljv-JO-sy",
        "outputId": "96672f88-1866-41cc-af0a-00a641f7e298"
      },
      "source": [
        "def is_prime(n):\n",
        "  f=0\n",
        "  for i in range(1,n+1):\n",
        "    if(n%i==0):\n",
        "      f=f+1\n",
        "  if f==2:\n",
        "    return True\n",
        "  else:\n",
        "    return False\n",
        "sum=0\n",
        "n=int(input(\"Enter upto:\"))\n",
        "for j in range(1,n+1):\n",
        "  if is_prime(j):\n",
        "    print(j)\n",
        "    sum=sum+j\n",
        "print(\"sum is :\",sum)\n",
        "\n",
        "\n",
        "\n"
      ],
      "execution_count": null,
      "outputs": [
        {
          "output_type": "stream",
          "text": [
            "Enter upto:15\n",
            "2\n",
            "3\n",
            "5\n",
            "7\n",
            "11\n",
            "13\n",
            "sum is : 41\n"
          ],
          "name": "stdout"
        }
      ]
    },
    {
      "cell_type": "markdown",
      "metadata": {
        "id": "XuvfR6IMlQs8"
      },
      "source": [
        "### b) By considering the terms in the Fibonacci sequence whose values do not exceed four million,find the sum of the even-valued terms"
      ]
    },
    {
      "cell_type": "code",
      "metadata": {
        "colab": {
          "base_uri": "https://localhost:8080/"
        },
        "id": "R3-5w9lynRpA",
        "outputId": "c5dfe1e0-f133-4db7-dedf-77274fff8ca5"
      },
      "source": [
        "a=0;\n",
        "b=1;\n",
        "c=0\n",
        "n=int(input(\"Enter a number :\"))\n",
        "sum=0\n",
        "while c<=n:\n",
        "  c=a+b\n",
        "  a=b\n",
        "  b=c\n",
        "  print(c)\n",
        "  if c%2==0:\n",
        "    \n",
        "    sum=sum+c\n",
        "print(\"sum of even terms is :\",sum)\n"
      ],
      "execution_count": null,
      "outputs": [
        {
          "output_type": "stream",
          "text": [
            "Enter a number :10\n",
            "1\n",
            "2\n",
            "3\n",
            "5\n",
            "8\n",
            "13\n",
            "sum of even terms is : 10\n"
          ],
          "name": "stdout"
        }
      ]
    },
    {
      "cell_type": "markdown",
      "metadata": {
        "id": "DJQJ_0N5pOy4"
      },
      "source": [
        "### **Exercise - 5 : DS**"
      ]
    },
    {
      "cell_type": "markdown",
      "metadata": {
        "id": "e7CG--VMpSZV"
      },
      "source": [
        "\n",
        "### a) Write a program to count the numbers of characters in the string and store them in adictionary data structure"
      ]
    },
    {
      "cell_type": "code",
      "metadata": {
        "colab": {
          "base_uri": "https://localhost:8080/"
        },
        "id": "wX2OeTygPhih",
        "outputId": "c4642b1e-0356-4b74-ac6d-b97376c885da"
      },
      "source": [
        "\n",
        "name=input(\"enter name\")\n",
        "dic={}\n",
        "for i in name:\n",
        "  keys=dic.keys()\n",
        "  if i in keys:\n",
        "    dic[i]=dic[i]+1\n",
        "  else :\n",
        "    dic[i]=1\n",
        "print(dic)"
      ],
      "execution_count": null,
      "outputs": [
        {
          "output_type": "stream",
          "text": [
            "enter namemadhu\n",
            "{'m': 1, 'a': 1, 'd': 1, 'h': 1, 'u': 1}\n"
          ],
          "name": "stdout"
        }
      ]
    },
    {
      "cell_type": "markdown",
      "metadata": {
        "id": "JiARm7RRM7_n"
      },
      "source": [
        "### b) Write a program to use split and join methods in the string and trace a birthday with adictionary data structure."
      ]
    },
    {
      "cell_type": "code",
      "metadata": {
        "colab": {
          "base_uri": "https://localhost:8080/"
        },
        "id": "M_gNQNZpN7WO",
        "outputId": "df79851a-9d5b-4672-952e-bfa4f71338a1"
      },
      "source": [
        "d={\"akhil\":\"05-05-15\",\"hari\":\"06-06-2012\"}\n",
        "n=input(\"Enter a name :\")\n",
        "l=n.split()\n",
        "for i in l:\n",
        "  if i in d.keys():\n",
        "    person=i\n",
        "print(\"Person is \",person,\"in list\")\n",
        "print(\"\".join([person,\"birthday is :\",d[person]]))"
      ],
      "execution_count": null,
      "outputs": [
        {
          "output_type": "stream",
          "text": [
            "Enter a name :hari\n",
            "Person is  hari in list\n",
            "haribirthday is :06-06-2012\n"
          ],
          "name": "stdout"
        }
      ]
    },
    {
      "cell_type": "markdown",
      "metadata": {
        "id": "viGgHvRkTvkD"
      },
      "source": [
        "\n",
        "### **Exercise - 6: DS - Continued**"
      ]
    },
    {
      "cell_type": "markdown",
      "metadata": {
        "id": "YFgSln9DT1eF"
      },
      "source": [
        "### a) Write a program combinelists that combines these lists into a dictionary"
      ]
    },
    {
      "cell_type": "code",
      "metadata": {
        "colab": {
          "base_uri": "https://localhost:8080/"
        },
        "id": "NaK-RVI8TU1n",
        "outputId": "7ed9ca30-c04c-41c2-ea0b-607102e9f92e"
      },
      "source": [
        "l1=[\"hello1\",\"hello2\",\"hello3\"]\n",
        "l2=[\"hello4\",\"hello5\",\"hello6\"]\n",
        "l3=l1+l2\n",
        "print(l3)\n",
        "d={}\n",
        "d=dict(zip(l1,l2))\n",
        "print(\"Dictinory is \",d)"
      ],
      "execution_count": null,
      "outputs": [
        {
          "output_type": "stream",
          "text": [
            "['hello1', 'hello2', 'hello3', 'hello4', 'hello5', 'hello6']\n",
            "Dictinory is  {'hello1': 'hello4', 'hello2': 'hello5', 'hello3': 'hello6'}\n"
          ],
          "name": "stdout"
        }
      ]
    },
    {
      "cell_type": "markdown",
      "metadata": {
        "id": "YvbzS5lMpw4E"
      },
      "source": [
        "\n",
        "### b) Write a program to count frequency of characters in a given file. Can you use characterfrequency to tell whether the given file is a Python program file, C program file or a text file?"
      ]
    },
    {
      "cell_type": "code",
      "metadata": {
        "id": "InVWPWQDUOqO",
        "colab": {
          "base_uri": "https://localhost:8080/"
        },
        "outputId": "276967b2-6087-4e01-84d9-fb635b2df948"
      },
      "source": [
        "file1=open(\"new.txt\",\"w\")\n",
        "file1.write(\"hello world\")\n",
        "file1.close()\n",
        "fn=input(\"Enter a file name :\")\n",
        "f=open(fn,\"r\")\n",
        "if \".txt\" in fn :\n",
        "  print(\"text file\")\n",
        "if \".c\" in fn :\n",
        "  print(\"C file\")\n",
        "if \".py\" in fn :\n",
        "  print(\"pyton file\")\n",
        "count=dict()\n",
        "for line in f:\n",
        "  for ch in line:\n",
        "    if ch in count:\n",
        "      count[ch]=count[ch]+1\n",
        "    else :\n",
        "      count[ch]=1\n",
        "print(count)\n"
      ],
      "execution_count": null,
      "outputs": [
        {
          "output_type": "stream",
          "text": [
            "Enter a file name :new.txt\n",
            "text file\n",
            "{'h': 1, 'e': 1, 'l': 3, 'o': 2, ' ': 1, 'w': 1, 'r': 1, 'd': 1}\n"
          ],
          "name": "stdout"
        }
      ]
    },
    {
      "cell_type": "markdown",
      "metadata": {
        "id": "04cQCSsquhTK"
      },
      "source": [
        "\n",
        "### **Exercise - 7: Files**"
      ]
    },
    {
      "cell_type": "markdown",
      "metadata": {
        "id": "8czjFpX0u5pW"
      },
      "source": [
        "\n",
        "### a) Write a program to print each line of a file in reverse order."
      ]
    },
    {
      "cell_type": "code",
      "metadata": {
        "colab": {
          "base_uri": "https://localhost:8080/"
        },
        "id": "wt-Xjhdqrhol",
        "outputId": "5db75432-50d3-4c6a-b5af-459bf31ce10b"
      },
      "source": [
        "file2=open(\"demo1.txt\",\"w\")\n",
        "file2.write(\"Welcome to python \\n hello\")\n",
        "file2.close()\n",
        "f=open(\"demo1.txt\",\"r\")\n",
        "data=f.read()\n",
        "lines=data.split(\"\\n\")\n",
        "for l in lines:\n",
        "  i=len(l)-1\n",
        "  while(i>=0):\n",
        "    print(l[i],end=\"\")\n",
        "    i=i-1\n"
      ],
      "execution_count": null,
      "outputs": [
        {
          "output_type": "stream",
          "text": [
            " nohtyp ot emocleWolleh "
          ],
          "name": "stdout"
        }
      ]
    },
    {
      "cell_type": "markdown",
      "metadata": {
        "id": "2u7G9d6nxw2W"
      },
      "source": [
        "### b) Write a program to compute the number of characters, words and lines in a file."
      ]
    },
    {
      "cell_type": "code",
      "metadata": {
        "colab": {
          "base_uri": "https://localhost:8080/"
        },
        "id": "piuC8-YnvscR",
        "outputId": "cfe4ce6b-844d-416a-e9b7-1ad95edd0871"
      },
      "source": [
        "file3=open(\"demo2.txt\",\"w\")\n",
        "file3.write(\"hello python \\nwelcome python\")\n",
        "i=0\n",
        "file3.close()\n",
        "f=open(\"demo2.txt\",\"r\")\n",
        "data=f.read()\n",
        "print(data)\n",
        "ch=len(data)\n",
        "\"\"\"for x in range(0,len(data)):\n",
        "  if data[x]==\" \":\n",
        "    i=i+1\"\"\"\n",
        "lines=data.split(\"\\n\")\n",
        "words=data.split(\" \")\n",
        "print(\"lines :\",len(lines),\"words :\",len(words),\"chars :\",ch-i)"
      ],
      "execution_count": null,
      "outputs": [
        {
          "output_type": "stream",
          "text": [
            "hello python \n",
            "welcome python\n",
            "lines : 2 words : 4 chars : 28\n"
          ],
          "name": "stdout"
        }
      ]
    },
    {
      "cell_type": "markdown",
      "metadata": {
        "id": "EW2QqNqi1dxz"
      },
      "source": [
        "### **Exercise - 8: Functions**"
      ]
    },
    {
      "cell_type": "markdown",
      "metadata": {
        "id": "4hGMqLsI1gjv"
      },
      "source": [
        "\n",
        "### a) Write a function ball collide that takes two balls as parameters and computes if they arecolliding. Your function should return a Boolean representing whether or not the balls arecolliding. Hint: Represent a ball on a plane as a tuple of (x, y, r), r being the radius If (distance between two balls centers) <= (sum of their radii) then (they are colliding)"
      ]
    },
    {
      "cell_type": "code",
      "metadata": {
        "id": "o-ZHSbf8x6N_",
        "colab": {
          "base_uri": "https://localhost:8080/"
        },
        "outputId": "c4c74a2a-b570-49b4-fbfe-e2a65e76621e"
      },
      "source": [
        "import math as m\n",
        "def collide(tup1,tup2):\n",
        "  x1,y1,r1=tup1;\n",
        "  x2,y2,r2=tup2;\n",
        "  d=m.sqrt((x2-x1)**2+(y2-y1)**2)\n",
        "  if d>r1+r2:\n",
        "    return True\n",
        "  else :\n",
        "    return False\n",
        "b1=(-2,-4,3)\n",
        "b2=(-2,-4,2)\n",
        "if collide(b1,b2):\n",
        "  print(\"Not Colliding \")\n",
        "else:\n",
        "  print(\" colliding\")\n"
      ],
      "execution_count": null,
      "outputs": [
        {
          "output_type": "stream",
          "text": [
            " colliding\n"
          ],
          "name": "stdout"
        }
      ]
    },
    {
      "cell_type": "markdown",
      "metadata": {
        "id": "DxYdmvIXMS0k"
      },
      "source": [
        "\n",
        "### b) Find mean, median, mode for the given set of numbers in a list."
      ]
    },
    {
      "cell_type": "code",
      "metadata": {
        "colab": {
          "base_uri": "https://localhost:8080/"
        },
        "id": "4bMTjeyVLbng",
        "outputId": "5c97dafc-ce67-434d-b25a-712c5d08eaa1"
      },
      "source": [
        "l=[1,2,3,3,4,5,6]\n",
        "def mean(num_list):\n",
        "  return(sum(num_list))/len(num_list)\n",
        "\n",
        "print(mean(l))\n",
        "\n",
        "\n",
        "def median(num_list):\n",
        "  num_list.sort()\n",
        "  n=len(num_list)\n",
        "  if n%2==1:\n",
        "    return num_list[n//2]\n",
        "  else:\n",
        "    return ((num_list[n//2]+num_list[(n//2)-1])/2)\n",
        "\n",
        "print(median(l))\n",
        "\n",
        "def mode(num_list):\n",
        "  num_list.sort()\n",
        "  temp=[]\n",
        "  i=0\n",
        "  while i<len(num_list):\n",
        "    temp.append(num_list.count(num_list[i]))\n",
        "    i=i+1\n",
        "  dic=dict(zip(num_list,temp))\n",
        "  mode={k for (k,v) in dic.items() if v==max(temp)}\n",
        "  return mode\n",
        "\n",
        "print(\"mode is\",mode(l))"
      ],
      "execution_count": null,
      "outputs": [
        {
          "output_type": "stream",
          "text": [
            "3.4285714285714284\n",
            "3\n",
            "mode is {3}\n"
          ],
          "name": "stdout"
        }
      ]
    },
    {
      "cell_type": "markdown",
      "metadata": {
        "id": "yHWPzSVPevLX"
      },
      "source": [
        "### **Exercise - 9: Functions - Continued**"
      ]
    },
    {
      "cell_type": "markdown",
      "metadata": {
        "id": "ckZHaCYge2SR"
      },
      "source": [
        "### a) Write a function nearly equal to test whether two strings are nearly equal. Two strings a and bare nearly equal when a can be generated by a single mutation on b."
      ]
    },
    {
      "cell_type": "code",
      "metadata": {
        "id": "btSRLEi7Uoao",
        "colab": {
          "base_uri": "https://localhost:8080/"
        },
        "outputId": "7027f1e0-f64a-4fef-e170-50d0173581f3"
      },
      "source": [
        "def nearly_eq(str1,str2):\n",
        "  count=0\n",
        "  i=j=0\n",
        "  while(i<len(str1)and(j<len(str2))):\n",
        "    if len(str1)!=len(str2):\n",
        "      count+=1\n",
        "      if len(str1)>len(str2):\n",
        "        i+=1\n",
        "      elif len(str1)==len(str2):\n",
        "        pass\n",
        "      else:\n",
        "        i-=1\n",
        "    if count>1:\n",
        "       return False\n",
        "    i+=1\n",
        "    j+=1\n",
        "  if(count<2):\n",
        "    return True\n",
        "s1=input(\"enter string1:\")\n",
        "s2=input(\"enter string2:\")\n",
        "bin=nearly_eq(s1,s2)\n",
        "if(bin):\n",
        "  print(\"strings are nearly equal\")\n",
        "else:\n",
        "  print(\"strings are not equal\")"
      ],
      "execution_count": null,
      "outputs": [
        {
          "output_type": "stream",
          "text": [
            "enter string1:madhu kiran\n",
            "enter string2:madhu\n",
            "strings are not equal\n"
          ],
          "name": "stdout"
        }
      ]
    },
    {
      "cell_type": "markdown",
      "metadata": {
        "id": "jbnbowuzrRIT"
      },
      "source": [
        "\n",
        "### b) Write a function dup to find all duplicates in the list."
      ]
    },
    {
      "cell_type": "code",
      "metadata": {
        "colab": {
          "base_uri": "https://localhost:8080/"
        },
        "id": "YkYnWKjNq_jX",
        "outputId": "4f6c8c3d-ca80-413d-ccbc-041c7fcd8814"
      },
      "source": [
        "def dups(numlist):\n",
        "  temp=[]\n",
        "  for i in numlist:\n",
        "    cnt=numlist.count(i)\n",
        "    if(cnt>1 and (i not in temp)):\n",
        "      temp.append(i)\n",
        "  print(\"duplicates in the list:\",temp)\n",
        "lst=[1,2,3,1,4,1,6,3,5,3,2]\n",
        "print(\"given elemnets is:\",lst)\n",
        "dups(lst)\n"
      ],
      "execution_count": 1,
      "outputs": [
        {
          "output_type": "stream",
          "name": "stdout",
          "text": [
            "given elemnets is: [1, 2, 3, 1, 4, 1, 6, 3, 5, 3, 2]\n",
            "duplicates in the list: [1, 2, 3]\n"
          ]
        }
      ]
    },
    {
      "cell_type": "markdown",
      "metadata": {
        "id": "e7GnxoD1XR-l"
      },
      "source": [
        "## c) Write a function unique to find all the unique elements of a list."
      ]
    },
    {
      "cell_type": "code",
      "metadata": {
        "id": "Yv3pdUMQsGBt",
        "colab": {
          "base_uri": "https://localhost:8080/"
        },
        "outputId": "631b72a0-d4e3-4bf3-e253-81dc83a97af7"
      },
      "source": [
        "def unique(numlist):\n",
        "  temp=[]\n",
        "  for i in numlist:\n",
        "    cnt=numlist.count(i)\n",
        "    if(cnt==1):\n",
        "      temp.append(i)\n",
        "  print(\"unique  in the list:\",temp)\n",
        "lst=[1,2,3,1,4,1,6,3,5,3,2]\n",
        "print(\"given elemnets is:\",lst)\n",
        "unique(lst)"
      ],
      "execution_count": 2,
      "outputs": [
        {
          "output_type": "stream",
          "name": "stdout",
          "text": [
            "given elemnets is: [1, 2, 3, 1, 4, 1, 6, 3, 5, 3, 2]\n",
            "unique  in the list: [4, 6, 5]\n"
          ]
        }
      ]
    },
    {
      "cell_type": "markdown",
      "metadata": {
        "id": "Sv7v1FECXbYZ"
      },
      "source": [
        "### **Exercise - 10 : Functions - Problem Solving**"
      ]
    },
    {
      "cell_type": "markdown",
      "metadata": {
        "id": "XkEgton_XjNw"
      },
      "source": [
        "\n",
        "## a) Write a function cumulative product to compute cumulative product of a list of numbers."
      ]
    },
    {
      "cell_type": "code",
      "metadata": {
        "colab": {
          "base_uri": "https://localhost:8080/"
        },
        "id": "DjRZNy-1XlXn",
        "outputId": "a3d1321e-cd34-4dd1-b168-bd0c02893bec"
      },
      "source": [
        "def cum_prod(num_list):\n",
        "  prd=1\n",
        "  temp=[]\n",
        "  for i in num_list:\n",
        "    prd*=i\n",
        "    temp.append(prd)\n",
        "  return temp\n",
        "list=[1,3,2,4,2,5,6,3]\n",
        "print(\"given list is:\",list)\n",
        "print(\"cummulative product is:\",cum_prod(list))"
      ],
      "execution_count": 3,
      "outputs": [
        {
          "output_type": "stream",
          "name": "stdout",
          "text": [
            "given list is: [1, 3, 2, 4, 2, 5, 6, 3]\n",
            "cummulative product is: [1, 3, 6, 24, 48, 240, 1440, 4320]\n"
          ]
        }
      ]
    },
    {
      "cell_type": "markdown",
      "metadata": {
        "id": "VRmKhACeXrhI"
      },
      "source": [
        "## b) Write a function reverse to reverse a list. Without using the reverse function"
      ]
    },
    {
      "cell_type": "code",
      "metadata": {
        "colab": {
          "base_uri": "https://localhost:8080/"
        },
        "id": "NwFFAbhqX8Vs",
        "outputId": "abccba00-751b-46a8-f578-2d9cb9f839ce"
      },
      "source": [
        "def reverse_list(num_list):\n",
        "  i=0\n",
        "  j=len(num_list)-1\n",
        "  while(i<=j):\n",
        "    temp=num_list[i]\n",
        "    num_list[i]=num_list[j]\n",
        "    num_list[j]=temp\n",
        "    j-=1\n",
        "    i+=1\n",
        "  return num_list\n",
        "list=[1,2,5,6,7,8]\n",
        "print(\"given list is:\",list)\n",
        "reverse_list(list)\n",
        "print(\"reverse of list is:\",list)"
      ],
      "execution_count": 4,
      "outputs": [
        {
          "output_type": "stream",
          "name": "stdout",
          "text": [
            "given list is: [1, 2, 5, 6, 7, 8]\n",
            "reverse of list is: [8, 7, 6, 5, 2, 1]\n"
          ]
        }
      ]
    },
    {
      "cell_type": "markdown",
      "metadata": {
        "id": "90UBAS5FYBLw"
      },
      "source": [
        "\n",
        "## c) Write function to compute gcd, lcm of two numbers. Each function shouldn’t exceed one line"
      ]
    },
    {
      "cell_type": "code",
      "metadata": {
        "colab": {
          "base_uri": "https://localhost:8080/"
        },
        "id": "wLNSyAYuYB7z",
        "outputId": "11c19e02-10b5-4fbc-ee85-f975cbf17ad8"
      },
      "source": [
        "gcd=lambda a,b:a if b==0 else gcd(a,a%b)\n",
        "lcm=lambda a,b:(a*b)/gcd(a,b)\n",
        "x=4\n",
        "y=24\n",
        "print(\"given number :\",x,y)\n",
        "print(\"gcd is:\",gcd(x,y))\n",
        "print(\"lcm is:\",lcm(x,y))"
      ],
      "execution_count": 5,
      "outputs": [
        {
          "output_type": "stream",
          "name": "stdout",
          "text": [
            "given number : 4 24\n",
            "gcd is: 4\n",
            "lcm is: 24.0\n"
          ]
        }
      ]
    },
    {
      "cell_type": "markdown",
      "metadata": {
        "id": "GzBHmI9hYJD3"
      },
      "source": [
        "\n",
        "### **Exercise -11 : Multi-D Lists¶**"
      ]
    },
    {
      "cell_type": "markdown",
      "metadata": {
        "id": "YKuzrh_AYK3A"
      },
      "source": [
        "## a) Write a program that defines a matrix and prints"
      ]
    },
    {
      "cell_type": "code",
      "metadata": {
        "colab": {
          "base_uri": "https://localhost:8080/"
        },
        "id": "wTBrFFwzYLBK",
        "outputId": "3cabbb19-ec4d-4707-c679-245d37f3d4c7"
      },
      "source": [
        "matA=[[]]\n",
        "rows=int(input(\"enter no of rows\"))\n",
        "colms=int(input(\"enter colms\"))\n",
        "matA=[[int(input(\"enter  [%d,%d] value :\"%(i,j)))for j in range(colms)]for i in range(rows)]\n",
        "print(\"matrix is\\n\")\n",
        "\n",
        "for i in range(rows):\n",
        "  for j in range(colms):\n",
        "    print(matA[i][j],end=\"\\t\")\n",
        "  print()"
      ],
      "execution_count": 6,
      "outputs": [
        {
          "output_type": "stream",
          "name": "stdout",
          "text": [
            "enter no of rows2\n",
            "enter colms2\n",
            "enter  [0,0] value :1\n",
            "enter  [0,1] value :2\n",
            "enter  [1,0] value :3\n",
            "enter  [1,1] value :4\n",
            "matrix is\n",
            "\n",
            "1\t2\t\n",
            "3\t4\t\n"
          ]
        }
      ]
    },
    {
      "cell_type": "markdown",
      "metadata": {
        "id": "vrgqIsyCY1Ol"
      },
      "source": [
        "## b) Write a program to perform addition of two square matrices"
      ]
    },
    {
      "cell_type": "code",
      "metadata": {
        "colab": {
          "base_uri": "https://localhost:8080/"
        },
        "id": "20FDqrMMY5ml",
        "outputId": "626abc4e-c7ff-4e5d-9034-5b6b339196c1"
      },
      "source": [
        "def matRead(r,c):\n",
        "  return[[int(input(\"enter [%d,%d] value:\"%(i,j)))for j in range(c)]for i in range(r)]\n",
        "   \n",
        "def disp(mat,r,c):\n",
        "  for i in range(r):\n",
        "    for j in range(c):\n",
        "      print(mat[i][j],end='   ')\n",
        "    print()\n",
        "\n",
        "matA=[[]]\n",
        "matB=[[]]\n",
        "summat=[[]]\n",
        "rows=int(input(\"enter no of rows:\"))\n",
        "cols=int(input(\"enter no of columns:\"))\n",
        "if rows==cols:2\n",
        "  print(\"enter matrix A elements:\")\n",
        "  matA=matRead(rows,cols) \n",
        "  print(\"enter matrix B elements:\")\n",
        "  matB=matRead(rows,cols)\n",
        "  print(\"matrix A is:\")\n",
        "  disp(matA,rows,cols) \n",
        "  print(\"matrix B is:\")\n",
        "  disp(matB,rows,cols)\n",
        "\n",
        "  summat=[[matA[i][j]+matB[i][j]for j in range(cols)]for i in range(rows)]\n",
        "  print(\"sum of matrices:\")\n",
        "  disp(summat,rows,cols)\n",
        "else:\n",
        "  print(\"matrix addition is not possible\")"
      ],
      "execution_count": 9,
      "outputs": [
        {
          "output_type": "stream",
          "name": "stdout",
          "text": [
            "enter no of rows:2\n",
            "enter no of columns:2\n",
            "enter matrix A elements:\n",
            "enter [0,0] value:1\n",
            "enter [0,1] value:2\n",
            "enter [1,0] value:3\n",
            "enter [1,1] value:4\n",
            "enter matrix B elements:\n",
            "enter [0,0] value:1\n",
            "enter [0,1] value:2\n",
            "enter [1,0] value:3\n",
            "enter [1,1] value:4\n",
            "matrix A is:\n",
            "1   2   \n",
            "3   4   \n",
            "matrix B is:\n",
            "1   2   \n",
            "3   4   \n",
            "sum of matrices:\n",
            "2   4   \n",
            "6   8   \n"
          ]
        }
      ]
    },
    {
      "cell_type": "markdown",
      "metadata": {
        "id": "K-cFo2W-Z3HJ"
      },
      "source": [
        "## c) Write a program to perform multiplication of two square matrices"
      ]
    },
    {
      "cell_type": "code",
      "metadata": {
        "colab": {
          "base_uri": "https://localhost:8080/"
        },
        "id": "T5FxUnkRZ7yF",
        "outputId": "079bf399-dc31-4f9d-f657-fe3b55c00997"
      },
      "source": [
        "def matRead(r,c):\n",
        "  return[[int(input(\"enter [%d,%d] value:\"%(i,j)))for j in range(c)]for i in range(r)]\n",
        "   \n",
        "def disp(mat,r,c):\n",
        "  for i in range(r):\n",
        "    for j in range(c):\n",
        "      print(mat[i][j],end='   ')\n",
        "    print()\n",
        "\n",
        "matA=[[]]\n",
        "matB=[[]]\n",
        "mulmat=[[]]\n",
        "rows=int(input(\"enter no of rows:\"))\n",
        "cols=int(input(\"enter no of columns:\"))\n",
        "if rows==cols:\n",
        "  print(\"enter matrix A elements:\")\n",
        "  matA=matRead(rows,cols) \n",
        "  print(\"enter matrix B elements:\")\n",
        "  matB=matRead(rows,cols)\n",
        "  print(\"matrix A is:\")\n",
        "  disp(matA,rows,cols) \n",
        "  print(\"matrix B is:\")\n",
        "  disp(matB,rows,cols)\n",
        "  mulmat=[[0 for j in range(cols)]for i in range(rows)]\n",
        "  for i in range(rows):\n",
        "    for j in range(cols):\n",
        "      for k in range(cols):\n",
        "        mulmat[i][j]=matA[i][k]*matB[k][j]\n",
        "  print(\"matrix multiplication is:\")\n",
        "\n",
        "\n",
        "  \n",
        "  \n",
        "  disp(mulmat,rows,cols)\n",
        "else:\n",
        "  print(\"matrix addition is not possible\")"
      ],
      "execution_count": 11,
      "outputs": [
        {
          "output_type": "stream",
          "name": "stdout",
          "text": [
            "enter no of rows:2\n",
            "enter no of columns:2\n",
            "enter matrix A elements:\n",
            "enter [0,0] value:1\n",
            "enter [0,1] value:2\n",
            "enter [1,0] value:3\n",
            "enter [1,1] value:4\n",
            "enter matrix B elements:\n",
            "enter [0,0] value:1\n",
            "enter [0,1] value:2\n",
            "enter [1,0] value:3\n",
            "enter [1,1] value:4\n",
            "matrix A is:\n",
            "1   2   \n",
            "3   4   \n",
            "matrix B is:\n",
            "1   2   \n",
            "3   4   \n",
            "matrix multiplication is:\n",
            "6   8   \n",
            "12   16   \n"
          ]
        }
      ]
    },
    {
      "cell_type": "markdown",
      "metadata": {
        "id": "XwLDI24iaa4R"
      },
      "source": [
        "\n",
        "### **Exercise - 12 : Modules**"
      ]
    },
    {
      "cell_type": "markdown",
      "metadata": {
        "id": "Qd5tNx73agHL"
      },
      "source": [
        "\n",
        "##a) Install packages requests, flask and explore them. using (pip)\n",
        "\n",
        "## b) Write a script that imports requests and fetch content from the page. Eg. (Wiki)"
      ]
    },
    {
      "cell_type": "code",
      "metadata": {
        "colab": {
          "base_uri": "https://localhost:8080/"
        },
        "id": "6cVkuawHakRW",
        "outputId": "e0b3e040-22f5-4eac-e723-927611013cb8"
      },
      "source": [
        "import requests\n",
        "r=requests.get('https://www.google.com')\n",
        "print(\"status coed:\",r.status_code)\n",
        "print(\"header content:\",r.headers['content-type'])\n",
        "print(r.text)"
      ],
      "execution_count": 13,
      "outputs": [
        {
          "output_type": "stream",
          "name": "stdout",
          "text": [
            "status coed: 200\n",
            "header content: text/html; charset=ISO-8859-1\n",
            "<!doctype html><html itemscope=\"\" itemtype=\"http://schema.org/WebPage\" lang=\"en\"><head><meta content=\"Search the world's information, including webpages, images, videos and more. Google has many special features to help you find exactly what you're looking for.\" name=\"description\"><meta content=\"noodp\" name=\"robots\"><meta content=\"text/html; charset=UTF-8\" http-equiv=\"Content-Type\"><meta content=\"/logos/doodles/2021/doodle-champion-island-games-september-05-6753651837109292-l.png\" itemprop=\"image\"><meta content=\"Doodle Champion Island Games!\" property=\"twitter:title\"><meta content=\"Feline up for a challenge? Help Lucky claim victory in the Doodle Champion Island Games! #GoogleDoodle \" property=\"twitter:description\"><meta content=\"Feline up for a challenge? Help Lucky claim victory in the Doodle Champion Island Games! #GoogleDoodle \" property=\"og:description\"><meta content=\"summary_large_image\" property=\"twitter:card\"><meta content=\"@GoogleDoodles\" property=\"twitter:site\"><meta content=\"https://www.google.com/logos/doodles/2021/doodle-champion-island-games-september-05-6753651837109292-2xa.gif\" property=\"twitter:image\"><meta content=\"https://www.google.com/logos/doodles/2021/doodle-champion-island-games-september-05-6753651837109292-2xa.gif\" property=\"og:image\"><meta content=\"668\" property=\"og:image:width\"><meta content=\"392\" property=\"og:image:height\"><meta content=\"https://www.google.com/logos/doodles/2021/doodle-champion-island-games-september-05-6753651837109292-2xa.gif\" property=\"og:url\"><meta content=\"video.other\" property=\"og:type\"><title>Google</title><script nonce=\"Y7RGKwL1pl28Gsu1vPFWjA==\">(function(){window.google={kEI:'oVQ0YbCAJoiFwbkP-8mTiAM',kEXPI:'0,772215,1,530316,56877,954,5104,207,4804,2316,383,246,5,1354,4936,315,1122515,1197661,103,518,119,328866,51224,16111,17447,11240,17572,4859,1361,9290,3023,17586,4020,978,13228,3847,4192,6430,1142,17906,2774,919,5081,1593,1279,2212,530,149,1103,842,1981,214,4100,108,3406,606,2023,1733,43,521,14670,3227,2846,6,5599,6754,5097,14396,1371,553,908,2,941,15324,432,3,1590,1,5445,148,11323,2652,4,1528,2304,1236,5227,576,74,1983,2626,2015,6573,4928,3824,1012,2038,2658,4242,2942,171,32,13628,1590,715,638,37,7043,3772,5993,1435,652,1870,3302,2533,4094,18,3120,6,908,3,3541,1,5349,8914,447,1,1814,282,38,874,5992,14678,746,1,22,1281,1344,371,2,3057,6155,636,4,23,4,5387,4,89,594,442,342,255,55,4,434,2500,1557,743,5853,2050,3038,5375,1160,1266,3,17,5121,293,2380,1402,1,1315,3709,2,835,3,5473,360,923,3352,1213,2427,1,8,2444,4504,32,737,1933,190,1,2445,1596,981,2787,337,554,462,4908,1265,697,1,199,1661,49,594,664,3,792,3063,118,2209,895,196,306,177,48,93,22,406,36,675,1,189,321,393,390,3,670,419,546,163,1172,253,303,142,2,658,98,172,1209,465,432,472,59,52,256,71,4,416,783,245,149,84,141,1105,2,197,338,4,205,838,94,3,723,5579073,3904,226,220,72,79,54,74,4,14,5996572,2800696,882,444,1,2,80,1,1797,2,7,2553,1,748,141,795,563,1,4265,1,1,2,1331,4142,2609,155,17,13,72,139,4,2,20,2,169,13,19,46,5,39,96,548,29,2,2,1,2,1,2,2,7,4,1,2,2,2,2,2,2,353,513,186,1,1,158,3,2,2,2,2,2,4,2,3,3,269,291,53,25,15,19,7,8,31,19,16,17,4,21,23654332,299865,2773819,88207,1179325,338,3,2414,448,2,91,372,172,406,9,3235,125,1417,797,70,57,67',kBL:'94Ui'};google.sn='webhp';google.kHL='en';})();(function(){\n",
            "var f=this||self;var h,k=[];function l(a){for(var b;a&&(!a.getAttribute||!(b=a.getAttribute(\"eid\")));)a=a.parentNode;return b||h}function m(a){for(var b=null;a&&(!a.getAttribute||!(b=a.getAttribute(\"leid\")));)a=a.parentNode;return b}\n",
            "function n(a,b,c,d,g){var e=\"\";c||-1!==b.search(\"&ei=\")||(e=\"&ei=\"+l(d),-1===b.search(\"&lei=\")&&(d=m(d))&&(e+=\"&lei=\"+d));d=\"\";!c&&f._cshid&&-1===b.search(\"&cshid=\")&&\"slh\"!==a&&(d=\"&cshid=\"+f._cshid);c=c||\"/\"+(g||\"gen_204\")+\"?atyp=i&ct=\"+a+\"&cad=\"+b+e+\"&zx=\"+Date.now()+d;/^http:/i.test(c)&&\"https:\"===window.location.protocol&&(google.ml&&google.ml(Error(\"a\"),!1,{src:c,glmm:1}),c=\"\");return c};h=google.kEI;google.getEI=l;google.getLEI=m;google.ml=function(){return null};google.log=function(a,b,c,d,g){if(c=n(a,b,c,d,g)){a=new Image;var e=k.length;k[e]=a;a.onerror=a.onload=a.onabort=function(){delete k[e]};a.src=c}};google.logUrl=n;}).call(this);(function(){\n",
            "google.y={};google.sy=[];google.x=function(a,b){if(a)var c=a.id;else{do c=Math.random();while(google.y[c])}google.y[c]=[a,b];return!1};google.sx=function(a){google.sy.push(a)};google.lm=[];google.plm=function(a){google.lm.push.apply(google.lm,a)};google.lq=[];google.load=function(a,b,c){google.lq.push([[a],b,c])};google.loadAll=function(a,b){google.lq.push([a,b])};google.bx=!1;google.lx=function(){};}).call(this);google.f={};(function(){\n",
            "document.documentElement.addEventListener(\"submit\",function(b){var a;if(a=b.target){var c=a.getAttribute(\"data-submitfalse\");a=\"1\"==c||\"q\"==c&&!a.elements.q.value?!0:!1}else a=!1;a&&(b.preventDefault(),b.stopPropagation())},!0);document.documentElement.addEventListener(\"click\",function(b){var a;a:{for(a=b.target;a&&a!=document.documentElement;a=a.parentElement)if(\"A\"==a.tagName){a=\"1\"==a.getAttribute(\"data-nohref\");break a}a=!1}a&&b.preventDefault()},!0);}).call(this);</script><style>#gbar,#guser{font-size:13px;padding-top:1px !important;}#gbar{height:22px}#guser{padding-bottom:7px !important;text-align:right}.gbh,.gbd{border-top:1px solid #c9d7f1;font-size:1px}.gbh{height:0;position:absolute;top:24px;width:100%}@media all{.gb1{height:22px;margin-right:.5em;vertical-align:top}#gbar{float:left}}a.gb1,a.gb4{text-decoration:underline !important}a.gb1,a.gb4{color:#00c !important}.gbi .gb4{color:#dd8e27 !important}.gbf .gb4{color:#900 !important}\n",
            "</style><style>body,td,a,p,.h{font-family:arial,sans-serif}body{margin:0;overflow-y:scroll}#gog{padding:3px 8px 0}td{line-height:.8em}.gac_m td{line-height:17px}form{margin-bottom:20px}.h{color:#1558d6}em{font-weight:bold;font-style:normal}.lst{height:25px;width:496px}.gsfi,.lst{font:18px arial,sans-serif}.gsfs{font:17px arial,sans-serif}.ds{display:inline-box;display:inline-block;margin:3px 0 4px;margin-left:4px}input{font-family:inherit}body{background:#fff;color:#000}a{color:#4b11a8;text-decoration:none}a:hover,a:active{text-decoration:underline}.fl a{color:#1558d6}a:visited{color:#4b11a8}.sblc{padding-top:5px}.sblc a{display:block;margin:2px 0;margin-left:13px;font-size:11px}.lsbb{background:#f8f9fa;border:solid 1px;border-color:#dadce0 #70757a #70757a #dadce0;height:30px}.lsbb{display:block}#WqQANb a{display:inline-block;margin:0 12px}.lsb{background:url(/images/nav_logo229.png) 0 -261px repeat-x;border:none;color:#000;cursor:pointer;height:30px;margin:0;outline:0;font:15px arial,sans-serif;vertical-align:top}.lsb:active{background:#dadce0}.lst:focus{outline:none}</style><script nonce=\"Y7RGKwL1pl28Gsu1vPFWjA==\"></script></head><body bgcolor=\"#fff\"><script nonce=\"Y7RGKwL1pl28Gsu1vPFWjA==\">(function(){var src='/images/nav_logo229.png';var iesg=false;document.body.onload = function(){window.n && window.n();if (document.images){new Image().src=src;}\n",
            "if (!iesg){document.f&&document.f.q.focus();document.gbqf&&document.gbqf.q.focus();}\n",
            "}\n",
            "})();</script><div id=\"mngb\"><div id=gbar><nobr><b class=gb1>Search</b> <a class=gb1 href=\"https://www.google.com/imghp?hl=en&tab=wi\">Images</a> <a class=gb1 href=\"https://maps.google.com/maps?hl=en&tab=wl\">Maps</a> <a class=gb1 href=\"https://play.google.com/?hl=en&tab=w8\">Play</a> <a class=gb1 href=\"https://www.youtube.com/?gl=US&tab=w1\">YouTube</a> <a class=gb1 href=\"https://news.google.com/?tab=wn\">News</a> <a class=gb1 href=\"https://mail.google.com/mail/?tab=wm\">Gmail</a> <a class=gb1 href=\"https://drive.google.com/?tab=wo\">Drive</a> <a class=gb1 style=\"text-decoration:none\" href=\"https://www.google.com/intl/en/about/products?tab=wh\"><u>More</u> &raquo;</a></nobr></div><div id=guser width=100%><nobr><span id=gbn class=gbi></span><span id=gbf class=gbf></span><span id=gbe></span><a href=\"http://www.google.com/history/optout?hl=en\" class=gb4>Web History</a> | <a  href=\"/preferences?hl=en\" class=gb4>Settings</a> | <a target=_top id=gb_70 href=\"https://accounts.google.com/ServiceLogin?hl=en&passive=true&continue=https://www.google.com/&ec=GAZAAQ\" class=gb4>Sign in</a></nobr></div><div class=gbh style=left:0></div><div class=gbh style=right:0></div></div><center><br clear=\"all\" id=\"lgpd\"><div id=\"lga\"><a href=\"/search?ie=UTF-8&amp;q=Paralympics&amp;oi=ddle&amp;ct=192414335&amp;hl=en&amp;si=AHuW2sT-QI6yLdyEfUBJHlK3UbYl5IMFaEVy5cpr0uPqDA9_otVXb9ripiHnz-EX5hXZ_jIa8ESKopokBeQtHfj9KzxO6Dw9kGEpQWJxyyGVK2B-ksVRRB0%3D&amp;sa=X&amp;ved=0ahUKEwjw1PyCjOfyAhWIQjABHfvkBDEQPQgD\"><img alt=\"Doodle Champion Island Games!\" border=\"0\" height=\"196\" src=\"/logos/doodles/2021/doodle-champion-island-games-september-05-6753651837109292-l.png\" title=\"Doodle Champion Island Games!\" width=\"334\" id=\"hplogo\"><br></a><br></div><form action=\"/search\" name=\"f\"><table cellpadding=\"0\" cellspacing=\"0\"><tr valign=\"top\"><td width=\"25%\">&nbsp;</td><td align=\"center\" nowrap=\"\"><input name=\"ie\" value=\"ISO-8859-1\" type=\"hidden\"><input value=\"en\" name=\"hl\" type=\"hidden\"><input name=\"source\" type=\"hidden\" value=\"hp\"><input name=\"biw\" type=\"hidden\"><input name=\"bih\" type=\"hidden\"><div class=\"ds\" style=\"height:32px;margin:4px 0\"><input class=\"lst\" style=\"margin:0;padding:5px 8px 0 6px;vertical-align:top;color:#000\" autocomplete=\"off\" value=\"\" title=\"Google Search\" maxlength=\"2048\" name=\"q\" size=\"57\"></div><br style=\"line-height:0\"><span class=\"ds\"><span class=\"lsbb\"><input class=\"lsb\" value=\"Google Search\" name=\"btnG\" type=\"submit\"></span></span><span class=\"ds\"><span class=\"lsbb\"><input class=\"lsb\" id=\"tsuid1\" value=\"I'm Feeling Lucky\" name=\"btnI\" type=\"submit\"><script nonce=\"Y7RGKwL1pl28Gsu1vPFWjA==\">(function(){var id='tsuid1';document.getElementById(id).onclick = function(){if (this.form.q.value){this.checked = 1;if (this.form.iflsig)this.form.iflsig.disabled = false;}\n",
            "else top.location='/doodles/';};})();</script><input value=\"ALs-wAMAAAAAYTRiscyk71djNNaBsOaTUIY_pk8cKiQc\" name=\"iflsig\" type=\"hidden\"></span></span></td><td class=\"fl sblc\" align=\"left\" nowrap=\"\" width=\"25%\"><a href=\"/advanced_search?hl=en&amp;authuser=0\">Advanced search</a></td></tr></table><input id=\"gbv\" name=\"gbv\" type=\"hidden\" value=\"1\"><script nonce=\"Y7RGKwL1pl28Gsu1vPFWjA==\">(function(){\n",
            "var a,b=\"1\";if(document&&document.getElementById)if(\"undefined\"!=typeof XMLHttpRequest)b=\"2\";else if(\"undefined\"!=typeof ActiveXObject){var c,d,e=[\"MSXML2.XMLHTTP.6.0\",\"MSXML2.XMLHTTP.3.0\",\"MSXML2.XMLHTTP\",\"Microsoft.XMLHTTP\"];for(c=0;d=e[c++];)try{new ActiveXObject(d),b=\"2\"}catch(h){}}a=b;if(\"2\"==a&&-1==location.search.indexOf(\"&gbv=2\")){var f=google.gbvu,g=document.getElementById(\"gbv\");g&&(g.value=a);f&&window.setTimeout(function(){location.href=f},0)};}).call(this);</script></form><div id=\"gac_scont\"></div><div style=\"font-size:83%;min-height:3.5em\"><br></div><span id=\"footer\"><div style=\"font-size:10pt\"><div style=\"margin:19px auto;text-align:center\" id=\"WqQANb\"><a href=\"/intl/en/ads/\">Advertising Programs</a><a href=\"/services/\">Business Solutions</a><a href=\"/intl/en/about.html\">About Google</a></div></div><p style=\"font-size:8pt;color:#70757a\">&copy; 2021 - <a href=\"/intl/en/policies/privacy/\">Privacy</a> - <a href=\"/intl/en/policies/terms/\">Terms</a></p></span></center><script nonce=\"Y7RGKwL1pl28Gsu1vPFWjA==\">(function(){window.google.cdo={height:757,width:1440};(function(){\n",
            "var a=window.innerWidth,b=window.innerHeight;if(!a||!b){var c=window.document,d=\"CSS1Compat\"==c.compatMode?c.documentElement:c.body;a=d.clientWidth;b=d.clientHeight}a&&b&&(a!=google.cdo.width||b!=google.cdo.height)&&google.log(\"\",\"\",\"/client_204?&atyp=i&biw=\"+a+\"&bih=\"+b+\"&ei=\"+google.kEI);}).call(this);})();</script> <script nonce=\"Y7RGKwL1pl28Gsu1vPFWjA==\">(function(){google.xjs={ck:'',cs:'',excm:[]};})();</script>  <script nonce=\"Y7RGKwL1pl28Gsu1vPFWjA==\">(function(){var u='/xjs/_/js/k\\x3dxjs.hp.en_US.uJVE4aH5PNY.O/am\\x3dAPgEWA/d\\x3d1/ed\\x3d1/rs\\x3dACT90oHMCNW-abUb8NKgcji0KPjTPcrpeg/m\\x3dsb_he,d';\n",
            "var e=this||self,f=function(a){return a};var g;var l=function(a,b){this.g=b===h?a:\"\"};l.prototype.toString=function(){return this.g+\"\"};var h={};function m(){var a=u;google.lx=function(){n(a);google.lx=function(){}};google.bx||google.lx()}\n",
            "function n(a){google.timers&&google.timers.load&&google.tick&&google.tick(\"load\",\"xjsls\");var b=document;var c=\"SCRIPT\";\"application/xhtml+xml\"===b.contentType&&(c=c.toLowerCase());c=b.createElement(c);if(void 0===g){b=null;var k=e.trustedTypes;if(k&&k.createPolicy){try{b=k.createPolicy(\"goog#html\",{createHTML:f,createScript:f,createScriptURL:f})}catch(p){e.console&&e.console.error(p.message)}g=b}else g=b}a=(b=g)?b.createScriptURL(a):a;a=new l(a,h);c.src=a instanceof l&&a.constructor===l?a.g:\"type_error:TrustedResourceUrl\";var d;a=(c.ownerDocument&&c.ownerDocument.defaultView||window).document;(d=(b=null===(d=a.querySelector)||void 0===d?void 0:d.call(a,\"script[nonce]\"))?b.nonce||b.getAttribute(\"nonce\")||\"\":\"\")&&c.setAttribute(\"nonce\",d);document.body.appendChild(c);google.psa=!0};setTimeout(function(){m()},0);})();(function(){window.google.xjsu='/xjs/_/js/k\\x3dxjs.hp.en_US.uJVE4aH5PNY.O/am\\x3dAPgEWA/d\\x3d1/ed\\x3d1/rs\\x3dACT90oHMCNW-abUb8NKgcji0KPjTPcrpeg/m\\x3dsb_he,d';})();function _DumpException(e){throw e;}\n",
            "function _F_installCss(c){}\n",
            "(function(){google.jl={attn:false,blt:'none',chnk:0,dw:false,emtn:0,end:0,ine:false,lls:'default',pdt:0,rep:0,sif:true,snet:true,strt:0,ubm:false,uwp:true};})();(function(){var pmc='{\\x22d\\x22:{},\\x22sb_he\\x22:{\\x22agen\\x22:false,\\x22cgen\\x22:false,\\x22client\\x22:\\x22heirloom-hp\\x22,\\x22dh\\x22:true,\\x22dhqt\\x22:true,\\x22ds\\x22:\\x22\\x22,\\x22ffql\\x22:\\x22en\\x22,\\x22fl\\x22:true,\\x22host\\x22:\\x22google.com\\x22,\\x22isbh\\x22:28,\\x22jsonp\\x22:true,\\x22msgs\\x22:{\\x22cibl\\x22:\\x22Clear Search\\x22,\\x22dym\\x22:\\x22Did you mean:\\x22,\\x22lcky\\x22:\\x22I\\\\u0026#39;m Feeling Lucky\\x22,\\x22lml\\x22:\\x22Learn more\\x22,\\x22oskt\\x22:\\x22Input tools\\x22,\\x22psrc\\x22:\\x22This search was removed from your \\\\u003Ca href\\x3d\\\\\\x22/history\\\\\\x22\\\\u003EWeb History\\\\u003C/a\\\\u003E\\x22,\\x22psrl\\x22:\\x22Remove\\x22,\\x22sbit\\x22:\\x22Search by image\\x22,\\x22srch\\x22:\\x22Google Search\\x22},\\x22ovr\\x22:{},\\x22pq\\x22:\\x22\\x22,\\x22refpd\\x22:true,\\x22rfs\\x22:[],\\x22sbas\\x22:\\x220 3px 8px 0 rgba(0,0,0,0.2),0 0 0 1px rgba(0,0,0,0.08)\\x22,\\x22sbpl\\x22:16,\\x22sbpr\\x22:16,\\x22scd\\x22:10,\\x22stok\\x22:\\x22DaZBgaQoYQCpdNUtRBEhZx83_lQ\\x22,\\x22uhde\\x22:false}}';google.pmc=JSON.parse(pmc);})();</script>        </body></html>\n"
          ]
        }
      ]
    },
    {
      "cell_type": "markdown",
      "metadata": {
        "id": "sjnOS3dia0EG"
      },
      "source": [
        "\n",
        "## c) Write a simple script that serves a simple HTTPResponse and a simple HTML Page"
      ]
    },
    {
      "cell_type": "code",
      "metadata": {
        "colab": {
          "base_uri": "https://localhost:8080/"
        },
        "id": "aar0m-b9a3ta",
        "outputId": "5940943f-b963-4b27-8626-38b85c997ca5"
      },
      "source": [
        "from flask import Flask,render_template\n",
        "app=Flask(__name__)\n",
        "print(app)\n",
        "@app.route(\"/\")\n",
        "def main():\n",
        "  return render_template('login.html')\n",
        "  if __name__==\"__main__\":\n",
        "    app.run(host=\"127.0.0.1\",port=2500)"
      ],
      "execution_count": 14,
      "outputs": [
        {
          "output_type": "stream",
          "name": "stdout",
          "text": [
            "<Flask '__main__'>\n"
          ]
        }
      ]
    },
    {
      "cell_type": "markdown",
      "metadata": {
        "id": "lEPSmYKMa8TW"
      },
      "source": [
        "\n",
        "### **Exercise - 13: OOP**"
      ]
    },
    {
      "cell_type": "markdown",
      "metadata": {
        "id": "2PpRFp22bJh8"
      },
      "source": [
        "## a) Class variables and instance variable and illustration of the self-variable i) Robot ii) ATM Machine"
      ]
    },
    {
      "cell_type": "code",
      "metadata": {
        "colab": {
          "base_uri": "https://localhost:8080/"
        },
        "id": "2MAmRJqIbrhY",
        "outputId": "0ee85945-b820-4150-b70e-4c705083dd08"
      },
      "source": [
        "### ROBOT ###\n",
        "class Robot:\n",
        "  what=\"machine\"\n",
        "  name=\"chitti\"\n",
        "  version=1.0\n",
        "  speed=\"1THz\"\n",
        "  memory=\"1ZB\"\n",
        " \n",
        "  def update(upd):\n",
        "    upd.version=2.0\n",
        "    upd.speed=\"2THz\"\n",
        "    memory=\"2ZB\"\n",
        " \n",
        "  def disp(self):\n",
        "    print(\"My self is a\",robj.what)\n",
        "    print(\"my name is a\",robj.name)\n",
        "    print(\"version:\",robj.version)\n",
        "    print(\"speed:\",robj.speed)\n",
        "    print(\"memory:\",robj.memory)\n",
        " \n",
        "robj=Robot()\n",
        "robj.disp()\n",
        "print(\"--------Update-----------\")\n",
        "robj.update()\n",
        "robj.disp()"
      ],
      "execution_count": 15,
      "outputs": [
        {
          "output_type": "stream",
          "name": "stdout",
          "text": [
            "My self is a machine\n",
            "my name is a chitti\n",
            "version: 1.0\n",
            "speed: 1THz\n",
            "memory: 1ZB\n",
            "--------Update-----------\n",
            "My self is a machine\n",
            "my name is a chitti\n",
            "version: 2.0\n",
            "speed: 2THz\n",
            "memory: 1ZB\n"
          ]
        }
      ]
    },
    {
      "cell_type": "code",
      "metadata": {
        "colab": {
          "base_uri": "https://localhost:8080/"
        },
        "id": "hD6cs_Afcp9S",
        "outputId": "2af8da47-2752-4dd7-9254-f924bb3b61b7"
      },
      "source": [
        "### ATM\n",
        "class ATM:\n",
        "  balance=int()\n",
        "  def init(self):\n",
        "    self.balance=0\n",
        "  \n",
        "  def enquire(self):\n",
        "    print(\"balance is:\",self.balance)\n",
        " \n",
        "  def deposit(self):\n",
        "    amount=int(input(\"enter amount to depposit\"))\n",
        "    self.balance+=amount\n",
        "    self.enquire()\n",
        "  def withdraw(self):\n",
        "    if self.balance<amount:\n",
        "      print(\"ammount is insufficient\")\n",
        "    else:\n",
        "      self.balance-=amount\n",
        "      self.enquire()\n",
        "obj=ATM()\n",
        "while(True):\n",
        "  print(\"****MENU*****\")\n",
        "  print(\"1.deposit\")\n",
        "  print(\"2.withdraw\")\n",
        "  print(\"3.Balance\")\n",
        "  print(\"0.exit\")\n",
        "  ch=int(input(\"enter your choice\"))\n",
        "  if ch==0:\n",
        "    break\n",
        "  elif ch==1:\n",
        "    obj.deposit()\n",
        "  elif ch==2:\n",
        "    obj.withdraw()\n",
        "  elif ch==3:\n",
        "    obj.enquire()\n",
        "  else:\n",
        "    print(\"ivalid option\")"
      ],
      "execution_count": 18,
      "outputs": [
        {
          "name": "stdout",
          "output_type": "stream",
          "text": [
            "****MENU*****\n",
            "1.deposit\n",
            "2.withdraw\n",
            "3.Balance\n",
            "0.exit\n",
            "enter your choice3\n",
            "balance is: 0\n",
            "****MENU*****\n",
            "1.deposit\n",
            "2.withdraw\n",
            "3.Balance\n",
            "0.exit\n",
            "enter your choice1\n",
            "enter amount to depposit500\n",
            "balance is: 500\n",
            "****MENU*****\n",
            "1.deposit\n",
            "2.withdraw\n",
            "3.Balance\n",
            "0.exit\n",
            "enter your choice0\n"
          ]
        }
      ]
    },
    {
      "cell_type": "markdown",
      "metadata": {
        "id": "FNLo6-oKbJpm"
      },
      "source": [
        "\n",
        "### **Exercise - 14 :GUI, Graphics**"
      ]
    },
    {
      "cell_type": "markdown",
      "metadata": {
        "id": "PA2JfJjtbJr-"
      },
      "source": [
        "\n",
        "## 1. Write a GUI for an Expression Calculator using tk"
      ]
    },
    {
      "cell_type": "code",
      "metadata": {
        "id": "_K6UrYxNeWGP"
      },
      "source": [
        "import turtle\n",
        "c=[\"red\",\"green\",\"blue\"]\n",
        "i=0\n",
        "turtle.pensize(5)\n",
        " \n",
        "for angle in range(0,360,30):\n",
        "    if i>2:\n",
        "        i=0\n",
        "    turtle.color(c[i])\n",
        "    turtle.seth(angle)\n",
        "    turtle.circle(50)\n",
        "    i+=1"
      ],
      "execution_count": null,
      "outputs": []
    },
    {
      "cell_type": "markdown",
      "metadata": {
        "id": "3SIVdQ4IbJui"
      },
      "source": [
        "\n",
        "## 2. Write a program to implement the following figures using turtle"
      ]
    },
    {
      "cell_type": "code",
      "metadata": {
        "id": "pZHOqxqTbrvd"
      },
      "source": [
        "import turtle\n",
        "turtle.pensize(1)\n",
        "\n",
        "for i in range(36):\n",
        "    for j in range(4):\n",
        "        turtle.forward(70)\n",
        "        turtle.left(90)\n",
        "    turtle.left(10)"
      ],
      "execution_count": null,
      "outputs": []
    },
    {
      "cell_type": "markdown",
      "metadata": {
        "id": "q-19k1a0bJwn"
      },
      "source": [
        "### **Exercise - 15 - Testing¶**"
      ]
    },
    {
      "cell_type": "markdown",
      "metadata": {
        "id": "hy4YMnydbbq0"
      },
      "source": [
        "\n",
        "## a) Write a test-case to check the function even numbers which return True on passing a list of all even numbers"
      ]
    },
    {
      "cell_type": "code",
      "metadata": {
        "colab": {
          "base_uri": "https://localhost:8080/"
        },
        "id": "2UfMkIqfbqQy",
        "outputId": "adcb4a18-f5c8-4d84-b376-3e8a6b1d22ff"
      },
      "source": [
        "def evnNo(num):\n",
        "    stat=True\n",
        "\n",
        "    for i in num:\n",
        "        if i%2 ==1:\n",
        "            stat=False\n",
        "            break\n",
        "    return stat\n",
        "        \n",
        "numbers=[]\n",
        "for i in range(0,2):\n",
        "    numbers.append(int(input(\"Enter a value\")))\n",
        "print(evnNo(numbers))\n"
      ],
      "execution_count": 21,
      "outputs": [
        {
          "output_type": "stream",
          "name": "stdout",
          "text": [
            "Enter a value4\n",
            "Enter a value2\n",
            "True\n"
          ]
        }
      ]
    },
    {
      "cell_type": "markdown",
      "metadata": {
        "id": "D6HFhaJMbd6x"
      },
      "source": [
        "\n",
        "## b) Write a test-case to check the function reverse string which returns the reversed string"
      ]
    },
    {
      "cell_type": "code",
      "metadata": {
        "colab": {
          "base_uri": "https://localhost:8080/"
        },
        "id": "4RE2Cshxbr4L",
        "outputId": "3cf278e8-1e73-41d2-9e7f-513cd3d7a3a8"
      },
      "source": [
        "def rev_str(st):\n",
        "  temp=\"\"\n",
        "  for i in range(len(st)-1,-1,-1):\n",
        "     temp+=st[i]\n",
        "  return temp\n",
        "st=\"Swarnandra \"\n",
        "print(\"given string is\",st)\n",
        "print(\"reverse string is:\",rev_str(st))"
      ],
      "execution_count": 22,
      "outputs": [
        {
          "output_type": "stream",
          "name": "stdout",
          "text": [
            "given string is Swarnandra \n",
            "reverse string is:  ardnanrawS\n"
          ]
        }
      ]
    }
  ]
}